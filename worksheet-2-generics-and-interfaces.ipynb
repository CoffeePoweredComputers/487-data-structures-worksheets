{
 "cells": [
  {
   "cell_type": "markdown",
   "metadata": {},
   "source": [
    "<h1 style=\"text-align: center; font-size: 40px\">Generics and Interfaces</h1>"
   ]
  },
  {
   "cell_type": "markdown",
   "metadata": {},
   "source": [
    "## Loading Libraries\n",
    "\n",
    "Let's import all the necessary packages first!"
   ]
  },
  {
   "cell_type": "code",
   "execution_count": null,
   "metadata": {},
   "outputs": [],
   "source": [
    "import java.util.*;\n",
    "import java.lang.*;"
   ]
  },
  {
   "cell_type": "markdown",
   "metadata": {},
   "source": [
    "## Objectives\n",
    "\n",
    "The objectives of this worksheet are as follows:\n",
    "* Introduce the basics of interfaces and how they're utilized\n",
    "* Show the basics of creating an implementing interfaces\n",
    "* Show the basics of making generic classes and generic interfaces in Java\n",
    "\n",
    "#### Using Jupyter\n",
    "A few things to remind you with regard to using this Jupyter environment:\n",
    "1. If the platform crashes don't worry. All of this is in the browser so just refresh and all of your changes up to your last save should still be there. For this reason we encourage you to **save often**.\n",
    "2. Be sure to run cells from top to bottom.\n",
    "3. If you're getting strange errors to go: Kernel->Restart & Clear Output. From there, run cells from top to bottom. \n",
    "\n",
    "Additionally keep an eye out for the badges in each section they give an indication for which sections are inclass activities ."
   ]
  },
  {
   "cell_type": "markdown",
   "metadata": {},
   "source": [
    "## Interfaces"
   ]
  },
  {
   "cell_type": "code",
   "execution_count": null,
   "metadata": {},
   "outputs": [],
   "source": []
  },
  {
   "cell_type": "code",
   "execution_count": null,
   "metadata": {},
   "outputs": [],
   "source": []
  },
  {
   "cell_type": "markdown",
   "metadata": {},
   "source": [
    "### Defining an Interface\n",
    "\n",
    "Defining an interface is syntactically very similiar to defining a class. However, there are three key differences:\n",
    "1. We use the `interface` keyword rather than the `class` keyword.\n",
    "2. There are not attributes\n",
    "3. We provide method headers but **not the implementation of the method**.\n",
    "\n",
    "For example, the `List` interfaces we've been using in previous classes might look something like this:\n",
    "```java\n",
    "interface List{\n",
    "    public boolean add(Object value);\n",
    "    public Object get(int index);\n",
    "    public void remove(int index);\n",
    "}\n",
    "```\n",
    "<img alt=\"Activity - In-Class\" src=\"https://img.shields.io/badge/Activity-In--Class-E84A27\" align=\"left\" style=\"margin-right: 5px\"/>\n",
    "<br>\n",
    "<br>\n",
    "Your task is to create an interface for a `Shape`. This interface should have the following `public` methods:\n",
    "\n",
    "* getArea() which returns an double\n",
    "* getPerimeter() which also reaturns a double"
   ]
  },
  {
   "cell_type": "code",
   "execution_count": 3,
   "metadata": {},
   "outputs": [],
   "source": [
    "/* Define your shape interface here */\n",
    "interface Shape{\n",
    "    public double getArea();\n",
    "    public double getPerimeter();\n",
    "}"
   ]
  },
  {
   "cell_type": "markdown",
   "metadata": {},
   "source": [
    "### Implementing Interfaces\n",
    "\n",
    "Now that our `Shape` interface has been defined lets create two classes that implement it. Here, we define a class and then use the `implements` keyword followed the interface we want to implement. For the `ArrayList` impelmentation of the `List` interface this process might look something like this:\n",
    "\n",
    "```java\n",
    "class ArrayList implements List{\n",
    "    public int add(Object value){\n",
    "        /* rest of definition here */\n",
    "    }\n",
    "    \n",
    "    public Object get(int index){\n",
    "        /* rest of definition here */\n",
    "    }\n",
    "    \n",
    "    public void remove(int index){\n",
    "        /* rest of definition here */\n",
    "    }\n",
    "    \n",
    "}\n",
    "```\n",
    "\n",
    "Your task will be to create two implementations of the `Shape` interface."
   ]
  },
  {
   "cell_type": "markdown",
   "metadata": {},
   "source": [
    "##### The Hexagon Class\n",
    "<img alt=\"Activity - In-Class\" src=\"https://img.shields.io/badge/Activity-In--Class-E84A27\" align=\"left\" style=\"margin-right: 5px\"/>\n",
    "<br>\n",
    "<br>\n",
    "\n",
    "The hexagon class should be implemented to have:\n",
    "* Attributes:\n",
    "    * sideLength (int)\n",
    "* Implementations for the following methods from the `Shape` interface:\n",
    "    * getArea() where the area of a hexagon is defined by (3*sqrt(3))/2 * (sideLength^2)\n",
    "    * getPerimeter()"
   ]
  },
  {
   "cell_type": "code",
   "execution_count": 5,
   "metadata": {},
   "outputs": [],
   "source": [
    "class Hexagon implements Shape{\n",
    "    \n",
    "    /* class attributes */\n",
    "    double sideLength;\n",
    "    \n",
    "    /* constructor */\n",
    "    public Hexagon(double sideLength){\n",
    "        this.sideLength = sideLength;\n",
    "    }\n",
    "    \n",
    "    /* implementations for Shape's methods */\n",
    "    public double getArea(){\n",
    "        return ((3 * Math.sqrt(3))/2) * (Math.pow(sideLength, 2.0));\n",
    "    }\n",
    "    \n",
    "    public double getPerimeter(){\n",
    "        return 6 * sideLength;\n",
    "    }\n",
    "    \n",
    "}"
   ]
  },
  {
   "cell_type": "code",
   "execution_count": 14,
   "metadata": {},
   "outputs": [
    {
     "name": "stdout",
     "output_type": "stream",
     "text": [
      "30.56610681895063\n",
      "20.580000000000002\n"
     ]
    }
   ],
   "source": [
    "/* Test your code here */\n",
    "Shape hex1 = new Hexagon(3.43);\n",
    "System.out.println(hex1.getArea());\n",
    "System.out.println(hex1.getPerimeter());"
   ]
  },
  {
   "cell_type": "markdown",
   "metadata": {},
   "source": [
    "###### The Equilateral Triangle Class\n",
    "<img alt=\"Activity - In-Class\" src=\"https://img.shields.io/badge/Activity-In--Class-E84A27\" align=\"left\" style=\"margin-right: 5px\"/>\n",
    "<br>\n",
    "<br>\n",
    "The triangle class should be implemented to have:\n",
    "\n",
    "* Attributes:\n",
    "    * sideLength (int)\n",
    "* Implementations for the following methods from the `Shape` interface:\n",
    "    * getArea() where the area of an equilateral triangle is defined by sqrt(3)/4 * (sideLength^2)\n",
    "    * getPerimeter()"
   ]
  },
  {
   "cell_type": "code",
   "execution_count": 16,
   "metadata": {},
   "outputs": [],
   "source": [
    "class EquilateralTriangle implements Shape{\n",
    "    \n",
    "    /* class attributes */\n",
    "    double sideLength;\n",
    "    \n",
    "    /* constructor */\n",
    "    public EquilateralTriangle(double sideLength){\n",
    "        this.sideLength = sideLength;\n",
    "    }\n",
    "    \n",
    "    /* implementations for Shape's methods */\n",
    "    public double getArea(){\n",
    "        return (Math.sqrt(3)/4) * (Math.pow(sideLength, 2.0));\n",
    "    }\n",
    "    \n",
    "    public double getPerimeter(){\n",
    "        return 3 * sideLength;\n",
    "    }\n",
    "    \n",
    "}"
   ]
  },
  {
   "cell_type": "code",
   "execution_count": 18,
   "metadata": {},
   "outputs": [
    {
     "name": "stdout",
     "output_type": "stream",
     "text": [
      "5.094351136491771\n",
      "10.290000000000001\n"
     ]
    }
   ],
   "source": [
    "/* Test your code here */\n",
    "Shape hex1 = new EquilateralTriangle(3.43);\n",
    "System.out.println(hex1.getArea());\n",
    "System.out.println(hex1.getPerimeter());"
   ]
  },
  {
   "cell_type": "markdown",
   "metadata": {},
   "source": [
    "###### List of Shapes"
   ]
  },
  {
   "cell_type": "code",
   "execution_count": 19,
   "metadata": {},
   "outputs": [
    {
     "data": {
      "text/plain": [
       "true"
      ]
     },
     "execution_count": 19,
     "metadata": {},
     "output_type": "execute_result"
    }
   ],
   "source": [
    "List<Shape> shapeList = new ArrayList<>();\n",
    "shapeList.add(new EquilateralTriangle(1.4));\n",
    "shapeList.add(new Hexagon(0.25));\n",
    "shapeList.add(new Hexagon(7.0));\n",
    "shapeList.add(new EquilateralTriangle(7.25));\n",
    "shapeList.add(new Hexagon(100.5));\n",
    "shapeList.add(new EquilateralTriangle(75.456));\n"
   ]
  },
  {
   "cell_type": "markdown",
   "metadata": {},
   "source": [
    "<img alt=\"Activity - In-Class\" src=\"https://img.shields.io/badge/Activity-In--Class-E84A27\" align=\"left\" style=\"margin-right: 5px\"/>\n",
    "<br>\n",
    "<br>\n",
    "Now, use the list of shapes we made to compute the total area of all the shapes in the list. "
   ]
  },
  {
   "cell_type": "code",
   "execution_count": 22,
   "metadata": {},
   "outputs": [],
   "source": [
    "public double sumAllShapeAreas(List<Shape> shapes){\n",
    "\n",
    "    double totalArea = 0.0;\n",
    "    \n",
    "    for(Shape s: shapes){\n",
    "        totalArea += s.getArea();\n",
    "    }\n",
    "    \n",
    "    return totalArea;\n",
    "}"
   ]
  },
  {
   "cell_type": "code",
   "execution_count": 23,
   "metadata": {},
   "outputs": [
    {
     "name": "stdout",
     "output_type": "stream",
     "text": [
      "28857.700858762113\n"
     ]
    }
   ],
   "source": [
    "/* Tests here */\n",
    "double totalArea = sumAllShapeAreas(shapeList);\n",
    "System.out.println(totalArea);"
   ]
  },
  {
   "cell_type": "markdown",
   "metadata": {},
   "source": [
    "<img alt=\"Activity - In-Class\" src=\"https://img.shields.io/badge/Activity-In--Class-E84A27\" align=\"left\" style=\"margin-right: 5px\"/>\n",
    "<br>\n",
    "<br>\n",
    "Next, compute the total perimeter of all shapes in the list."
   ]
  },
  {
   "cell_type": "code",
   "execution_count": 30,
   "metadata": {},
   "outputs": [],
   "source": [
    "public double sumAllShapePerims(List<Shape> shapes){\n",
    "\n",
    "    double totalPerim = 0.0;\n",
    "    \n",
    "    for(Shape s: shapes){\n",
    "        totalPerim += s.getPerimeter();\n",
    "    }\n",
    "    \n",
    "    return totalPerim;\n",
    "    \n",
    "}"
   ]
  },
  {
   "cell_type": "code",
   "execution_count": 31,
   "metadata": {},
   "outputs": [
    {
     "name": "stdout",
     "output_type": "stream",
     "text": [
      "898.818\n"
     ]
    }
   ],
   "source": [
    "/* Tests here */\n",
    "double totalPerim = sumAllShapePerims(shapeList);\n",
    "System.out.println(totalPerim);"
   ]
  },
  {
   "cell_type": "markdown",
   "metadata": {},
   "source": [
    "## Generics\n",
    "\n"
   ]
  },
  {
   "cell_type": "markdown",
   "metadata": {},
   "source": [
    "### Generic Interfaces\n",
    "\n",
    "Now, you might recall that the actual syntax for declaring an instance of some implementation of the `List` interface has `<>` in it. In between these chatacters we put the object type we want this list to contain. For instance, if we wanted a list of integers we would declare it as `List<Integer> intList = ...` or if we wanted a list of string we would use `List<String> strList = ...`. This allowence of a collection of arbitrary objects is powered by the usage of generic data types. So, in reality, the Java list interface looks more like this. \n",
    "\n",
    "```java\n",
    "interface List<E>{\n",
    "    public boolean add(E e);\n",
    "    public E get(int index);\n",
    "    public void remove(int index);\n",
    "}\n",
    "```\n",
    "The `E` is what is known as a generic type. Since the thing we are getting from the list or adding to the list is an element we use the character `E` to stand for \"element\". The following are the generic type conventions for the character used to represent the generic type being used:\n",
    "* T - Type\n",
    "* E - Element\n",
    "* K - Key\n",
    "* V - Value\n",
    "* N - Number\n",
    "\n",
    "The `E` is just a placeholder that allows us to declare the list with any kind of element. This allows us to have collections of elements without having to create a separate `List` or `add` method for each kind of data we want in our collections.\n",
    "\n",
    "Another example of this that you used in a prior assignment and will use again in future ones is the `Comparable` interface:\n",
    "```java\n",
    "public interface Comparable<T>{\n",
    "    public int compareTo(T o)\n",
    "}\n",
    "```\n",
    "\n",
    "*Note:* I've simplified quite a bit just to illustrate the core concepts; however, if you're interest the full source code for the actual List interface can be found [here](http://hg.openjdk.java.net/jdk8/jdk8/jdk/file/tip/src/share/classes/java/util/List.java);\n",
    "\n",
    "<img alt=\"Activity - In-Class\" src=\"https://img.shields.io/badge/Activity-In--Class-E84A27\" align=\"left\" style=\"margin-right: 5px\"/>\n",
    "<br>\n",
    "<br>\n",
    "Create a generic interface called `Logger`"
   ]
  },
  {
   "cell_type": "code",
   "execution_count": null,
   "metadata": {},
   "outputs": [],
   "source": [
    "/* Your code here */"
   ]
  },
  {
   "cell_type": "markdown",
   "metadata": {},
   "source": [
    "### Generic Classes\n",
    "\n",
    "For this class it is good to be aware of how generic interfaces work however, outside of the second mini-assignment we will be primarily focusing on generic classes for the remainder of the semester. These generic classes will allow us to make data structures that can be used to store collections of arbitrary types. The basic template for creating a generic class is as follows:\n",
    "```java\n",
    "class ClassName<T>{\n",
    "    //...\n",
    "}\n",
    "```\n",
    "Once upon relying on lists in Java, the `ArrayList<E>` class is a generic class that implements the generic interface `List<E>`. \n",
    "```java\n",
    "class ArrayList<E> implements List<E>{\n",
    "    public boolean add(E e){\n",
    "        /* Code here */\n",
    "    }\n",
    "    public E get(int index){\n",
    "        /* Code here */\n",
    "    }\n",
    "    public void remove(int index){\n",
    "        /* Code here */\n",
    "    }\n",
    "}\n",
    "```\n",
    "\n",
    "<img alt=\"Activity - In-Class\" src=\"https://img.shields.io/badge/Activity-In--Class-E84A27\" align=\"left\" style=\"margin-right: 5px\"/>\n",
    "<br>\n",
    "<br>\n",
    "For this actvity implement the interface you created and test it by creating an instance and using some of the functions you defined."
   ]
  },
  {
   "cell_type": "code",
   "execution_count": null,
   "metadata": {},
   "outputs": [],
   "source": [
    "/* Generic class here */"
   ]
  },
  {
   "cell_type": "code",
   "execution_count": null,
   "metadata": {},
   "outputs": [],
   "source": [
    "/* Test here */"
   ]
  }
 ],
 "metadata": {
  "kernelspec": {
   "display_name": "Java",
   "language": "java",
   "name": "java"
  },
  "language_info": {
   "codemirror_mode": "java",
   "file_extension": ".jshell",
   "mimetype": "text/x-java-source",
   "name": "Java",
   "pygments_lexer": "java",
   "version": "11.0.3+7"
  }
 },
 "nbformat": 4,
 "nbformat_minor": 2
}
