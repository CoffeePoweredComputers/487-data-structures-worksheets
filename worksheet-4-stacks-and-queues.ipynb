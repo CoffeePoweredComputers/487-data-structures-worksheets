{
 "cells": [
  {
   "cell_type": "markdown",
   "metadata": {},
   "source": [
    "<h1 style=\"text-align: center; font-size: 40px\">The Queue Interface and the Stack Class</h1>"
   ]
  },
  {
   "cell_type": "code",
   "execution_count": 106,
   "metadata": {},
   "outputs": [],
   "source": [
    "import java.lang.*;"
   ]
  },
  {
   "cell_type": "markdown",
   "metadata": {},
   "source": [
    "\n",
    "The objectives of this worksheet are as follows:\n",
    "* The Stack class and it's operations\n",
    "* The queue interfaces and the following if it's implementations:\n",
    "    * ArrayDequeue\n",
    "    * LinkedList\n",
    "* Common applications of stacks and queues\n",
    "\n",
    "\n",
    "\n",
    "\n",
    "#### Using Jupyter\n",
    "A few things to remind you with regard to using this Jupyter environment:\n",
    "1. If the platform crashes don't worry. All of this is in the browser so just refresh and all of your changes up to your last save should still be there. For this reason we encourage you to **save often**.\n",
    "2. Be sure to run cells from top to bottom.\n",
    "3. If you're getting weird errors to go: Kernel->Restart & Clear Output. From there, run cells from top to bottom. "
   ]
  },
  {
   "cell_type": "markdown",
   "metadata": {},
   "source": [
    "# Stacks \n",
    "\n",
    "* Callback to 483\n",
    "\n",
    "Stacks are commonly refered to as a \"last in, first out\" or LIFO data structure. This means that the last thing that was added to the stack will be the first thing to be removed. As such, stacks have the following two operations for adding and removal:\n",
    "* `push` which adds an object to the top of the stack\n",
    "* `pop` which removed the object at the top of the stack\n",
    "\n",
    "Further documentation on this class, these methods, and their functionality can be found, as usual, in the [Java docs](https://docs.oracle.com/javase/7/docs/api/java/util/Stack.html)."
   ]
  },
  {
   "cell_type": "code",
   "execution_count": 2,
   "metadata": {},
   "outputs": [],
   "source": [
    "public void printIntegerStack(Stack<Integer> stack){\n",
    "\n",
    "    Stack<Integer> stackCopy = new Stack<>();\n",
    "    stackCopy.addAll(stack);\n",
    "        \n",
    "    System.out.println(\"|     |\");\n",
    "    while(!stackCopy.isEmpty()){\n",
    "        System.out.printf(\"|  %d  |\\n\", stackCopy.pop());\n",
    "    }\n",
    "    System.out.println(\" ----- \");\n",
    "}"
   ]
  },
  {
   "cell_type": "markdown",
   "metadata": {},
   "source": [
    "The following set of cells creates a stack and modifies it. There are some ascii visualizations produced after each modification to help you keep track of what the internal state of the stack is after each operation."
   ]
  },
  {
   "cell_type": "code",
   "execution_count": 3,
   "metadata": {},
   "outputs": [],
   "source": [
    "Stack<Integer> nums = new Stack<>();"
   ]
  },
  {
   "cell_type": "code",
   "execution_count": 4,
   "metadata": {},
   "outputs": [
    {
     "name": "stdout",
     "output_type": "stream",
     "text": [
      "|     |\n",
      " ----- \n"
     ]
    }
   ],
   "source": [
    "printIntegerStack(nums);"
   ]
  },
  {
   "cell_type": "code",
   "execution_count": 6,
   "metadata": {},
   "outputs": [
    {
     "name": "stdout",
     "output_type": "stream",
     "text": [
      "|     |\n",
      "|  1  |\n",
      " ----- \n"
     ]
    }
   ],
   "source": [
    "nums.push(1);\n",
    "printIntegerStack(nums);"
   ]
  },
  {
   "cell_type": "code",
   "execution_count": 7,
   "metadata": {},
   "outputs": [
    {
     "name": "stdout",
     "output_type": "stream",
     "text": [
      "|     |\n",
      "|  2  |\n",
      "|  1  |\n",
      " ----- \n"
     ]
    }
   ],
   "source": [
    "nums.push(2);\n",
    "printIntegerStack(nums);"
   ]
  },
  {
   "cell_type": "code",
   "execution_count": 8,
   "metadata": {},
   "outputs": [
    {
     "name": "stdout",
     "output_type": "stream",
     "text": [
      "|     |\n",
      "|  1  |\n",
      " ----- \n"
     ]
    }
   ],
   "source": [
    "nums.pop();\n",
    "printIntegerStack(nums);"
   ]
  },
  {
   "cell_type": "code",
   "execution_count": 9,
   "metadata": {},
   "outputs": [
    {
     "name": "stdout",
     "output_type": "stream",
     "text": [
      "|     |\n",
      "|  3  |\n",
      "|  1  |\n",
      " ----- \n"
     ]
    }
   ],
   "source": [
    "nums.push(3);\n",
    "printIntegerStack(nums);"
   ]
  },
  {
   "cell_type": "markdown",
   "metadata": {},
   "source": [
    "<img alt=\"Activity - In-Class\" src=\"https://img.shields.io/badge/Activity-In--Class-E84A27\" align=\"left\" style=\"margin-right: 5px\"/>\n",
    "<br>\n",
    "<br>\n",
    "Play around with the stack by pushing and poping integers and then printing the results here:"
   ]
  },
  {
   "cell_type": "code",
   "execution_count": null,
   "metadata": {},
   "outputs": [],
   "source": [
    "// Step 1) Define a stack\n",
    "\n",
    "// Step 2) Push and pop some integers of your choosing"
   ]
  },
  {
   "cell_type": "code",
   "execution_count": null,
   "metadata": {},
   "outputs": [],
   "source": [
    "/* Run this cell to print the contents */\n",
    "printIntegerStack(/* replace with your variable name */);"
   ]
  },
  {
   "cell_type": "markdown",
   "metadata": {},
   "source": [
    "### Stack Problem - Reverse Polish Notation\n",
    "\n",
    "<img alt=\"Activity - In-Class\" src=\"https://img.shields.io/badge/Activity-In--Class-E84A27\" align=\"left\" style=\"margin-right: 5px\"/>\n",
    "<br>\n",
    "<br>\n",
    "There are a variety of problems one can solve with a stack however we'll be starting with the \"Hello, world\" of stack based problem solving, a reverse polish notation calculator. For those happy few that have never encountered this method of forming arithmatic expressions let's begin with a basic addition example: 1 1 +. As you might have guessed this is how 1 + 1 is expressed in RPN. The basic set rules given a list of numbers and operations:\n",
    "\n",
    "* Look at each element in the list and, at each stage:\n",
    "    * If an element is an operation (i.e., +/i):\n",
    "        * Pop two numbers from the stack\n",
    "        * Perform the operation\n",
    "        * Push the result onto the stack\n",
    "    * Otherwise, it must be a string representation of a number so:\n",
    "        * Convert it to an `Integer`\n",
    "        * Push it to the stack\n",
    "\n",
    "For our problem I make the following guarantees to for the sake of simplicity:\n",
    "* The only operations our calculator does is addition and subtraction\n",
    "* The only type of number our calculator operates on are integers\n",
    "* You will only be given valid RPN expressions so you don't have worry about edge cases\n",
    "\n",
    "For some more examples of this here are some helpful links:\n",
    "* [Reverse Polish Notation Online Calculator](https://www.dcode.fr/reverse-polish-notation)\n",
    "* [RPN on Wikipedia](https://en.wikipedia.org/wiki/Reverse_Polish_notation)"
   ]
  },
  {
   "cell_type": "code",
   "execution_count": 89,
   "metadata": {},
   "outputs": [],
   "source": [
    "public Integer rpnEval(List<String> elems){\n",
    "    Stack<Integer> s = new Stack<Integer>();\n",
    "    for(/* Iterate through the elements */){\n",
    "        // Perform the operations associated with the element you \n",
    "        // are currently visiting.\n",
    "    }\n",
    "    return s.pop();\n",
    "}"
   ]
  },
  {
   "cell_type": "code",
   "execution_count": 94,
   "metadata": {},
   "outputs": [
    {
     "data": {
      "text/plain": [
       "true"
      ]
     },
     "execution_count": 94,
     "metadata": {},
     "output_type": "execute_result"
    }
   ],
   "source": [
    "/* Construct our test case */\n",
    "List<String> elems = new ArrayList<String>();\n",
    "elems.add(\"1\");\n",
    "elems.add(\"1\");\n",
    "elems.add(\"2\");\n",
    "elems.add(\"+\");\n",
    "elems.add(\"+\");"
   ]
  },
  {
   "cell_type": "code",
   "execution_count": 95,
   "metadata": {},
   "outputs": [
    {
     "name": "stdout",
     "output_type": "stream",
     "text": [
      "4\n"
     ]
    }
   ],
   "source": [
    "Integer result = rpnEval(elems);\n",
    "System.out.println(result);"
   ]
  },
  {
   "cell_type": "markdown",
   "metadata": {},
   "source": [
    "# Queues\n",
    "\n",
    "Queues are \"first in, first out\" or FIFO data structures where the first element added into the list is the first out. Unlike a `Stack` in Java, `Queue` is an interface with a variety of implementations. The one that we will be focusing on is the `ArrayDequeue` given it is the most straightforward implementation of a traditional FIFO queue that Java provides.\n",
    "\n",
    "\n",
    "The operations defined for examining and manipulating queues in Java are as follows:\n",
    "\n",
    "|     ---      | Throws exception | Returns a value |\n",
    "| --- | --- | --- |\n",
    "|  Insert   | add(e) | offer(e) |\n",
    "|  Remove   | remove() | poll() |\n",
    "|  Examine  | element() | peek() |\n",
    "\n",
    "Simlilar to our experimentation with Queues I've defined a `printIntegerQueue` method which, as the name suggests, prints all of the values in a queue. We'll create and examine a queue just as we did the stack by instantiating an `ArrayDeque` containing `Integer` objects. Two methods we will be exploring are:\n",
    "* `offer` which adds an element to the **back** of a queue. The process of adding to the end of a queue is commonly refered to as \"enqueueing\".\n",
    "* `poll` which removes an element from the **front** of the queue. The process of removing from a queue is commonly refered to as \"dequeueing\".\n",
    "\n",
    "Further information can be found in the [Java docs](https://docs.oracle.com/javase/7/docs/api/java/util/Queue.html)."
   ]
  },
  {
   "cell_type": "code",
   "execution_count": 72,
   "metadata": {},
   "outputs": [],
   "source": [
    "public void printIntegerQueue(Queue<Integer> q){\n",
    "\n",
    "    Stack<Integer> qCopy = new Stack<>();\n",
    "    qCopy.addAll(q);\n",
    "        \n",
    "    System.out.println(\"|     | <- end\");\n",
    "    while(!qCopy.isEmpty()){\n",
    "        System.out.printf(\"|  %d  |\\n\", qCopy.pop());\n",
    "    }\n",
    "    System.out.println(\"|     | <- front\");\n",
    "}"
   ]
  },
  {
   "cell_type": "markdown",
   "metadata": {},
   "source": [
    "Run the following cells to see how enqueing and dequeing impacts the internal state of the queue."
   ]
  },
  {
   "cell_type": "code",
   "execution_count": 107,
   "metadata": {},
   "outputs": [],
   "source": [
    "Queue<Integer> nums = new ArrayDeque<>();"
   ]
  },
  {
   "cell_type": "code",
   "execution_count": 74,
   "metadata": {},
   "outputs": [
    {
     "name": "stdout",
     "output_type": "stream",
     "text": [
      "|     | <- back\n",
      "|     | <- front\n"
     ]
    }
   ],
   "source": [
    "printIntegerQueue(nums);"
   ]
  },
  {
   "cell_type": "code",
   "execution_count": 75,
   "metadata": {},
   "outputs": [
    {
     "name": "stdout",
     "output_type": "stream",
     "text": [
      "|     | <- back\n",
      "|  1  |\n",
      "|     | <- front\n"
     ]
    }
   ],
   "source": [
    "nums.offer(1);\n",
    "printIntegerQueue(nums);"
   ]
  },
  {
   "cell_type": "code",
   "execution_count": 76,
   "metadata": {},
   "outputs": [
    {
     "name": "stdout",
     "output_type": "stream",
     "text": [
      "|     | <- back\n",
      "|  2  |\n",
      "|  1  |\n",
      "|     | <- front\n"
     ]
    }
   ],
   "source": [
    "nums.offer(2);\n",
    "printIntegerQueue(nums);"
   ]
  },
  {
   "cell_type": "code",
   "execution_count": 77,
   "metadata": {},
   "outputs": [
    {
     "name": "stdout",
     "output_type": "stream",
     "text": [
      "|     | <- back\n",
      "|  2  |\n",
      "|     | <- front\n"
     ]
    }
   ],
   "source": [
    "nums.poll();\n",
    "printIntegerQueue(nums);"
   ]
  },
  {
   "cell_type": "code",
   "execution_count": 78,
   "metadata": {},
   "outputs": [
    {
     "name": "stdout",
     "output_type": "stream",
     "text": [
      "|     | <- back\n",
      "|  3  |\n",
      "|  2  |\n",
      "|     | <- front\n"
     ]
    }
   ],
   "source": [
    "nums.offer(3);\n",
    "printIntegerQueue(nums);"
   ]
  },
  {
   "cell_type": "markdown",
   "metadata": {},
   "source": [
    "<img alt=\"Activity - In-Class\" src=\"https://img.shields.io/badge/Activity-In--Class-E84A27\" align=\"left\" style=\"margin-right: 5px\"/>\n",
    "<br>\n",
    "<br>\n",
    "Play around with the stack by enqueuing and poping integers and then printing the results here:"
   ]
  },
  {
   "cell_type": "code",
   "execution_count": null,
   "metadata": {},
   "outputs": [],
   "source": [
    "// Step 1) Define a stack\n",
    "\n",
    "// Step 2) Push and pop some integers of your choosing"
   ]
  },
  {
   "cell_type": "code",
   "execution_count": null,
   "metadata": {},
   "outputs": [],
   "source": [
    "/* Run this cell to print the contents */\n",
    "printIntegerQueue(/* replace with your name */);"
   ]
  },
  {
   "cell_type": "markdown",
   "metadata": {},
   "source": [
    "### Queue Problem - Round-Robin Process Scheduler\n",
    "\n",
    "Round-Robin scheduling is a CPU scheduling algorithm where all processes in need of CPU time are placed on a queue. The CPU retrieves a process from the front of the queue, process it for a specified period of time (quantum), and places it back on the end of the queue and takes another off the front in a process known as a context switch. For this activity you will be:\n",
    "* Making a `Proc` class which stores information on a hypothetical process\n",
    "* Creating a method which takes a queue of these processes and simulates a simplified round-robin algorithm.\n",
    "\n",
    "You will be making a modified round robin scheduler where:\n",
    "* All processes arrive at the beginning\n",
    "* Each process can operate for a unique quantum\n",
    "\n",
    "Information on CPU scheduling algorithms:\n",
    "* [Round-Robin Sched](https://en.wikipedia.org/wiki/Round-robin_scheduling)"
   ]
  },
  {
   "cell_type": "markdown",
   "metadata": {},
   "source": [
    "#### Implement the `Proc` Class\n",
    "\n",
    "The `Proc` class stores and allows us to manipulate the following information on a process:\n",
    "* `name` -> the name of our process\n",
    "* `remainingTime` -> the amount of time left to complete the process\n",
    "* `ctxSwitches` -> the number of times our process was place back on the queue without completing\n",
    "* `quanta` -> the maximum amount of time our process is allowed to be run before it is switched out of context (place back on the queue).\n",
    "\n",
    "Your class should have:\n",
    "* Getters for all of the class attributes.\n",
    "* A method that takes a single parameter that allows `remainingTime` to be decremented.\n",
    "* A method that allows the `ctxSwtiches` variable to be incremented."
   ]
  },
  {
   "cell_type": "code",
   "execution_count": 5,
   "metadata": {},
   "outputs": [],
   "source": [
    "class Proc{\n",
    "    private int remainingTime;\n",
    "    private int quanta;\n",
    "    private String name;\n",
    "    private int ctxSwitches;\n",
    "    \n",
    "    Proc(/* params */){\n",
    "        this.ctxSwitches = 0;\n",
    "        //...\n",
    "    }\n",
    "    \n",
    "    /* getters for name and quanta */\n",
    "    \n",
    "    \n",
    "    /* getters/setters for remaining time */\n",
    "\n",
    "    \n",
    "    /* getter/setter for ctx switch count */\n",
    "\n",
    "}"
   ]
  },
  {
   "cell_type": "markdown",
   "metadata": {},
   "source": [
    "#### Implement `performRoundRobinSchedule()`\n",
    "\n",
    "The round robin scheduler is simply a loop that continues while there are processes still in the queue. At each iteration you should:\n",
    "* Dequeue a process\n",
    "* Check if the allowed processing time (quanta) is greater than the time remaining to serve that proccess:\n",
    "* If it is:\n",
    "    * reduce the proc's remaining time by that quanta\n",
    "    * increment the total process time by the quanta\n",
    "    * increment that proc's contex switch count\n",
    "    * enqueue the process\n",
    "    * Print a message indicating the name of the process and it's quanta\n",
    "* Otherwise:\n",
    "    * increment the total processing time by the time remaining for that process\n",
    "    * print a message indicating the event name, the total time the process spent in the queue, and the number of time's it was switched out of context."
   ]
  },
  {
   "cell_type": "code",
   "execution_count": 17,
   "metadata": {},
   "outputs": [],
   "source": [
    "public void performRoundRobinSchedule(ArrayDeque<Proc> procs){\n",
    "\n",
    "    int totalProcessingTime = 0;\n",
    "    \n",
    "    while(/* there is stuff in the queue */){\n",
    "    \n",
    "        if(/* */){\n",
    "            \n",
    "        } else{\n",
    "                      \n",
    "        }\n",
    "        \n",
    "    }    \n",
    "    \n",
    "}"
   ]
  },
  {
   "cell_type": "markdown",
   "metadata": {},
   "source": [
    "Now that we have our event class and our scheduling method lets create a queue of events and test the class/method."
   ]
  },
  {
   "cell_type": "code",
   "execution_count": null,
   "metadata": {},
   "outputs": [],
   "source": [
    "//Step 1) Create an ArrayDeque of events\n",
    "ArrayDeque<Proc> procQueue = new ArrayDeque<>();\n",
    "procQueue.add(new Proc(10, 3, \"event1\"));\n",
    "procQueue.add(new Proc(12, 3, \"event2\"));\n",
    "procQueue.add(new Proc(10, 5, \"event3\"));\n",
    "procQueue.add(new Proc(30, 7, \"event4\"));\n",
    "\n",
    "//Step 2) Add a few events of your choosing\n",
    "performRoundRobinSchedule(procQueue);"
   ]
  },
  {
   "cell_type": "markdown",
   "metadata": {},
   "source": [
    "When you run with the default case provided you should get the followig output:\n",
    "```\n",
    "Processed event1 for 3 secs.\n",
    "Processed event2 for 3 secs.\n",
    "Processed event3 for 5 secs.\n",
    "Processed event4 for 7 secs.\n",
    "Processed event1 for 3 secs.\n",
    "Processed event2 for 3 secs.\n",
    "Finished event event3 in 29 sec(s) with 1 ctx switches.\n",
    "Processed event4 for 7 secs.\n",
    "Processed event1 for 3 secs.\n",
    "Processed event2 for 3 secs.\n",
    "Processed event4 for 7 secs.\n",
    "Finished event event1 in 50 sec(s) with 3 ctx switches.\n",
    "Finished event event2 in 53 sec(s) with 3 ctx switches.\n",
    "Processed event4 for 7 secs.\n",
    "Finished event event4 in 62 sec(s) with 4 ctx switches.\n",
    "```"
   ]
  }
 ],
 "metadata": {
  "kernelspec": {
   "display_name": "Java",
   "language": "java",
   "name": "java"
  },
  "language_info": {
   "codemirror_mode": "java",
   "file_extension": ".jshell",
   "mimetype": "text/x-java-source",
   "name": "Java",
   "pygments_lexer": "java",
   "version": "11.0.3+7"
  }
 },
 "nbformat": 4,
 "nbformat_minor": 2
}
