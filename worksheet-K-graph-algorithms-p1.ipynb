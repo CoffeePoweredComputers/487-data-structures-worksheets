{
 "cells": [
  {
   "cell_type": "markdown",
   "metadata": {},
   "source": [
    "<h1 style=\"text-align: center; font-size: 40px\">Graph Algorithms (Part 1) - BFS, DFS, and Shortest Path</h1>"
   ]
  },
  {
   "cell_type": "markdown",
   "metadata": {},
   "source": [
    "### Loading Libraries\n",
    "\n",
    "Let's import all the necessary packages first. You can safely ignore this section."
   ]
  },
  {
   "cell_type": "code",
   "execution_count": 1,
   "metadata": {},
   "outputs": [],
   "source": [
    "import java.util.*;\n",
    "import java.lang.*;"
   ]
  },
  {
   "cell_type": "markdown",
   "metadata": {},
   "source": [
    "## Objectives\n",
    "\n",
    "The objectives of this worksheet are as follows:\n",
    "\n",
    "#### Using Jupyter\n",
    "A few things to remind you with regard to using this Jupyter environment:\n",
    "1. If the platform crashes don't worry. All of this is in the browser so just refresh and all of your changes up to your last save should still be there. For this reason we encourage you to **save often**.\n",
    "2. Be sure to run cells from top to bottom.\n",
    "3. If you're getting weird errors to go: Kernel->Restart & Clear Output. From there, run cells from top to bottom."
   ]
  },
  {
   "cell_type": "markdown",
   "metadata": {},
   "source": [
    "# Our Graph\n",
    "\n",
    "Run the following cell to load the directed graph class we will be using for this assignment."
   ]
  },
  {
   "cell_type": "code",
   "execution_count": 23,
   "metadata": {},
   "outputs": [],
   "source": [
    "class Edge{\n",
    "    \n",
    "    public final String dest;\n",
    "    \n",
    "    Edge(String dest){\n",
    "        this.dest = dest;\n",
    "    }\n",
    "    \n",
    "    @Override\n",
    "    public boolean equals(Object o){\n",
    "        Edge e = (Edge) o;\n",
    "        return this.dest.equals( e.dest);\n",
    "    }\n",
    "}\n",
    "\n",
    "class Undigraph{\n",
    "    \n",
    "    private Map<String, List<Edge>> map;\n",
    "    \n",
    "    Undigraph(){\n",
    "        map = new HashMap<>();\n",
    "    }\n",
    "    \n",
    "    public void addVertex(String v){\n",
    "        map.putIfAbsent(v, new LinkedList<>());\n",
    "    }\n",
    "    \n",
    "    public void addEdge(String v1, String v2){\n",
    "        \n",
    "        \n",
    "        if(!map.get(v1).contains(v2)){\n",
    "            map.get(v1).add(new Edge(v2));\n",
    "        }\n",
    "        \n",
    "        if(!map.get(v2).contains(v1)){\n",
    "            map.get(v2).add(new Edge(v1));\n",
    "        }\n",
    "        \n",
    "    }\n",
    "\n",
    "    public Map<String, List<Edge>> getMap(){\n",
    "        return map;\n",
    "    }\n",
    "    \n",
    "}"
   ]
  },
  {
   "cell_type": "markdown",
   "metadata": {},
   "source": [
    "\n",
    "For the purposes of this assignment we will be using the following graph. \n",
    "\n",
    "It is represented as a directed graph which has the following methods:\n",
    "* \n",
    "* \n",
    "* \n",
    "\n",
    "Run the following cells to construct the graph."
   ]
  },
  {
   "cell_type": "code",
   "execution_count": 24,
   "metadata": {},
   "outputs": [],
   "source": [
    "Undigraph udg = new Undigraph();\n",
    "\n",
    "udg.addVertex(\"a\");\n",
    "udg.addVertex(\"b\");\n",
    "udg.addVertex(\"c\");\n",
    "udg.addVertex(\"d\");\n",
    "udg.addVertex(\"e\");\n",
    "udg.addVertex(\"f\");\n",
    "udg.addVertex(\"g\");\n",
    "\n",
    "udg.addEdge(\"a\", \"b\");\n",
    "udg.addEdge(\"b\", \"d\");\n",
    "udg.addEdge(\"d\", \"a\");\n",
    "udg.addEdge(\"e\", \"c\");\n",
    "udg.addEdge(\"e\", \"b\");\n",
    "udg.addEdge(\"e\", \"d\");\n",
    "udg.addEdge(\"c\", \"b\");\n",
    "udg.addEdge(\"f\", \"e\");\n",
    "udg.addEdge(\"f\", \"d\");\n",
    "udg.addEdge(\"g\", \"e\");\n",
    "udg.addEdge(\"g\", \"f\");"
   ]
  },
  {
   "cell_type": "markdown",
   "metadata": {},
   "source": [
    "## Breadth First Search/Traversal of a Graph\n",
    "\n",
    "![bfs.png](images/bfs.png)\n",
    "*note: swap direction of the edge b->d*\n",
    "\n",
    "This algorithm can be thought of in three parts:\n",
    "\n",
    "* Initializing a structure that allows us to track whether or not a vertex has been visited.\n",
    "* Initializing two structures: \n",
    "    * A queue to keep our vertecies as we traverse.\n",
    "    * A list to keep track of our traversal\n",
    "* The bfs algorithm itself which:\n",
    "    * Gets the node from the end of the queue\n",
    "    * Check if it's been visited. If it has skip ot next iteration; otherwise continue.\n",
    "    * Marks the node as visited and adds it to the traversal.\n",
    "    * Gets all the vertecies adjacent to that vertex that have not been visited."
   ]
  },
  {
   "cell_type": "code",
   "execution_count": 25,
   "metadata": {},
   "outputs": [],
   "source": [
    "public List<String> bfs(Undigraph dg, String source){\n",
    "    \n",
    "    // Step 1: Making a map and setting all visited to false\n",
    "    Map<String, Boolean> visited = new HashMap<>();\n",
    "    for(String vert: map.keySet()){\n",
    "        visited.put(vert, false);\n",
    "    }\n",
    "    \n",
    "    visited.get(vert);\n",
    "    visited.put(vert, false);\n",
    "\n",
    "}"
   ]
  },
  {
   "cell_type": "markdown",
   "metadata": {},
   "source": [
    "#### Test Cases"
   ]
  },
  {
   "cell_type": "code",
   "execution_count": 26,
   "metadata": {},
   "outputs": [
    {
     "name": "stdout",
     "output_type": "stream",
     "text": [
      "Test 1: [a, b, d, e, c, f, g]\n",
      "Test 2: [b, a, d, e, c, f, g]\n",
      "Test 3: [c, e, b, d, f, g, a]\n",
      "Test 4: [d, b, a, e, f, c, g]\n"
     ]
    }
   ],
   "source": [
    "List<String> t1 = bfs(udg, \"a\");\n",
    "List<String> t2 = bfs(udg, \"b\");\n",
    "List<String> t3 = bfs(udg, \"c\");\n",
    "List<String> t4 = bfs(udg, \"d\");\n",
    "\n",
    "System.out.printf(\"Test 1: %s\\n\", t1);\n",
    "System.out.printf(\"Test 2: %s\\n\", t2);\n",
    "System.out.printf(\"Test 3: %s\\n\", t3);\n",
    "System.out.printf(\"Test 4: %s\\n\", t4);\n",
    ";"
   ]
  },
  {
   "cell_type": "markdown",
   "metadata": {},
   "source": [
    "## Depth First Search/Traversal of a Graph\n",
    "\n",
    "![dfs.png](images/dfs.png)"
   ]
  },
  {
   "cell_type": "code",
   "execution_count": 21,
   "metadata": {},
   "outputs": [],
   "source": [
    "public List<String> dfs(Undigraph dg, String source){\n",
    "    \n",
    "    // Step 1: Making a map and setting all visited to false\n",
    "    Map<String, Boolean> visited = new HashMap<>();\n",
    "    for(String vert: map.keySet()){\n",
    "        visited.put(vert, false);\n",
    "    }\n",
    "    \n",
    "    visited.get(vert);\n",
    "    visited.put(vert, false);\n",
    "\n",
    "}"
   ]
  },
  {
   "cell_type": "code",
   "execution_count": 22,
   "metadata": {},
   "outputs": [
    {
     "name": "stdout",
     "output_type": "stream",
     "text": [
      "Test 1: [a, d, f, g, e, b, c]\n",
      "Test 2: [b, c, e, g, f, d, a]\n",
      "Test 3: [c, b, e, g, f, d, a]\n",
      "Test 4: [d, f, g, e, b, c, a]\n"
     ]
    }
   ],
   "source": [
    "List<String> t1 = dfs(udg, \"a\");\n",
    "List<String> t2 = dfs(udg, \"b\");\n",
    "List<String> t3 = dfs(udg, \"c\");\n",
    "List<String> t4 = dfs(udg, \"d\");\n",
    "\n",
    "System.out.printf(\"Test 1: %s\\n\", t1);\n",
    "System.out.printf(\"Test 2: %s\\n\", t2);\n",
    "System.out.printf(\"Test 3: %s\\n\", t3);\n",
    "System.out.printf(\"Test 4: %s\\n\", t4);\n",
    ";"
   ]
  }
 ],
 "metadata": {
  "kernelspec": {
   "display_name": "Java",
   "language": "java",
   "name": "java"
  },
  "language_info": {
   "codemirror_mode": "java",
   "file_extension": ".jshell",
   "mimetype": "text/x-java-source",
   "name": "Java",
   "pygments_lexer": "java",
   "version": "11.0.16+8-post-Ubuntu-0ubuntu120.04"
  }
 },
 "nbformat": 4,
 "nbformat_minor": 4
}
