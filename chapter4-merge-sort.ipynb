{
 "cells": [
  {
   "cell_type": "markdown",
   "metadata": {},
   "source": [
    "## Loading Libraries\n",
    "\n",
    "Let's import all the necessary packages first. You can safely ignore this section."
   ]
  },
  {
   "cell_type": "code",
   "execution_count": 1,
   "metadata": {},
   "outputs": [],
   "source": [
    "import java.util.Random;\n",
    "import java.lang.*;"
   ]
  },
  {
   "cell_type": "code",
   "execution_count": 2,
   "metadata": {},
   "outputs": [],
   "source": [
    "%maven org.knowm.xchart:xchart:3.5.2\n",
    "import org.knowm.xchart.*;"
   ]
  },
  {
   "cell_type": "markdown",
   "metadata": {},
   "source": [
    "## Helper Methods\n",
    "\n",
    "Let's code three helper methods:\n",
    "\n",
    "* random array generator\n",
    "* array printer\n",
    "* copyArray\n",
    "\n",
    "It is assumed that you are fully capable of coding two similar methods by yourself. If you are new to Java (but have some experience with a different language), playing with these methods will help you get familiar with Java faster."
   ]
  },
  {
   "cell_type": "code",
   "execution_count": 3,
   "metadata": {},
   "outputs": [],
   "source": [
    "// random array generator\n",
    "public int[] randomArr(int size) {\n",
    "    Random r = new Random();\n",
    "    int[] arr = new int[size];\n",
    "    \n",
    "    for (int i = 0; i < size; i++) {\n",
    "        arr[i] = r.nextInt(1000) + 1;\n",
    "    }\n",
    "    \n",
    "    return arr;\n",
    "}\n",
    "\n",
    "// array printer\n",
    "public void printArr(int[] arr) {\n",
    "    for (int num : arr) {\n",
    "        System.out.print(num + \" \");\n",
    "    }\n",
    "    System.out.println();\n",
    "}\n",
    "\n",
    "// array deep copy\n",
    "public void copyArray(int[] from, int[] to) {\n",
    "    if (from.length != to.length) {\n",
    "        System.exit(0);\n",
    "    }\n",
    "    \n",
    "    for (int i = 0; i < from.length; i++) {\n",
    "        to[i] = from[i];\n",
    "    }\n",
    "}"
   ]
  },
  {
   "cell_type": "markdown",
   "metadata": {},
   "source": [
    "## Insertion Sort"
   ]
  },
  {
   "cell_type": "markdown",
   "metadata": {},
   "source": [
    "#### Practice - sort a linked list\n",
    "Given a singly linked list with all elements as integers, sort it using insertion sort.\n",
    "\n",
    "A linked listnode is defined for you. The solution that is covered in class can also be found below."
   ]
  },
  {
   "cell_type": "code",
   "execution_count": 4,
   "metadata": {},
   "outputs": [],
   "source": [
    "public class ListNode {\n",
    "    int val;\n",
    "    ListNode next;\n",
    "    ListNode(int data) {\n",
    "        val = data;\n",
    "    }\n",
    "}"
   ]
  },
  {
   "cell_type": "markdown",
   "metadata": {},
   "source": [
    "**<span style=\"color:red\">Can you provide a solution and write a few testing methods for your solution?</span>**\n",
    "\n",
    "You want to make sure that anyone who is interested in testing your solution can utlize your testing methods to achieve effective testing easily. Such methods may include:\n",
    "\n",
    "* *linked list printer*: print out all elements of a linked list\n",
    "* *linked list generator*: generate a randomly linked list"
   ]
  },
  {
   "cell_type": "markdown",
   "metadata": {},
   "source": [
    "## Quick Sort"
   ]
  },
  {
   "cell_type": "markdown",
   "metadata": {},
   "source": [
    "**Does the choice of pivot value influence the time complexity of quick sort algorithm?**\n",
    "\n",
    "Quick sort on average makes Θ(n log n) comparisons to sort n items. In the worst case scenario (*when presented with an already sorted list*), quick sort makes Θ(n^2) comparisons. Here is an implementation of quick sort with pivot value equal to the first item:"
   ]
  },
  {
   "cell_type": "code",
   "execution_count": 5,
   "metadata": {
    "scrolled": true
   },
   "outputs": [
    {
     "name": "stdout",
     "output_type": "stream",
     "text": [
      "Given array: 423 196 593 707 344 234 915 572 512 920 \n",
      "After being sorted: 196 234 344 423 512 572 593 707 915 920 \n"
     ]
    }
   ],
   "source": [
    "// quickSort\n",
    "public void quickSortFirst(int[] arr, int first, int last) {\n",
    "    if (first < last) {\n",
    "        int partitionPoint = partition(arr, first, last);\n",
    "        quickSortFirst(arr, first, partitionPoint-1);\n",
    "        quickSortFirst(arr, partitionPoint+1, last);\n",
    "    }\n",
    "}\n",
    "\n",
    "// partition\n",
    "private int partition(int[] arr, int first, int last) {\n",
    "    int pivotValue = arr[first];\n",
    "    int l = first + 1, r = last;\n",
    "    \n",
    "    boolean done = false;\n",
    "    while (!done) {\n",
    "        while (l <= r && arr[l] <= pivotValue) {\n",
    "            l++;\n",
    "        }\n",
    "        \n",
    "        while (l <= r && arr[r] >= pivotValue) {\n",
    "            r--;\n",
    "        }\n",
    "        \n",
    "        if (r < l) {\n",
    "            done = true;\n",
    "        } else {\n",
    "            int temp = arr[r];\n",
    "            arr[r] = arr[l];\n",
    "            arr[l] = temp;\n",
    "        }\n",
    "    }\n",
    "    \n",
    "    arr[first] = arr[r];\n",
    "    arr[r] = pivotValue;\n",
    "    \n",
    "    return r;\n",
    "}\n",
    "\n",
    "// sanity check\n",
    "int size = 10;\n",
    "int[] arr = randomArr(size);\n",
    "System.out.print(\"Given array: \");\n",
    "printArr(arr);\n",
    "quickSortFirst(arr, 0, arr.length-1);\n",
    "System.out.print(\"After being sorted: \");\n",
    "printArr(arr);"
   ]
  },
  {
   "cell_type": "markdown",
   "metadata": {},
   "source": [
    "Quicksort with median-of-three partitioning functions nearly the same as normal quicksort with the only difference being how the pivot item is selected. \n",
    "\n",
    "The pivot item with median-of-three partitioning is selected as the median between the first element, the last element, and the middle element (decided using integer division of n/2). \n",
    "\n",
    "Here is its implementation:"
   ]
  },
  {
   "cell_type": "code",
   "execution_count": 6,
   "metadata": {},
   "outputs": [
    {
     "name": "stdout",
     "output_type": "stream",
     "text": [
      "Given array: 398 490 99 723 484 246 895 588 807 938 \n",
      "After being sorted: 99 246 398 484 490 588 723 807 895 938 \n"
     ]
    }
   ],
   "source": [
    "// quickSort\n",
    "public void quickSortMedian(int[] arr, int first, int last) {\n",
    "    if (first < last) {\n",
    "        int partitionPoint = partition(arr, first, last);\n",
    "        quickSortMedian(arr, first, partitionPoint-1);\n",
    "        quickSortMedian(arr, partitionPoint+1, last);\n",
    "    }\n",
    "}\n",
    "\n",
    "// partition\n",
    "public int partition(int[] arr, int first, int last) {\n",
    "    // median of three - get the median to middle\n",
    "    int middle = (first + last) / 2;\n",
    "    if (arr[middle] < arr[first]) {\n",
    "        swap(arr, first, middle);\n",
    "    }\n",
    "    if (arr[last] < arr[first]) {\n",
    "        swap(arr, first, last);\n",
    "    }\n",
    "    if (arr[last] < arr[middle]) {\n",
    "        swap(arr, middle, last);\n",
    "    }\n",
    "    // get the median to first\n",
    "    swap(arr, first, middle);\n",
    "    \n",
    "    \n",
    "    int pivotValue = arr[first];\n",
    "    int l = first + 1, r = last;\n",
    "    \n",
    "    boolean done = false;\n",
    "    while (!done) {\n",
    "        while (l <= r && arr[l] <= pivotValue) {\n",
    "            l++;\n",
    "        }\n",
    "        \n",
    "        while (l <= r && arr[r] >= pivotValue) {\n",
    "            r--;\n",
    "        }\n",
    "        \n",
    "        if (r < l) {\n",
    "            done = true;\n",
    "        } else {\n",
    "            int temp = arr[r];\n",
    "            arr[r] = arr[l];\n",
    "            arr[l] = temp;\n",
    "        }\n",
    "    }\n",
    "    \n",
    "    arr[first] = arr[r];\n",
    "    arr[r] = pivotValue;\n",
    "    \n",
    "    return r;\n",
    "}\n",
    "\n",
    "// swap\n",
    "public void swap(int[] arr, int a, int b) {\n",
    "    int temp = arr[a];\n",
    "    arr[a] = arr[b];\n",
    "    arr[b] = temp;\n",
    "}\n",
    "\n",
    "// sanity check\n",
    "int size = 10;\n",
    "int[] arr = randomArr(size);\n",
    "System.out.print(\"Given array: \");\n",
    "printArr(arr);\n",
    "quickSortMedian(arr, 0, arr.length-1);\n",
    "System.out.print(\"After being sorted: \");\n",
    "printArr(arr);"
   ]
  },
  {
   "cell_type": "markdown",
   "metadata": {},
   "source": [
    "Now let's upgrade both methods to keep track of the running time."
   ]
  },
  {
   "cell_type": "code",
   "execution_count": 7,
   "metadata": {},
   "outputs": [
    {
     "name": "stdout",
     "output_type": "stream",
     "text": [
      "Given array: 211 920 377 920 296 300 844 149 447 473 \n",
      "After being sorted: 149 211 296 300 377 447 473 844 920 920 \n",
      "Steps: 92\n"
     ]
    }
   ],
   "source": [
    "// quickSort trck running time\n",
    "public int quickSortFirstTrack(int[] arr, int first, int last) {\n",
    "    int steps = 1;\n",
    "    \n",
    "    if (first < last) {\n",
    "        int[] pair = partitionTrack(arr, first, last);\n",
    "        int partitionPoint = pair[0];\n",
    "        steps += pair[1];\n",
    "        \n",
    "        steps += quickSortFirstTrack(arr, first, partitionPoint-1);\n",
    "        steps += quickSortFirstTrack(arr, partitionPoint+1, last);\n",
    "    }\n",
    "    \n",
    "    return steps;\n",
    "}\n",
    "\n",
    "// partition\n",
    "public int[] partitionTrack(int[] arr, int first, int last) {\n",
    "    int steps = 3;\n",
    "    \n",
    "    int pivotValue = arr[first];\n",
    "    int l = first + 1, r = last;   \n",
    "    boolean done = false;\n",
    "    \n",
    "    while (!done) {\n",
    "        steps++;\n",
    "        \n",
    "        while (l <= r && arr[l] <= pivotValue) {\n",
    "            l++;\n",
    "            steps++;\n",
    "        }\n",
    "        \n",
    "        while (l <= r && arr[r] >= pivotValue) {\n",
    "            r--;\n",
    "            steps++;\n",
    "        }\n",
    "        \n",
    "        if (r < l) {\n",
    "            done = true;\n",
    "            steps++;\n",
    "        } else {\n",
    "            int temp = arr[r];\n",
    "            arr[r] = arr[l];\n",
    "            arr[l] = temp;\n",
    "            steps += 3;\n",
    "        }\n",
    "    }\n",
    "    \n",
    "    steps += 2;\n",
    "    arr[first] = arr[r];\n",
    "    arr[r] = pivotValue;\n",
    "    \n",
    "    int[] results = new int[2];\n",
    "    results[0] = r;\n",
    "    results[1] = steps;\n",
    "    \n",
    "    return results;\n",
    "}\n",
    "\n",
    "// sanity check\n",
    "int size = 10;\n",
    "int[] arr = randomArr(size);\n",
    "System.out.print(\"Given array: \");\n",
    "printArr(arr);\n",
    "int steps = quickSortFirstTrack(arr, 0, arr.length-1);\n",
    "System.out.print(\"After being sorted: \");\n",
    "printArr(arr);\n",
    "System.out.println(\"Steps: \" + steps);"
   ]
  },
  {
   "cell_type": "code",
   "execution_count": 8,
   "metadata": {},
   "outputs": [
    {
     "name": "stdout",
     "output_type": "stream",
     "text": [
      "Given array: 115 564 460 13 852 939 77 412 151 981 \n",
      "After being sorted: 13 77 115 151 412 460 564 852 939 981 \n",
      "Steps: 93\n"
     ]
    }
   ],
   "source": [
    "// quickSort Median of Three trck running time\n",
    "public int quickSortMedianTrack(int[] arr, int first, int last) {\n",
    "    int steps = 1;\n",
    "    \n",
    "    if (first < last) {\n",
    "        int[] pair = partitionTrack2(arr, first, last);\n",
    "        int partitionPoint = pair[0];\n",
    "        steps += pair[1];\n",
    "        \n",
    "        steps += quickSortMedianTrack(arr, first, partitionPoint-1);\n",
    "        steps += quickSortMedianTrack(arr, partitionPoint+1, last);\n",
    "    }\n",
    "    \n",
    "    return steps;\n",
    "}\n",
    "\n",
    "// partition\n",
    "public int[] partitionTrack2(int[] arr, int first, int last) {\n",
    "    int steps = 8;\n",
    "    \n",
    "    // median of three - get the median to middle\n",
    "    int middle = (first + last) / 2;\n",
    "    if (arr[middle] < arr[first]) {\n",
    "        steps += swapTrack(arr, first, middle);\n",
    "    }\n",
    "    if (arr[last] < arr[first]) {\n",
    "        steps += swapTrack(arr, first, last);\n",
    "    }\n",
    "    if (arr[last] < arr[middle]) {\n",
    "        steps += swapTrack(arr, middle, last);\n",
    "    }\n",
    "    // get the median to first\n",
    "    steps += swapTrack(arr, first, middle);\n",
    "    \n",
    "    int pivotValue = arr[first];\n",
    "    int l = first + 1, r = last;   \n",
    "    boolean done = false;\n",
    "    \n",
    "    while (!done) {\n",
    "        steps++;\n",
    "        \n",
    "        while (l <= r && arr[l] <= pivotValue) {\n",
    "            l++;\n",
    "            steps++;\n",
    "        }\n",
    "        \n",
    "        while (l <= r && arr[r] >= pivotValue) {\n",
    "            r--;\n",
    "            steps++;\n",
    "        }\n",
    "        \n",
    "        if (r < l) {\n",
    "            done = true;\n",
    "            steps++;\n",
    "        } else {\n",
    "            int temp = arr[r];\n",
    "            arr[r] = arr[l];\n",
    "            arr[l] = temp;\n",
    "            steps += 3;\n",
    "        }\n",
    "    }\n",
    "    \n",
    "    steps += 2;\n",
    "    arr[first] = arr[r];\n",
    "    arr[r] = pivotValue;\n",
    "    \n",
    "    int[] results = new int[2];\n",
    "    results[0] = r;\n",
    "    results[1] = steps;\n",
    "    \n",
    "    return results;\n",
    "}\n",
    "\n",
    "// swap\n",
    "public int swapTrack(int[] arr, int a, int b) {\n",
    "    int steps = 3;\n",
    "\n",
    "    int temp = arr[a];\n",
    "    arr[a] = arr[b];\n",
    "    arr[b] = temp;\n",
    "    \n",
    "    return steps;\n",
    "}\n",
    "\n",
    "// sanity check\n",
    "int size = 10;\n",
    "int[] arr = randomArr(size);\n",
    "System.out.print(\"Given array: \");\n",
    "printArr(arr);\n",
    "int steps = quickSortFirstTrack(arr, 0, arr.length-1);\n",
    "System.out.print(\"After being sorted: \");\n",
    "printArr(arr);\n",
    "System.out.println(\"Steps: \" + steps);"
   ]
  },
  {
   "cell_type": "markdown",
   "metadata": {},
   "source": [
    "Now let's plot the comparison between the two on the worst case scenarios of arrays with different lengths. By looking at the comparison, it is easy to conclude that quick sort with median of three strategy is more effective. As the size of input grows, the efficiency difference grows."
   ]
  },
  {
   "cell_type": "code",
   "execution_count": 9,
   "metadata": {},
   "outputs": [
    {
     "data": {
      "image/png": "[encoded data removed]",
      "text/plain": [
       "BufferedImage@cf49074: type = 1 DirectColorModel: rmask=ff0000 gmask=ff00 bmask=ff amask=0 IntegerInterleavedRaster: width = 600 height = 400 #Bands = 3 xOff = 0 yOff = 0 dataOffset[0] 0"
      ]
     },
     "execution_count": 9,
     "metadata": {},
     "output_type": "execute_result"
    }
   ],
   "source": [
    "// predetermined size\n",
    "size = 50;\n",
    "\n",
    "// storage of steps\n",
    "int[] quickSortFirstArr = new int[size];\n",
    "int[] quickSortMedianArr = new int[size];\n",
    "\n",
    "// populate storage\n",
    "for (int i = 1; i < size; i++) {\n",
    "    // prepare two exactly same sorted arrays\n",
    "    int[] temp1 = randomArr(i);\n",
    "    Arrays.sort(temp1);\n",
    "    int[] temp2 = new int[temp1.length];\n",
    "    copyArray(temp1, temp2);\n",
    "    \n",
    "    quickSortFirstArr[i] = quickSortFirstTrack(temp1, 0, i-1);\n",
    "    quickSortMedianArr[i] = quickSortMedianTrack(temp2, 0, i-1);\n",
    "}\n",
    "\n",
    "// size of input - convert int to double for plotting\n",
    "double[] xData = new double[size];\n",
    "for (int i = 1; i < xData.length; i++) {\n",
    "    xData[i] = i;\n",
    "}\n",
    "\n",
    "// Quick Sort First\n",
    "double[] yDataB = new double[size];\n",
    "for (int i = 0; i < yDataB.length; i++) {\n",
    "    yDataB[i] = quickSortFirstArr[i];\n",
    "}\n",
    "\n",
    "// Quick Sort Median\n",
    "double[] yDataN = new double[size];\n",
    "for (int i = 0; i < yDataN.length; i++) {\n",
    "    yDataN[i] = quickSortMedianArr[i];\n",
    "}\n",
    "\n",
    "// plot it\n",
    "XYChart chart = new XYChartBuilder().width(600).height(400).title(\"Quick Sort\").xAxisTitle(\"Input Size n\").yAxisTitle(\"Running Time T(n)\").build();\n",
    "chart.addSeries(\"Quick Sort First\", xData, yDataB);\n",
    "chart.addSeries(\"Quick Sort Median\", xData, yDataN);\n",
    "BitmapEncoder.getBufferedImage(chart);"
   ]
  },
  {
   "cell_type": "markdown",
   "metadata": {},
   "source": [
    "## Merge Sort"
   ]
  },
  {
   "cell_type": "markdown",
   "metadata": {},
   "source": [
    "#### Practice - sort by color\n",
    "\n",
    "Given an array with n objects colored red, white or blue, sort them in-place so that objects of the same color are adjacent, with the colors in the order red, white and blue. We will use the integers 0, 1, and 2 to represent the color red, white, and blue respectively.\n",
    "\n",
    "Example:\n",
    "\n",
    "```\n",
    "Input: [2,0,2,1,1,0]\n",
    "Output: [0,0,1,1,2,2]\n",
    "```"
   ]
  },
  {
   "cell_type": "code",
   "execution_count": 10,
   "metadata": {},
   "outputs": [],
   "source": [
    "public void mergeSort(int[] arr, int n) {\n",
    "    if (n < 2) {\n",
    "        return;\n",
    "    }\n",
    "    int mid = n / 2;\n",
    "    int[] l = new int[mid];\n",
    "    int[] r = new int[n - mid];\n",
    " \n",
    "    for (int i = 0; i < mid; i++) {\n",
    "        l[i] = arr[i];\n",
    "    }\n",
    "    for (int i = mid; i < n; i++) {\n",
    "        r[i - mid] = arr[i];\n",
    "    }\n",
    "    mergeSort(l, mid);\n",
    "    mergeSort(r, n - mid);\n",
    " \n",
    "    merge(arr, l, r, mid, n - mid);\n",
    "}\n",
    "\n",
    "public void merge(int[] arr, int[] l, int[] r, int left, int right) {\n",
    "  \n",
    "    int i = 0, j = 0, k = 0;\n",
    "    while (i < left && j < right) {\n",
    "        if (l[i] <= r[j]) {\n",
    "            arr[k++] = l[i++];\n",
    "        }\n",
    "        else {\n",
    "            arr[k++] = r[j++];\n",
    "        }\n",
    "    }\n",
    "    while (i < left) {\n",
    "        arr[k++] = l[i++];\n",
    "    }\n",
    "    while (j < right) {\n",
    "        arr[k++] = r[j++];\n",
    "    }\n",
    "}"
   ]
  },
  {
   "cell_type": "markdown",
   "metadata": {},
   "source": [
    "**<span style=\"color:red\">Can you write a few methods to make the testing of the above solution scalable?</span>**\n",
    "\n",
    "Such methods may include:\n",
    "\n",
    "* *array generator*: generate a random array\n",
    "\n",
    "You can reuse my code that generates a random array."
   ]
  },
  {
   "cell_type": "markdown",
   "metadata": {},
   "source": [
    "#### Practice - merge two sorted linked lists\n",
    "\n",
    "Merge two sorted linked lists and return it as a new list. The new list should be made by splicing together the nodes of the first two lists.\n",
    "\n",
    "Example:\n",
    "```\n",
    "Input: 1->2->4, 1->3->4\n",
    "Output: 1->1->2->3->4->4\n",
    "```\n",
    "\n",
    "A linked listnode is defined for you as the following."
   ]
  },
  {
   "cell_type": "code",
   "execution_count": 11,
   "metadata": {},
   "outputs": [],
   "source": [
    "public class ListNode {\n",
    "    int val;\n",
    "    ListNode next;\n",
    "    ListNode(int data) {\n",
    "        val = data;\n",
    "    }\n",
    "}"
   ]
  },
  {
   "cell_type": "code",
   "execution_count": 12,
   "metadata": {},
   "outputs": [],
   "source": [
    "public ListNode insertLSort(ListNode head) {\n",
    "    // your code goes here\n",
    "    // remove this line\n",
    "    return ListNode(-1);\n",
    "}"
   ]
  },
  {
   "cell_type": "markdown",
   "metadata": {},
   "source": [
    "**<span style=\"color:red\">Can you provide a solution and write a few testing methods for your solution?</span>**\n",
    "\n",
    "You want to make sure that anyone who is interested in testing your solution can utlize your testing methods to achieve effective testing easily. Such methods may include:\n",
    "\n",
    "* *linked list printer*: print out all elements of a linked list\n",
    "* *linked list generator*: generate a randomly linked list\n",
    "\n",
    "You can reuse your testing code for testing the solution of insertion sort (linked list)."
   ]
  },
  {
   "cell_type": "markdown",
   "metadata": {},
   "source": [
    "#### Practice - merge k sorted linked lists\n",
    "\n",
    "Merge k sorted linked lists and return it as one sorted list.\n",
    "\n",
    "Example:\n",
    "\n",
    "```\n",
    "Input:\n",
    "  1->4->5,\n",
    "  1->3->4,\n",
    "  2->6\n",
    "Output: 1->1->2->3->4->4->5->6\n",
    "```\n",
    "\n",
    "A linked listnode is defined for you as the following."
   ]
  },
  {
   "cell_type": "code",
   "execution_count": 13,
   "metadata": {},
   "outputs": [],
   "source": [
    "public class ListNode {\n",
    "    int val;\n",
    "    ListNode next;\n",
    "    ListNode(int data) {\n",
    "        val = data;\n",
    "    }\n",
    "}"
   ]
  },
  {
   "cell_type": "markdown",
   "metadata": {},
   "source": [
    "**<span style=\"color:red\">Can you provide a solution and write a few testing methods for your solution?</span>**\n",
    "\n",
    "You want to make sure that anyone who is interested in testing your solution can utlize your testing methods to achieve effective testing easily. Such methods may include:\n",
    "\n",
    "* *linked list printer*: print out all elements of a linked list\n",
    "* *linked list generator*: generate a randomly linked list\n",
    "\n",
    "You can reuse your testing code for testing the solution of insertion sort (linked list)."
   ]
  },
  {
   "cell_type": "markdown",
   "metadata": {},
   "source": [
    "## Do It Yourself"
   ]
  },
  {
   "cell_type": "markdown",
   "metadata": {},
   "source": [
    "Given an array A of non-negative integers, half of the integers in A are odd, and half of the integers are even. Sort the array so that whenever A[i] is odd, i is odd; and whenever A[i] is even, i is even. You may return any answer array that satisfies this condition. \n",
    "\n",
    "Example:\n",
    "```\n",
    "Input: [4,2,5,7]\n",
    "Output: [4,5,2,7]\n",
    "Explanation: [4,7,2,5], [2,5,4,7], [2,7,4,5] would also have been accepted.\n",
    "```\n",
    "\n",
    "Please also indicate the best, average and worst time complexity of your own solution. You may want to lay out some basic reasoning for your answers (*maybe with a plot*).\n",
    "\n",
    "**When you finish (or not) playing your exploration of the whole interactive notebook and DIY assignment, you should download a html file and upload it to the assignment box on Canvas:**\n",
    "\n",
    "* File --> Download as --> HTML (.html)\n",
    "\n",
    "![download](images/html.png)"
   ]
  }
 ],
 "metadata": {
  "kernelspec": {
   "display_name": "Java",
   "language": "java",
   "name": "java"
  },
  "language_info": {
   "codemirror_mode": "java",
   "file_extension": ".jshell",
   "mimetype": "text/x-java-source",
   "name": "Java",
   "pygments_lexer": "java",
   "version": "11.0.3+7-Ubuntu-1ubuntu218.04.1"
  }
 },
 "nbformat": 4,
 "nbformat_minor": 2
}
