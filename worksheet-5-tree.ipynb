{
 "cells": [
  {
   "cell_type": "markdown",
   "metadata": {},
   "source": [
    "<h1 style=\"text-align: center; font-size: 40px\">Trees</h1>"
   ]
  },
  {
   "cell_type": "code",
   "execution_count": null,
   "metadata": {},
   "outputs": [],
   "source": [
    "import java.lang.*;\n",
    "import java.util.*;"
   ]
  },
  {
   "cell_type": "markdown",
   "metadata": {},
   "source": [
    "## Objectives\n",
    "\n",
    "The objectives of this worksheet are as follows:\n",
    "* Construction of the TreeNode class with primative integer as data.\n",
    "* Construct a tree by manually following a chain of references.\n",
    "* Print the contents of a tree *recursively* using a preorder traversal.\n",
    "* Print the contents of a tree *iteratively* using a preorder traversal\n",
    "* Invert a binary tree *recursively*.\n",
    "\n",
    "The purpose of this lab is demistify how references work by giving you the opportunity to build trees by manually setting reference. You will then extend this understanding to see how you can automate this process using recursive and iterative functions to modify trees. At the end of this we will go over the basic adding function for Binary Search Trees.\n",
    "\n",
    "\n",
    "#### Using Jupyter\n",
    "A few things to remind you with regard to using this Jupyter environment:\n",
    "1. If the platform crashes don't worry. All of this is in the browser so just refresh and all of your changes up to your last save should still be there. For this reason we encourage you to **save often**.\n",
    "2. Be sure to run cells from top to bottom.\n",
    "3. If you're getting weird errors to go: Kernel->Restart & Clear Output. From there, run cells from top to bottom. "
   ]
  },
  {
   "cell_type": "markdown",
   "metadata": {},
   "source": [
    "## TreeNode"
   ]
  },
  {
   "cell_type": "markdown",
   "metadata": {},
   "source": [
    "As with linked lists, trees of any sort contain a number of vertecies. These vertecies, in general, contain two categories of attributes:\n",
    "1. Data associated with a vertex\n",
    "2. Some number of references to other nodes\n",
    "With respect to the second category, for a binary tree we will have two references: right and left.\n",
    "\n",
    "**Your Task:** Complete the `TreeNode` class such that it has the following three attributes:\n",
    "* a primative integer containing some data\n",
    "* a right and left reference to other TreeNodes\n",
    "\n",
    "Additionally, create a constructor that:\n",
    "\n",
    "* takes a single `int` parameter containing the data for the node we are constructing\n",
    "* sets that data to our data attribute\n",
    "* initializes the left and right references to `null`.\n"
   ]
  },
  {
   "cell_type": "code",
   "execution_count": null,
   "metadata": {},
   "outputs": [],
   "source": [
    "public class TreeNode{\n",
    "        \n",
    "    public TreeNode(int data){\n",
    "        \n",
    "    }\n",
    "    \n",
    "}"
   ]
  },
  {
   "cell_type": "code",
   "execution_count": null,
   "metadata": {},
   "outputs": [],
   "source": [
    "// Run this cell to test and see if the \n",
    "// TreeNode was sucessfully constructed\n",
    "TreeNode v1 = new TreeNode(4);\n",
    "System.out.printf(\"Created a TreeNode with value: %d\\n\", v1.data);"
   ]
  },
  {
   "cell_type": "markdown",
   "metadata": {},
   "source": [
    "## Constructing a Tree"
   ]
  },
  {
   "attachments": {
    "image.png": {
     "image/png": "[encoded data removed]"
    }
   },
   "cell_type": "markdown",
   "metadata": {},
   "source": [
    "Now that we have a `TreeNode` class, lets use these nodes to create a new `Tree` class. We will cover later how to create general `Tree` classees that allow you to dynamically add and remove nodes. For now, this `Tree` class will construct only a single tree by manually setting the left and right references of nodes.\n",
    "\n",
    "**Your Task**:\n",
    "Your class only needs one attribute, a root TreeNode. After adding that attribute, create a constructor that makes the following tree:\n",
    "![image.png](attachment:image.png)\n",
    "To do this follow these steps:\n",
    "1. Set the root equal to a new instance of `TreeNode` with the given data.\n",
    "2. Set the left reference of the root (i.e., `root.left`) to a new instance of `TreeNode`.\n",
    "3. Set the left reference of the left reference of the root (i.e., `root.left.left`) equal to a new instance of `TreeNode`.\n",
    "\n",
    "Follow the above pattern to build out the tree in the image."
   ]
  },
  {
   "cell_type": "code",
   "execution_count": null,
   "metadata": {},
   "outputs": [],
   "source": [
    "public class Tree{\n",
    "    \n",
    "    public TreeNode root;\n",
    "    \n",
    "    public Tree(){\n",
    "        root = new TreeNode(5);\n",
    "        root.right = ??\n",
    "    }\n",
    "}"
   ]
  },
  {
   "cell_type": "code",
   "execution_count": null,
   "metadata": {},
   "outputs": [],
   "source": [
    "// Run this to test the instantiation of your tree\n",
    "Tree t = new Tree();"
   ]
  },
  {
   "cell_type": "markdown",
   "metadata": {},
   "source": [
    "## Displaying a Tree\n",
    "\n",
    "Throughout this worksheet, the lab, and future discussion involving trees and, more generally graphs of all kinds, you will see there are often two ways to accomplish tasks involving traversal: iteratively and recursively. In doing things recursively, we often save some lines of code and, depening on your feelings regarding recursion, some design complexity. However, continuously calling recursive functions is quite costly in terms of computing resources. Iterative function that make use of data structures such as stacks and queues are typically less costly.\n",
    "\n",
    "In the spirit of getting you equainted with both these styles and providing you a means of testing your tree you will be implementing both a recursive and an iterative tree display method. "
   ]
  },
  {
   "cell_type": "markdown",
   "metadata": {},
   "source": [
    "### Recursively"
   ]
  },
  {
   "cell_type": "markdown",
   "metadata": {},
   "source": [
    "For this exercise we will be implementing an *inorder* traversal of the tree. This involves the following pattern:\n",
    "1. Check if the current node is null. If so, return.\n",
    "2. Else:\n",
    "    1. traverse left\n",
    "    2. print the value of curr_node\n",
    "    3. traverse right\n",
    "\n",
    "\n"
   ]
  },
  {
   "cell_type": "code",
   "execution_count": null,
   "metadata": {},
   "outputs": [],
   "source": [
    "public void displayTreeRecursive(TreeNode root){\n",
    "\n",
    "}"
   ]
  },
  {
   "cell_type": "markdown",
   "metadata": {},
   "source": [
    "Once you've implemented the above function, call it on the root node of your tree to view the results of the traversal."
   ]
  },
  {
   "cell_type": "code",
   "execution_count": null,
   "metadata": {},
   "outputs": [],
   "source": [
    "displayTreeRecursive(t.root);"
   ]
  },
  {
   "cell_type": "markdown",
   "metadata": {},
   "source": [
    "### Iteratively"
   ]
  },
  {
   "cell_type": "markdown",
   "metadata": {},
   "source": [
    "As promised, for this exercise we will be using a stack rather than recursive calls to traverse the tree. Here is a description of the modified algorithm:\n",
    "1. Create a new stack\n",
    "2. Create a `curr` reference to the `root` which was passed in as a parameter.\n",
    "3. While the stack isn't empty or the `curr` node isn't null:\n",
    "    1. if `curr` isn't null\n",
    "        1. push the node onto the stack\n",
    "        2. set curr to it's left reference\n",
    "    2. else\n",
    "        1. pop from the stack and set `curr` equal to the value that's returned\n",
    "        2. print the value of curr\n",
    "        3. set curr to it's right reference\n",
    "        \n",
    "As the iterative approach has many steps we have given you some starter code. Take a moment to read over the description and the code to ensure it makes sense at a high level. Once you feel comfortable, move onto filling in the blanks (i.e., the parts with ??). \n",
    "\n",
    "*Note:* Recall that the `Stack` interface contains an `empty()` function which returns true if the stack is empty and false, otherwise."
   ]
  },
  {
   "cell_type": "code",
   "execution_count": null,
   "metadata": {},
   "outputs": [],
   "source": [
    "import java.util.Stack;\n",
    "\n",
    "public void displayTreeIter(TreeNode root){\n",
    "    \n",
    "    Stack<TreeNode> s = new Stack<>();\n",
    "    TreeNode curr = root;\n",
    "    \n",
    "    while(??){\n",
    "        \n",
    "        if(??){\n",
    "            \n",
    "        }else{\n",
    "            \n",
    "        }\n",
    "        \n",
    "    }\n",
    "}\n"
   ]
  },
  {
   "cell_type": "markdown",
   "metadata": {},
   "source": [
    "Now, run the function and see what happens."
   ]
  },
  {
   "cell_type": "code",
   "execution_count": null,
   "metadata": {},
   "outputs": [],
   "source": [
    "displayTreeIter(t.root);"
   ]
  },
  {
   "cell_type": "markdown",
   "metadata": {},
   "source": [
    "## More Recursion - Inverting a Binary Tree"
   ]
  },
  {
   "cell_type": "markdown",
   "metadata": {},
   "source": [
    "Binary trees are a bit abstract and dealing with their references, especially when recursion is added is challenging. So challenging infact that [even experienced developers who have developed widely used platforms](https://twitter.com/mxcl/status/608682016205344768?lang=en) have been known to fail tech interviews when asked questions involving them. \n",
    "\n",
    "So, lets try at least one problem that's a bit abstract but does serve the purpose of acquainting you even further with how references work and how to traverse binary trees. In this problem we are going to invert a Binary Tree. *Though the algorithm is easy to find online we suggest discussing how you would approach this with your group and sketching out the problem first.*\n",
    "\n",
    "There are two hints we will provide:\n",
    "1. The recursive traversal is very similar to a preorder traversal (root, left, right).\n",
    "2. Inverting a tree involves swapping left and right references at each level"
   ]
  },
  {
   "cell_type": "code",
   "execution_count": null,
   "metadata": {},
   "outputs": [],
   "source": [
    "public void invertTree(TreeNode root){\n",
    "    \n",
    "    if(root == null){\n",
    "        return;\n",
    "    }\n",
    "    \n",
    "    //Your code below\n",
    "}"
   ]
  },
  {
   "cell_type": "markdown",
   "metadata": {},
   "source": [
    "Run the following cell to create a new tree, invert it, and then display the results."
   ]
  },
  {
   "cell_type": "code",
   "execution_count": null,
   "metadata": {},
   "outputs": [],
   "source": [
    "Tree t = new Tree();\n",
    "invertTree(t.root);\n",
    "displayTreeIter(t.root)"
   ]
  },
  {
   "cell_type": "markdown",
   "metadata": {},
   "source": [
    "## Binary Search Tree - Class\n",
    "\n",
    "Now that we've played around with binary trees let's move onto Binary Search Trees. For your lab you will be given the following generic class to implement. The lab provides further details on the reason for this method of costruction but the following will give you a sense of what the barebones classes, attributes, constructors, and display functions will look like. For this worksheet we will be implementing the `addVertex` method recursively. A few things to keep in mind:\n",
    "1. The BST rule when performing the traversal and adding a vertex.\n",
    "2. Since we are using generics be sure to use the `compareTo` function."
   ]
  },
  {
   "cell_type": "code",
   "execution_count": null,
   "metadata": {},
   "outputs": [],
   "source": [
    "public class BinarySearchTree<T extends Comparable<T>>{\n",
    "    \n",
    "    public class TreeNode<T extends Comparable<T>>{\n",
    "        T data;\n",
    "        TreeNode<T> left;\n",
    "        TreeNode<T> right;\n",
    "        \n",
    "        public TreeNode(T data){\n",
    "            this.data = data;\n",
    "            left = null;\n",
    "            right = null;\n",
    "        }\n",
    "    }\n",
    "    \n",
    "    private TreeNode<T> root;\n",
    "    public BinarySearchTree(){\n",
    "        root = null;\n",
    "    }\n",
    "    \n",
    "    //this is the wrapper function for add vertex\n",
    "    public void addVertex(T data){\n",
    "        root = addVertex(root, data);\n",
    "    }\n",
    "    \n",
    "    // this is the recursive function that is responsiable\n",
    "    // for traversing the tree.\n",
    "    public TreeNode<T> addVertex(TreeNode curr, T data){\n",
    "        if(??){\n",
    "            ??\n",
    "        } else if (??){\n",
    "            curr.left = ??\n",
    "        } else{\n",
    "            curr.right = ??\n",
    "        }\n",
    "        return curr;\n",
    "    }\n",
    "    \n",
    "    public void displayTree(){\n",
    "            displayTree(root);\n",
    "    }\n",
    "    \n",
    "    public void displayTree(TreeNode<T> curr){\n",
    "        if(curr == null) return;\n",
    "        \n",
    "        displayTree(curr.left);\n",
    "        System.out.println(curr.data);\n",
    "        displayTree(curr.right);\n",
    "    }\n",
    "}"
   ]
  },
  {
   "cell_type": "markdown",
   "metadata": {},
   "source": [
    "Run the following to test your add vertex function. If the function has been implemented correctly you should get all of the numbers in ascending order."
   ]
  },
  {
   "cell_type": "code",
   "execution_count": null,
   "metadata": {},
   "outputs": [],
   "source": [
    "BinarySearchTree<Integer> bst = new BinarySearchTree<>();\n",
    "bst.addVertex(5);\n",
    "bst.addVertex(4);\n",
    "bst.addVertex(3);\n",
    "bst.addVertex(2);\n",
    "bst.addVertex(1);\n",
    "bst.displayTree();"
   ]
  }
 ],
 "metadata": {
  "kernelspec": {
   "display_name": "Java",
   "language": "java",
   "name": "java"
  },
  "language_info": {
   "codemirror_mode": "java",
   "file_extension": ".jshell",
   "mimetype": "text/x-java-source",
   "name": "Java",
   "pygments_lexer": "java",
   "version": "11.0.3+7"
  }
 },
 "nbformat": 4,
 "nbformat_minor": 2
}
