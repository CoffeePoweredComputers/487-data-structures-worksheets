{
 "cells": [
  {
   "cell_type": "markdown",
   "metadata": {},
   "source": [
    "## Loading Libraries\n",
    "\n",
    "Let's import all the necessary packages first. You can safely ignore this section."
   ]
  },
  {
   "cell_type": "code",
   "execution_count": 1,
   "metadata": {},
   "outputs": [],
   "source": [
    "import java.util.Random;\n",
    "import java.lang.*;"
   ]
  },
  {
   "cell_type": "code",
   "execution_count": 2,
   "metadata": {},
   "outputs": [],
   "source": [
    "%maven org.knowm.xchart:xchart:3.5.2\n",
    "import org.knowm.xchart.*;"
   ]
  },
  {
   "cell_type": "markdown",
   "metadata": {},
   "source": [
    "## Helper Methods\n",
    "\n",
    "Let's code three helper methods:\n",
    "\n",
    "* random array generator\n",
    "* array printer\n",
    "* copyArray\n",
    "\n",
    "It is assumed that you are fully capable of coding two similar methods by yourself. If you are new to Java (but have some experience with a different language), playing with these methods will help you get familiar with Java faster."
   ]
  },
  {
   "cell_type": "code",
   "execution_count": 3,
   "metadata": {},
   "outputs": [],
   "source": [
    "// random array generator\n",
    "public int[] randomArr(int size) {\n",
    "    Random r = new Random();\n",
    "    int[] arr = new int[size];\n",
    "    \n",
    "    for (int i = 0; i < size; i++) {\n",
    "        arr[i] = r.nextInt(1000) + 1;\n",
    "    }\n",
    "    \n",
    "    return arr;\n",
    "}\n",
    "\n",
    "// array printer\n",
    "public void printArr(int[] arr) {\n",
    "    for (int num : arr) {\n",
    "        System.out.print(num + \" \");\n",
    "    }\n",
    "    System.out.println();\n",
    "}\n",
    "\n",
    "// array deep copy\n",
    "public void copyArray(int[] from, int[] to) {\n",
    "    if (from.length != to.length) {\n",
    "        System.exit(0);\n",
    "    }\n",
    "    \n",
    "    for (int i = 0; i < from.length; i++) {\n",
    "        to[i] = from[i];\n",
    "    }\n",
    "}"
   ]
  },
  {
   "cell_type": "markdown",
   "metadata": {},
   "source": [
    "## Binary Search"
   ]
  },
  {
   "cell_type": "markdown",
   "metadata": {},
   "source": [
    "Binary search is built upon the assumption that a given array is already sorted. Given a sorted array and a target, binary search compares the target to the middle element of the array. If they are not equal, the half in which the target cannot lie is eliminated and the search continues on the remaining half. The process repeats itself until either the target is found or can not be found from the given array.\n",
    "\n",
    "One implementation of binary search is shown below:"
   ]
  },
  {
   "cell_type": "code",
   "execution_count": 4,
   "metadata": {},
   "outputs": [
    {
     "name": "stdout",
     "output_type": "stream",
     "text": [
      "15 54 97 126 347 468 471 836 913 929 \n"
     ]
    },
    {
     "data": {
      "text/plain": [
       "true"
      ]
     },
     "execution_count": 4,
     "metadata": {},
     "output_type": "execute_result"
    }
   ],
   "source": [
    "// implementation\n",
    "public boolean binarySearch(int[] arr, int target) {\n",
    "   boolean found = false;\n",
    "   int s = 0, e = arr.length-1;\n",
    "   int mid;\n",
    "\n",
    "   while (s <= e && !found) {\n",
    "      mid = (s + e) / 2;\n",
    "\n",
    "      if (arr[mid] == target) {\n",
    "          found = true;\n",
    "      } else if (target < arr[mid]) {\n",
    "          e = mid-1;\n",
    "      } else {\n",
    "          s = mid+1;\n",
    "      }\n",
    "\n",
    "   }\n",
    "   return found;\n",
    "}\n",
    "\n",
    "// sanity check\n",
    "int[] arr = randomArr(10);\n",
    "Arrays.sort(arr);\n",
    "printArr(arr);\n",
    "binarySearch(arr, arr[9]);"
   ]
  },
  {
   "cell_type": "markdown",
   "metadata": {},
   "source": [
    "Now let's time binary search by modifying the method. In addition, we also implement a linear search and time its complexity."
   ]
  },
  {
   "cell_type": "code",
   "execution_count": 5,
   "metadata": {},
   "outputs": [],
   "source": [
    "// modification of binary search\n",
    "public int binarySearchTrack(int[] arr, int target) {\n",
    "   boolean found = false;\n",
    "   int s = 0, e = arr.length-1;\n",
    "   int mid;\n",
    "   int steps = 4;\n",
    "\n",
    "   while (s <= e && !found) {\n",
    "      mid = (s + e) / 2;\n",
    "      steps += 4;\n",
    "\n",
    "      if (arr[mid] == target) {\n",
    "          found = true;\n",
    "      } else if (target < arr[mid]) {\n",
    "          e = mid-1;\n",
    "          steps += 1;\n",
    "      } else {\n",
    "          s = mid+1;\n",
    "          steps += 1;\n",
    "      }\n",
    "\n",
    "   }\n",
    "   return steps;\n",
    "}\n",
    "\n",
    "// time linear search\n",
    "public int linearSearchTrack(int[] arr, int target) {\n",
    "    boolean found = false;\n",
    "    int steps = 1;\n",
    "    \n",
    "    for (int i = 0; i < arr.length; i++) {\n",
    "        steps += 2;\n",
    "        \n",
    "        if (arr[i] == target) {\n",
    "            steps += 2;\n",
    "            \n",
    "            found = true;\n",
    "            break;\n",
    "        }\n",
    "    }\n",
    "    \n",
    "    return steps;\n",
    "}"
   ]
  },
  {
   "cell_type": "markdown",
   "metadata": {},
   "source": [
    "Let's plot the time complexity of binarySearch and compare it to a function that grows by O(n). As you can see from the plot, binary search grows by log function."
   ]
  },
  {
   "cell_type": "code",
   "execution_count": 6,
   "metadata": {},
   "outputs": [
    {
     "data": {
      "image/png": "[encoded data removed]",
      "text/plain": [
       "BufferedImage@73e5f74b: type = 1 DirectColorModel: rmask=ff0000 gmask=ff00 bmask=ff amask=0 IntegerInterleavedRaster: width = 600 height = 400 #Bands = 3 xOff = 0 yOff = 0 dataOffset[0] 0"
      ]
     },
     "execution_count": 6,
     "metadata": {},
     "output_type": "execute_result"
    }
   ],
   "source": [
    "// predetermined size\n",
    "int size = 80;\n",
    "\n",
    "// storage of steps\n",
    "int[] binarySearchArr = new int[size];\n",
    "int[] linearSearchArr = new int[size];\n",
    "\n",
    "// populate storage\n",
    "for (int i = 1; i < size; i++) {\n",
    "    // prepare one sorted array\n",
    "    int[] temp = randomArr(i);\n",
    "    Arrays.sort(temp);\n",
    "    \n",
    "    binarySearchArr[i] = binarySearchTrack(temp, 1001);\n",
    "    linearSearchArr[i] = linearSearchTrack(temp, 1001);\n",
    "}\n",
    "\n",
    "// size of input - convert int to double for plotting\n",
    "double[] xData = new double[size];\n",
    "for (int i = 1; i < xData.length; i++) {\n",
    "    xData[i] = i;\n",
    "}\n",
    "\n",
    "// binarySearchTrack\n",
    "double[] yDataB = new double[size];\n",
    "for (int i = 0; i < yDataB.length; i++) {\n",
    "    yDataB[i] = binarySearchArr[i];\n",
    "}\n",
    "\n",
    "// linear func\n",
    "double[] yDataN = new double[size];\n",
    "for (int i = 0; i < yDataN.length; i++) {\n",
    "    yDataN[i] = linearSearchArr[i];\n",
    "}\n",
    "\n",
    "// plot it\n",
    "XYChart chart = new XYChartBuilder().width(600).height(400).title(\"Binary Search\").xAxisTitle(\"Input Size n\").yAxisTitle(\"Running Time T(n)\").build();\n",
    "chart.addSeries(\"Binary Search\", xData, yDataB);\n",
    "chart.addSeries(\"A linear function\", xData, yDataN);\n",
    "BitmapEncoder.getBufferedImage(chart);"
   ]
  },
  {
   "cell_type": "markdown",
   "metadata": {},
   "source": [
    "## Do It Yourself"
   ]
  },
  {
   "cell_type": "markdown",
   "metadata": {},
   "source": [
    "#### Practice - binary search on a 2D array\n",
    "\n",
    "Write an efficient algorithm that searches for a value in an m x n matrix. This matrix has the following properties:\n",
    "\n",
    "* Integers in each row are sorted from left to right.\n",
    "* The first integer of each row is greater than the last integer of the previous row.\n",
    "\n",
    "For example, consider the following matrix:\n",
    "\n",
    "```\n",
    "[[1,   3,  5,  7],\n",
    " [10, 11, 16, 20],\n",
    " [23, 30, 34, 50]]\n",
    " \n",
    "Given target = 3, return true.\n",
    "```"
   ]
  },
  {
   "cell_type": "code",
   "execution_count": 7,
   "metadata": {},
   "outputs": [],
   "source": [
    "// you have to use the provided method name and parameters\n",
    "public boolean searchMatrix(int[][] matrix, int target) {\n",
    "    // your code goes here\n",
    "    // remove this line\n",
    "    return true;\n",
    "}"
   ]
  },
  {
   "cell_type": "markdown",
   "metadata": {},
   "source": [
    "**<span style=\"color:red\">Can you also test your solution?</span>**"
   ]
  },
  {
   "cell_type": "markdown",
   "metadata": {},
   "source": [
    "#### Practice\n",
    "\n",
    "Implement int sqrt(int x) that computes and returns the square root of x. x is guaranteed to be a non-negative integer.\n",
    "\n",
    "Example 1:\n",
    "```\n",
    "Input: 4\n",
    "Output: 2\n",
    "```\n",
    "\n",
    "Example 2:\n",
    "```\n",
    "Input: 8\n",
    "Output: 2\n",
    "```\n",
    "Explanation: The square root of 8 is 2.82842..., and since we want to return an integer, the decimal part will be truncated."
   ]
  },
  {
   "cell_type": "code",
   "execution_count": 8,
   "metadata": {},
   "outputs": [],
   "source": [
    "// you have to use the provided method name and parameters\n",
    "public int mySqrt(int x) {\n",
    "    // your code goes here\n",
    "    // remove this line\n",
    "    return 0;\n",
    "}"
   ]
  },
  {
   "cell_type": "markdown",
   "metadata": {},
   "source": [
    "**<span style=\"color:red\">Can you also test your solution?</span>**"
   ]
  },
  {
   "cell_type": "markdown",
   "metadata": {},
   "source": [
    "**When you finish (or not) playing your exploration of the whole interactive notebook and DIY assignment, you should download a html file and upload it to the assignment box on Canvas:**\n",
    "\n",
    "* File --> Download as --> HTML (.html)\n",
    "\n",
    "![download](images/html.png)"
   ]
  }
 ],
 "metadata": {
  "kernelspec": {
   "display_name": "Java",
   "language": "java",
   "name": "java"
  },
  "language_info": {
   "codemirror_mode": "java",
   "file_extension": ".jshell",
   "mimetype": "text/x-java-source",
   "name": "Java",
   "pygments_lexer": "java",
   "version": "11.0.3+7-Ubuntu-1ubuntu218.04.1"
  }
 },
 "nbformat": 4,
 "nbformat_minor": 2
}
