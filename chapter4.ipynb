{
 "cells": [
  {
   "cell_type": "markdown",
   "metadata": {},
   "source": [
    "## Loading Libraries\n",
    "\n",
    "Let's import all the necessary packages first. You can safely ignore this section."
   ]
  },
  {
   "cell_type": "code",
   "execution_count": 1,
   "metadata": {},
   "outputs": [],
   "source": [
    "import java.util.Random;\n",
    "import java.lang.*;"
   ]
  },
  {
   "cell_type": "code",
   "execution_count": 2,
   "metadata": {},
   "outputs": [],
   "source": [
    "%maven org.knowm.xchart:xchart:3.5.2\n",
    "import org.knowm.xchart.*;"
   ]
  },
  {
   "cell_type": "markdown",
   "metadata": {},
   "source": [
    "## Helper Methods\n",
    "\n",
    "Let's code three helper methods:\n",
    "\n",
    "* random array generator\n",
    "* array printer\n",
    "* copyArray\n",
    "\n",
    "It is assumed that you are fully capable of coding two similar methods by yourself. If you are new to Java (but have some experience with a different language), playing with these methods will help you get familiar with Java faster."
   ]
  },
  {
   "cell_type": "code",
   "execution_count": 3,
   "metadata": {},
   "outputs": [],
   "source": [
    "// random array generator\n",
    "public int[] randomArr(int size) {\n",
    "    Random r = new Random();\n",
    "    int[] arr = new int[size];\n",
    "    \n",
    "    for (int i = 0; i < size; i++) {\n",
    "        arr[i] = r.nextInt(1000) + 1;\n",
    "    }\n",
    "    \n",
    "    return arr;\n",
    "}\n",
    "\n",
    "// array printer\n",
    "public void printArr(int[] arr) {\n",
    "    for (int num : arr) {\n",
    "        System.out.print(num + \" \");\n",
    "    }\n",
    "    System.out.println();\n",
    "}\n",
    "\n",
    "// array deep copy\n",
    "public void copyArray(int[] from, int[] to) {\n",
    "    if (from.length != to.length) {\n",
    "        System.exit(0);\n",
    "    }\n",
    "    \n",
    "    for (int i = 0; i < from.length; i++) {\n",
    "        to[i] = from[i];\n",
    "    }\n",
    "}"
   ]
  },
  {
   "cell_type": "markdown",
   "metadata": {},
   "source": [
    "## Binary Search"
   ]
  },
  {
   "cell_type": "markdown",
   "metadata": {},
   "source": [
    "Binary search is built upon the assumption that a given array is already sorted. Given a sorted array and a target, binary search compares the target to the middle element of the array. If they are not equal, the half in which the target cannot lie is eliminated and the search continues on the remaining half. The process repeats itself until either the target is found or can not be found from the given array.\n",
    "\n",
    "One implementation of binary search is shown below:"
   ]
  },
  {
   "cell_type": "code",
   "execution_count": 25,
   "metadata": {},
   "outputs": [
    {
     "name": "stdout",
     "output_type": "stream",
     "text": [
      "37 76 539 572 584 682 805 857 892 996 \n"
     ]
    },
    {
     "data": {
      "text/plain": [
       "true"
      ]
     },
     "execution_count": 25,
     "metadata": {},
     "output_type": "execute_result"
    }
   ],
   "source": [
    "// implementation\n",
    "public boolean binarySearch(int[] arr, int target) {\n",
    "   boolean found = false;\n",
    "   int s = 0, e = arr.length-1;\n",
    "   int mid;\n",
    "\n",
    "   while (s <= e && !found) {\n",
    "      mid = (s + e) / 2;\n",
    "\n",
    "      if (arr[mid] == target) {\n",
    "          found = true;\n",
    "      } else if (target < arr[mid]) {\n",
    "          e = mid-1;\n",
    "      } else {\n",
    "          s = mid+1;\n",
    "      }\n",
    "\n",
    "   }\n",
    "   return found;\n",
    "}\n",
    "\n",
    "// sanity check\n",
    "int[] arr = randomArr(10);\n",
    "Arrays.sort(arr);\n",
    "printArr(arr);\n",
    "binarySearch(arr, arr[9]);"
   ]
  },
  {
   "cell_type": "markdown",
   "metadata": {},
   "source": [
    "#### Practice\n",
    "\n",
    "Write an efficient algorithm that searches for a value in an m x n matrix. This matrix has the following properties:\n",
    "\n",
    "* Integers in each row are sorted from left to right.\n",
    "* The first integer of each row is greater than the last integer of the previous row.\n",
    "\n",
    "For example, consider the following matrix:\n",
    "\n",
    "```\n",
    "[[1,   3,  5,  7],\n",
    " [10, 11, 16, 20],\n",
    " [23, 30, 34, 50]]\n",
    " \n",
    "Given target = 3, return true.\n",
    "```"
   ]
  },
  {
   "cell_type": "markdown",
   "metadata": {},
   "source": [
    "#### Practice\n",
    "\n",
    "Implement int sqrt(int x) that computes and returns the square root of x. x is guaranteed to be a non-negative integer.\n",
    "\n",
    "Example 1:\n",
    "```\n",
    "Input: 4\n",
    "Output: 2\n",
    "```\n",
    "\n",
    "Example 2:\n",
    "```\n",
    "Input: 8\n",
    "Output: 2\n",
    "```\n",
    "Explanation: The square root of 8 is 2.82842..., and since we want to return an integer, the decimal part will be truncated."
   ]
  }
 ],
 "metadata": {
  "kernelspec": {
   "display_name": "Java",
   "language": "java",
   "name": "java"
  },
  "language_info": {
   "codemirror_mode": "java",
   "file_extension": ".jshell",
   "mimetype": "text/x-java-source",
   "name": "Java",
   "pygments_lexer": "java",
   "version": "11.0.3+7-Ubuntu-1ubuntu218.04.1"
  }
 },
 "nbformat": 4,
 "nbformat_minor": 2
}
