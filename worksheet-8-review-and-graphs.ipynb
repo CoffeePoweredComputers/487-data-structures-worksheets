{
 "cells": [
  {
   "cell_type": "markdown",
   "metadata": {},
   "source": [
    "<h1 style=\"text-align: center; font-size: 40px\">More Data Structures and Intro to Graphs</h1>"
   ]
  },
  {
   "cell_type": "markdown",
   "metadata": {},
   "source": [
    "### Loading Libraries"
   ]
  },
  {
   "cell_type": "code",
   "execution_count": 3,
   "metadata": {},
   "outputs": [],
   "source": [
    "import java.util.Random;\n",
    "import java.lang.*;"
   ]
  },
  {
   "cell_type": "markdown",
   "metadata": {},
   "source": [
    "## Objectives\n",
    "\n",
    "The objectives of this worksheet are as follows:\n",
    "* See some other instances of data structures:\n",
    "    * __Doubly Linked Lists__ --> A variant of the singly linked list that allows traversal in both directions.\n",
    "    * __Trie__ --> A structure for storing and searching for collections of words.\n",
    "* Give an introduction to graphs drawing similarities to lists and trees.\n",
    "\n",
    "#### Using Jupyter\n",
    "A few things to remind you with regard to using this Jupyter environment:\n",
    "1. If the platform crashes don't worry. All of this is in the browser so just refresh and all of your changes up to your last save should still be there. For this reason we encourage you to **save often**.\n",
    "2. Be sure to run cells from top to bottom.\n",
    "3. If you're getting weird errors to go: Kernel->Restart & Clear Output. From there, run cells from top to bottom. "
   ]
  },
  {
   "cell_type": "markdown",
   "metadata": {},
   "source": [
    "<h1 style=\"text-align: center;\">More Data Structures</h1>"
   ]
  },
  {
   "cell_type": "markdown",
   "metadata": {},
   "source": [
    "## Doubly Linked List\n",
    "\n",
    "Recall that previously we covered singly linked lists in depth. However these had two limitations:\n",
    "* We could only traverse it in one direction (head->tail).\n",
    "* To add/remove nodes we needed a `curr` and `shadow` reference \n",
    "\n",
    "By allowing nodes to reference previous nodes in addition to their next node we can remove both of these limitations. A node in this list can be displayed as such:\n",
    "\n",
    "![doublelist.png](./images/double-list-node.png)\n",
    "\n",
    "Below, we will go over each of the insertion algorithms needed to build out a doubly linked list and you will implement these in the class below. Prior to going over the algorithms, it is suggested you read over the code already included in that class (e.g., the ListNode<E> class) in order to orient yourself before proceeding.\n",
    "\n",
    "### Algorithms\n",
    "\n",
    "| <div style=\"width:350px; text-align:center;\"><h3>Algorithm</h3></div>        |  <h3 style=\"text-align: center;\">Description</h3> |\n",
    ":---------------------------------------------------------------------------:|:-------------------------:\n",
    "![dll-insert-end.png](./images/double-list-insert-end-algo.png) | <div style=\"text-align: left;\"><p>We begin with the following consideration: </p><ul><li>If the list is empty (i.e., `head == null`) we create a new node and set that as the head of the list.</li><li>Otherwise, we need to traverse through the list to find the end of the list and then add the new node there.</li></ul><p>If we are in the second situation, once we have traversed to the end of the list and created our new node we must perform two steps to actually add it to the end:</p><br><ul><li>Set the end node's `next` pointer to reference the new node.</li><li>Set the new node's `prev` pointer to reference the old end of the list.</li></ul></div> |\n",
    "![dll-insert-front.png](./images/double-list-insert-front-algo.png) | <div style=\"text-align: left;\"><p>Adding a new node to the end of a doubly linked list is extremely similar to adding to the end of a singly linked list. At the start, there are two situations we need to concern ourselves with:</p><ul><li>If the list is empty (i.e., `head == null`) we create a new node and set that as the head of the list.</li><li> Otherwise, we need to:</li><ul><li>Create a new node.</li><li>Update the new node's `next` reference to be `head`</li><li>Set the current heads `prev` reference be the new node.</li><li>Make `head` be the new node.</li></ul></ul></div>|\n",
    "![dll-insert-at-pos.png]() | <div style=\"text-align: left;\"><img src=\"images/double-list-delete.png\" width=\"300\"/><br>To add an item from the list we perform the following steps:<ol><li>We forward a `tmp` reference the set number of times in order to find the node currently occupying that position.</li><li>We set the new node's next pointer to be `tmp` and it's parent pointer to be `tmp`'s parent.</li><li> We remove `tmp`'s parent to be the new node.</li><li>We set the new node's parent's `next` reference to be the new node.</li></ol></div>|\n",
    "\n",
    "Implement each of these insertion methods in the generic `DoublyLinkedList` class below."
   ]
  },
  {
   "cell_type": "code",
   "execution_count": 8,
   "metadata": {},
   "outputs": [],
   "source": [
    "public class DoublyLinkedList<E>{\n",
    "\n",
    "    public static class ListNode<E>{\n",
    "        E data;\n",
    "        ListNode prev;\n",
    "        ListNode next;\n",
    "        \n",
    "        public ListNode(E data){\n",
    "            this.data = data;\n",
    "            prev = null;\n",
    "            next = null;\n",
    "        }\n",
    "    }\n",
    "    \n",
    "    private ListNode<E> head;\n",
    "    private int size;\n",
    "    \n",
    "    public DoublyLinkedList(){\n",
    "        head = null;\n",
    "        size = 0;\n",
    "    }\n",
    "    \n",
    "    public void addToFront(E data){\n",
    "        /* Implement addToFront */\n",
    "    }\n",
    "    \n",
    "    public void addToEnd(E data){\n",
    "        /* Implement addToEnd */\n",
    "    }\n",
    "        \n",
    "    public void addAtPos(E data, int i){\n",
    "        /* Implement addAtPos */\n",
    "    }\n",
    "    \n",
    "    public void printList(){\n",
    "        ListNode tmp = head;\n",
    "        while(tmp != null){\n",
    "            System.out.print(tmp.data);\n",
    "            System.out.print(\" -> \");\n",
    "            tmp = tmp.next;\n",
    "        }\n",
    "        System.out.printf(\" null\\n\");\n",
    "    }\n",
    "}"
   ]
  },
  {
   "cell_type": "markdown",
   "metadata": {},
   "source": [
    "##### Test: Building the Linked List via `addToEnd`\n",
    "\n",
    "For output you should get the following:\n",
    "```bash\n",
    "1 -> 2 -> 3 -> 4 -> 5 -> 6 -> 7 -> 8 -> 9 -> 10 -> 11 -> 12 -> 13 -> 14 -> 15 ->  null\n",
    "```"
   ]
  },
  {
   "cell_type": "code",
   "execution_count": 9,
   "metadata": {},
   "outputs": [
    {
     "name": "stdout",
     "output_type": "stream",
     "text": [
      "1 -> 2 -> 3 -> 4 -> 5 -> 6 -> 7 -> 8 -> 9 -> 10 -> 11 -> 12 -> 13 -> 14 -> 15 ->  null\n"
     ]
    }
   ],
   "source": [
    "DoublyLinkedList<Integer> d = new DoublyLinkedList<>();\n",
    "for(int i = 1; i <= 15; ++i){\n",
    "    d.addToEnd(i);\n",
    "}\n",
    "d.printList();"
   ]
  },
  {
   "cell_type": "markdown",
   "metadata": {},
   "source": [
    "##### Test: Building the Linked List via `addToFront`\n",
    "\n",
    "The result of the following cell should be:\n",
    "```bash\n",
    "15 -> 14 -> 13 -> 12 -> 11 -> 10 -> 9 -> 8 -> 7 -> 6 -> 5 -> 4 -> 3 -> 2 -> 1 ->  null\n",
    "```"
   ]
  },
  {
   "cell_type": "code",
   "execution_count": 10,
   "metadata": {},
   "outputs": [
    {
     "name": "stdout",
     "output_type": "stream",
     "text": [
      "15 -> 14 -> 13 -> 12 -> 11 -> 10 -> 9 -> 8 -> 7 -> 6 -> 5 -> 4 -> 3 -> 2 -> 1 ->  null\n"
     ]
    }
   ],
   "source": [
    "DoublyLinkedList<Integer> d = new DoublyLinkedList<>();\n",
    "for(int i = 1; i <= 15; ++i){\n",
    "    d.addToFront(i);\n",
    "}\n",
    "d.printList();"
   ]
  },
  {
   "cell_type": "markdown",
   "metadata": {},
   "source": [
    "##### Test: Adding to Middle\n",
    "\n",
    "The result of the following cell should be:\n",
    "```bash\n",
    "1 -> 2 -> 3 -> 4 -> 5 -> null\n",
    "```"
   ]
  },
  {
   "cell_type": "code",
   "execution_count": 11,
   "metadata": {},
   "outputs": [],
   "source": [
    "DoublyLinkedList<Integer> d = new DoublyLinkedList<>();\n",
    "d.addToFront(1);\n",
    "d.addToEnd(3);\n",
    "d.addToEnd(4);\n",
    "d.addToEnd(5);\n",
    "d.addAtPos(2, 1);"
   ]
  },
  {
   "cell_type": "markdown",
   "metadata": {},
   "source": [
    "# Trie - A Prefix Tree"
   ]
  },
  {
   "cell_type": "markdown",
   "metadata": {},
   "source": [
    "### Structure and Utlity\n",
    "\n",
    "Let's say we wanted to store a large collection of strings for the purposes of verifying if the word a user entered is actually a word. We could store all the words in the english language in a large database or text file and, everytime a user entered a word, read that file and compare that word to every known word in the file. As you might imagine this would take a while as we have to do a set of nested operations: 1) get each word and 2) compare each letter in each word. Some sample code for how this might be accomplished is shown below.\n",
    "\n",
    "```java\n",
    "\n",
    "public boolean verifyWord(String [] knownWordCollection, String userWord){\n",
    "    \n",
    "    // Step 0: Iterate over all the words\n",
    "    for(String knownWord: knownWordCollection){\n",
    "        \n",
    "        //Step 1: Check if the words are the same length\n",
    "        if(knownWord.length != userWord.length){\n",
    "            continue;\n",
    "        }\n",
    "        \n",
    "        //Step 2: Compare each character in the two strings to see if they match\n",
    "        boolean wordFound = true;\n",
    "        for(int i = 0; i < userWord.length; i++){\n",
    "            if(knownWord.get(i) != userWord.get(i)){\n",
    "                wordFound = false;  //flip the boolean value to indicate a mismatch was found\n",
    "                break; //end the loop and move onto the next word since we found a mismatch\n",
    "            }\n",
    "        }\n",
    "        \n",
    "        if(wordFound == true) return true; //If we got to the end and we never found a mismatch, return true.\n",
    "    }\n",
    "    \n",
    "    return false; //if we searched all the words and never found a match, return false.\n",
    "}\n",
    "```\n",
    "From the above code we did optimize slightly by only the user's word to the known word if they're the same length. However, in the general case, stil leaves us with $O(n * m)$ where n is the number of known words and m is the length of the word. \n",
    "\n",
    "Lets think of how this might work for searching for the word submariner in the following list of words:\n",
    "\n",
    "* submarine\n",
    "* submariner\n",
    "* seat\n",
    "* marine\n",
    "* turbine\n",
    "\n",
    "A simple, logical way to search through this would be very similar to how you might look up the word in a physical dictionary. You are looking for a word that starts with the letter 's' by turning to the s section. In doing so, you ignore all other words. You then look for the words in the 's' section that have the second letter 'u', and then the  third letter 'b' and so on until you arrive at the word for which you are looking. In doing so, you have engaged in a search process that is $O(n)$ where $n$ is the number of letters in the word you are searching for. The question is, what kind of data structure could we come up with to allow for this process. As it turns out, trees (or a trie) comes to the rescue. \n",
    "\n",
    "\n",
    "\n",
    "A trie (pronounced \"tree\") is a special type of $k$-ary tree where $k$ is the number of children that a given node can reference. If we think back to binary search trees, we refer to them as binary as each node can have up to two children. We can create a prefix tree where each node has 26 children, one for each letter of the alphabet. Let's imagine we wanted to store the following words into a prefix tree: marine, mars, sea, seat, seats, submariner, submarine, turbo, and turbine. We would get the following tree.\n",
    "\n",
    "<img src=\"images/trie-subs.png\" style=\"width: 50%\"/>\n",
    "\n",
    "In this tree each node represents a letter. It then has edges to other letters that appear after that prefix we have traversed over thus far. If a node is a prefix as well as a valid word, again based on what words were inserted, it is colored blue. So, in order to validate a word, we start at the root node and traverse downward one letter at a time and if we reach the end of the word and arrive at a node that is set as the end of a valid word we can determine that the word we are searching for is valid. In any other case the word is considered invalid."
   ]
  },
  {
   "cell_type": "markdown",
   "metadata": {},
   "source": [
    "### Basic Node Class\n",
    "\n",
    "As previously stated, each node should have entries for up to 26 other nodes. Our basic node class should then look like this:\n",
    "```java\n",
    "class Node {\n",
    "    boolean isWord; // This should be true of leaves and false of intermediate nodes\n",
    "    Node[] children; //A list of other nodes if it is not a leaf\n",
    "    Node(){\n",
    "        isWord = false;\n",
    "        children = new Node[26];\n",
    "    }\n",
    "}\n",
    "```\n",
    "\n",
    "Initially each ofthe node's 26 references is null but these will be populated by other nodes as we iteratively add words to the trie.  "
   ]
  },
  {
   "cell_type": "markdown",
   "metadata": {},
   "source": [
    "### Inserting and Searching Algorithms\n",
    "\n",
    "\n",
    "Much like our other trees the wrapper class is quite simple. It consists of a nested `Node` class and a reference to the root of the tree. This root will be our starting point for search, insertion, and removal traversals. For the purposes of this worksheet we will be focusing just on insertion and search.\n",
    "\n",
    "```java\n",
    "class Trie {\n",
    "    \n",
    "    class Node {\n",
    "        boolean isWord; // This should be true of leaves and false of intermediate nodes\n",
    "        Node[] children; //A list of other nodes if it is not a leaf\n",
    "        Node(){\n",
    "            isWord = false;\n",
    "            children = new Node[26];\n",
    "        }\n",
    "    }\n",
    "    \n",
    "    private Node root;\n",
    "    \n",
    "    // methods ....\n",
    "}\n",
    "```\n",
    "\n",
    "\n",
    "\n",
    "The following are the pseudocode for the insert and search algorithms for tries. \n",
    "\n",
    "| <div style=\"width:350px; text-align:center;\"><h3>Algorithm</h3></div>        |  <h3 style=\"text-align: center;\">Description</h3> |\n",
    ":---------------------------------------------------------------------------:|:-------------------------:\n",
    "![trie-insert.png](./images/trie-insert.png) | <p style=\"font-size: 13px;\">Much like other tree and list algorithms we begin with a copy of the reference to the root node. We then iterate over each letter in the word. Since we are storing our nodes in the list a simple method of indexing is to treat 0 as a and 25 as z. As such, we convert the letter to it's ascii value and subtract the ascii value for 'a', which is 97, in order to create that offset. We then check that node's reference for that letter and, if there is a reference to another node we traverse to it and if it is null we first create it and then traverse to it. After iterating over all the letters of the word and performing this process to each letter we set the final node as the end of a new word.</p> |\n",
    "![trie-search.png](./images/trie-search.png) | <p style=\"font-size: 13px;\">To search, we perform a similar traversal downward by offsetting an indexing into the node associated with a given letter. If we ever encounter an instance where the entry for a letter is null we return false as a word with that prefix does not exist in our tree. If we reach the end of a word we then need to check if the last node is the end of a valid word. If it is we can return true to indicate that word was found in the trie; otherwise, we return false.</p>|\n",
    "\n",
    "\n",
    "<img alt=\"Activity - In-Class\" src=\"https://img.shields.io/badge/Activity-In--Class-E84A27\" align=\"left\" style=\"margin-right: 5px\"/>\n",
    "<br>\n",
    "<br>\n",
    "\n",
    "Implement the above algorithms in the partially complete `Trie` class that is below."
   ]
  },
  {
   "cell_type": "code",
   "execution_count": 6,
   "metadata": {},
   "outputs": [],
   "source": [
    "class Trie {\n",
    "    \n",
    "    class Node {\n",
    "        boolean isWord; // This should be true of leaves and false of intermediate nodes\n",
    "        Node[] children; //A list of other nodes if it is not a leaf\n",
    "        Node(){\n",
    "            isWord = false;\n",
    "            children = new Node[26];\n",
    "        }\n",
    "    }\n",
    "    \n",
    "    private Node root;\n",
    "\n",
    "    \n",
    "    public Trie() {\n",
    "        root = new Node();\n",
    "    }\n",
    "    \n",
    "    public void insert(String word) {\n",
    "        /* Implement the Insert method here */\n",
    "    }\n",
    "    \n",
    "    public boolean search(String word) {\n",
    "        /* Implement the Search method here */\n",
    "    }    \n",
    "}"
   ]
  },
  {
   "cell_type": "markdown",
   "metadata": {},
   "source": [
    "#### Testing the Trie\n",
    "\n",
    "The following instantiate the tree and populates it with words from the string."
   ]
  },
  {
   "cell_type": "code",
   "execution_count": 7,
   "metadata": {},
   "outputs": [],
   "source": [
    "Trie words = new Trie();\n",
    "String string = \"marine sea seat seats submariner submarine turbo turbine\";\n",
    "\n",
    "for(String str: string.split(\" \")){\n",
    "    words.insert(str);\n",
    "}"
   ]
  },
  {
   "cell_type": "markdown",
   "metadata": {},
   "source": [
    "Use the following cell to check if a word exists in the trie we created in the previous two cells."
   ]
  },
  {
   "cell_type": "code",
   "execution_count": 8,
   "metadata": {},
   "outputs": [
    {
     "data": {
      "text/plain": [
       "true"
      ]
     },
     "execution_count": 8,
     "metadata": {},
     "output_type": "execute_result"
    }
   ],
   "source": [
    "words.search(\"submarine\");"
   ]
  },
  {
   "cell_type": "markdown",
   "metadata": {},
   "source": [
    "# Singly Linked Lists to Trees to Graphs"
   ]
  },
  {
   "cell_type": "markdown",
   "metadata": {},
   "source": [
    "Up until today we've primarily covered two data structures that, at their core, are special a special type of graph: Directed Acyclic Graphs more simply known as DAGs. Lets break this down one term at a time:\n",
    "* **Directed**: This means that links between nodes only move in one direction. With linked list this is the `next` reference and with trees this are the `left` and `right` references. Once you have progressed `next`, `left`, or `right` the only way backwards is if a `parent` reference exists.\n",
    "* **Acyclic**: In an acyclic graph, one can never visit the same node twice betcause there are no cycles. The singly linked list and a tree without parent references both meet this definition. For example, if we visit the root node of a BST and then traverse downwards we will never visit the same no twice because no node lower in the tree references another node that is higher in the tree. A doubly linked list, however, wouldn't be acyclic as it is possible to go backwards and revisit a node.\n",
    "* **Graph**: A collection of nodes and edges. A node is just like the nodes you've previously seen in linked lists and trees. An edge is similar to the `next`, `left`, and `right` references you've seen. However, references are not the only way to construct edges. We will explore more versitile graph representations further in future lessons.\n",
    "\n",
    "The doubly linked list we impelmented at the beginning of the worksheet is a departure from the world of DAGs as, compared to it's singly linked cousin, you are able to traverse back and forth arbitrarily. This means that you can therefore revisit nodes that you might have visited before which makes them effectively undirected and certainly acyclic. However, our previous data structures are still limited in the following ways:\n",
    "* Lists are linear data structures and can therefore have at most one 'parent' and one 'child'.\n",
    "* Each node in tree must have the same maximum number of child nodes. For binary trees this is two and for our prefix tree this was 26. \n",
    "\n",
    "The graphs we will be covering in the latter half of this course are much more versatile in that they allow for an arbitrary number of nodes/edges from or to any given node. Below in an example visualization of what this looks like.\n",
    "\n",
    "![graph.png](./images/simple-graph.png)\n",
    "\n",
    "When thinking about data structures, it is useful to think more about how they might be useful rather than their implementation initally. For instance:\n",
    "1. With linked lists we can easily store, remove, and search for simple collections of data.\n",
    "2. Trees allow us to store data in a heirarchical fashion that allows for search optimizations.\n",
    "3. With hashmaps we can store and access data in an efficient manner using simple keys that map to some data.\n",
    "\n",
    "Graphs are no different. Jot some ideas in the cell below on how you think graphs might be used. We will cover the types of graphs and some of the ways in which they are implemented in the next worksheet."
   ]
  },
  {
   "cell_type": "markdown",
   "metadata": {},
   "source": []
  }
 ],
 "metadata": {
  "kernelspec": {
   "display_name": "Java",
   "language": "java",
   "name": "java"
  },
  "language_info": {
   "codemirror_mode": "java",
   "file_extension": ".jshell",
   "mimetype": "text/x-java-source",
   "name": "Java",
   "pygments_lexer": "java",
   "version": "11.0.3+7"
  }
 },
 "nbformat": 4,
 "nbformat_minor": 2
}
