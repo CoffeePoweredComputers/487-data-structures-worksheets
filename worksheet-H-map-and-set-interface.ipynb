{
 "cells": [
  {
   "cell_type": "markdown",
   "metadata": {},
   "source": [
    "<h1 style=\"text-align: center; font-size: 36px\">Hashing and the Map Interface</h1>"
   ]
  },
  {
   "cell_type": "markdown",
   "metadata": {},
   "source": [
    "### Loading Libraries"
   ]
  },
  {
   "cell_type": "code",
   "execution_count": 1,
   "metadata": {},
   "outputs": [],
   "source": [
    "import java.util.Random;\n",
    "import java.lang.*;"
   ]
  },
  {
   "cell_type": "markdown",
   "metadata": {},
   "source": [
    "## Objectives\n",
    "\n",
    "The objectives of this worksheet are as follows:\n",
    "\n",
    "\n",
    "\n",
    "#### Using Jupyter\n",
    "A few things to remind you with regard to using this Jupyter environment:\n",
    "1. If the platform crashes don't worry. All of this is in the browser so just refresh and all of your changes up to your last save should still be there. For this reason we encourage you to **save often**.\n",
    "2. Be sure to run cells from top to bottom.\n",
    "3. If you're getting weird errors to go: Kernel->Restart & Clear Output. From there, run cells from top to bottom."
   ]
  },
  {
   "cell_type": "markdown",
   "metadata": {},
   "source": [
    "## Hashing\n",
    "\n",
    "In Java, each object can have it's hash value computed via the `hashCode()` method. See the examples below for string and doubles.\n"
   ]
  },
  {
   "cell_type": "code",
   "execution_count": 2,
   "metadata": {},
   "outputs": [
    {
     "name": "stdout",
     "output_type": "stream",
     "text": [
      "69609650\n"
     ]
    }
   ],
   "source": [
    "String str1 = \"Hello\";\n",
    "System.out.println(str1.hashCode());\n",
    ";"
   ]
  },
  {
   "cell_type": "code",
   "execution_count": 3,
   "metadata": {},
   "outputs": [
    {
     "name": "stdout",
     "output_type": "stream",
     "text": [
      "1076690944\n"
     ]
    }
   ],
   "source": [
    "Double num = 14.5;\n",
    "System.out.println(num.hashCode());\n",
    ";"
   ]
  },
  {
   "cell_type": "markdown",
   "metadata": {},
   "source": [
    "The important thing about hashCodes is they are `deterministic`. This means that even if we create another variable to store the string `\"Hello\"` it will have the same hash value because that value is computed using the string's value itself. If you run the cell below you will see it produces the same hashCode as the first cell did."
   ]
  },
  {
   "cell_type": "code",
   "execution_count": 4,
   "metadata": {},
   "outputs": [
    {
     "name": "stdout",
     "output_type": "stream",
     "text": [
      "69609650\n"
     ]
    }
   ],
   "source": [
    "String str2 = \"Hello\";\n",
    "System.out.println(str2.hashCode());\n",
    ";"
   ]
  },
  {
   "cell_type": "markdown",
   "metadata": {},
   "source": [
    "However, things become more complicated when we create our own objects. By default, the hash code is computed using memory address where the instance of the object lives. Since where the object is located in memory changes everytime we run the program we get a hashcode that isn't consistent between runs. Run the cell below multiple times and observe that the number that is outputted changes between runs."
   ]
  },
  {
   "cell_type": "code",
   "execution_count": 5,
   "metadata": {},
   "outputs": [
    {
     "name": "stdout",
     "output_type": "stream",
     "text": [
      "372953689\n"
     ]
    }
   ],
   "source": [
    "class RandomDataContainer<E>{\n",
    "    E data;\n",
    "    RandomDataContainer(E data){\n",
    "        this.data = data;\n",
    "    }\n",
    "}\n",
    "RandomDataContainer<String> rdc = new RandomDataContainer(\"Hello\");\n",
    "System.out.println(rdc.hashCode());\n",
    ";"
   ]
  },
  {
   "cell_type": "markdown",
   "metadata": {},
   "source": [
    "To get around this, we can override the hashCode method and have the hashcode computed some other way. In the below example the hashcode is defined to use the data attribute."
   ]
  },
  {
   "cell_type": "code",
   "execution_count": 6,
   "metadata": {},
   "outputs": [
    {
     "name": "stdout",
     "output_type": "stream",
     "text": [
      "69609650\n"
     ]
    }
   ],
   "source": [
    "class RandomDataContainer<E>{\n",
    "    E data;\n",
    "    RandomDataContainer(E data){\n",
    "        this.data = data;\n",
    "    }\n",
    "    \n",
    "    @Override\n",
    "    public int hashCode(){\n",
    "        return data.hashCode();\n",
    "    }\n",
    "}\n",
    "RandomDataContainer<String> rdc = new RandomDataContainer(\"Hello\");\n",
    "System.out.println(rdc.hashCode());\n",
    ";"
   ]
  },
  {
   "cell_type": "markdown",
   "metadata": {},
   "source": [
    "<h2 style=\"text-align: center;\">Map Interface</h2>"
   ]
  },
  {
   "cell_type": "markdown",
   "metadata": {},
   "source": [
    "As usual, the Java doc for this interface can be found [here](https://docs.oracle.com/javase/8/docs/api/java/util/Map.html)."
   ]
  },
  {
   "cell_type": "markdown",
   "metadata": {},
   "source": [
    "### Creating a Map\n",
    "\n",
    "In the past you have become very familiar with the `List` interface and the concept of generics. As such when I have the following code:\n",
    "```java\n",
    "List<String> lst = //...\n",
    "```\n",
    "You know that I am creating a list that is going to contain strings. This pattern holds for the map interface, however, no we have to concern ourselves with two values. The key and the value. This is still relatively straight foward as we can just use the following template:\n",
    "```java\n",
    "Map<K, V> map = //...\n",
    "```\n",
    "where `K` and `V` will be replaced by the data type you want the key and value to be respectively. For instance, if we want to create a map where they keys are string and the values are integers we would do the following:\n",
    "\n",
    "```java\n",
    "Map<String, Integer> newMap = //...\n",
    "```\n",
    "\n",
    "Though we can only have single values (e.g., string, integer) as the keys for dicionaries we can have any object we want ast the values. For instance, if we wanted to make a map where the keys are integers and the values are a list of string we could do the following:\n",
    "\n",
    "```java\n",
    "Map<Integer, List<String>> newMap = //...\n",
    "```\n",
    "\n",
    "We will be going over both the `HashMap` implementation and the `Hashtable` implementation of this interface in greater detail later. Just for being able to show off some of the `Map` interface's methods we will be using the `HashMap` implementation in the following examples. A generic example of creating a `HashMap` is:\n",
    "```java\n",
    "Map<K, V> map = new HashMap<>();\n",
    "```\n",
    "\n",
    "<img alt=\"Activity - In-Class\" src=\"https://img.shields.io/badge/Activity-In--Class-E84A27\" align=\"left\" style=\"margin-right: 5px\"/>\n",
    "<br>\n",
    "<br>\n",
    "\n",
    "Create two hashmaps:\n",
    "1. Containing with strings for keys and integers for values. This will be used to build a Spanish-to-English dictionary. This hashmap should be called `dict1`.\n",
    "2. Containing strings for keys and a List of strings for values. This will be used to categorize various list of perishable food items. This hashmap should be called `groceryMap`.\n",
    "\n",
    "Be sure to name them something relevant to the data they store as we will be using these in future examples."
   ]
  },
  {
   "cell_type": "code",
   "execution_count": 7,
   "metadata": {},
   "outputs": [],
   "source": [
    "Map<String, String> dict1 = new HashMap<>();\n",
    "Map<String, List<String>> groceryMap = new HashMap<>();"
   ]
  },
  {
   "cell_type": "markdown",
   "metadata": {},
   "source": [
    "## Putting things in a Map\n",
    "\n",
    "There are three commonly used methods for adding things to a map:\n",
    "* `put(K key, V value)` which allows us to add a new key-value pair to the map. If the key already exists then it raises an exception. \n",
    "* `putAll(Map< K, V> map)` which adds each key-value pair from an existing map to our map."
   ]
  },
  {
   "cell_type": "markdown",
   "metadata": {},
   "source": [
    "<img alt=\"Activity - In-Class\" src=\"https://img.shields.io/badge/Activity-In--Class-E84A27\" align=\"left\" style=\"margin-right: 5px\"/>\n",
    "<br>\n",
    "<br>\n",
    "\n",
    "Follow the instructions for each of the maps you are using:\n",
    "* **Map with String Values:** Create a mapping where each of the following Spanish words is a key in the map and it's associated value is the English translation and output the resulting map.\n",
    "    * hola, adios, lo siento, si, no\n",
    "* **Map with List Values:** You are given several existing lists of various perishables. Place each of these in the map with a key that is relevant to the contents of the list and output the resulting data structure."
   ]
  },
  {
   "cell_type": "code",
   "execution_count": 8,
   "metadata": {},
   "outputs": [
    {
     "name": "stdout",
     "output_type": "stream",
     "text": [
      "{si=yes, lo siento=sorry, hola=hello, adios=goodbye}\n"
     ]
    }
   ],
   "source": [
    "/* YOUR CODE HERE: Create your translation map here */\n",
    "dict1.put(\"hola\", \"hello\");\n",
    "dict1.put(\"adios\", \"goodbye\");\n",
    "dict1.put(\"lo siento\", \"sorry\");\n",
    "dict1.put(\"si\", \"yes\");\n",
    "\n",
    "\n",
    "/* The result */\n",
    "System.out.println(dict1);"
   ]
  },
  {
   "cell_type": "code",
   "execution_count": 9,
   "metadata": {},
   "outputs": [
    {
     "name": "stdout",
     "output_type": "stream",
     "text": [
      "{fruits=[apple, pear], berries=[strawberry, blackberry], veggies=[cucumber]}\n"
     ]
    }
   ],
   "source": [
    "/* Map of Lists */\n",
    "List<String> berries = new LinkedList<>(Arrays.asList(\"strawberry\", \"blackberry\"));\n",
    "List<String> fruits = new LinkedList<>(Arrays.asList(\"apple\", \"pear\"));\n",
    "List<String> veggies = new LinkedList<>(Arrays.asList(\"cucumber\"));\n",
    "\n",
    "/* YOUR CODE HERE: Put the lists in the map with some key that's relevant to the contents of the list */\n",
    "groceryMap.put(\"berries\", berries);\n",
    "groceryMap.put(\"fruits\", fruits);\n",
    "groceryMap.put(\"veggies\", veggies);\n",
    "\n",
    "\n",
    "/* Output the map */\n",
    "System.out.println(groceryMap)"
   ]
  },
  {
   "cell_type": "markdown",
   "metadata": {},
   "source": [
    "<img alt=\"Activity - In-Class\" src=\"https://img.shields.io/badge/Activity-In--Class-E84A27\" align=\"left\" style=\"margin-right: 5px\"/>\n",
    "<br>\n",
    "<br>\n",
    "\n",
    "Let's say we wanted to extend our Spanish translation dictionary by expanding it to include words other than those associated with greetings. Below there is a dictionary defined that contains some of these other words. Use the `putAll` method to add all of the key-value pairs from that map to the one you created."
   ]
  },
  {
   "cell_type": "code",
   "execution_count": 10,
   "metadata": {},
   "outputs": [
    {
     "name": "stdout",
     "output_type": "stream",
     "text": [
      "{la vaca=cow, si=yes, el caballo=horse, lo siento=sorry, el gato=cat, hola=hello, el perro=dog, adios=goodbye}\n"
     ]
    }
   ],
   "source": [
    "/* The existing map */\n",
    "Map<String, String> animals = new HashMap<>();\n",
    "animals.put(\"el perro\", \"dog\");\n",
    "animals.put(\"el gato\", \"cat\");\n",
    "animals.put(\"la vaca\", \"cow\");\n",
    "animals.put(\"el caballo\", \"horse\");\n",
    "\n",
    "\n",
    "/* YOUR CODE HERE: Update your original map to contain the new words */\n",
    "dict1.putAll(animals);\n",
    "\n",
    "/* Output the result */\n",
    "System.out.println(dict1);"
   ]
  },
  {
   "cell_type": "markdown",
   "metadata": {},
   "source": [
    "## Getting things from a Map\n",
    "\n",
    "Now that we have put some stuff in each of our maps, lets try getting some stuff. There are two commonly used methods for this:\n",
    "* `get(Object key)` which gets the value associated with a key. If the key you provide is not in the map then it will return `null`.\n",
    "* `getOrDefault(Object key, V defaultValue)` which also gets the value associated with a key **but**, if the key is not found it will return the provided default value.\n",
    "\n",
    "The first one is by far the one you will use the most in this class and it will be particularly useful for the second list since we can get the list associated with a key and then add something to that list. The second is less used so we will simply be providing an example for you to run so you can understand it's utility even if you don't use it all that often yourself."
   ]
  },
  {
   "cell_type": "markdown",
   "metadata": {},
   "source": [
    "<img alt=\"Activity - In-Class\" src=\"https://img.shields.io/badge/Activity-In--Class-E84A27\" align=\"left\" style=\"margin-right: 5px\"/>\n",
    "<br>\n",
    "<br>\n",
    "\n",
    "For each of the code cells:\n",
    "* **Code Cell 1:** Get a value from map representing the translation dictionary, store it in a variable, and print it out.\n",
    "* **Code Cell 2:** Get a list from the map that contains lists as value, add a new value to that list, and print out the map. You should see that, through the power of references, the change you just made is reflected in the map."
   ]
  },
  {
   "cell_type": "code",
   "execution_count": 11,
   "metadata": {},
   "outputs": [
    {
     "name": "stdout",
     "output_type": "stream",
     "text": [
      "hello\n"
     ]
    }
   ],
   "source": [
    "/* Code cell 1 solution here */\n",
    "String translation = dict1.get(\"hola\");\n",
    "System.out.println(translation);"
   ]
  },
  {
   "cell_type": "code",
   "execution_count": 12,
   "metadata": {},
   "outputs": [
    {
     "name": "stdout",
     "output_type": "stream",
     "text": [
      "{fruits=[apple, pear], berries=[strawberry, blackberry], veggies=[cucumber, onion]}\n"
     ]
    }
   ],
   "source": [
    "/* Code cell 2 solution here */\n",
    "groceryMap.get(\"veggies\").add(\"onion\");\n",
    "System.out.println(groceryMap);"
   ]
  },
  {
   "cell_type": "markdown",
   "metadata": {},
   "source": [
    "\n",
    "##### Getting and Updating\n",
    "\n",
    "A common task for which maps are used in is counting the number of occurences of each item in a collection. For this operation you build a map where each item is a key and it has an associated integer which is it's count. We proceed through the collection of items, get the previous count, increment it by one, and update it. However, each time we encounter a new word we need to first add it to our map. This means we will use the `containsKey` method to check if the key exists in our map. If it does we can just get the previous value, increment it, and update the value for that key-value pair with the `put` method. However, if it doesnt we simply put the new key in the map with the value 1 since this is the first time we've seen it. \n",
    "\n",
    "Run the following two code cells to see how this counting pattern works and be sure to read through the comments."
   ]
  },
  {
   "cell_type": "code",
   "execution_count": 13,
   "metadata": {},
   "outputs": [],
   "source": [
    "/* A list of words from Lewis Carrol's nonsense poem \"the Jabberwocky\" */\n",
    "String[] wordArray = {\"'twas\", \"brillig\", \"and\", \"the\", \"slithy\", \"toves\", \"did\", \"gyre\", \"and\", \"gimble\", \"in\", \"the\", \"wabe\", \"all\", \"mimsy\", \"were\", \"the\", \"borogoves\", \"and\", \"the\", \"mome\", \"raths\", \"outgrabe\", \"beware\", \"the\", \"jabberwock\", \"my\", \"son\", \"the\", \"jaws\", \"that\", \"bite,\", \"the\", \"claws\", \"that\", \"catch\", \"beware\", \"the\", \"jubjub\", \"bird\", \"and\", \"shun\", \"the\", \"frumious\", \"bandersnatch\", \"he\", \"took\", \"his\", \"vorpal\", \"sword\", \"in\", \"hand\", \"long\", \"time\", \"the\", \"manxome\", \"foe\", \"he\", \"sought\", \"so\", \"rested\", \"he\", \"by\", \"the\", \"tumtum\", \"tree\", \"and\", \"stood\", \"awhile\", \"in\", \"thought\", \"and\", \"as\", \"in\", \"uffish\", \"thought\", \"he\", \"stood\", \"the\", \"jabberwock\", \"with\", \"eyes\", \"of\", \"flame\", \"came\", \"whiffling\", \"through\", \"the\", \"tulgey\", \"wood\", \"and\", \"burbled\", \"as\", \"it\", \"came\", \"one\", \"two\", \"one\", \"two\", \"and\", \"through\", \"and\", \"through\", \"the\", \"vorpal\", \"blade\", \"went\", \"snicker-snack\", \"he\", \"left\", \"it\", \"dead\", \"and\", \"with\", \"its\", \"head\", \"he\", \"went\", \"galumphing\", \"back\", \"and\", \"hast\", \"thou\", \"slain\", \"the\", \"jabberwock\", \"come\", \"to\", \"my\", \"arms\", \"my\", \"beamish\", \"boy\", \"o\", \"frabjous\", \"day\", \"callooh\", \"callay\", \"he\", \"chortled\", \"in\", \"his\", \"joy\", \"'twas\", \"brillig\", \"and\", \"the\", \"slithy\", \"toves\", \"did\", \"gyre\", \"and\", \"gimble\", \"in\", \"the\", \"wabe\", \"all\", \"mimsy\", \"were\", \"the\", \"borogoves\", \"and\", \"the\", \"mome\", \"raths\", \"outgrabe\"}"
   ]
  },
  {
   "cell_type": "code",
   "execution_count": 14,
   "metadata": {},
   "outputs": [
    {
     "name": "stdout",
     "output_type": "stream",
     "text": [
      "{through=3, raths=2, thought=2, mome=2, stood=2, gimble=2, vorpal=2, blade=1, that=2, brillig=2, son=1, his=2, gyre=2, borogoves=2, tumtum=1, bird=1, wood=1, catch=1, shun=1, bandersnatch=1, chortled=1, uffish=1, day=1, all=2, jubjub=1, took=1, bite,=1, went=2, in=6, outgrabe=2, tree=1, its=1, snicker-snack=1, hast=1, come=1, it=2, my=3, as=2, awhile=1, slithy=2, left=1, were=2, wabe=2, arms=1, foe=1, frumious=1, rested=1, 'twas=2, beware=2, mimsy=2, back=1, dead=1, slain=1, frabjous=1, eyes=1, two=2, galumphing=1, boy=1, long=1, head=1, claws=1, joy=1, and=14, burbled=1, by=1, of=1, came=2, callooh=1, so=1, toves=2, hand=1, jabberwock=3, jaws=1, tulgey=1, one=2, beamish=1, sought=1, thou=1, o=1, callay=1, the=19, sword=1, with=2, whiffling=1, manxome=1, time=1, to=1, flame=1, he=7, did=2}\n"
     ]
    }
   ],
   "source": [
    "/* Create a new map and count */\n",
    "Map<String, Integer> counts = new HashMap<>();\n",
    "\n",
    "for(String word: wordArray){\n",
    "    \n",
    "    // If counts contains the key we get the previous count\n",
    "    // and increment by one to get the newCount. Then we \n",
    "    // put the new value in the map and associate it with \n",
    "    // it's key.\n",
    "    \n",
    "    if(counts.containsKey(word)){\n",
    "        Integer newCount = counts.get(word) + 1;\n",
    "        counts.put(word, newCount);\n",
    "    } \n",
    "    \n",
    "    // If it doesn't contain the key then we put it in with an \n",
    "    // initial count of 1\n",
    "    else{\n",
    "        counts.put(word, 1);\n",
    "    }\n",
    "    \n",
    "}\n",
    "\n",
    "/* Output the results */\n",
    "System.out.println(counts);"
   ]
  },
  {
   "cell_type": "markdown",
   "metadata": {},
   "source": [
    "<img alt=\"Activity - In-Class\" src=\"https://img.shields.io/badge/Activity-In--Class-E84A27\" align=\"left\" style=\"margin-right: 5px\"/>\n",
    "<br>\n",
    "<br>\n",
    "\n",
    "Now, see if you can simply the above code by using the `getOrDefault` method."
   ]
  },
  {
   "cell_type": "code",
   "execution_count": 15,
   "metadata": {},
   "outputs": [
    {
     "name": "stdout",
     "output_type": "stream",
     "text": [
      "{through=3, raths=2, thought=2, mome=2, stood=2, gimble=2, vorpal=2, blade=1, that=2, brillig=2, son=1, his=2, gyre=2, borogoves=2, tumtum=1, bird=1, wood=1, catch=1, shun=1, bandersnatch=1, chortled=1, uffish=1, day=1, all=2, jubjub=1, took=1, bite,=1, went=2, in=6, outgrabe=2, tree=1, its=1, snicker-snack=1, hast=1, come=1, it=2, my=3, as=2, awhile=1, slithy=2, left=1, were=2, wabe=2, arms=1, foe=1, frumious=1, rested=1, 'twas=2, beware=2, mimsy=2, back=1, dead=1, slain=1, frabjous=1, eyes=1, two=2, galumphing=1, boy=1, long=1, head=1, claws=1, joy=1, and=14, burbled=1, by=1, of=1, came=2, callooh=1, so=1, toves=2, hand=1, jabberwock=3, jaws=1, tulgey=1, one=2, beamish=1, sought=1, thou=1, o=1, callay=1, the=19, sword=1, with=2, whiffling=1, manxome=1, time=1, to=1, flame=1, he=7, did=2}\n"
     ]
    }
   ],
   "source": [
    "/* Create a new map and count */\n",
    "Map<String, Integer> counts2 = new HashMap<>();\n",
    "\n",
    "for(String word: wordArray){\n",
    "    Integer newNum = counts2.getOrDefault(word, 0) + 1;\n",
    "    counts2.put(word, newNum);\n",
    "}\n",
    "\n",
    "/* Output the results */\n",
    "System.out.println(counts2);"
   ]
  },
  {
   "cell_type": "markdown",
   "metadata": {},
   "source": [
    "## Removing things from a Map\n",
    "\n",
    "Now for the last set of relevant operations, we will be removing things from our map:\n",
    "* `remove(Object key)` which, given a key, removes the associated key-value pair and returns the value. If no such key exists in the list then `null` is returned.\n",
    " \n",
    "This one is relatively straight forward compared to the others.\n",
    "\n",
    "<img alt=\"Activity - In-Class\" src=\"https://img.shields.io/badge/Activity-In--Class-E84A27\" align=\"left\" style=\"margin-right: 5px\"/>\n",
    "<br>\n",
    "<br>\n",
    "\n",
    "For this activity, just remove a key-value pair of your choosing from each of your maps, stores the values returned by remove, and then print them. Easy as that!"
   ]
  },
  {
   "cell_type": "code",
   "execution_count": 16,
   "metadata": {},
   "outputs": [
    {
     "name": "stdout",
     "output_type": "stream",
     "text": [
      "{through=3, raths=2, thought=2, mome=2, stood=2, gimble=2, blade=1, that=2, brillig=2, son=1, his=2, gyre=2, borogoves=2, tumtum=1, bird=1, wood=1, catch=1, shun=1, bandersnatch=1, chortled=1, uffish=1, day=1, all=2, jubjub=1, took=1, bite,=1, went=2, in=6, outgrabe=2, tree=1, its=1, snicker-snack=1, hast=1, come=1, it=2, my=3, as=2, awhile=1, slithy=2, left=1, were=2, wabe=2, arms=1, foe=1, frumious=1, rested=1, 'twas=2, beware=2, mimsy=2, back=1, dead=1, slain=1, frabjous=1, eyes=1, two=2, galumphing=1, boy=1, long=1, head=1, claws=1, joy=1, and=14, burbled=1, by=1, of=1, came=2, callooh=1, so=1, toves=2, hand=1, jabberwock=3, jaws=1, tulgey=1, one=2, beamish=1, sought=1, thou=1, o=1, callay=1, the=19, sword=1, with=2, whiffling=1, manxome=1, time=1, to=1, flame=1, he=7, did=2}\n",
      "2\n"
     ]
    }
   ],
   "source": [
    "// Step 1) Remove and store the value\n",
    "Integer count = counts.remove(\"vorpal\");\n",
    "// Step 2) Print the value\n",
    "System.out.println(counts);\n",
    "System.out.println(count);"
   ]
  },
  {
   "cell_type": "markdown",
   "metadata": {},
   "source": [
    "<style>\n",
    "td {\n",
    "    text-align: left;\n",
    "}\n",
    "</style>\n",
    "\n",
    "## Iterating through Maps\n",
    "\n",
    "With the `List<E>` interface, iteration is relatively straight forward and we could use either of the following methods for iterating over the elements in the list:\n",
    "\n",
    "<br>\n",
    "<center>\n",
    "<table>\n",
    "<tr>\n",
    "<th style=\"text-align:center\">Iterating with indecies</th>\n",
    "<th style=\"text-align:center\">Iterating through elements</th>\n",
    "</tr>\n",
    "<tr>\n",
    "<td style=\"text-align:left\">\n",
    "\n",
    "```java\n",
    "for(int i = 0; i < lst.size(); i++){\n",
    "    E item = lst.get(i);\n",
    "    System.out.println(item);\n",
    "}\n",
    "```\n",
    "                        \n",
    "</td>\n",
    "<td style=\"text-align:left\">\n",
    "\n",
    "```java\n",
    "for(E item: lst){\n",
    "    System.out.println(item);\n",
    "}\n",
    "```\n",
    "\n",
    "</td>\n",
    "</tr>\n",
    "</table>\n",
    "</center>\n",
    "\n",
    "However, maps have two key differences:\n",
    "* We are now dealing with pairs of elements rather than isolated elements.\n",
    "* Maps are unordered which means we can't iterate through things with indecies. \n",
    "\n",
    "In the following problems we will explore the vaious ways in which Java allows us to iterate over this rather unique collection."
   ]
  },
  {
   "cell_type": "markdown",
   "metadata": {},
   "source": [
    "#### Iterating through keys\n",
    "\n",
    "We will begin with getting the set of keys in a map and iterating through those. For this task we can use the `keySet()` function which returns the set of keys which we can iterate over in the following way:\n",
    "\n",
    "```java\n",
    "for(K key: map.keySet()){\n",
    "    System.out.println(key);\n",
    "}\n",
    "```\n",
    "Where `K` is replaced with the type of the key in your map.\n",
    "\n",
    "<img alt=\"Activity - In-Class\" src=\"https://img.shields.io/badge/Activity-In--Class-E84A27\" align=\"left\" style=\"margin-right: 5px\"/>\n",
    "<br>\n",
    "<br>\n",
    "\n",
    "Choose one of the maps from earlier and iterate over the keys. At each iteration print the key **and** the value associated with that key.\n",
    "\n",
    "*Hint: Think of some of the methods we explored earlier that will allow you to get the value associated with a key*"
   ]
  },
  {
   "cell_type": "code",
   "execution_count": 17,
   "metadata": {},
   "outputs": [
    {
     "name": "stdout",
     "output_type": "stream",
     "text": [
      "fruits\n",
      "berries\n",
      "veggies\n"
     ]
    }
   ],
   "source": [
    "for(String key: groceryMap.keySet()){\n",
    "    System.out.println(key);\n",
    "}"
   ]
  },
  {
   "cell_type": "markdown",
   "metadata": {},
   "source": [
    "#### Iterating through values\n",
    "\n",
    "Similar to iterating over the keys of a map, there is a method that allows us to retrieve the collection of values in a map. This method is `values()` and it returns a `Collection<V>` which we can then iterate over in the following way:\n",
    "\n",
    "```java\n",
    "for(V value: map.values()){\n",
    "    System.out.println(value);\n",
    "}\n",
    "```\n",
    "Where `V` is replaced with the type of the values you are iterating over in your map. \n",
    "\n",
    "<img alt=\"Activity - In-Class\" src=\"https://img.shields.io/badge/Activity-In--Class-E84A27\" align=\"left\" style=\"margin-right: 5px\"/>\n",
    "<br>\n",
    "<br>\n",
    "Choose one of the maps from earlier, iterate over the values, and print the value at each iteration."
   ]
  },
  {
   "cell_type": "code",
   "execution_count": 18,
   "metadata": {},
   "outputs": [
    {
     "name": "stdout",
     "output_type": "stream",
     "text": [
      "[apple, pear]\n",
      "[strawberry, blackberry]\n",
      "[cucumber, onion]\n"
     ]
    }
   ],
   "source": [
    "for(List<String> v: groceryMap.values()){\n",
    "    System.out.println(v);\n",
    "}"
   ]
  },
  {
   "cell_type": "markdown",
   "metadata": {},
   "source": [
    "#### Iterating through pairs\n",
    "\n",
    "In many cases we may want to itarate over both the elements. For this we will use the `entrySet()` function which returns a `Set<Map.Entry<K, V>>`. We can then iterate over this set and get each instance of `Map.Entry<K, V>` it contains. `Map.Entry<K, V>` is an inner interface from `Map` (i.e., a static interface that is nested in `Map`). It has the following methods that we will use:\n",
    "* `getKey()`\n",
    "* `getValue()`\n",
    "\n",
    "The following example is of iterating through a map and prints the keys and values from each entry in the entry set.\n",
    "\n",
    "```java\n",
    "for(Map.Entry<K, V> entry: map.entrySet()){\n",
    "    System.out.println(entry.getKey());    //Gets the value from the entry\n",
    "    System.out.println(entry.getValue());  //Gets the key from the entry.\n",
    "}\n",
    "```\n",
    "Where `K` and `V` are replaced with the types of the keys and values present in your map.\n",
    "\n",
    "<img alt=\"Activity - In-Class\" src=\"https://img.shields.io/badge/Activity-In--Class-E84A27\" align=\"left\" style=\"margin-right: 5px\"/>\n",
    "<br>\n",
    "<br>\n",
    "\n",
    "Again, pick one of the maps from earlier and iterate over it, at each iteration printing the key and value from that entry."
   ]
  },
  {
   "cell_type": "code",
   "execution_count": 19,
   "metadata": {},
   "outputs": [
    {
     "name": "stdout",
     "output_type": "stream",
     "text": [
      "fruits: [apple, pear]\n",
      "berries: [strawberry, blackberry]\n",
      "veggies: [cucumber, onion]\n"
     ]
    }
   ],
   "source": [
    "for(Map.Entry<String, List<String>> entry: groceryMap.entrySet()){\n",
    "    System.out.print(entry.getKey() + \": \");    //Gets the value from the entry\n",
    "    System.out.println(entry.getValue());  //Gets the key from the entry.\n",
    "}"
   ]
  },
  {
   "cell_type": "markdown",
   "metadata": {
    "tags": []
   },
   "source": [
    "### HashMap vs Hashtable\n",
    "\n",
    "The Java docs for each implementation can be found at the following links:\n",
    "* [HashMap](https://docs.oracle.com/javase/8/docs/api/java/util/HashMap.html).\n",
    "* [Hashtable](https://docs.oracle.com/javase/8/docs/api/java/util/Hashtable.html)."
   ]
  },
  {
   "cell_type": "markdown",
   "metadata": {},
   "source": [
    "Sets can be thought of as a `Hashmap` without the mapping part. Here we just have a collection of unique keys that can be accessed in $O(1)$ time complexity using the same techniques that were described in the original video. We will be using the following methods from this interface:\n",
    "* `add(E e)` --> Adds an element of generic type to the set. Returns true if the element was not already present and therefore added to the set; otherwise, it returns false.\n",
    "* `remove(E e)` --> takes and arbitrary object and removes it from the set. If it was present and therefore removed the method returns true; otherwise, it returns false.\n",
    "* `contains(E e)` --> Takes an arbitrary object and returns true if it is in the set and false otherwise.\n",
    "\n",
    "The set interface has a number of implementations we will be focusing on is the `HashSet` implementation. As usual, the Java doc for this interface can be found [here](https://docs.oracle.com/javase/7/docs/api/java/util/Set.html)."
   ]
  },
  {
   "cell_type": "markdown",
   "metadata": {},
   "source": [
    "### HashSet\n",
    "\n",
    "<img alt=\"Activity - In-Class\" src=\"https://img.shields.io/badge/Activity-In--Class-E84A27\" align=\"left\" style=\"margin-right: 5px\"/>\n",
    "<br>\n",
    "<br>\n",
    "\n",
    "Below, create, add a few elements to the set, printing the contents, removing some elements, and printing the contents again. As usual, the Java doc for this interface can be found [here](https://docs.oracle.com/javase/7/docs/api/java/util/HashSet.html)."
   ]
  },
  {
   "cell_type": "markdown",
   "metadata": {},
   "source": [
    "##### Create the HashSet\n",
    "\n",
    "The generic syntax used to create a `HashSet` is \n",
    "```java\n",
    "Set<E> set = new HashSet<>();\n",
    "```\n",
    "\n",
    "Create the hashset in the cell below. You are welcome to name the variable that references it anything you like and keep whatever type of data you want in it."
   ]
  },
  {
   "cell_type": "code",
   "execution_count": 20,
   "metadata": {},
   "outputs": [],
   "source": [
    "/* Your code here */"
   ]
  },
  {
   "cell_type": "markdown",
   "metadata": {},
   "source": [
    "##### Add some elements \n",
    "\n",
    "Now, add some elements to the set you created in the cell below. After you have added them, print the contents of the set by iterating over it and printing each element on a seperate line."
   ]
  },
  {
   "cell_type": "code",
   "execution_count": 21,
   "metadata": {},
   "outputs": [],
   "source": [
    "/* Your code here */"
   ]
  },
  {
   "cell_type": "markdown",
   "metadata": {},
   "source": [
    "##### Removing elements\n",
    "\n",
    "In the cell below, remove some but not all of the elements from the set and print it's contents one again. "
   ]
  },
  {
   "cell_type": "code",
   "execution_count": 22,
   "metadata": {},
   "outputs": [],
   "source": [
    "/* Your code here */"
   ]
  }
 ],
 "metadata": {
  "kernelspec": {
   "display_name": "Java",
   "language": "java",
   "name": "java"
  },
  "language_info": {
   "codemirror_mode": "java",
   "file_extension": ".jshell",
   "mimetype": "text/x-java-source",
   "name": "Java",
   "pygments_lexer": "java",
   "version": "11.0.16+8-post-Ubuntu-0ubuntu120.04"
  }
 },
 "nbformat": 4,
 "nbformat_minor": 4
}
