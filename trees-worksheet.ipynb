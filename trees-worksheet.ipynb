{
 "cells": [
  {
   "cell_type": "markdown",
   "metadata": {},
   "source": [
    "## Loading Libraries\n",
    "\n",
    "Let's import all the necessary packages first. You can safely ignore this section."
   ]
  },
  {
   "cell_type": "code",
   "execution_count": 2,
   "metadata": {},
   "outputs": [],
   "source": [
    "import java.util.Random;\n",
    "import java.lang.*;"
   ]
  },
  {
   "cell_type": "code",
   "execution_count": 3,
   "metadata": {},
   "outputs": [],
   "source": [
    "%maven org.knowm.xchart:xchart:3.5.2\n",
    "import org.knowm.xchart.*;"
   ]
  },
  {
   "cell_type": "markdown",
   "metadata": {},
   "source": [
    "## Objectives\n",
    "\n",
    "The objectives of this worksheet are as follows:\n",
    "* Construction of the TreeNode class with primative integer as data.\n",
    "* Construct a tree by manually following a chain of references.\n",
    "* Print the contents of a tree *recursively* using a preorder traversal.\n",
    "* Print the contents of a tree *iteratively* using a preorder traversal\n",
    "* Invert a binary tree *recursively*.\n",
    "\n",
    "At the end of this we will go over the basic adding function for Binary Search Trees\n",
    "\n",
    "\n",
    "#### Using Jupyter\n",
    "A few things to remind you with regard to using this Jupyter environment:\n",
    "1. If the platform crashes don't worry. All of this is in the browser so just refresh and all of your changes up to your last save should still be there. For this reason we encourage you to **save often**.\n",
    "2. Be sure to run cells from top to bottom.\n",
    "3. If you're getting weird errors to go: Kernel->Restart & Clear Output. From there, run cells from top to bottom. "
   ]
  },
  {
   "cell_type": "markdown",
   "metadata": {},
   "source": [
    "## TreeNode"
   ]
  },
  {
   "cell_type": "code",
   "execution_count": 9,
   "metadata": {},
   "outputs": [],
   "source": [
    "public class TreeNode{\n",
    "    \n",
    "    public int data;\n",
    "    public TreeNode left;\n",
    "    public TreeNode right;\n",
    "        \n",
    "    public TreeNode(int data){\n",
    "        this.data = data;\n",
    "        left = null;\n",
    "        right = null;\n",
    "    }\n",
    "    \n",
    "}"
   ]
  },
  {
   "cell_type": "markdown",
   "metadata": {},
   "source": [
    "## Constructing a Tree"
   ]
  },
  {
   "cell_type": "code",
   "execution_count": 11,
   "metadata": {},
   "outputs": [],
   "source": [
    "public class Tree{\n",
    "    \n",
    "    public TreeNode root;\n",
    "    \n",
    "    public Tree(){\n",
    "        root = new TreeNode(5);\n",
    "        root.right = new TreeNode(7);\n",
    "        root.left = new TreeNode(4);\n",
    "        root.right.left = new TreeNode(3);\n",
    "        root.right.right = new TreeNode(8);\n",
    "    }\n",
    "}\n",
    "Tree t = new Tree();"
   ]
  },
  {
   "cell_type": "markdown",
   "metadata": {},
   "source": [
    "## Displaying a Tree"
   ]
  },
  {
   "cell_type": "markdown",
   "metadata": {},
   "source": [
    "### Recursively"
   ]
  },
  {
   "cell_type": "code",
   "execution_count": 12,
   "metadata": {},
   "outputs": [
    {
     "name": "stdout",
     "output_type": "stream",
     "text": [
      "5\n",
      "4\n",
      "7\n",
      "3\n",
      "8\n"
     ]
    }
   ],
   "source": [
    "public void displayTreeRecursive(TreeNode root){\n",
    "    if(root == null){\n",
    "        return;\n",
    "    }\n",
    "    System.out.println(root.data);\n",
    "    displayTreeRecursive(root.left);\n",
    "    displayTreeRecursive(root.right);\n",
    "}\n",
    "\n",
    "displayTreeRecursive(t.root);"
   ]
  },
  {
   "cell_type": "markdown",
   "metadata": {},
   "source": [
    "### Iteratively"
   ]
  },
  {
   "cell_type": "code",
   "execution_count": null,
   "metadata": {},
   "outputs": [],
   "source": [
    "public void displayTreeIter(TreeNode root){\n",
    "\n",
    "}\n",
    "displayTreeIter(t.root);"
   ]
  },
  {
   "cell_type": "markdown",
   "metadata": {},
   "source": [
    "## More Recusion - Inverting a Binary Search"
   ]
  },
  {
   "cell_type": "code",
   "execution_count": 14,
   "metadata": {},
   "outputs": [
    {
     "name": "stdout",
     "output_type": "stream",
     "text": [
      "5\n",
      "7\n",
      "3\n",
      "8\n",
      "4\n"
     ]
    }
   ],
   "source": [
    "public void invertTree(TreeNode root){\n",
    "    if(root == null){\n",
    "        return;\n",
    "    }\n",
    "    TreeNode tmp = root.left;\n",
    "    root.left = root.right;\n",
    "    root.right = tmp;\n",
    "}\n",
    "\n",
    "invertTree(t.root);\n",
    "displayTreeIter(t.root)"
   ]
  },
  {
   "cell_type": "markdown",
   "metadata": {},
   "source": [
    "## Binary Search Tree - Class"
   ]
  },
  {
   "cell_type": "code",
   "execution_count": null,
   "metadata": {},
   "outputs": [],
   "source": []
  },
  {
   "cell_type": "markdown",
   "metadata": {},
   "source": [
    "## Binary Search Tree - Adding a Vertex"
   ]
  },
  {
   "cell_type": "code",
   "execution_count": null,
   "metadata": {},
   "outputs": [],
   "source": []
  }
 ],
 "metadata": {
  "kernelspec": {
   "display_name": "Java",
   "language": "java",
   "name": "java"
  },
  "language_info": {
   "codemirror_mode": "java",
   "file_extension": ".jshell",
   "mimetype": "text/x-java-source",
   "name": "Java",
   "pygments_lexer": "java",
   "version": "11.0.3+7"
  }
 },
 "nbformat": 4,
 "nbformat_minor": 2
}
