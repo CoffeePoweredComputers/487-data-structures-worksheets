{
 "cells": [
  {
   "cell_type": "markdown",
   "metadata": {},
   "source": [
    "<h1 style=\"text-align: center; font-size: 40px\">Graph Algorithms (Part 2) - Shortest Path, Prim's and Dijkstras</h1>"
   ]
  },
  {
   "cell_type": "markdown",
   "metadata": {},
   "source": [
    "---\n",
    "header-includes:\n",
    "  - \\usepackage[ruled,vlined,linesnumbered]{algorithm2e}\n",
    "---\n",
    "# Algorithm 1\n",
    "Just a sample algorithmn\n",
    "\\begin{algorithm}[H]\n",
    "\\DontPrintSemicolon\n",
    "\\SetAlgoLined\n",
    "\\KwResult{Write here the result}\n",
    "\\SetKwInOut{Input}{Input}\\SetKwInOut{Output}{Output}\n",
    "\\Input{Write here the input}\n",
    "\\Output{Write here the output}\n",
    "\\BlankLine\n",
    "\\While{While condition}{\n",
    "    instructions\\;\n",
    "    \\eIf{condition}{\n",
    "        instructions1\\;\n",
    "        instructions2\\;\n",
    "    }{\n",
    "        instructions3\\;\n",
    "    }\n",
    "}\n",
    "\\caption{While loop with If/Else condition}\n",
    "\\end{algorithm} "
   ]
  },
  {
   "cell_type": "code",
   "execution_count": null,
   "metadata": {},
   "outputs": [],
   "source": []
  },
  {
   "cell_type": "code",
   "execution_count": null,
   "metadata": {},
   "outputs": [],
   "source": []
  },
  {
   "cell_type": "code",
   "execution_count": null,
   "metadata": {},
   "outputs": [],
   "source": []
  },
  {
   "cell_type": "code",
   "execution_count": null,
   "metadata": {},
   "outputs": [],
   "source": []
  },
  {
   "cell_type": "code",
   "execution_count": null,
   "metadata": {},
   "outputs": [],
   "source": []
  },
  {
   "cell_type": "code",
   "execution_count": null,
   "metadata": {},
   "outputs": [],
   "source": []
  },
  {
   "cell_type": "code",
   "execution_count": null,
   "metadata": {},
   "outputs": [],
   "source": []
  },
  {
   "cell_type": "code",
   "execution_count": null,
   "metadata": {},
   "outputs": [],
   "source": []
  },
  {
   "cell_type": "code",
   "execution_count": null,
   "metadata": {},
   "outputs": [],
   "source": []
  },
  {
   "cell_type": "code",
   "execution_count": null,
   "metadata": {},
   "outputs": [],
   "source": []
  },
  {
   "cell_type": "code",
   "execution_count": null,
   "metadata": {},
   "outputs": [],
   "source": []
  },
  {
   "cell_type": "code",
   "execution_count": null,
   "metadata": {},
   "outputs": [],
   "source": []
  },
  {
   "cell_type": "code",
   "execution_count": null,
   "metadata": {},
   "outputs": [],
   "source": []
  }
 ],
 "metadata": {
  "kernelspec": {
   "display_name": "Java",
   "language": "java",
   "name": "java"
  },
  "language_info": {
   "codemirror_mode": "java",
   "file_extension": ".jshell",
   "mimetype": "text/x-java-source",
   "name": "Java",
   "pygments_lexer": "java",
   "version": "11.0.3+7"
  }
 },
 "nbformat": 4,
 "nbformat_minor": 2
}
