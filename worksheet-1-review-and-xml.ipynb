{
 "cells": [
  {
   "cell_type": "markdown",
   "metadata": {},
   "source": [
    "<h1 style=\"text-align: center; font-size: 40px\">Java Review Cont'd and Intro to XML</h1>"
   ]
  },
  {
   "cell_type": "markdown",
   "metadata": {},
   "source": [
    "## Loading Libraries\n",
    "\n",
    "Let's import all the necessary packages first!"
   ]
  },
  {
   "cell_type": "code",
   "execution_count": 2,
   "metadata": {},
   "outputs": [],
   "source": [
    "import java.util.*;\n",
    "import java.lang.*;\n",
    "\n",
    "// Types that will be used for \n",
    "import org.w3c.dom.Document;\n",
    "import org.w3c.dom.Element;\n",
    "import org.w3c.dom.Node;\n",
    "import org.w3c.dom.NodeList;\n",
    "\n",
    "//Exceptions that can occur when parsing XML\n",
    "import org.xml.sax.SAXException;\n",
    "import javax.xml.parsers.ParserConfigurationException;\n",
    "\n",
    "//The classes we will use to parse the XML files\n",
    "import javax.xml.parsers.DocumentBuilder;\n",
    "import javax.xml.parsers.DocumentBuilderFactory;\n",
    "\n",
    "//File io classes\n",
    "import java.io.File;\n",
    "import java.io.IOException;\n",
    "import java.io.InputStream;"
   ]
  },
  {
   "cell_type": "markdown",
   "metadata": {},
   "source": [
    "## Objectives\n",
    "\n",
    "The objectives of this worksheet are as follows:\n",
    "* Introduction to the structure of the Extensible Markup Language (XML)\n",
    "* The XML parsing template in Java\n",
    "* Using XML data to instantiate classes\n",
    "\n",
    "More generally the purpose of this section of the course is to introduce the idea that programs and the data they use can be separated. XML is a commonly used data storage and for that reason it has been selected as one of the prinary data formats we will be using in the course.\n",
    "\n",
    "\n",
    "#### Using Jupyter\n",
    "A few things to remind you with regard to using this Jupyter environment:\n",
    "1. If the platform crashes don't worry. All of this is in the browser so just refresh and all of your changes up to your last save should still be there. For this reason we encourage you to **save often**.\n",
    "2. Be sure to run cells from top to bottom.\n",
    "3. If you're getting strange errors to go: Kernel->Restart & Clear Output. From there, run cells from top to bottom. \n",
    "\n",
    "Additionally keep an eye out for the badges in each section they give an indication for which sections are inclass activities ."
   ]
  },
  {
   "cell_type": "code",
   "execution_count": null,
   "metadata": {},
   "outputs": [],
   "source": []
  },
  {
   "cell_type": "code",
   "execution_count": null,
   "metadata": {},
   "outputs": [],
   "source": []
  },
  {
   "cell_type": "code",
   "execution_count": null,
   "metadata": {},
   "outputs": [],
   "source": []
  },
  {
   "cell_type": "markdown",
   "metadata": {},
   "source": [
    "<h2 style=\"text-align: center;\">Intro to XML</h2>"
   ]
  },
  {
   "cell_type": "markdown",
   "metadata": {},
   "source": [
    "### XML Structure\n",
    "\n",
    "XML (Extensible Markup Language) is a file format used to store arbitrary information in a heirarchical fashion. This is done by using *tags* that encapsulate either information (e.g., text, numbers) or other tags. The names of these tags can be arbitrary meaning you get to name them whatever you like!\n",
    "\n",
    "Consider the following snippet of XML. \n",
    "\n",
    "```xml\n",
    "<animals>\n",
    "    <animal>\n",
    "        <type>dog</type>\n",
    "        <name>Jack</name>\n",
    "        <sex>Male</sex>\n",
    "        <age>10</age>\n",
    "    </animal>\n",
    "    <animal>\n",
    "        <type>cat</type>\n",
    "        <name>Midnight</name>\n",
    "        <sex>Female</sex>\n",
    "        <age>13</age>\n",
    "    </animal>\n",
    "</animals>\n",
    "```\n",
    "\n",
    "In this example we have a set of start and end `dog` tags that encapsulates other information. Within the dog tags are other sets of tags that encapsulate information such as the name of the dog this record is on as well as some other information on said dog. The same goes for `cat`.\n",
    "\n",
    "<hr style=\"border:1px solid gray\"> </hr>\n",
    "\n",
    "\n",
    "Now, lets pretend we are building a database for a vet and we want to store different types of animals and each animal has a the same structure as the example in the previous section. In the following exercise we will be:\n",
    "1. Parsing an XML file.\n",
    "2. Allowing the user to enter a type of animal and an attribute.\n",
    "3. Return a list containing all animals of the given type in the database that have that attribute."
   ]
  },
  {
   "cell_type": "markdown",
   "metadata": {},
   "source": [
    "### Parsing XML\n",
    "\n",
    "There are a number of steps that use several classes but, before we dive into the code, here is the structure of what we are attempting to accomplish:\n",
    "1. Create an instance of the `DocumentBuilderFactory` object.\n",
    "2. Use the `DocumentBuilderFactor` to create a `DocumentBuilder`. We will be using this object to parse our XML.\n",
    "3. Open the file by creating a new `File` object.\n",
    "4. Use our document builder to parse the XML in the `File` object."
   ]
  },
  {
   "cell_type": "markdown",
   "metadata": {},
   "source": [
    "#### DocumentBuilderFactory"
   ]
  },
  {
   "cell_type": "code",
   "execution_count": 3,
   "metadata": {},
   "outputs": [],
   "source": [
    "DocumentBuilderFactory dbf = DocumentBuilderFactory.newInstance();"
   ]
  },
  {
   "cell_type": "markdown",
   "metadata": {},
   "source": [
    "#### DocumentBuilder"
   ]
  },
  {
   "cell_type": "code",
   "execution_count": 4,
   "metadata": {},
   "outputs": [],
   "source": [
    "DocumentBuilder db = null;\n",
    "try{\n",
    "    db = dbf.newDocumentBuilder();\n",
    "} catch(ParserConfigurationException e){\n",
    "    System.out.println(\"Failed to configure document builder object.\");\n",
    "}"
   ]
  },
  {
   "cell_type": "markdown",
   "metadata": {},
   "source": [
    "#### File"
   ]
  },
  {
   "cell_type": "code",
   "execution_count": 5,
   "metadata": {},
   "outputs": [],
   "source": [
    "File f = new File(\"data/animals-small.xml\");"
   ]
  },
  {
   "cell_type": "markdown",
   "metadata": {},
   "source": [
    "#### Document"
   ]
  },
  {
   "cell_type": "code",
   "execution_count": 6,
   "metadata": {},
   "outputs": [],
   "source": [
    "Document doc = null;\n",
    "try{\n",
    "    doc = db.parse(f);\n",
    "} catch(SAXException | IOException e){\n",
    "    System.out.println(\"Failed to parse document\");\n",
    "}"
   ]
  },
  {
   "cell_type": "markdown",
   "metadata": {},
   "source": [
    "#### Nodes"
   ]
  },
  {
   "cell_type": "code",
   "execution_count": 7,
   "metadata": {},
   "outputs": [
    {
     "ename": "CompilationException",
     "evalue": "",
     "output_type": "error",
     "traceback": [
      "\u001b[1m\u001b[30m|   \u001b[1m\u001b[30m        \u001b[0m\u001b[1m\u001b[30m\u001b[41mnode.getAttributes(\"name\").g\u001b[0m\u001b[1m\u001b[30m\u001b[0m",
      "\u001b[1m\u001b[31mnot a statement\u001b[0m",
      "",
      "\u001b[1m\u001b[30m|   \u001b[1m\u001b[30m        node.getAttributes(\"name\").g\u001b[0m\u001b[1m\u001b[30m\u001b[41m\u001b[0m\u001b[1m\u001b[30m\u001b[0m",
      "\u001b[1m\u001b[31m';' expected\u001b[0m",
      ""
     ]
    }
   ],
   "source": [
    "public void printAnimalNames(NodeList animals){\n",
    "    for(int i = 0; i < animals.getLength(); i++){\n",
    "        Node node = animals.item(i);\n",
    "        node.getAttributes(\"name\").g\n",
    "        //String name = elem.getElementsByTagName(\"name\").item(0).getTextContent();\n",
    "        System.out.println(elem.getTextContent());\n",
    "    }\n",
    "}"
   ]
  },
  {
   "cell_type": "code",
   "execution_count": 44,
   "metadata": {},
   "outputs": [
    {
     "ename": "UnresolvedReferenceException",
     "evalue": "Attempt to use definition snippet with unresolved references in MethodSnippet:printAnimalNames/(NodeList)void-public void printAnimalNames(NodeList animals){\n    for(int i = 0; i < animals.getLength(); i++){\n        Node node = animals.item(i);\n        System.out.println(node.getAttributes(\"name\").getTextContent());\n        //String name = elem.getElementsByTagName(\"name\").item(0).getTextContent();\n        //System.out.println(elem.getTextContent());\n    }\n}",
     "output_type": "error",
     "traceback": []
    }
   ],
   "source": [
    "NodeList dogs = doc.getElementsByTagName(\"dog\");\n",
    "printAnimalNames(dogs);"
   ]
  },
  {
   "cell_type": "code",
   "execution_count": null,
   "metadata": {},
   "outputs": [],
   "source": [
    "NodeList cats = doc.getElementsByTagName(\"cat\");"
   ]
  },
  {
   "cell_type": "markdown",
   "metadata": {},
   "source": [
    "<h2 style=\"text-align: center;\">Parsing XML and Creating Classes</h2>"
   ]
  },
  {
   "cell_type": "markdown",
   "metadata": {},
   "source": [
    "<img alt=\"Activity - In-Class\" src=\"https://img.shields.io/badge/Activity-In--Class-E84A27\" align=\"left\" style=\"margin-right: 5px\"/>\n",
    "<br>\n",
    "<br>\n",
    "\n",
    "Now that we have our XML parser, let's use that parser to extract information from the file then use that information to instantiate classes. \n",
    "\n",
    "First we will need a class to store animal information. Let's create a class `Animal` that has attributes that correspond to each of the attributes encapsulated by the `<animal>` tags. Additionally, override the `toString()` method such that, when an instance of `Animal` is printed. The following output is produced:\n",
    "```bash\n",
    "<Name>:\n",
    "    - type: <type>\n",
    "    - age: <age>\n",
    "    - sex: <sex>\n",
    "```\n",
    "\n",
    "We also need a way to compare between animals if we want to sort the list. This involves using the class definition `implements Comparable<>`. The `Comparable` interface contains the method definitions for methods that are used for comparing between objects and ultimately for sorting collections of objects. As such, we will be implementing the `compareTo` method such that two instances of `Animal` can be compared in order to determine which is greater or if they are equal. For this class the `compareTo` method has been implemented to make the comparisions based on the name so that if we were to sort a `List` containing instances of `Animal` it would be sorted in alphabetical order. **I have provided the code for this so simply read through it but don't modify it.\n",
    "\n",
    "We will be covering this concept along with interfaces next week."
   ]
  },
  {
   "cell_type": "code",
   "execution_count": null,
   "metadata": {},
   "outputs": [],
   "source": [
    "class Animal implements Comparable<Animal>{\n",
    "    //Add the class attributes here\n",
    "    \n",
    "    //Define the constructor\n",
    "    Animal(/*add parameters*/){\n",
    "        \n",
    "    }\n",
    "    \n",
    "    //Override the ToString method \n",
    "    \n",
    "    //Provided override compareTo()\n",
    "    @Override\n",
    "    public int compareTo(Animal other){\n",
    "        return name.compareTo(other.name)\n",
    "    }\n",
    "}"
   ]
  },
  {
   "cell_type": "markdown",
   "metadata": {},
   "source": [
    "Now that we have this class created lets use the XML template from before here to perform the following operations:\n",
    "1. Create a list of dogs\n",
    "2. Parse the animal XML file\n",
    "3. Iterate over the `NodeList` of animals and at each iteration:\n",
    "    * Extract the values associated with the animals\n",
    "    * Instantiate an `Animal` using those values\n",
    "    * Add those elements to the list\n",
    "    "
   ]
  },
  {
   "cell_type": "code",
   "execution_count": 48,
   "metadata": {},
   "outputs": [],
   "source": [
    "DocumentBuilderFactory dbf = DocumentBuilderFactory.newInstance();\n",
    "\n",
    "DocumentBuilder db = null;\n",
    "try{\n",
    "    db = dbf.newDocumentBuilder();\n",
    "} catch(ParserConfigurationException e){\n",
    "    System.out.println(\"Failed to configure document builder object.\");\n",
    "}\n",
    "\n",
    "File f = new File(\"data/animals-large.xml\");\n",
    "\n",
    "Document doc = null;\n",
    "try{\n",
    "    doc = db.parse(f);\n",
    "} catch(SAXException | IOException e){\n",
    "    System.out.println(\"Failed to parse document\");\n",
    "}"
   ]
  },
  {
   "cell_type": "code",
   "execution_count": 50,
   "metadata": {},
   "outputs": [
    {
     "ename": "CompilationException",
     "evalue": "",
     "output_type": "error",
     "traceback": [
      "\u001b[1m\u001b[30m|   \u001b[1m\u001b[30mList<\u001b[0m\u001b[1m\u001b[30m\u001b[41mAnimal\u001b[0m\u001b[1m\u001b[30m> animalList = new ArrayList<>();\u001b[0m",
      "\u001b[1m\u001b[31mcannot find symbol\u001b[0m",
      "\u001b[1m\u001b[31m  symbol:   class Animal\u001b[0m",
      ""
     ]
    }
   ],
   "source": [
    "NodeList animals = doc.getElementsByTagName(\"animal\");\n",
    "List<Animal> animalList = new ArrayList<>();\n",
    "\n",
    "for(int i = 0; i < animals.getLength(); i++){\n",
    "    Element elem = (Element) animals.item(i);\n",
    "    \n",
    "    String type = elem.getElementByTagName(\"type\").item(0).getTextContent();\n",
    "    String name = elem.getElementsByTagName(\"name\").item(0).getTextContent();\n",
    "    String sex = elem.getElementByTagName(\"sex\").item(0).getTextContent();\n",
    "    Integer age = Integer.parseInt(elem.getElementByTagName(\"age\").item(0).getTextContent());\n",
    "    \n",
    "    animalList.add(new Animal(type, name, sex, age));\n",
    "}"
   ]
  },
  {
   "cell_type": "markdown",
   "metadata": {},
   "source": [
    "Now that we have our list of animals create and call a function that takes a parameter of type `List<Animal>` then iterates over said list and prints each instance of animal within."
   ]
  },
  {
   "cell_type": "code",
   "execution_count": null,
   "metadata": {},
   "outputs": [],
   "source": [
    "public void printAnimalList(/*Add the parameter*/){\n",
    "    //Fill in the body of the function\n",
    "}"
   ]
  },
  {
   "cell_type": "code",
   "execution_count": null,
   "metadata": {},
   "outputs": [],
   "source": [
    "//Call the function here on the list of animals you created"
   ]
  },
  {
   "cell_type": "markdown",
   "metadata": {},
   "source": [
    "<h2 style=\"text-align: center;\">Getting User Input</h2>"
   ]
  },
  {
   "cell_type": "markdown",
   "metadata": {},
   "source": []
  },
  {
   "cell_type": "code",
   "execution_count": 61,
   "metadata": {},
   "outputs": [],
   "source": []
  },
  {
   "cell_type": "markdown",
   "metadata": {},
   "source": [
    "If we want to get input from the user we must use the `Scanner` class and instantiated as suchOnce you have a scanner instantiated you can can prompt the user with `System.out.print(\"Message here: \")` and then retrieve the user's input with one of the following methods:\n",
    "* `sc.nextInt()`\n",
    "* `sc.nextLine()`\n",
    "* `sc.nextDouble()`\n",
    "* `sc.nextFloat()`\n",
    "\n",
    "There are even more methods for retrieving user input however these are the most common. Each gets the user input and attempts to convert it to the given type (i.e., `sc.nextLine()` converts input to Integer). Below are examples of each of these you are welcome to test out. Try putting in different types of data to observe the errors that are produced."
   ]
  },
  {
   "cell_type": "code",
   "execution_count": 64,
   "metadata": {},
   "outputs": [
    {
     "name": "stdout",
     "output_type": "stream",
     "text": [
      "Enter an integer value: 5\n",
      "5\n"
     ]
    }
   ],
   "source": [
    "Scanner sc = new Scanner(System.in);\n",
    "System.out.print(\"Enter an integer value: \");\n",
    "Integer intValue = sc.nextInt();\n",
    "System.out.println(intValue);"
   ]
  },
  {
   "cell_type": "code",
   "execution_count": 66,
   "metadata": {},
   "outputs": [
    {
     "name": "stdout",
     "output_type": "stream",
     "text": [
      "Enter a floating point: 3.145\n",
      "3.145\n"
     ]
    }
   ],
   "source": [
    "Scanner sc = new Scanner(System.in);\n",
    "System.out.print(\"Enter a floating point: \");\n",
    "Float floatValue = sc.nextFloat();\n",
    "System.out.println(floatValue);"
   ]
  },
  {
   "cell_type": "code",
   "execution_count": 67,
   "metadata": {},
   "outputs": [
    {
     "name": "stdout",
     "output_type": "stream",
     "text": [
      "Enter a sequence of characters: asdfasdf\n",
      "asdfasdf\n"
     ]
    }
   ],
   "source": [
    "Scanner sc = new Scanner(System.in);\n",
    "System.out.print(\"Enter a sequence of characters: \");\n",
    "String strValue = sc.nextLine();\n",
    "System.out.println(strValue);"
   ]
  },
  {
   "cell_type": "markdown",
   "metadata": {},
   "source": [
    "### Filtering Based on User Input\n",
    "\n",
    "Now that we've reviwed the `Scanner` class, let's use user input to filter create methods that filter the list of animals we created earlier. "
   ]
  },
  {
   "cell_type": "markdown",
   "metadata": {},
   "source": [
    "<img alt=\"Activity - In-Class\" src=\"https://img.shields.io/badge/Activity-In--Class-E84A27\" align=\"left\" style=\"margin-right: 5px\"/>  Create a method `filterAge` that takes a single parameter of type `List<Animal>` and returns a list of the same type. This function should:\n",
    "1. Create a new list of type `List<Animal>`\n",
    "2. Read in a single integer from the user \n",
    "3. Filter all animals with an age attribute that is greater than or equal to the number.\n",
    "4. Return the list of filtered `Animal`s"
   ]
  },
  {
   "cell_type": "code",
   "execution_count": null,
   "metadata": {},
   "outputs": [],
   "source": [
    "/* Your Solution Here */\n",
    "public List<Animal> filterAge(List<Animal> animals){\n",
    "    //Fill in the body of the function\n",
    "}"
   ]
  },
  {
   "cell_type": "code",
   "execution_count": 51,
   "metadata": {},
   "outputs": [],
   "source": [
    "/* Once your function is implemented, test it here */"
   ]
  },
  {
   "cell_type": "markdown",
   "metadata": {},
   "source": [
    "<img alt=\"Activity - In-Class\" src=\"https://img.shields.io/badge/Activity-In--Class-E84A27\" align=\"left\" style=\"margin-right: 5px\"/>  Create a function `filterType` that takes a single parameter of type `List<Animal>` and returns a list of the same type. This function should:\n",
    "1. Create a new list of type `List<Animal>`\n",
    "2. Read in a single string from the user \n",
    "3. Filter all animals that have a type that is equal to the string the user inputted\n",
    "4. Return the list of filtered `Animal`s\n",
    "\n",
    "As a reminder to compare strings you cannot use the `==` operator. Instead, use one of the following functions:\n",
    "* `string1.equals(string2)`\n",
    "* `string.equalsIgnoreCase(string2)`\n",
    "\n",
    "In this case we reccomend using the latter function since we don't care about case sensitivity."
   ]
  },
  {
   "cell_type": "code",
   "execution_count": null,
   "metadata": {},
   "outputs": [],
   "source": [
    "/* Your Solution Here */"
   ]
  },
  {
   "cell_type": "code",
   "execution_count": null,
   "metadata": {},
   "outputs": [],
   "source": [
    "/* Once your function is impelemented, test it with this cell */"
   ]
  }
 ],
 "metadata": {
  "kernelspec": {
   "display_name": "Java",
   "language": "java",
   "name": "java"
  },
  "language_info": {
   "codemirror_mode": "java",
   "file_extension": ".jshell",
   "mimetype": "text/x-java-source",
   "name": "Java",
   "pygments_lexer": "java",
   "version": "11.0.3+7"
  }
 },
 "nbformat": 4,
 "nbformat_minor": 2
}
