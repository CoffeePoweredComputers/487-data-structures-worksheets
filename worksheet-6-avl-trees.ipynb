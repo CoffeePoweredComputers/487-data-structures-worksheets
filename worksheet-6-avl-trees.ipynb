{
 "cells": [
  {
   "cell_type": "markdown",
   "metadata": {},
   "source": [
    "<h1 style=\"text-align: center; font-size: 36px\">Adelson-Velsky and Landis (AVL) Trees</h1>"
   ]
  },
  {
   "cell_type": "code",
   "execution_count": 2,
   "metadata": {},
   "outputs": [],
   "source": [
    "import java.lang.*;\n",
    "import java.util.*;"
   ]
  },
  {
   "cell_type": "markdown",
   "metadata": {},
   "source": [
    "The objectives of this worksheet are as follows:\n",
    "\n",
    "\n",
    "#### Using Jupyter\n",
    "A few things to remind you with regard to using this Jupyter environment:\n",
    "1. If the platform crashes don't worry. All of this is in the browser so just refresh and all of your changes up to your last save should still be there. For this reason we encourage you to **save often**.\n",
    "2. Be sure to run cells from top to bottom.\n",
    "3. If you're getting weird errors to go: Kernel->Restart & Clear Output. From there, run cells from top to bottom. "
   ]
  },
  {
   "cell_type": "markdown",
   "metadata": {},
   "source": [
    "# The Relationship Between Balance and Search Time"
   ]
  },
  {
   "cell_type": "code",
   "execution_count": 3,
   "metadata": {},
   "outputs": [],
   "source": [
    "public class BinarySearchTree{\n",
    "    \n",
    "    public class TreeNode{\n",
    "        int data;\n",
    "        TreeNode left;\n",
    "        TreeNode right;\n",
    "        \n",
    "        public TreeNode(int data){\n",
    "            this.data = data;\n",
    "            left = null;\n",
    "            right = null;\n",
    "        }\n",
    "    }\n",
    "    \n",
    "    TreeNode root;\n",
    "    public BinarySearchTree(){\n",
    "        root = null;\n",
    "    }\n",
    "    \n",
    "    //this is the wrapper function for add vertex\n",
    "    public void addVertex(int data){\n",
    "        root = addVertex(root, data);\n",
    "    }\n",
    "    \n",
    "    // this is the recursive function that is responsiable\n",
    "    // for traversing the tree.\n",
    "    public TreeNode addVertex(TreeNode curr, int data){\n",
    "        if(curr == null){\n",
    "            curr = new TreeNode(data);\n",
    "        } else if (data < curr.data){\n",
    "            curr.left = addVertex(curr.left, data);\n",
    "        } else{\n",
    "            curr.right = addVertex(curr.right, data);\n",
    "        }\n",
    "        return curr;\n",
    "    }\n",
    "    \n",
    "    public int search(int searchVal){\n",
    "        int iterationCount = 1;\n",
    "        TreeNode curr = root;\n",
    "        while(curr != null && curr.data != searchVal){\n",
    "            if(curr.data < searchVal){\n",
    "                curr = curr.right;\n",
    "            } else{\n",
    "                curr = curr.left;\n",
    "            }\n",
    "            iterationCount++;\n",
    "        }\n",
    "        return iterationCount;\n",
    "    }\n",
    "}"
   ]
  },
  {
   "cell_type": "markdown",
   "metadata": {},
   "source": [
    "Using the above class we will create two example trees containing *the same elements* but insert them *in different orders*. "
   ]
  },
  {
   "cell_type": "markdown",
   "metadata": {},
   "source": [
    "##### Tree One - Unbalanced"
   ]
  },
  {
   "cell_type": "code",
   "execution_count": 8,
   "metadata": {},
   "outputs": [],
   "source": [
    "/* Tree one */\n",
    "BinarySearchTree treeOne = new BinarySearchTree();\n",
    "int[] nodes = {0,1,2,3,4,5,6,7,8,9,10,11,12,13,14};\n",
    "for(int i = 0; i < nodes.length; i++){\n",
    "    treeOne.addVertex(nodes[i]);\n",
    "}"
   ]
  },
  {
   "cell_type": "markdown",
   "metadata": {},
   "source": [
    "##### Tree Two - Balanced\n"
   ]
  },
  {
   "cell_type": "code",
   "execution_count": 9,
   "metadata": {},
   "outputs": [],
   "source": [
    "/* Tree two */\n",
    "BinarySearchTree treeTwo = new BinarySearchTree();\n",
    "int[] nodes = {7, 3, 11, 1, 5, 9, 13, 0, 2, 4, 6, 8, 10, 12, 14};\n",
    "for(int i = 1; i < nodes.length; i++){\n",
    "    treeTwo.addVertex(nodes[i]);\n",
    "}"
   ]
  },
  {
   "cell_type": "markdown",
   "metadata": {},
   "source": [
    "The resulting trees, unbalanced on the left and balanced on the right, appears as follows:\n",
    "\n",
    "![](images/balance-v-unbalanced-avl.png) \n",
    "\n",
    "Now, lets perform a search and compare the number of operations required to search for the number 14."
   ]
  },
  {
   "cell_type": "code",
   "execution_count": 10,
   "metadata": {},
   "outputs": [
    {
     "name": "stdout",
     "output_type": "stream",
     "text": [
      "15\n"
     ]
    }
   ],
   "source": [
    "int count1 = treeOne.search(14);\n",
    "System.out.println(count1);"
   ]
  },
  {
   "cell_type": "code",
   "execution_count": 11,
   "metadata": {},
   "outputs": [
    {
     "name": "stdout",
     "output_type": "stream",
     "text": [
      "4\n"
     ]
    }
   ],
   "source": [
    "int count2 = treeTwo.search(14);\n",
    "System.out.println(count2);"
   ]
  },
  {
   "cell_type": "markdown",
   "metadata": {},
   "source": [
    "As you can see the issue of balance greatly impacts the number of comparisions Below is a table containing the complexity of various operations as a function of the size of the tree ($n$). An unbalanced BST becomes effectively a linked list in terms of the complexity of its operations. However, if we are able to maintain the balance of the tree we can maintain the property of binary trees that allows us to divide our solution space in half every iteration.\n",
    "\n",
    "\n",
    "|.  \t| Unbalanced BST \t| Balanced BST \t|\n",
    "| --- | --- | --- |\n",
    "| Insert \t| $O(n)$ \t| $O(log_2(n))$ \t|\n",
    "| Remove \t| $O(n)$ \t| $O(log_2(n))$ \t|\n",
    "| Search \t| $O(n)$ \t| $O(log_2(n))$ \t|\n"
   ]
  },
  {
   "cell_type": "markdown",
   "metadata": {},
   "source": [
    "# AVL Tree Structure"
   ]
  },
  {
   "cell_type": "markdown",
   "metadata": {},
   "source": [
    "#### AVL Tree Node\n",
    "\n",
    "Our `TreeNode` class for AVL trees will be very similiar to how it appears for binary trees. We still need to keep track of right and left references to other nodes and we still need some kind of data. However, in order to maintain the balance of the tree we must keep track of the height of each node. This is used to detect when one of the subtrees of a given node contains more nodes than the other subtree.\n",
    "\n",
    "Below is the `TreeNode` class that we will be using to explore some of the functionality of AVL trees."
   ]
  },
  {
   "cell_type": "code",
   "execution_count": 8,
   "metadata": {},
   "outputs": [],
   "source": [
    "class TreeNode{\n",
    "    \n",
    "    public int data;\n",
    "    public int height;\n",
    "    public TreeNode right;\n",
    "    public TreeNode left;\n",
    "    \n",
    "    \n",
    "    TreeNode(int data){\n",
    "        this.data = data;\n",
    "        this.height = 0;\n",
    "        right = null;\n",
    "        left = null;\n",
    "    }\n",
    "    \n",
    "    TreeNode(int data, int height){\n",
    "        this.data = data;\n",
    "        this.height = height;\n",
    "        right = null;\n",
    "        left = null;\n",
    "    }\n",
    "}"
   ]
  },
  {
   "cell_type": "markdown",
   "metadata": {},
   "source": [
    "#### General Terms and Concepts\n",
    "\n",
    "Below are two functions you will use throughout this worksheet and when implementing AVL trees. \n",
    "\n",
    "The first is the `getHeight` function. This takes a given reference to a node and returns it's height. If the reference is null, we consider the height to be `-1` and return that instead.\n",
    "\n",
    "The `getBF` fucntion takes a reference to a node and calculates the \"balance factor\" for that node. The balance factor is used in the `balance` method we'll cover later to determine if reblancing, relative to the given node, needs to occur. It does this by subtracting the height of the root of the nodes left subtree from the height of the root of it's right and returns the resulting difference."
   ]
  },
  {
   "cell_type": "code",
   "execution_count": null,
   "metadata": {},
   "outputs": [],
   "source": [
    "public int getHeight(TreeNode n){\n",
    "    return n == null ? -1 : n.height;\n",
    "}\n",
    "\n",
    "public int getBF(TreeNode n1){\n",
    "    return getHeight(n1.left) - getHeight(n1.right);\n",
    "}"
   ]
  },
  {
   "cell_type": "markdown",
   "metadata": {},
   "source": [
    "### AVL Insert\n",
    "\n",
    "![](images/avl-insert-annotate-algo.png)\n",
    "\n",
    "The AVL insert method is divided into three categories:\n",
    "1. We should traverse the tree until we find a free leaf position in the tree using the same insertion method we used for BSTs.\n",
    "2. Update the height of the current node as the recursion unwraps.\n",
    "3. Balance everything with respect to curr and return the root of the balanced tree should rebalancing occur.\n",
    "\n",
    "Given the insertion method was primarily covered in the BST chapter we will focus on the balancing and rotation procedures for the duration of this worksheet. Due to the complex nature these operations they are often best understood with visual walkthroughs. As such, there is a video recorded with the commonly used examples explain the psudeocode. "
   ]
  },
  {
   "cell_type": "markdown",
   "metadata": {},
   "source": [
    "### AVL Delete\n",
    "\n",
    "![](images/avl-remove-algo-annotated.png)\n",
    "\n",
    "The AVL insert remove is divided into three categories:\n",
    "1. We should traverse and perform the same recursive search and removal process we performed with BSTs.\n",
    "2. Update the height of the current node as the recursion unwraps.\n",
    "3. Balance everything with respect to curr and return the root of the balanced tree should rebalancing occur.\n",
    "\n",
    "Given the removal method was primarily covered in the BST chapter we will again focus on the balancing and rotation procedures for the duration of this worksheet. This psudeocode is here for your reference but should you need further details on the removal process itself please refer to the worksheet on trees."
   ]
  },
  {
   "cell_type": "markdown",
   "metadata": {},
   "source": [
    "### Balancing Subtrees\n",
    "\n",
    "\n",
    "<br>\n",
    "<br>\n",
    "\n",
    "<div style=\"display: inline-block; text-align: center; margin: 0 auto; align-items: center; justify-content: center;\">\n",
    "\n",
    "<div style=\"width: 40%; float: left;\">\n",
    "    \n",
    "![](images/avl-balance-algo.png)\n",
    "\n",
    "</div>\n",
    "<div style=\"width: 10%; float: left;\"> &nbsp;&nbsp;&nbsp;&nbsp;&nbsp; </div>\n",
    "<div style=\"width: 45%; float: left;\">\n",
    "\n",
    "<b>Tutorial Video:</b>\n",
    "[![IMAGE ALT TEXT](http://img.youtube.com/vi/jp0XslyjKpc/0.jpg)](http://www.youtube.com/watch?v=jp0XslyjKpc \"Video Title\")\n",
    "</div>\n",
    "\n",
    "</div>\n",
    "\n",
    "<br>"
   ]
  },
  {
   "cell_type": "code",
   "execution_count": null,
   "metadata": {},
   "outputs": [],
   "source": [
    "public TreeNode balance(TreeNode n){\n",
    "    /* Implementation here */\n",
    "}"
   ]
  },
  {
   "cell_type": "markdown",
   "metadata": {},
   "source": [
    "### Rotations\n",
    "\n",
    "For the remainder of this worksheet you will be implementing the rotations covered briefly in the balancing video. The video covers each of the rotations using a simple example tree. Once you have considered the algorithm for each and watched the video attempt to implement the algorithm. Each method had a sample test case that: 1) creates the tree presented in the video, 2) attempts to rotate it, and 3) outputs the tree after the rotation. Look at the output your rotation produces and compare it to what the results should be to see if you have implemented your rotation method correctly."
   ]
  },
  {
   "cell_type": "markdown",
   "metadata": {},
   "source": [
    "###### Left Rotation\n",
    "\n",
    "<br>\n",
    "<br>\n",
    "\n",
    "<div style=\"display: inline-block; text-align: center; margin: 0 auto; align-items: center; justify-content: center;\">\n",
    "\n",
    "<div style=\"width: 45%; float: left;\">\n",
    "    \n",
    "![](images/avl-left-rotation-algo.png)\n",
    "</div>\n",
    "<div style=\"width: 5%; float: left;\"> &nbsp;&nbsp;&nbsp;&nbsp;&nbsp; </div>\n",
    "<div style=\"width: 45%; float: left;\">\n",
    "\n",
    "<b>Tutorial Video:</b>\n",
    "[![IMAGE ALT TEXT](https://img.youtube.com/vi/eauTs1r78Nc/0.jpg)](http://www.youtube.com/watch?v=eauTs1r78Nc \"Video Title\")\n",
    "</div>\n",
    "\n",
    "</div>\n",
    "\n",
    "<br>\n",
    "\n"
   ]
  },
  {
   "cell_type": "code",
   "execution_count": 10,
   "metadata": {},
   "outputs": [],
   "source": [
    "public TreeNode leftRotate(TreeNode n){\n",
    "    /* Implementation here */\n",
    "}"
   ]
  },
  {
   "cell_type": "markdown",
   "metadata": {},
   "source": [
    "The code below performs the following rotation:"
   ]
  },
  {
   "cell_type": "code",
   "execution_count": 11,
   "metadata": {},
   "outputs": [
    {
     "name": "stdout",
     "output_type": "stream",
     "text": [
      "root.left: val->1 height->0\n",
      "root: val->2 height->1\n",
      "root.right: val->3 height->0\n"
     ]
    }
   ],
   "source": [
    "TreeNode A = new TreeNode(1, 2);\n",
    "A.right = new TreeNode(2, 1);\n",
    "A.right.right = new TreeNode(3, 0);\n",
    "\n",
    "TreeNode newRoot = leftRotate(A);\n",
    "newRoot.height = Math.max(getHeight(newRoot.right), getHeight(newRoot.left)) + 1;\n",
    "\n",
    "System.out.printf(\"root.left: val->%d height->%d\\n\", newRoot.left.data, newRoot.left.height);\n",
    "System.out.printf(\"root: val->%d height->%d\\n\", newRoot.data, newRoot.height);\n",
    "System.out.printf(\"root.right: val->%d height->%d\\n\", newRoot.right.data, newRoot.right.height);\n",
    ";"
   ]
  },
  {
   "cell_type": "markdown",
   "metadata": {},
   "source": [
    "If you have performed it correctly you should get the following output:\n",
    "```\n",
    "root.left: val->1 height->0\n",
    "root: val->2 height->1\n",
    "root.right: val->3 height->0\n",
    "```"
   ]
  },
  {
   "cell_type": "markdown",
   "metadata": {},
   "source": [
    "#### Right Rotation\n",
    "\n",
    "\n",
    "<br>\n",
    "<br>\n",
    "\n",
    "<div style=\"display: inline-block; text-align: center; margin: 0 auto; align-items: center; justify-content: center;\">\n",
    "\n",
    "<div style=\"width: 45%; float: left;\">\n",
    "    \n",
    "![](images/avl-right-rotation-algo.png)\n",
    "\n",
    "</div>\n",
    "<div style=\"width: 5%; float: left;\"> &nbsp;&nbsp;&nbsp;&nbsp;&nbsp; </div>\n",
    "<div style=\"width: 45%; float: left;\">\n",
    "\n",
    "<b>Tutorial Video:</b>\n",
    "[![IMAGE ALT TEXT](http://img.youtube.com/vi/gU-U3Yp6xKM/0.jpg)](http://www.youtube.com/watch?v=gU-U3Yp6xKM \"Video Title\")\n",
    "</div>\n",
    "\n",
    "</div>\n",
    "\n",
    "<br>\n",
    "\n"
   ]
  },
  {
   "cell_type": "code",
   "execution_count": 12,
   "metadata": {},
   "outputs": [],
   "source": [
    "public TreeNode rightRotate(TreeNode n){\n",
    "    /* Implementation here */\n",
    "}"
   ]
  },
  {
   "cell_type": "markdown",
   "metadata": {},
   "source": [
    "The code below performs the following rotation:"
   ]
  },
  {
   "cell_type": "code",
   "execution_count": 13,
   "metadata": {},
   "outputs": [
    {
     "name": "stdout",
     "output_type": "stream",
     "text": [
      "root.left: val->-3 height->0\n",
      "root: val->-2 height->1\n",
      "root.right: val->1 height->0\n"
     ]
    }
   ],
   "source": [
    "TreeNode A = new TreeNode(1, 2);\n",
    "A.left = new TreeNode(-2, 1);\n",
    "A.left.left = new TreeNode(-3, 0);\n",
    "\n",
    "TreeNode newRoot = rightRotate(A);\n",
    "newRoot.height = Math.max(getHeight(newRoot.right), getHeight(newRoot.left)) + 1;\n",
    "\n",
    "System.out.printf(\"root.left: val->%d height->%d\\n\", newRoot.left.data, newRoot.left.height);\n",
    "System.out.printf(\"root: val->%d height->%d\\n\", newRoot.data, newRoot.height);\n",
    "System.out.printf(\"root.right: val->%d height->%d\\n\", newRoot.right.data, newRoot.right.height);\n",
    ";"
   ]
  },
  {
   "cell_type": "markdown",
   "metadata": {},
   "source": [
    "If you have performed it correctly you should get the following output: \n",
    "```\n",
    "root.left: val->-3 height->0\n",
    "root: val->-2 height->1\n",
    "root.right: val->1 height->0\n",
    "```"
   ]
  },
  {
   "cell_type": "markdown",
   "metadata": {},
   "source": [
    "#### Left-Right Rotation\n",
    "\n",
    "\n",
    "<br>\n",
    "<br>\n",
    "\n",
    "<div style=\"display: inline-block; text-align: center; margin: 0 auto; align-items: center; justify-content: center;\">\n",
    "\n",
    "<div style=\"width: 45%; float: left;\">\n",
    "    \n",
    "![](images/avl-left-right-rotation-algo.png)\n",
    "\n",
    "</div>\n",
    "<div style=\"width: 5%; float: left;\"> &nbsp;&nbsp;&nbsp;&nbsp;&nbsp; </div>\n",
    "<div style=\"width: 45%; float: left;\">\n",
    "\n",
    "<b>Tutorial Video:</b>\n",
    "\n",
    "[![IMAGE ALT TEXT](https://img.youtube.com/vi/RVwYS0f073c/0.jpg)](http://www.youtube.com/watch?v=RVwYS0f073c \"Video Title\")\n",
    "</div>\n",
    "\n",
    "</div>\n",
    "\n",
    "<br>"
   ]
  },
  {
   "cell_type": "code",
   "execution_count": 14,
   "metadata": {},
   "outputs": [],
   "source": [
    "public TreeNode leftRightRotate(TreeNode n){\n",
    "    /* Implementation here */\n",
    "}"
   ]
  },
  {
   "cell_type": "code",
   "execution_count": 15,
   "metadata": {},
   "outputs": [
    {
     "name": "stdout",
     "output_type": "stream",
     "text": [
      "root.left: val->-3 height->0\n",
      "root: val->-2 height->1\n",
      "root.right: val->1 height->0\n"
     ]
    }
   ],
   "source": [
    "TreeNode A = new TreeNode(1, 2);\n",
    "A.left = new TreeNode(-3, 1);\n",
    "A.left.right = new TreeNode(-2, 0);\n",
    "\n",
    "TreeNode newRoot = leftRightRotate(A);\n",
    "newRoot.height = Math.max(getHeight(newRoot.right), getHeight(newRoot.left)) + 1;\n",
    "\n",
    "System.out.printf(\"root.left: val->%d height->%d\\n\", newRoot.left.data, newRoot.left.height);\n",
    "System.out.printf(\"root: val->%d height->%d\\n\", newRoot.data, newRoot.height);\n",
    "System.out.printf(\"root.right: val->%d height->%d\\n\", newRoot.right.data, newRoot.right.height);\n",
    ";"
   ]
  },
  {
   "cell_type": "markdown",
   "metadata": {},
   "source": [
    "If you have performed the operation correctly you should get the following output:\n",
    "```\n",
    "root.left: val->-3 height->0\n",
    "root: val->-2 height->1\n",
    "root.right: val->1 height->0\n",
    "```"
   ]
  },
  {
   "cell_type": "markdown",
   "metadata": {},
   "source": [
    "#### Right-Left Rotation\n",
    "\n",
    "\n",
    "<br>\n",
    "<br>\n",
    "\n",
    "<div style=\"display: inline-block; text-align: center; margin: 0 auto; align-items: center; justify-content: center;\">\n",
    "\n",
    "<div style=\"width: 45%; float: left;\">\n",
    "    \n",
    "![](images/avl-right-left-rotation-algo.png)\n",
    "\n",
    "</div>\n",
    "<div style=\"width: 5%; float: left;\"> &nbsp;&nbsp;&nbsp;&nbsp;&nbsp; </div>\n",
    "<div style=\"width: 45%; float: left;\">\n",
    "\n",
    "<b>Tutorial Video:</b>\n",
    "[![IMAGE ALT TEXT](http://img.youtube.com/vi/VBuJLn33Y1I/0.jpg)](http://www.youtube.com/watch?v=VBuJLn33Y1I \"Video Title\")\n",
    "</div>\n",
    "\n",
    "</div>\n",
    "\n",
    "<br>"
   ]
  },
  {
   "cell_type": "code",
   "execution_count": 16,
   "metadata": {},
   "outputs": [],
   "source": [
    "public TreeNode rightLeftRotate(TreeNode n){\n",
    "    /* Implementation here */\n",
    "}"
   ]
  },
  {
   "cell_type": "code",
   "execution_count": 17,
   "metadata": {},
   "outputs": [
    {
     "name": "stdout",
     "output_type": "stream",
     "text": [
      "root.left: val->1 height->0\n",
      "root: val->2 height->1\n",
      "root.right: val->3 height->0\n"
     ]
    }
   ],
   "source": [
    "TreeNode A = new TreeNode(1, 2);\n",
    "A.right = new TreeNode(3, 1);\n",
    "A.right.left = new TreeNode(2, 0);\n",
    "\n",
    "TreeNode newRoot = rightLeftRotate(A);\n",
    "newRoot.height = Math.max(getHeight(newRoot.right), getHeight(newRoot.left)) + 1;\n",
    "\n",
    "System.out.printf(\"root.left: val->%d height->%d\\n\", newRoot.left.data, newRoot.left.height);\n",
    "System.out.printf(\"root: val->%d height->%d\\n\", newRoot.data, newRoot.height);\n",
    "System.out.printf(\"root.right: val->%d height->%d\\n\", newRoot.right.data, newRoot.right.height);\n",
    ";"
   ]
  },
  {
   "cell_type": "markdown",
   "metadata": {},
   "source": [
    "If you have performed the operation correctly you should get the following output:\n",
    "```\n",
    "root.left: val->1 height->0\n",
    "root: val->2 height->1\n",
    "root.right: val->3 height->0\n",
    "```"
   ]
  }
 ],
 "metadata": {
  "kernelspec": {
   "display_name": "Java",
   "language": "java",
   "name": "java"
  },
  "language_info": {
   "codemirror_mode": "java",
   "file_extension": ".jshell",
   "mimetype": "text/x-java-source",
   "name": "Java",
   "pygments_lexer": "java",
   "version": "11.0.3+7"
  }
 },
 "nbformat": 4,
 "nbformat_minor": 2
}
