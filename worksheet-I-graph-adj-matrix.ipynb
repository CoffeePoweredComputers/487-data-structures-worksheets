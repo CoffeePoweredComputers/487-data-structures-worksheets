{
 "cells": [
  {
   "cell_type": "markdown",
   "metadata": {},
   "source": [
    "<h1 style=\"text-align: center; font-size: 40px\">Graph Representations</h1>"
   ]
  },
  {
   "cell_type": "markdown",
   "metadata": {},
   "source": [
    "### Loading Libraries\n",
    "\n",
    "Let's import all the necessary packages first. You can safely ignore this section."
   ]
  },
  {
   "cell_type": "code",
   "execution_count": 2,
   "metadata": {},
   "outputs": [],
   "source": [
    "import java.util.Random;\n",
    "import java.lang.*;\n",
    "import java.util.*;"
   ]
  },
  {
   "cell_type": "markdown",
   "metadata": {},
   "source": [
    "## Objectives\n",
    "\n",
    "The objectives of this worksheet are as follows:\n",
    "\n",
    "\n",
    "*Note:* The graphs can be created with the following tools:\n",
    "\n",
    "* [csacademy](https://csacademy.com/app/graph_editor/)\n",
    "* [visalgo](https://visualgo.net/en/graphds)\n",
    "\n",
    "It is **highly** suggested to play around with this tool in order to get a visual sense of how graphs are constructed.\n",
    "\n",
    "#### Using Jupyter\n",
    "A few things to remind you with regard to using this Jupyter environment:\n",
    "1. If the platform crashes don't worry. All of this is in the browser so just refresh and all of your changes up to your last save should still be there. For this reason we encourage you to **save often**.\n",
    "2. Be sure to run cells from top to bottom.\n",
    "3. If you're getting weird errors to go: Kernel->Restart & Clear Output. From there, run cells from top to bottom."
   ]
  },
  {
   "cell_type": "markdown",
   "metadata": {},
   "source": [
    "<h2 style=\"text-align: center;\">Graphs in General</h2>\n",
    "\n",
    "<img style=\"text-align: center;\" src=\"images/graph-types.png\" alt=\"drawing\" width=\"700\"/>"
   ]
  },
  {
   "cell_type": "markdown",
   "metadata": {},
   "source": [
    "### Review of  General Terms\n",
    "\n",
    "When talking about graphs there are the following terms you will need to be familiar with:\n",
    "* *Vertex* --> This is an individual point on a graph. In previous worksheets relating to linked lists and trees you will have heard these refered to as nodes.\n",
    "* *Edge* --> This a connection between two nodes. In linked lists and trees these edges were represented using references to other nodes (e.g., `next`, `left`, `right`). However, as we will see today, there are many other ways of representing edges.\n",
    "    * *Weight* --> Edges can have weight associated with them.  For example, if we are building a map of campus we could reprsent the distance between buildings through edge weight.\n",
    "    * *Direction* --> Graphs can have edges that only allow for traversal to another node in a single direction (directed) or in both directions (undirected).\n",
    "    \n",
    "The image above shows the various combinations of directed and undirected graphs. "
   ]
  },
  {
   "cell_type": "markdown",
   "metadata": {},
   "source": [
    "<h2 style=\"text-align: center;\">Graph Representations</h2>\n",
    "\n",
    "There are two main ways in which to represent graphs, as matricies (refered to as an adjacency matrix) or as lists of lists (and adjacency list). We will only briefly touch upon the adjacency matrix as a means by which to represent graphs and instead spend the majority of our time discussing adjacency lists. This is due to the increased complexity of dynamically managing the size of an adjacency matrix when inserting and deleting new nodes."
   ]
  },
  {
   "cell_type": "markdown",
   "metadata": {},
   "source": [
    "<h3 style=\"text-align: center;\">Adjacency Matrix</h3>"
   ]
  },
  {
   "cell_type": "markdown",
   "metadata": {},
   "source": [
    "The adjacency matrix can simply be thought of as a 2d array of values which indicate whether two vertecies are connected by an edge. \n",
    "\n",
    "#### Example: Directed, Unweighted\n",
    "Consider the following example of an unweighted, directed graph and it's associated adjacency matrix:\n",
    "<br>\n",
    "<br>\n",
    "\n",
    "<div style=\"display: inline-block; text-align: center; margin: 0 auto; align-items: center; justify-content: center;\">\n",
    "\n",
    "<div style=\"float: left;\">\n",
    "    \n",
    "<img src=\"images/directed-unweighted-1.png\" style=\"width: 55%\">\n",
    "\n",
    "</div>\n",
    "\n",
    "<div style=\"width: 49%; float: left;\">\n",
    "    \n",
    "| -  | a | b | c | d | e |\n",
    "|:---:|:---:|:---:|:---:|:---:|---|\n",
    "| a | 0 | 0 | 1 | 0 | 1 |\n",
    "| b | 0 | 0 | 0 | 1 | 1 |\n",
    "| c | 0 | 0 | 0 | 1 | 1 |\n",
    "| d | 0 | 0 | 0 | 0 | 0 |\n",
    "| e | 0 | 0 | 0 | 0 | 0 |\n",
    "\n",
    "</div>\n",
    "\n",
    "</div>\n",
    "\n",
    "<br>\n",
    "\n",
    "For our list representation the rows and columns can be thought of as referencing vertecies in the graph. More specifically, rows reference where the edge originates and columns reference where the edge ends. The values that populate the matrix are then used to represnt connections between these vertecies. Since this is an unweighted graph we will simply use $1$ to indicate the presence of an edge and $0$ to indicate the absence of one. This results in the following adjacency matrix for the previously seen figure.\n",
    "\n",
    "\n",
    "#### Example: Weighted, Undirected\n",
    "\n",
    "Now, consider the following weighted, undirected graph:\n",
    "<br>\n",
    "<br>\n",
    "\n",
    "<div style=\"display: inline-block; text-align: center; margin: 0 auto; align-items: center; justify-content: center;\">\n",
    "\n",
    "<div style=\"float: left;\">\n",
    "<img src=\"images/weighted-undirected.png\" style=\"width: 55%\">\n",
    "\n",
    "</div>\n",
    "\n",
    "<div style=\"width: 49%; float: left;\">\n",
    "    \n",
    "| -  | a | b | c | d | e |\n",
    "|:---:|:---:|:---:|:---:|:---:|---|\n",
    "| a | - | - | 3 | - | 1 |\n",
    "| b | - | - | - | 1 | 3 |\n",
    "| c | 3 | - | - | 1 | -1 |\n",
    "| d | - | - | - | - | - |\n",
    "| e | - | 3 | -1 | - | 0 |\n",
    "\n",
    "</div>\n",
    "\n",
    "</div>\n",
    "\n",
    "<br>\n",
    "\n",
    "\n",
    "With our previous example we used 1 to represent all edges as they were unweighted. However, here we use the weight of the edge to represent the presence of a node. To avoid issues relating to edges that have 0 or negative weight, rather than using 0 or some other value to represent the absence of an edge we simply use `null` which is represented in the adj. matrix as a \"-\" character. As for the graph being undirected, we add add the edge weight to for both directions. Notice how the matrix is mirrored about the diagonal."
   ]
  },
  {
   "attachments": {
    "image.png": {
     "image/png": "[encoded data removed]"
    }
   },
   "cell_type": "markdown",
   "metadata": {},
   "source": [
    "\n",
    "<img alt=\"Activity - In-Class\" src=\"https://img.shields.io/badge/Activity-In--Class-E84A27\" align=\"left\" style=\"margin-right: 5px\"/>\n",
    "<br>\n",
    "<br>\n",
    "\n",
    "<div style=\"text-align: center\">\n",
    "\n",
    "    \n",
    "<img alt=\"Activity - In-Class\" src=\"attachment:image.png\" class=\"center\"/>\n",
    "    \n",
    "    \n",
    "</div>\n",
    "    \n",
    "\n",
    "<br>\n",
    "<center>\n",
    "    Fig. 1: A simple directed, unweighted graph\n",
    "</center>\n",
    "<br>\n",
    "\n",
    "Create a function that takes an vertex list and a node list that represents a __directed, unweighted__ graph (see above) and outputs it's adjacency matrix represent.\n",
    "\n",
    "*Hint: You might find the following links helpful*\n",
    "* [Syntax for Creating 2d Array](https://stackoverflow.com/questions/12231453/syntax-for-creating-a-two-dimensional-array-in-java)\n",
    "* [Printing 2d Matrix Java](https://stackoverflow.com/questions/7782080/how-to-print-a-two-dimensional-array)"
   ]
  },
  {
   "cell_type": "code",
   "execution_count": 11,
   "metadata": {},
   "outputs": [],
   "source": [
    "public void printAdjMatrix(List<Integer[]> edges, int vertexCount){\n",
    "    \n",
    "    //Step 1: Create a NxN matrix \n",
    "    int[][] matrix = new int[vertexCount][vertexCount];\n",
    "    \n",
    "    //Step 2: Populate the matrix using edge list\n",
    "    for(Integer[] pair: edges){\n",
    "        matrix[pair[0]][pair[1]] = 1;\n",
    "    }\n",
    "    \n",
    "    //Step 3: Print the matrix \n",
    "    for(int i = 0; i < matrix.length; i++){\n",
    "        for(int j = 0; j < matrix.length; j++){\n",
    "            System.out.print(matrix[i][j] + \" \");\n",
    "        }\n",
    "        System.out.println();\n",
    "    }\n",
    "    \n",
    "}"
   ]
  },
  {
   "cell_type": "code",
   "execution_count": 12,
   "metadata": {},
   "outputs": [
    {
     "name": "stdout",
     "output_type": "stream",
     "text": [
      "0 1 1 0 \n",
      "0 0 0 1 \n",
      "0 1 0 0 \n",
      "0 0 1 0 \n"
     ]
    }
   ],
   "source": [
    "/* Run the following test case when you finish implementing the above code */\n",
    "List<Integer []> edgeList = new ArrayList<>();\n",
    "edgeList.add(new Integer[]{0, 2}); // This represents the edge 0->2\n",
    "edgeList.add(new Integer[]{0, 1}); \n",
    "edgeList.add(new Integer[]{2, 1}); \n",
    "edgeList.add(new Integer[]{1, 3}); \n",
    "edgeList.add(new Integer[]{3, 2}); \n",
    "\n",
    "printAdjMatrix(edgeList, 4)"
   ]
  },
  {
   "cell_type": "markdown",
   "metadata": {},
   "source": [
    "If you implemented the above function correctly you should get the following output.\n",
    "```\n",
    "  0    1    1    0  \n",
    "  0    0    0    1  \n",
    "  0    1    0    0  \n",
    "  0    0    1    0  \n",
    "\n",
    "```\n",
    "Spend a moment checking this against the original graph."
   ]
  },
  {
   "cell_type": "markdown",
   "metadata": {},
   "source": [
    "# Adjacency Matrix Graph\n",
    "\n",
    "#### Step 1: Constructor\n",
    "\n",
    "#### Step 2: addEdge Method\n",
    "\n"
   ]
  },
  {
   "cell_type": "code",
   "execution_count": 17,
   "metadata": {},
   "outputs": [],
   "source": [
    "class MatrixGraph {\n",
    "    \n",
    "    private Integer[][] graph;\n",
    "    private boolean isDirected;\n",
    "    \n",
    "    // Step 1: Initialize an NxN graph with all 0s\n",
    "    MatrixGraph(int numVertecies, boolean isDirected){\n",
    "        graph = new Integer[numVertecies][numVertecies];\n",
    "        this.isDirected = isDirected;\n",
    "    }\n",
    "    \n",
    "    //Step 2: Construct an AddEdge Method\n",
    "    public void addEdge(int v1, int v2, int edgeWeight){\n",
    "        graph[v1][v2] = edgeWeight;\n",
    "        if(!isDirected){\n",
    "            graph[v2][v1] = edgeWeight;\n",
    "        }\n",
    "    }\n",
    "        \n",
    "    \n",
    "    public void printMatrix(){\n",
    "        for(int i = 0; i < graph.length; i++){\n",
    "            for(int j = 0; j < graph[i].length; j++){\n",
    "                if(graph[i][j] != null){\n",
    "                    System.out.print(\" \" + graph[i][j] + \" \");\n",
    "                } else {\n",
    "                    System.out.print(\" - \");\n",
    "                }\n",
    "            }\n",
    "            System.out.println();\n",
    "        }\n",
    "    }\n",
    "    \n",
    "}"
   ]
  },
  {
   "cell_type": "markdown",
   "metadata": {},
   "source": [
    "#### Directed Test Cases"
   ]
  },
  {
   "cell_type": "code",
   "execution_count": 18,
   "metadata": {},
   "outputs": [
    {
     "name": "stdout",
     "output_type": "stream",
     "text": [
      " -  5  -  -  - \n",
      " -  -  -  -  - \n",
      " -  -  -  -  - \n",
      " -  -  -  -  - \n",
      " -  -  -  -  - \n"
     ]
    }
   ],
   "source": [
    "MatrixGraph mg = new MatrixGraph(5, true);\n",
    "\n",
    "/* Add more edges here */\n",
    "mg.addEdge(0, 1, 5);\n",
    "\n",
    "\n",
    "mg.printMatrix()"
   ]
  },
  {
   "cell_type": "markdown",
   "metadata": {},
   "source": [
    "#### Undirected Test Cases"
   ]
  },
  {
   "cell_type": "code",
   "execution_count": 19,
   "metadata": {},
   "outputs": [
    {
     "name": "stdout",
     "output_type": "stream",
     "text": [
      " -  5  -  -  - \n",
      " 5  -  -  -  - \n",
      " -  -  -  -  - \n",
      " -  -  -  -  - \n",
      " -  -  -  -  - \n"
     ]
    }
   ],
   "source": [
    "MatrixGraph mg = new MatrixGraph(5, false);\n",
    "\n",
    "/* Add more edges here */\n",
    "mg.addEdge(0, 1, 5);\n",
    "\n",
    "mg.printMatrix()"
   ]
  },
  {
   "cell_type": "markdown",
   "metadata": {
    "tags": []
   },
   "source": [
    "## Outdegree and Indegree (optional)\n",
    "\n",
    "There are many statistics that can be calculated that describe the structure or a graph and it's elements. Many of of them are rooted in the notion of a vertex's \"degree\". The degree of a vertex is determined by the number of edges that are associated with a vertex. There are two types of degree:\n",
    "* __Indegree:__ The number of edges directed at a given vertex.\n",
    "* __Outdegree:__ The number of edges that are directed out of a given veretx.\n",
    "\n",
    "<img alt=\"Activity - In-Class\" src=\"https://img.shields.io/badge/Activity-In--Class-E84A27\" align=\"left\" style=\"margin-right: 5px\"/>\n",
    "<br>\n",
    "<br>\n",
    "\n",
    "\n",
    "For the following directed graph's adjacency matrix create two functions, one that calculates and outputs the indegree of each vertex and one that does the same for outdegree. \n",
    " "
   ]
  },
  {
   "cell_type": "code",
   "execution_count": 23,
   "metadata": {},
   "outputs": [],
   "source": [
    "public int[] computeInDegree(int[][] adjMatrix){\n",
    "    \n",
    "    int[] inDegrees = new int[adjMatrix.length];\n",
    "    \n",
    "    for(int i = 0; i < adjMatrix.length; i++){\n",
    "        for(int j = 0; j < adjMatrix.length; j++){\n",
    "            inDegrees[i] += adjMatrix[i][j];\n",
    "        }\n",
    "    }\n",
    "    \n",
    "    return inDegrees;\n",
    "}"
   ]
  },
  {
   "cell_type": "code",
   "execution_count": 24,
   "metadata": {},
   "outputs": [],
   "source": [
    "public int[] computeOutDegree(int[][] adjMatrix){\n",
    "    \n",
    "    int[] outDegrees = new int[adjMatrix.length];\n",
    "    \n",
    "    for(int i = 0; i < adjMatrix.length; i++){\n",
    "        for(int j = 0; j < adjMatrix.length; j++){\n",
    "            outDegrees[i] += adjMatrix[j][i];\n",
    "        }\n",
    "    }\n",
    "    \n",
    "    return outDegrees;\n",
    "}"
   ]
  },
  {
   "cell_type": "code",
   "execution_count": 25,
   "metadata": {},
   "outputs": [
    {
     "name": "stdout",
     "output_type": "stream",
     "text": [
      "Indegree: [2, 1, 1, 2]\n",
      "Outdegree: [0, 2, 2, 2]\n"
     ]
    }
   ],
   "source": [
    "/* Testing */\n",
    "\n",
    "int[][] adjMatrix = {\n",
    "{0, 1, 1, 0},\n",
    "{0, 0, 1, 0},\n",
    "{0, 0, 0, 1},\n",
    "{0, 1, 0, 1}\n",
    "};\n",
    "\n",
    "int[] indegrees = computeInDegree(adjMatrix);\n",
    "int[] outdegrees = computeOutDegree(adjMatrix);\n",
    "\n",
    "System.out.printf(\"Indegree: %s\\n\", Arrays.toString(indegrees));\n",
    "System.out.printf(\"Outdegree: %s\\n\", Arrays.toString(outdegrees));\n",
    ";"
   ]
  },
  {
   "cell_type": "markdown",
   "metadata": {},
   "source": [
    "If your functions are implemented correctly you should have recieved the following output:\n",
    "```\n",
    "Indegree: [2, 1, 1, 2]\n",
    "Outdegree: [0, 2, 2, 2]\n",
    "```"
   ]
  }
 ],
 "metadata": {
  "kernelspec": {
   "display_name": "Java",
   "language": "java",
   "name": "java"
  },
  "language_info": {
   "codemirror_mode": "java",
   "file_extension": ".jshell",
   "mimetype": "text/x-java-source",
   "name": "Java",
   "pygments_lexer": "java",
   "version": "11.0.16+8-post-Ubuntu-0ubuntu120.04"
  }
 },
 "nbformat": 4,
 "nbformat_minor": 4
}
