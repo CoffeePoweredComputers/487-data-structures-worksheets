{
 "cells": [
  {
   "cell_type": "markdown",
   "metadata": {},
   "source": [
    "<h1 style=\"text-align: center; font-size: 40px\">Graph Representations</h1>"
   ]
  },
  {
   "cell_type": "markdown",
   "metadata": {},
   "source": [
    "### Loading Libraries\n",
    "\n",
    "Let's import all the necessary packages first. You can safely ignore this section."
   ]
  },
  {
   "cell_type": "code",
   "execution_count": 1,
   "metadata": {},
   "outputs": [],
   "source": [
    "import java.util.Random;\n",
    "import java.lang.*;"
   ]
  },
  {
   "cell_type": "markdown",
   "metadata": {},
   "source": [
    "## Objectives\n",
    "\n",
    "The objectives of this worksheet are as follows:\n",
    "\n",
    "\n",
    "*Note:* The graphs can be created with the following tools:\n",
    "\n",
    "* [csacademy](https://csacademy.com/app/graph_editor/)\n",
    "* [visalgo](https://visualgo.net/en/graphds)\n",
    "\n",
    "It is **highly** suggested to play around with this tool in order to get a visual sense of how graphs are constructed.\n",
    "\n",
    "#### Using Jupyter\n",
    "A few things to remind you with regard to using this Jupyter environment:\n",
    "1. If the platform crashes don't worry. All of this is in the browser so just refresh and all of your changes up to your last save should still be there. For this reason we encourage you to **save often**.\n",
    "2. Be sure to run cells from top to bottom.\n",
    "3. If you're getting weird errors to go: Kernel->Restart & Clear Output. From there, run cells from top to bottom."
   ]
  },
  {
   "cell_type": "markdown",
   "metadata": {},
   "source": [
    "<h2 style=\"text-align: center;\">Graphs in General</h2>\n",
    "\n",
    "<img style=\"text-align: center;\" src=\"images/graph-types.png\" alt=\"drawing\" width=\"700\"/>"
   ]
  },
  {
   "cell_type": "markdown",
   "metadata": {},
   "source": [
    "### Review of  General Terms\n",
    "\n",
    "When talking about graphs there are the following terms you will need to be familiar with:\n",
    "* *Vertex* --> This is an individual point on a graph. In previous worksheets relating to linked lists and trees you will have heard these refered to as nodes.\n",
    "* *Edge* --> This a connection between two nodes. In linked lists and trees these edges were represented using references to other nodes (e.g., `next`, `left`, `right`). However, as we will see today, there are many other ways of representing edges.\n",
    "    * *Weight* --> Edges can have weight associated with them.  For example, if we are building a map of campus we could reprsent the distance between buildings through edge weight.\n",
    "    * *Direction* --> Graphs can have edges that only allow for traversal to another node in a single direction (directed) or in both directions (undirected).\n",
    "    \n",
    "The image above shows the various combinations of directed and undirected graphs. "
   ]
  },
  {
   "cell_type": "markdown",
   "metadata": {},
   "source": [
    "<h2 style=\"text-align: center;\">Graph Representations</h2>\n",
    "\n",
    "There are two main ways in which to represent graphs, as matricies (refered to as an adjacency matrix) or as lists of lists (and adjacency list). We will only briefly touch upon the adjacency matrix as a means by which to represent graphs and instead spend the majority of our time discussing adjacency lists. This is due to the increased complexity of dynamically managing the size of an adjacency matrix when inserting and deleting new nodes."
   ]
  },
  {
   "cell_type": "markdown",
   "metadata": {},
   "source": [
    "<h3 style=\"text-align: center;\">Adjacency Matrix</h3>"
   ]
  },
  {
   "cell_type": "markdown",
   "metadata": {},
   "source": [
    "The adjacency matrix can simply be thought of as a 2d array of values which indicate whether two vertecies are connected by an edge. \n",
    "\n",
    "#### Example: Directed, Unweighted\n",
    "Consider the following example of an unweighted, directed graph and it's associated adjacency matrix:\n",
    "<br>\n",
    "<br>\n",
    "\n",
    "<div style=\"display: inline-block; text-align: center; margin: 0 auto; align-items: center; justify-content: center;\">\n",
    "\n",
    "<div style=\"width: 35%; float: left;\">\n",
    "    \n",
    "![image.png](images/directed-unweighted-1.png)\n",
    "\n",
    "</div>\n",
    "\n",
    "<div style=\"width: 49%; float: left;\">\n",
    "    \n",
    "| -  | a | b | c | d | e |\n",
    "|:---:|:---:|:---:|:---:|:---:|---|\n",
    "| a | 0 | 0 | 1 | 0 | 1 |\n",
    "| b | 0 | 0 | 0 | 1 | 1 |\n",
    "| c | 0 | 0 | 0 | 1 | 1 |\n",
    "| d | 0 | 0 | 0 | 0 | 0 |\n",
    "| e | 0 | 0 | 0 | 0 | 0 |\n",
    "\n",
    "</div>\n",
    "\n",
    "</div>\n",
    "\n",
    "<br>\n",
    "\n",
    "For our list representation the rows and columns can be thought of as referencing vertecies in the graph. More specifically, rows reference where the edge originates and columns reference where the edge ends. The values that populate the matrix are then used to represnt connections between these vertecies. Since this is an unweighted graph we will simply use $1$ to indicate the presence of an edge and $0$ to indicate the absence of one. This results in the following adjacency matrix for the previously seen figure.\n",
    "\n",
    "\n",
    "#### Example: Weighted, Undirected\n",
    "\n",
    "Now, consider the following weighted, undirected graph:\n",
    "<br>\n",
    "<br>\n",
    "\n",
    "<div style=\"display: inline-block; text-align: center; margin: 0 auto; align-items: center; justify-content: center;\">\n",
    "\n",
    "<div style=\"width: 35%; float: left;\">\n",
    "    \n",
    "![image.png](images/weighted-undirected.png)\n",
    "\n",
    "</div>\n",
    "\n",
    "<div style=\"width: 49%; float: left;\">\n",
    "    \n",
    "| -  | a | b | c | d | e |\n",
    "|:---:|:---:|:---:|:---:|:---:|---|\n",
    "| a | 0 | 0 | 3 | 0 | 1 |\n",
    "| b | 0 | 0 | 0 | 1 | 3 |\n",
    "| c | 3 | 0 | 0 | 1 | -1 |\n",
    "| d | 0 | 0 | 0 | 0 | 0 |\n",
    "| e | 0 | 3 | -1 | 0 | 0 |\n",
    "\n",
    "</div>\n",
    "\n",
    "</div>\n",
    "\n",
    "<br>\n",
    "\n",
    "\n",
    "With our previous example we used 1 to represent all edges as they were unweighted. However, here we use the weight of the edge to represent the presence of a node. To avoid issues relating to edges that have 0 or negative weight, rather than using 0 or some other value to represent the absence of an edge we simply use `null` which is represented in the adj. matrix as a \"-\" character. As for the graph being undirected, we add add the edge weight to for both directions. Notice how the matrix is mirrored about the diagonal."
   ]
  },
  {
   "attachments": {
    "image.png": {
     "image/png": "[encoded data removed]"
    }
   },
   "cell_type": "markdown",
   "metadata": {},
   "source": [
    "\n",
    "<img alt=\"Activity - In-Class\" src=\"https://img.shields.io/badge/Activity-In--Class-E84A27\" align=\"left\" style=\"margin-right: 5px\"/>\n",
    "<br>\n",
    "<br>\n",
    "\n",
    "![image.png](attachment:image.png)\n",
    "<br>\n",
    "<center>\n",
    "    Fig. 1: A simple directed, unweighted graph\n",
    "</center>\n",
    "<br>\n",
    "\n",
    "Create a function that takes an vertex list and a node list that represents a __directed, unweighted__ graph (see above) and outputs it's adjacency matrix represent."
   ]
  },
  {
   "cell_type": "code",
   "execution_count": 2,
   "metadata": {},
   "outputs": [],
   "source": [
    "public void printAdjMatrix(List<Integer[]> vertexList, int vertexCount){\n",
    "    \n",
    "    //Step 1: Create a NxN matrix \n",
    "    int[][] matrix = new int[vertexCount][vertexCount];\n",
    "    \n",
    "    //Step 2: Populate the matrix\n",
    "    for(Integer[] pair: vertexList){\n",
    "        Integer start = pair[0];\n",
    "        Integer end = pair[1];\n",
    "        matrix[start][end] = 1;\n",
    "    }\n",
    "    \n",
    "    //Step 3: Print the matrix \n",
    "    for(int r = 0; r < vertexCount; r++){\n",
    "        for(int c = 0; c < vertexCount; c++){\n",
    "            System.out.print(matrix[r][c]);\n",
    "        }\n",
    "        System.out.println();\n",
    "    }\n",
    "}"
   ]
  },
  {
   "cell_type": "code",
   "execution_count": 3,
   "metadata": {},
   "outputs": [
    {
     "name": "stdout",
     "output_type": "stream",
     "text": [
      "0110\n",
      "0001\n",
      "0100\n",
      "0010\n"
     ]
    }
   ],
   "source": [
    "// Step 1) Setup the edge list\n",
    "List<Integer []> vertList = new ArrayList<>();\n",
    "vertList.add(new Integer[]{0, 2}); // This represents the edge 0->2\n",
    "vertList.add(new Integer[]{0, 1}); \n",
    "vertList.add(new Integer[]{2, 1}); \n",
    "vertList.add(new Integer[]{1, 3}); \n",
    "vertList.add(new Integer[]{3, 2}); \n",
    "\n",
    "printAdjMatrix(vertList, 4)"
   ]
  },
  {
   "cell_type": "markdown",
   "metadata": {},
   "source": [
    "If you implemented the above function correctly you should get the following output.\n",
    "```\n",
    "0110\n",
    "0001\n",
    "0100\n",
    "0010\n",
    "```\n",
    "Spend a moment checking this against the original graph."
   ]
  },
  {
   "cell_type": "markdown",
   "metadata": {},
   "source": [
    "##### Outdegree and Indegree\n",
    "\n",
    "There are many statistics that can be calculated that describe the structure or a graph and it's elements. Many of of them are rooted in the notion of a vertex's \"degree\". The degree of a vertex is determined by the number of edges that are associated with a vertex. There are two types of degree:\n",
    "* __Indegree:__ The number of edges directed at a given vertex.\n",
    "* __Outdegree:__ The number of edges that are directed out of a given veretx.\n",
    "\n",
    "<img alt=\"Activity - In-Class\" src=\"https://img.shields.io/badge/Activity-In--Class-E84A27\" align=\"left\" style=\"margin-right: 5px\"/>\n",
    "<br>\n",
    "<br>\n",
    "\n",
    "\n",
    "For the following directed graph's adjacency matrix create two functions, one that calculates and outputs the indegree of each vertex and one that does the same for outdegree. \n",
    " "
   ]
  },
  {
   "cell_type": "code",
   "execution_count": 4,
   "metadata": {},
   "outputs": [],
   "source": [
    "public int[] computeInDegree(int[][] adjMatrix){\n",
    "    int[] inDegrees = new int[adjMatrix.length];\n",
    "    for(int i = 0; i < adjMatrix.length; i++){\n",
    "        for(int j = 0; j < adjMatrix.length; j++){\n",
    "            inDegrees[i] += adjMatrix[i][j];\n",
    "        }\n",
    "    }\n",
    "    return inDegrees;\n",
    "}"
   ]
  },
  {
   "cell_type": "code",
   "execution_count": 5,
   "metadata": {},
   "outputs": [],
   "source": [
    "public int[] computeOutDegree(int[][] adjMatrix){\n",
    "    int[] outDegrees = new int[adjMatrix.length];\n",
    "    for(int i = 0; i < adjMatrix.length; i++){\n",
    "        for(int j = 0; j < adjMatrix.length; j++){\n",
    "            outDegrees[i] += adjMatrix[j][i];\n",
    "        }\n",
    "    }\n",
    "    return outDegrees;\n",
    "}"
   ]
  },
  {
   "cell_type": "code",
   "execution_count": 6,
   "metadata": {},
   "outputs": [
    {
     "name": "stdout",
     "output_type": "stream",
     "text": [
      "Indegree: [2, 1, 1, 2]\n",
      "Outdegree: [0, 2, 2, 2]\n"
     ]
    }
   ],
   "source": [
    "/* Testing */\n",
    "\n",
    "int[][] adjMatrix = {\n",
    "{0, 1, 1, 0},\n",
    "{0, 0, 1, 0},\n",
    "{0, 0, 0, 1},\n",
    "{0, 1, 0, 1}\n",
    "};\n",
    "\n",
    "int[] indegrees = computeInDegree(adjMatrix);\n",
    "int[] outdegrees = computeOutDegree(adjMatrix);\n",
    "\n",
    "System.out.printf(\"Indegree: %s\\n\", Arrays.toString(indegrees));\n",
    "System.out.printf(\"Outdegree: %s\\n\", Arrays.toString(outdegrees));\n",
    ";"
   ]
  },
  {
   "cell_type": "markdown",
   "metadata": {},
   "source": [
    "If your functions are implemented correctly you should have recieved the following output:\n",
    "```\n",
    "Indegree: [2, 1, 1, 2]\n",
    "Outdegree: [0, 2, 2, 2]\n",
    "```"
   ]
  },
  {
   "cell_type": "markdown",
   "metadata": {},
   "source": [
    "<h2 style=\"text-align: center;\">Adjacency List</h2>"
   ]
  },
  {
   "cell_type": "markdown",
   "metadata": {},
   "source": [
    "Let's refer back to figure 1 and compare the adjacency matrix it produced to it's adjacency list representation:\n",
    "\n",
    "\n",
    "| - | a | b | c | d |\n",
    "|:---:|:---:|:---:|:---:|:---:|\n",
    "| a | - | 1 | 1 | - |\n",
    "| b | - | - | 1 | - |\n",
    "| c | - | - | - | 1 |\n",
    "| d | - | 1 | - | - |\n",
    "\n",
    "\n",
    "The way to read the adjacency list is to find the starting vertex in the left column. The list of vertecies that are reachable from that vertex is then given by the list that is associated with it.\n",
    "\n",
    "\n",
    "\n",
    "Adjacency lists are a bit more versitile than adjacency matrixcies for the following reasons:\n",
    "* If you want to add a new vertex to an adjacency matrix you must resize the matrix which is an expensive and annoying thing to do. With a adjacency list all you need to do is add a new node.\n",
    "* For adjacency matricies we store information on every potential edge rather than just on those that exist which leads to a O(V^2) space complexity where V is the number of vertecies. With adjacency matricies we only need to store information on edges that exist in the graph so our space complexity is O(E) where E is the number of edges in the graph.\n",
    "\n",
    "It does have the one small disadvantage that we cannot directly check or access and edge in O(1) time. Instead we must locate the entry associated with a starting node and then search along the list containing the other vertecies which it shares an edge with.\n",
    "\n",
    "For this example, let's create a directed, weighted graph using an adjacency list!"
   ]
  },
  {
   "cell_type": "markdown",
   "metadata": {},
   "source": [
    "## Edge Class\n",
    "\n",
    "As was the case with linked lists and trees we need a basic unit in which to hold our data. We will be using an edge class to store the following two attributes:\n",
    "\n",
    "1. The desination vertex\n",
    "2. The weight of the edge\n",
    "\n",
    "We provide the override for the `equals` method. You will be using this indirectly through the `contains` method in your implementation of the `Digraph` class. As a quick walkthrough, this method takes an arbitrary object as a parameter. It first checks if the object is an instance of the `Edge` class and. If it is it then casts that parameter to an edge and checks if the current edge has an equal weight and destination to the one that was passed in. If it does it returns true. In any other case it returns false."
   ]
  },
  {
   "cell_type": "code",
   "execution_count": 24,
   "metadata": {},
   "outputs": [],
   "source": [
    "class Edge{\n",
    "    \n",
    "    private final String dest;\n",
    "    private final Integer weight;\n",
    "    \n",
    "    Edge(String dest, int weight){\n",
    "        this.dest = dest;\n",
    "        this.weight = weight;\n",
    "    }\n",
    "    \n",
    "    public String getDest(){\n",
    "        return dest;\n",
    "    }\n",
    "    \n",
    "    public int getWeight(){\n",
    "        return weight;\n",
    "    }\n",
    "    \n",
    "    @Override\n",
    "    public boolean equals(Object o){\n",
    "        if(o instanceof Edge){\n",
    "            Edge e = (Edge) o;\n",
    "            return this.dest.equals(e.dest) && this.weight.equals(e.weight);\n",
    "        } else{\n",
    "            return false;\n",
    "        }\n",
    "    }\n",
    "}"
   ]
  },
  {
   "cell_type": "code",
   "execution_count": 8,
   "metadata": {},
   "outputs": [],
   "source": [
    "/* Test our edge */\n",
    "Edge e1 = new Edge(\"a\", 10);"
   ]
  },
  {
   "cell_type": "code",
   "execution_count": 9,
   "metadata": {},
   "outputs": [
    {
     "name": "stdout",
     "output_type": "stream",
     "text": [
      "a\n"
     ]
    }
   ],
   "source": [
    "System.out.println(e1.getDest());"
   ]
  },
  {
   "cell_type": "code",
   "execution_count": 10,
   "metadata": {},
   "outputs": [
    {
     "name": "stdout",
     "output_type": "stream",
     "text": [
      "10\n"
     ]
    }
   ],
   "source": [
    "System.out.println(e1.getWeight());"
   ]
  },
  {
   "cell_type": "markdown",
   "metadata": {},
   "source": [
    "## DiGraph\n",
    "\n",
    "\n",
    "##### Adding a Vertex\n",
    "\n",
    "\n",
    "##### Adding an Edge\n",
    "\n",
    "\n",
    "##### Removing an Edge\n",
    "\n",
    "\n",
    "##### Printing the Edge List\n",
    "\n",
    ";"
   ]
  },
  {
   "cell_type": "code",
   "execution_count": 25,
   "metadata": {},
   "outputs": [],
   "source": [
    "class Digraph{\n",
    "    \n",
    "    private Map<String, List<Edge>> map;\n",
    "    \n",
    "    Digraph(){\n",
    "        map = new HashMap<>();\n",
    "    }\n",
    "    \n",
    "    public void addVertex(String v){\n",
    "        \n",
    "        map.putIfAbsent(v, new LinkedList<>());\n",
    "        \n",
    "    }\n",
    "    \n",
    "    public void addEdge(String source, String dest, int weight){\n",
    "        \n",
    "        Edge newEdge = new Edge(dest, weight);\n",
    "        if(map.get(source).contains(newEdge)){\n",
    "            return;\n",
    "        }\n",
    "        map.get(source).add(newEdge);\n",
    "        \n",
    "    }\n",
    "    \n",
    "    public void removeEdge(String source, String dest){\n",
    "    \n",
    "        /* Step 1) Find the location of the edge with dest in source's list */\n",
    "        int i = 0;\n",
    "        List<Edge> edges = map.get(source);\n",
    "        for(; i < edges.size(); i++){\n",
    "            Edge e = edges.get(i);\n",
    "            if(e.getDest().equals(dest)){\n",
    "                break;\n",
    "            }\n",
    "        }\n",
    "        \n",
    "        /* Step 2) Remove the item at the location */\n",
    "        map.get(source).remove(i);\n",
    "    }\n",
    "    \n",
    "    public void printEdgeList(){\n",
    "        \n",
    "        for(String src: map.keySet()){\n",
    "            for(Edge destEdge: map.get(src)){\n",
    "                System.out.printf(\" %s -> %s\\n\", src, destEdge.getDest());\n",
    "            }\n",
    "        }\n",
    "    }\n",
    "    \n",
    "    public Map<String, List<Edge>> getMap(){\n",
    "        return map;\n",
    "    }\n",
    "}"
   ]
  },
  {
   "cell_type": "code",
   "execution_count": 12,
   "metadata": {},
   "outputs": [
    {
     "name": "stdout",
     "output_type": "stream",
     "text": [
      " a -> b\n",
      " a -> d\n"
     ]
    }
   ],
   "source": [
    "Digraph digraph = new Digraph();\n",
    "digraph.addVertex(\"a\");\n",
    "digraph.addVertex(\"b\");\n",
    "digraph.addVertex(\"c\");\n",
    "digraph.addVertex(\"d\");\n",
    "digraph.addEdge(\"a\", \"b\", 1);\n",
    "digraph.addEdge(\"a\", \"c\", 1);\n",
    "digraph.addEdge(\"a\", \"d\", 1);\n",
    "digraph.removeEdge(\"a\", \"c\");\n",
    "digraph.printEdgeList();"
   ]
  },
  {
   "cell_type": "markdown",
   "metadata": {},
   "source": [
    "##### Outdegree and Indegree\n",
    "\n",
    "Similar to our exercise with adjacency matricies you will be tasked with calculating the in and out degree of vertecies from an adjacency matrix. Here are the definitions of in and out degree with respect to adjacency lists:\n",
    "* __Indegree__: This should be the number of times a vertex appears in an other vertecies associated adjacency list.\n",
    "* __Outdegree__: This is the number of vertecies that appear in a given vertex's adjacency list.\n",
    "\n",
    "<img alt=\"Activity - In-Class\" src=\"https://img.shields.io/badge/Activity-In--Class-E84A27\" align=\"left\" style=\"margin-right: 5px\"/>\n",
    "<br>\n",
    "<br>\n",
    "\n",
    "\n",
    "For the following directed graph's adjacency matrix create two functions, one that calculates and outputs the indegree of each vertex and one that does the same for outdegree. \n",
    " "
   ]
  },
  {
   "cell_type": "code",
   "execution_count": 13,
   "metadata": {},
   "outputs": [],
   "source": [
    "public Map<String, Integer> computeOutDegree(Digraph graph){\n",
    "    Map<String, Integer> indegree = new HashMap<>();\n",
    "    Map<String, List<Edge>> adjList = graph.getMap();\n",
    "    for(String vertex: adjList.keySet()){\n",
    "        indegree.put(vertex, adjList.get(vertex).size());\n",
    "    }\n",
    "    return indegree;\n",
    "}"
   ]
  },
  {
   "cell_type": "code",
   "execution_count": 14,
   "metadata": {},
   "outputs": [],
   "source": [
    "public Map<String, Integer> computeInDegree(Digraph graph){\n",
    "\n",
    "    Map<String, List<Edge>> adjList = graph.getMap();\n",
    "    Map<String, Integer> indegree = new HashMap<>();\n",
    "    \n",
    "    /* Step 1: Initialize our indegree map to contain all vertecies and initial indegrees of 0 */\n",
    "    for(String vertex: adjList.keySet()){\n",
    "        indegree.put(vertex, 0);\n",
    "    }\n",
    "    \n",
    "    \n",
    "    /* Step 2: count instances of the vertecies appearing in other vertecies associated lists */\n",
    "    for(String vertex: adjList.keySet()){\n",
    "        for(Edge edge: adjList.get(vertex)){\n",
    "            String dest = edge.getDest();\n",
    "            indegree.put(dest, indegree.get(dest) + 1);\n",
    "        }\n",
    "    }\n",
    "    \n",
    "    return indegree;\n",
    "}"
   ]
  },
  {
   "cell_type": "code",
   "execution_count": 26,
   "metadata": {},
   "outputs": [
    {
     "name": "stdout",
     "output_type": "stream",
     "text": [
      "Indegree: {a=1, b=1, c=1, d=1}\n",
      "Outdegree: {a=3, b=0, c=1, d=0}\n"
     ]
    }
   ],
   "source": [
    "/* Testing */\n",
    "\n",
    "Digraph digraph = new Digraph();\n",
    "digraph.addVertex(\"a\");\n",
    "digraph.addVertex(\"b\");\n",
    "digraph.addVertex(\"c\");\n",
    "digraph.addVertex(\"d\");\n",
    "digraph.addEdge(\"a\", \"b\", 1);\n",
    "digraph.addEdge(\"a\", \"c\", 1);\n",
    "digraph.addEdge(\"c\", \"a\", 1);\n",
    "digraph.addEdge(\"c\", \"a\", 1);\n",
    "digraph.addEdge(\"c\", \"a\", 1);\n",
    "digraph.addEdge(\"a\", \"d\", 1);\n",
    "\n",
    "Map<String, Integer> indegrees = computeInDegree(digraph);\n",
    "Map<String, Integer> outdegrees = computeOutDegree(digraph);\n",
    "\n",
    "System.out.printf(\"Indegree: %s\\n\", indegrees);\n",
    "System.out.printf(\"Outdegree: %s\\n\", outdegrees);\n",
    ";"
   ]
  },
  {
   "cell_type": "markdown",
   "metadata": {},
   "source": [
    "If your functions are implemented correctly you should have recieved the following output:\n",
    "```\n",
    "Indegree: {a=0, b=1, c=1, d=1}\n",
    "Outdegree: {a=3, b=0, c=0, d=0}\n",
    "\n",
    "```"
   ]
  }
 ],
 "metadata": {
  "kernelspec": {
   "display_name": "Java",
   "language": "java",
   "name": "java"
  },
  "language_info": {
   "codemirror_mode": "java",
   "file_extension": ".jshell",
   "mimetype": "text/x-java-source",
   "name": "Java",
   "pygments_lexer": "java",
   "version": "11.0.3+7"
  }
 },
 "nbformat": 4,
 "nbformat_minor": 2
}
