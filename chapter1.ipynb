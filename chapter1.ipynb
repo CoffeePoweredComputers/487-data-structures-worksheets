{
 "cells": [
  {
   "cell_type": "code",
   "execution_count": null,
   "metadata": {},
   "outputs": [],
   "source": [
    "import java.util.Random;"
   ]
  },
  {
   "cell_type": "code",
   "execution_count": null,
   "metadata": {},
   "outputs": [],
   "source": [
    "// helper methods\n",
    "// random array generator\n",
    "public int[] randomArr(int size) {\n",
    "    Random r = new Random();\n",
    "    int[] arr = new int[size];\n",
    "    \n",
    "    for (int i = 0; i < size; i++) {\n",
    "        arr[i] = r.nextInt(size) + 1;\n",
    "    }\n",
    "    \n",
    "    return arr;\n",
    "}\n",
    "\n",
    "// array printer\n",
    "public void printArr(int[] arr) {\n",
    "    for (int num : arr) {\n",
    "        System.out.print(num + \" \");\n",
    "    }\n",
    "    System.out.println();\n",
    "}"
   ]
  },
  {
   "cell_type": "code",
   "execution_count": null,
   "metadata": {},
   "outputs": [],
   "source": [
    "public int maxFind(int[] arr) {\n",
    "    int max = arr[0];\n",
    "    \n",
    "    for (int num: arr) {\n",
    "        if (num > max) {\n",
    "            max = num;\n",
    "        }\n",
    "    }\n",
    "    \n",
    "    return max;\n",
    "}"
   ]
  },
  {
   "cell_type": "code",
   "execution_count": null,
   "metadata": {},
   "outputs": [],
   "source": [
    "// proof that maxFind works\n",
    "int[] arr = randomArr(30);\n",
    "printArr(arr);\n",
    "System.out.println(\"The max number is \" + maxFind(arr));"
   ]
  },
  {
   "cell_type": "code",
   "execution_count": null,
   "metadata": {},
   "outputs": [],
   "source": [
    "// tracl steps of maxFind\n",
    "public int maxFindTrackSteps(int[] arr) {\n",
    "    int steps = 0;\n",
    "    \n",
    "    int max = arr[0];\n",
    "    steps++;\n",
    "    \n",
    "    for (int num: arr) {\n",
    "        steps++;\n",
    "        \n",
    "        if (num > max) {\n",
    "            steps += 1;\n",
    "            max = num;\n",
    "        }\n",
    "    }\n",
    "    \n",
    "    // return max;\n",
    "    steps++;\n",
    "    \n",
    "    return steps;\n",
    "}"
   ]
  },
  {
   "cell_type": "code",
   "execution_count": null,
   "metadata": {},
   "outputs": [],
   "source": [
    "int[] steps = new int[50];\n",
    "for (int i = 1; i < 50; i++) {\n",
    "    int[] arr = randomArr(i);\n",
    "    steps[i] = maxFindTrackSteps(arr);\n",
    "}\n",
    "printArr(steps);"
   ]
  },
  {
   "cell_type": "code",
   "execution_count": null,
   "metadata": {},
   "outputs": [],
   "source": [
    "for (int num:steps) {\n",
    "    for (int i = 0; i < num; i++) {\n",
    "        System.out.print(\"-\");\n",
    "    }\n",
    "    System.out.println();\n",
    "}"
   ]
  },
  {
   "cell_type": "code",
   "execution_count": 4,
   "metadata": {},
   "outputs": [
    {
     "name": "stdout",
     "output_type": "stream",
     "text": [
      ":: problems summary ::\n",
      ":::: ERRORS\n",
      "\tServer access error at url https://repo.maven.apache.org/maven2/io/github/spencerpark/jupyter-jvm-basekernel/2.0.0-SNAPSHOT/maven-metadata.xml (javax.net.ssl.SSLException: Unexpected error: java.security.InvalidAlgorithmParameterException: the trustAnchors parameter must be non-empty)\n",
      "\n",
      "\tServer access error at url https://repo.maven.apache.org/maven2/io/github/spencerpark/jupyter-jvm-basekernel/2.0.0-SNAPSHOT/jupyter-jvm-basekernel-2.0.0-SNAPSHOT.pom (javax.net.ssl.SSLException: Unexpected error: java.security.InvalidAlgorithmParameterException: the trustAnchors parameter must be non-empty)\n",
      "\n",
      "\tServer access error at url https://repo.maven.apache.org/maven2/io/github/spencerpark/jupyter-jvm-basekernel/2.0.0-SNAPSHOT/jupyter-jvm-basekernel-2.0.0-SNAPSHOT.jar (javax.net.ssl.SSLException: Unexpected error: java.security.InvalidAlgorithmParameterException: the trustAnchors parameter must be non-empty)\n",
      "\n",
      "\tServer access error at url https://oss.sonatype.org/content/repositories/snapshots/io/github/spencerpark/jupyter-jvm-basekernel/2.0.0-SNAPSHOT/maven-metadata.xml (javax.net.ssl.SSLException: Unexpected error: java.security.InvalidAlgorithmParameterException: the trustAnchors parameter must be non-empty)\n",
      "\n",
      "\tServer access error at url https://oss.sonatype.org/content/repositories/snapshots/io/github/spencerpark/jupyter-jvm-basekernel/2.0.0-SNAPSHOT/jupyter-jvm-basekernel-2.0.0-SNAPSHOT.pom (javax.net.ssl.SSLException: Unexpected error: java.security.InvalidAlgorithmParameterException: the trustAnchors parameter must be non-empty)\n",
      "\n",
      "\tServer access error at url https://oss.sonatype.org/content/repositories/snapshots/io/github/spencerpark/jupyter-jvm-basekernel/2.0.0-SNAPSHOT/jupyter-jvm-basekernel-2.0.0-SNAPSHOT.jar (javax.net.ssl.SSLException: Unexpected error: java.security.InvalidAlgorithmParameterException: the trustAnchors parameter must be non-empty)\n",
      "\n",
      "\tServer access error at url https://repo.maven.apache.org/maven2/io/github/spencerpark/jupyter-jvm-basekernel/2.0.0-SNAPSHOT/maven-metadata.xml (javax.net.ssl.SSLException: Unexpected error: java.security.InvalidAlgorithmParameterException: the trustAnchors parameter must be non-empty)\n",
      "\n",
      "\tServer access error at url https://repo.maven.apache.org/maven2/io/github/spencerpark/jupyter-jvm-basekernel/2.0.0-SNAPSHOT/jupyter-jvm-basekernel-2.0.0-SNAPSHOT.pom (javax.net.ssl.SSLException: Unexpected error: java.security.InvalidAlgorithmParameterException: the trustAnchors parameter must be non-empty)\n",
      "\n",
      "\tServer access error at url https://repo.maven.apache.org/maven2/io/github/spencerpark/jupyter-jvm-basekernel/2.0.0-SNAPSHOT/jupyter-jvm-basekernel-2.0.0-SNAPSHOT.jar (javax.net.ssl.SSLException: Unexpected error: java.security.InvalidAlgorithmParameterException: the trustAnchors parameter must be non-empty)\n",
      "\n"
     ]
    },
    {
     "ename": "EvalException",
     "evalue": "Exception occurred while running cell magic 'loadFromPOM': Error resolving '/tmp/ijava-ivy-15951498153823840172.xml'. [unresolved dependency: io.github.spencerpark#jupyter-jvm-basekernel;2.0.0-SNAPSHOT: not found]",
     "output_type": "error",
     "traceback": [
      "\u001b[1m\u001b[31m---------------------------------------------------------------------------\u001b[0m",
      "\u001b[1m\u001b[31mjava.lang.RuntimeException: Exception occurred while running cell magic 'loadFromPOM': Error resolving '/tmp/ijava-ivy-15951498153823840172.xml'. [unresolved dependency: io.github.spencerpark#jupyter-jvm-basekernel;2.0.0-SNAPSHOT: not found]\u001b[0m",
      "\u001b[1m\u001b[31m\tat io.github.spencerpark.ijava.runtime.Magics.cellMagic(Magics.java:35)\u001b[0m",
      "\u001b[1m\u001b[31m\tat .(#17:1)\u001b[0m"
     ]
    }
   ],
   "source": [
    "%%loadFromPOM\n",
    "<repository>\n",
    "  <id>oss-sonatype-snapshots</id>\n",
    "  <url>https://oss.sonatype.org/content/repositories/snapshots/</url>\n",
    "</repository>\n",
    "\n",
    "<dependency>\n",
    "  <groupId>io.github.spencerpark</groupId>\n",
    "  <artifactId>jupyter-jvm-basekernel</artifactId>\n",
    "  <version>2.0.0-SNAPSHOT</version>\n",
    "</dependency>"
   ]
  },
  {
   "cell_type": "code",
   "execution_count": 1,
   "metadata": {},
   "outputs": [],
   "source": [
    "%%loadFromPOM\n",
    "<dependency>\n",
    "    <groupId>org.knowm.xchart</groupId>\n",
    "    <artifactId>xchart</artifactId>\n",
    "    <version>3.5.2</version>\n",
    "</dependency>"
   ]
  }
 ],
 "metadata": {
  "kernelspec": {
   "display_name": "Java",
   "language": "java",
   "name": "java"
  },
  "language_info": {
   "codemirror_mode": "java",
   "file_extension": ".jshell",
   "mimetype": "text/x-java-source",
   "name": "Java",
   "pygments_lexer": "java",
   "version": "11.0.3+7-Ubuntu-1ubuntu218.04.1"
  }
 },
 "nbformat": 4,
 "nbformat_minor": 2
}
