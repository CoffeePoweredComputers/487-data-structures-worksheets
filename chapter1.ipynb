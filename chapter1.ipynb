{
 "cells": [
  {
   "cell_type": "markdown",
   "metadata": {},
   "source": [
    "## Loading Libraries"
   ]
  },
  {
   "cell_type": "markdown",
   "metadata": {},
   "source": [
    "Let's import all the necessary packages first. You can safely ignore this section."
   ]
  },
  {
   "cell_type": "code",
   "execution_count": 1,
   "metadata": {},
   "outputs": [],
   "source": [
    "import java.util.Random;\n",
    "import java.lang.*;"
   ]
  },
  {
   "cell_type": "code",
   "execution_count": 2,
   "metadata": {},
   "outputs": [],
   "source": [
    "%%loadFromPOM\n",
    "<dependency>\n",
    "    <groupId>org.knowm.xchart</groupId>\n",
    "    <artifactId>xchart</artifactId>\n",
    "    <version>3.5.2</version>\n",
    "</dependency>"
   ]
  },
  {
   "cell_type": "code",
   "execution_count": 3,
   "metadata": {},
   "outputs": [],
   "source": [
    "%maven org.knowm.xchart:xchart:3.5.2\n",
    "import org.knowm.xchart.*;"
   ]
  },
  {
   "cell_type": "markdown",
   "metadata": {},
   "source": [
    "## Helper Methods"
   ]
  },
  {
   "cell_type": "markdown",
   "metadata": {},
   "source": [
    "Let's code two helper methods:\n",
    "\n",
    "* random array generator\n",
    "* array printer\n",
    "\n",
    "It is assumed that you are fully capable of coding two similar methods by yourself. If you are new to Java (but have some experience with a different language), playing with these methods will help you get familiar with Java faster."
   ]
  },
  {
   "cell_type": "code",
   "execution_count": 4,
   "metadata": {},
   "outputs": [],
   "source": [
    "// random array generator\n",
    "public int[] randomArr(int size) {\n",
    "    Random r = new Random();\n",
    "    int[] arr = new int[size];\n",
    "    \n",
    "    for (int i = 0; i < size; i++) {\n",
    "        arr[i] = r.nextInt(1000) + 1;\n",
    "    }\n",
    "    \n",
    "    return arr;\n",
    "}\n",
    "\n",
    "// array printer\n",
    "public void printArr(int[] arr) {\n",
    "    for (int num : arr) {\n",
    "        System.out.print(num + \" \");\n",
    "    }\n",
    "    System.out.println();\n",
    "}\n",
    "\n",
    "// array deep copy\n",
    "public void copyArray(int[] from, int[] to) {\n",
    "    if (from.length != to.length) {\n",
    "        System.exit(0);\n",
    "    }\n",
    "    \n",
    "    for (int i = 0; i < from.length; i++) {\n",
    "        to[i] = from[i];\n",
    "    }\n",
    "}"
   ]
  },
  {
   "cell_type": "markdown",
   "metadata": {},
   "source": [
    "## Time Complexity - maxFind"
   ]
  },
  {
   "cell_type": "markdown",
   "metadata": {},
   "source": [
    "Here is the maxFind method and its sanity check:"
   ]
  },
  {
   "cell_type": "code",
   "execution_count": 5,
   "metadata": {},
   "outputs": [
    {
     "name": "stdout",
     "output_type": "stream",
     "text": [
      "686 145 11 796 848 644 781 277 384 919 53 501 523 650 442 \n",
      "The max number is 919\n"
     ]
    }
   ],
   "source": [
    "// maxFinder\n",
    "public int maxFind(int[] arr) {\n",
    "    int max = arr[0];\n",
    "    \n",
    "    for (int num: arr) {\n",
    "        if (num > max) {\n",
    "            max = num;\n",
    "        }\n",
    "    }\n",
    "    \n",
    "    return max;\n",
    "}\n",
    "\n",
    "// proof that maxFind works\n",
    "int[] arr = randomArr(15);\n",
    "printArr(arr);\n",
    "System.out.println(\"The max number is \" + maxFind(arr));"
   ]
  },
  {
   "cell_type": "markdown",
   "metadata": {},
   "source": [
    "Let's try to find the relationship between input size (i.e., the length of input array) and steps of maxFind takes to find the max number. Lets modify the maxFind method with a flag. When flag is set to true, the method returns the steps the method takes to fully execute the method."
   ]
  },
  {
   "cell_type": "code",
   "execution_count": 6,
   "metadata": {},
   "outputs": [],
   "source": [
    "// track steps of maxFind\n",
    "public int maxFindTrack(int[] arr, boolean trackSteps) {\n",
    "    // init steps\n",
    "    int steps = 0;\n",
    "    \n",
    "    int max = arr[0];\n",
    "    \n",
    "    // increment steps\n",
    "    if (trackSteps) {\n",
    "        steps++;\n",
    "    }\n",
    "    \n",
    "    for (int num: arr) {\n",
    "        \n",
    "        if (num > max) {\n",
    "            max = num;\n",
    "\n",
    "            // increment steps\n",
    "            if (trackSteps) {\n",
    "                steps++;\n",
    "            }\n",
    "        }\n",
    "        \n",
    "        // increment steps\n",
    "        if (trackSteps) {\n",
    "            steps++;\n",
    "        }\n",
    "    }\n",
    "    \n",
    "    // increment steps\n",
    "    if (trackSteps) {\n",
    "        steps++;\n",
    "        return steps;\n",
    "    }\n",
    "    \n",
    "    return max;\n",
    "}\n",
    "\n"
   ]
  },
  {
   "cell_type": "code",
   "execution_count": 13,
   "metadata": {},
   "outputs": [
    {
     "name": "stdout",
     "output_type": "stream",
     "text": [
      "0 3 4 5 6 9 11 11 10 11 13 14 16 18 20 \n"
     ]
    },
    {
     "data": {
      "image/png": "[encoded data removed]",
      "text/plain": [
       "BufferedImage@5a0b8d9f: type = 1 DirectColorModel: rmask=ff0000 gmask=ff00 bmask=ff amask=0 IntegerInterleavedRaster: width = 600 height = 400 #Bands = 3 xOff = 0 yOff = 0 dataOffset[0] 0"
      ]
     },
     "execution_count": 13,
     "metadata": {},
     "output_type": "execute_result"
    }
   ],
   "source": [
    "// proof that maxFindTrack works\n",
    "int size = 15;\n",
    "int[] steps = new int[size];\n",
    "for (int i = 1; i < steps.length; i++) {\n",
    "    int[] arr = randomArr(i);\n",
    "    steps[i] = maxFindTrack(arr, true);\n",
    "}\n",
    "printArr(steps);\n",
    "\n",
    "// size of input - convert int to double for plotting\n",
    "double[] xData = new double[size];\n",
    "for (int i = 1; i < xData.length; i++) {\n",
    "    xData[i] = i;\n",
    "}\n",
    "\n",
    "// steps - convert int to double for plotting\n",
    "double[] yData = new double[size];\n",
    "for (int i = 0; i < yData.length; i++) {\n",
    "    yData[i] = steps[i];\n",
    "}\n",
    "\n",
    "// plot it\n",
    "XYChart chart = QuickChart.getChart(\"Steps vs Input Size\", \"Input Size\", \"Steps\", \"y(x)\", xData, yData);\n",
    "BitmapEncoder.getBufferedImage(chart);"
   ]
  },
  {
   "cell_type": "markdown",
   "metadata": {},
   "source": [
    "To quantify the steps it takes to execute maxFind more accurately, we can further modify maxFind method to deal with the worst case scenario and the best case scenarios:\n",
    "\n",
    "* worst: an ascending sorted array\n",
    "* best: a descending sorted array"
   ]
  },
  {
   "cell_type": "code",
   "execution_count": 9,
   "metadata": {},
   "outputs": [],
   "source": [
    "// track steps of maxFind\n",
    "public int maxFindTrackUpdate(int[] arr, boolean trackSteps, String condition) {\n",
    "    // init arr depending on condition\n",
    "    if (condition.equals(\"worst\")) {\n",
    "        Arrays.sort(arr);\n",
    "    }\n",
    "    \n",
    "    if (condition.equals(\"best\")) {\n",
    "        Arrays.sort(arr);\n",
    "        for (int i = 0; i < arr.length/2; i++) {\n",
    "            int temp = arr[i];\n",
    "            arr[i] = arr[arr.length-1];\n",
    "            arr[arr.length-1] = temp;\n",
    "        }\n",
    "    }\n",
    "    \n",
    "    // init steps\n",
    "    int steps = 0;\n",
    "    \n",
    "    int max = arr[0];\n",
    "    \n",
    "    // increment steps\n",
    "    if (trackSteps) {\n",
    "        steps++;\n",
    "    }\n",
    "    \n",
    "    for (int num: arr) {\n",
    "        \n",
    "        if (num > max) {\n",
    "            max = num;\n",
    "\n",
    "            // increment steps\n",
    "            if (trackSteps) {\n",
    "                steps++;\n",
    "            }\n",
    "        }\n",
    "        \n",
    "        // increment steps\n",
    "        if (trackSteps) {\n",
    "            steps++;\n",
    "        }\n",
    "    }\n",
    "    \n",
    "    // increment steps\n",
    "    if (trackSteps) {\n",
    "        steps++;\n",
    "        return steps;\n",
    "    }\n",
    "    \n",
    "    return max;\n",
    "}"
   ]
  },
  {
   "cell_type": "markdown",
   "metadata": {},
   "source": [
    "Let's plot the steps it takes to find max from a randomly generated array with 30 integers for different scenarios."
   ]
  },
  {
   "cell_type": "code",
   "execution_count": 16,
   "metadata": {},
   "outputs": [
    {
     "name": "stdout",
     "output_type": "stream",
     "text": [
      "Best: 0 3 4 5 6 7 8 9 10 11 12 13 14 15 16 17 18 19 20 21 22 23 24 25 26 27 28 29 30 31 \n",
      "Normal: 0 3 5 6 7 9 11 10 10 13 13 15 17 18 18 19 22 21 24 24 24 23 25 27 27 29 31 34 32 36 \n",
      "Worst: 0 3 5 7 9 11 13 15 17 19 21 23 25 27 29 31 33 35 37 39 41 43 45 47 48 51 52 54 57 59 \n"
     ]
    },
    {
     "data": {
      "image/png": "[encoded data removed]",
      "text/plain": [
       "BufferedImage@23fb566e: type = 1 DirectColorModel: rmask=ff0000 gmask=ff00 bmask=ff amask=0 IntegerInterleavedRaster: width = 600 height = 400 #Bands = 3 xOff = 0 yOff = 0 dataOffset[0] 0"
      ]
     },
     "execution_count": 16,
     "metadata": {},
     "output_type": "execute_result"
    }
   ],
   "source": [
    "// predetermined size\n",
    "size = 30;\n",
    "\n",
    "// storage of steps\n",
    "int[] best = new int[size];\n",
    "int[] normal = new int[size];\n",
    "int[] worst = new int[size];\n",
    "\n",
    "// populate storage\n",
    "for (int i = 1; i < size; i++) {\n",
    "    int[] tempB = randomArr(i);\n",
    "    int[] tempN = new int[tempB.length];\n",
    "    copyArray(tempB, tempN);\n",
    "    int[] tempW = new int[tempB.length];\n",
    "    copyArray(tempB, tempW);\n",
    "    \n",
    "    best[i] = maxFindTrackUpdate(tempB, true, \"best\");\n",
    "    normal[i] = maxFindTrackUpdate(tempN, true, \"normal\");\n",
    "    worst[i] = maxFindTrackUpdate(tempW, true, \"worst\");\n",
    "}\n",
    "\n",
    "\n",
    "System.out.print(\"Best: \");\n",
    "printArr(best);\n",
    "System.out.print(\"Normal: \");\n",
    "printArr(normal);\n",
    "System.out.print(\"Worst: \");\n",
    "printArr(worst);\n",
    "\n",
    "// size of input - convert int to double for plotting\n",
    "double[] xData = new double[size];\n",
    "for (int i = 1; i < xData.length; i++) {\n",
    "    xData[i] = i;\n",
    "}\n",
    "\n",
    "// best - convert int to double for plotting\n",
    "double[] yDataB = new double[size];\n",
    "for (int i = 0; i < yDataB.length; i++) {\n",
    "    yDataB[i] = best[i];\n",
    "}\n",
    "\n",
    "// normal - convert int to double for plotting\n",
    "double[] yDataN = new double[size];\n",
    "for (int i = 0; i < yDataN.length; i++) {\n",
    "    yDataN[i] = normal[i];\n",
    "}\n",
    "\n",
    "// worst - convert int to double for plotting\n",
    "double[] yDataW = new double[size];\n",
    "for (int i = 0; i < yDataW.length; i++) {\n",
    "    yDataW[i] = worst[i];\n",
    "}\n",
    "\n",
    "// plot it\n",
    "XYChart chart = new XYChartBuilder().width(600).height(400).title(\"Find Max\").xAxisTitle(\"Input Size\").yAxisTitle(\"Steps\").build();\n",
    "chart.addSeries(\"Best\", xData, yDataB);\n",
    "chart.addSeries(\"Normal\", xData, yDataN);\n",
    "chart.addSeries(\"Worst\", xData, yDataW);\n",
    "BitmapEncoder.getBufferedImage(chart);"
   ]
  },
  {
   "cell_type": "markdown",
   "metadata": {},
   "source": [
    "## Time Complexity - Fibonacci Sequence"
   ]
  }
 ],
 "metadata": {
  "kernelspec": {
   "display_name": "Java",
   "language": "java",
   "name": "java"
  },
  "language_info": {
   "codemirror_mode": "java",
   "file_extension": ".jshell",
   "mimetype": "text/x-java-source",
   "name": "Java",
   "pygments_lexer": "java",
   "version": "11.0.3+7-Ubuntu-1ubuntu218.04.1"
  }
 },
 "nbformat": 4,
 "nbformat_minor": 2
}
