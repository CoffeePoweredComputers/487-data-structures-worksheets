{
 "cells": [
  {
   "cell_type": "code",
   "execution_count": 1,
   "metadata": {},
   "outputs": [],
   "source": [
    "import java.util.Random;"
   ]
  },
  {
   "cell_type": "code",
   "execution_count": 2,
   "metadata": {},
   "outputs": [],
   "source": [
    "// helper methods\n",
    "// random array generator\n",
    "public int[] randomArr(int size) {\n",
    "    Random r = new Random();\n",
    "    int[] arr = new int[size];\n",
    "    \n",
    "    for (int i = 0; i < size; i++) {\n",
    "        arr[i] = r.nextInt(size) + 1;\n",
    "    }\n",
    "    \n",
    "    return arr;\n",
    "}\n",
    "\n",
    "// array printer\n",
    "public void printArr(int[] arr) {\n",
    "    for (int num : arr) {\n",
    "        System.out.print(num + \" \");\n",
    "    }\n",
    "    System.out.println();\n",
    "}"
   ]
  },
  {
   "cell_type": "code",
   "execution_count": 3,
   "metadata": {},
   "outputs": [],
   "source": [
    "public int maxFind(int[] arr) {\n",
    "    int max = arr[0];\n",
    "    \n",
    "    for (int num: arr) {\n",
    "        if (num > max) {\n",
    "            max = num;\n",
    "        }\n",
    "    }\n",
    "    \n",
    "    return max;\n",
    "}"
   ]
  },
  {
   "cell_type": "code",
   "execution_count": 4,
   "metadata": {},
   "outputs": [
    {
     "name": "stdout",
     "output_type": "stream",
     "text": [
      "1 6 12 13 14 21 25 14 25 16 25 8 20 4 9 1 13 27 15 21 14 29 18 16 12 29 9 24 12 28 \n",
      "The max number is 29\n"
     ]
    }
   ],
   "source": [
    "// proof that maxFind works\n",
    "int[] arr = randomArr(30);\n",
    "printArr(arr);\n",
    "System.out.println(\"The max number is \" + maxFind(arr));"
   ]
  },
  {
   "cell_type": "code",
   "execution_count": 5,
   "metadata": {},
   "outputs": [],
   "source": [
    "// tracl steps of maxFind\n",
    "public int maxFindTrackSteps(int[] arr) {\n",
    "    int steps = 0;\n",
    "    \n",
    "    int max = arr[0];\n",
    "    steps++;\n",
    "    \n",
    "    for (int num: arr) {\n",
    "        steps++;\n",
    "        \n",
    "        if (num > max) {\n",
    "            steps += 1;\n",
    "            max = num;\n",
    "        }\n",
    "    }\n",
    "    \n",
    "    // return max;\n",
    "    steps++;\n",
    "    \n",
    "    return steps;\n",
    "}"
   ]
  },
  {
   "cell_type": "code",
   "execution_count": 6,
   "metadata": {},
   "outputs": [
    {
     "name": "stdout",
     "output_type": "stream",
     "text": [
      "0 3 4 5 6 8 8 10 12 11 14 15 17 18 18 20 21 23 24 23 23 24 26 30 28 29 30 31 32 33 35 33 38 38 37 38 41 41 43 44 47 45 45 47 49 49 48 51 50 54 \n"
     ]
    }
   ],
   "source": [
    "int[] steps = new int[50];\n",
    "for (int i = 1; i < 50; i++) {\n",
    "    int[] arr = randomArr(i);\n",
    "    steps[i] = maxFindTrackSteps(arr);\n",
    "}\n",
    "printArr(steps);"
   ]
  },
  {
   "cell_type": "code",
   "execution_count": 7,
   "metadata": {},
   "outputs": [
    {
     "name": "stdout",
     "output_type": "stream",
     "text": [
      "\n",
      "---\n",
      "----\n",
      "-----\n",
      "------\n",
      "--------\n",
      "--------\n",
      "----------\n",
      "------------\n",
      "-----------\n",
      "--------------\n",
      "---------------\n",
      "-----------------\n",
      "------------------\n",
      "------------------\n",
      "--------------------\n",
      "---------------------\n",
      "-----------------------\n",
      "------------------------\n",
      "-----------------------\n",
      "-----------------------\n",
      "------------------------\n",
      "--------------------------\n",
      "------------------------------\n",
      "----------------------------\n",
      "-----------------------------\n",
      "------------------------------\n",
      "-------------------------------\n",
      "--------------------------------\n",
      "---------------------------------\n",
      "-----------------------------------\n",
      "---------------------------------\n",
      "--------------------------------------\n",
      "--------------------------------------\n",
      "-------------------------------------\n",
      "--------------------------------------\n",
      "-----------------------------------------\n",
      "-----------------------------------------\n",
      "-------------------------------------------\n",
      "--------------------------------------------\n",
      "-----------------------------------------------\n",
      "---------------------------------------------\n",
      "---------------------------------------------\n",
      "-----------------------------------------------\n",
      "-------------------------------------------------\n",
      "-------------------------------------------------\n",
      "------------------------------------------------\n",
      "---------------------------------------------------\n",
      "--------------------------------------------------\n",
      "------------------------------------------------------\n"
     ]
    }
   ],
   "source": [
    "for (int num:steps) {\n",
    "    for (int i = 0; i < num; i++) {\n",
    "        System.out.print(\"-\");\n",
    "    }\n",
    "    System.out.println();\n",
    "}"
   ]
  }
 ],
 "metadata": {
  "kernelspec": {
   "display_name": "Java",
   "language": "java",
   "name": "java"
  },
  "language_info": {
   "codemirror_mode": "java",
   "file_extension": ".jshell",
   "mimetype": "text/x-java-source",
   "name": "Java",
   "pygments_lexer": "java",
   "version": "12.0.1+12"
  }
 },
 "nbformat": 4,
 "nbformat_minor": 2
}
