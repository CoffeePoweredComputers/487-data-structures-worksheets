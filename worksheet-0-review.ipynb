{
 "cells": [
  {
   "cell_type": "markdown",
   "metadata": {},
   "source": [
    "<h1 style=\"text-align: center; font-size: 40px\">Java Review</h1>"
   ]
  },
  {
   "cell_type": "markdown",
   "metadata": {},
   "source": [
    "## Loading Libraries\n",
    "\n",
    "Let's import all the necessary packages first!"
   ]
  },
  {
   "cell_type": "code",
   "execution_count": null,
   "metadata": {},
   "outputs": [],
   "source": [
    "import java.util.*;\n",
    "import java.lang.*;"
   ]
  },
  {
   "cell_type": "markdown",
   "metadata": {},
   "source": [
    "## Objectives\n",
    "\n",
    "The objectives of this worksheet are as follows:\n",
    "* Review of the `List` interface\n",
    "* Review of the `Integer` class\n",
    "* Review of making objects\n",
    "* Some basic programming patterns\n",
    "* XML parsing\n",
    "\n",
    "\n",
    "#### Using Jupyter\n",
    "A few things to remind you with regard to using this Jupyter environment:\n",
    "1. If the platform crashes don't worry. All of this is in the browser so just refresh and all of your changes up to your last save should still be there. For this reason we encourage you to **save often**.\n",
    "2. Be sure to run cells from top to bottom.\n",
    "3. If you're getting strange errors to go: Kernel->Restart & Clear Output. From there, run cells from top to bottom. \n",
    "\n",
    "Additionally keep an eye out for the following badges in each section they give an indication on what sections we will be using for inclass activities: \n",
    "* <img alt=\"Activity - In-Class\" src=\"https://img.shields.io/badge/Activity-In--Class-E84A27\" align=\"left\" style=\"margin-right: 5px\"/>"
   ]
  },
  {
   "cell_type": "markdown",
   "metadata": {},
   "source": [
    "<h2 style=\"text-align: center;\"> Creating Classes and Objects  </h2>"
   ]
  },
  {
   "cell_type": "markdown",
   "metadata": {},
   "source": [
    "### Review of Terms\n",
    "\n",
    "##### Static\n",
    "\n",
    "Static defines whether a class must be instantiated to use the method within the class. Consider the following two classes each of which contain a `sumNums` method. The only difference is one uses the `static` modifier and the other does not."
   ]
  },
  {
   "cell_type": "code",
   "execution_count": null,
   "metadata": {},
   "outputs": [],
   "source": [
    "class ComputeSumWithStatic{\n",
    "\n",
    "    public static int sumNums(Integer[] nums){\n",
    "        \n",
    "        int total = 0;\n",
    "        for(Integer num: nums){\n",
    "            total += num;\n",
    "        }\n",
    "        \n",
    "        return total;\n",
    "    }\n",
    "}"
   ]
  },
  {
   "cell_type": "code",
   "execution_count": null,
   "metadata": {},
   "outputs": [],
   "source": [
    "class ComputeSumWithoutStatic{\n",
    "\n",
    "    public int sumNums(Integer[] nums){\n",
    "        int total = 0;\n",
    "        for(Integer num: nums){\n",
    "            total += num;\n",
    "        }\n",
    "        return total;\n",
    "    }\n",
    "\n",
    "}"
   ]
  },
  {
   "cell_type": "markdown",
   "metadata": {},
   "source": [
    "Now let's define a set of numbers and attempt to use each of these class methods on that list of numbers."
   ]
  },
  {
   "cell_type": "code",
   "execution_count": null,
   "metadata": {},
   "outputs": [],
   "source": [
    "Integer[] nums = {1, 2, 3, 4, 5};"
   ]
  },
  {
   "cell_type": "code",
   "execution_count": null,
   "metadata": {},
   "outputs": [],
   "source": [
    "int sum = ComputeSumWithoutStatic.sumNums(nums);\n",
    "System.out.println(sum);"
   ]
  },
  {
   "cell_type": "code",
   "execution_count": null,
   "metadata": {},
   "outputs": [],
   "source": [
    "int sum = ComputeSumWithStatic.sumNums(nums);\n",
    "System.out.println(sum);"
   ]
  },
  {
   "cell_type": "markdown",
   "metadata": {},
   "source": [
    "As you should see, the first one produced an error and the second worked correctly. In order to use the non static method we must first create an instance of that class and then use the instance to invoke the method on the list of numbers."
   ]
  },
  {
   "cell_type": "code",
   "execution_count": null,
   "metadata": {},
   "outputs": [],
   "source": [
    "ComputeSumWithoutStatic nonStaticSum = new ComputeSumWithoutStatic();\n",
    "int sum = nonStaticSum.sumNums(nums);\n",
    "System.out.println(sum);"
   ]
  },
  {
   "cell_type": "markdown",
   "metadata": {},
   "source": [
    "With few exceptions (e.g., the main method) you will be using non-static methods in the course."
   ]
  },
  {
   "cell_type": "markdown",
   "metadata": {},
   "source": [
    "\n",
    "\n",
    "##### Access Modifiers\n",
    "\n",
    "For classes:\n",
    "* `public`: The class can be accessed by any other class.\n",
    "* default: Only classes within the same project can access a class with default access level.\n",
    "\n",
    "For the purposes of this class either `public` or default will be acceptable since we are only building and using classes within the context of a single package. \n",
    "\n",
    "For attributes and methods:\n",
    "* `public`: The attribute and method is accessiable to any other class that instantiates, implements, or extends the class in which it resides.\n",
    "* `private`: The method of attribute is only accessible with the class.\n",
    "* `protected`: The methods or attributes are only accessiable within the same package or within a subclass.\n",
    "* default: The methods or attributes are only accessiable within the same package.\n",
    "\n",
    "We will cover packages and the notion of subclasses in more detail later so don't concern yourself with `protected` or default access. Additionally, it is most common to use `public` or `private` so outside of being aware of `protected` and default you will not need to use them in this course.\n",
    "\n",
    "##### Constructor\n",
    "\n",
    "The constructor is a special method that is called when a class is instantiated and defines how the class is to be setup. Java does provide a default instructor when one isn't defined. Constructors are typically used for initializing class attributes using values passed in via parameters. Classes can have multiple constructors which are distiguished using the [method overloading rules of Java](https://www.w3schools.com/java/java_methods_overloading.asp). Below are some examples of constructors for a class containing information on coffee:\n",
    "\n",
    "```java\n",
    "class Coffee{\n",
    "    \n",
    "    private String brand;\n",
    "    private String roastType;\n",
    "    private float amountInOz;\n",
    "    private int rating;\n",
    "    \n",
    "    //Empty Constructor\n",
    "    Coffee(){\n",
    "        brand = null;\n",
    "        roastType = null;\n",
    "        amountInOz = null;\n",
    "        rating = null;\n",
    "    }\n",
    "    \n",
    "    //Sets all attributes\n",
    "    Coffee(String brand, String roastType, String amountInOz){\n",
    "        this.brand = brand;\n",
    "        this.roastType = roastType;\n",
    "        this.amountInOz = amountInOz;\n",
    "        this.rating = null;\n",
    "    }\n",
    "    \n",
    "    //Overloaded constructor\n",
    "    Coffee(String brand, String roastType, String amountInOz, int rating){\n",
    "        this.brand = brand;\n",
    "        this.roastType = roastType;\n",
    "        this.amountInOz = amountInOz;\n",
    "        this.rating = rating;\n",
    "    }\n",
    "    \n",
    "    //...\n",
    "}\n",
    "```\n",
    "##### Getters and Setters\n",
    "\n",
    "In keeping with concept of [encapusulation](), we will need to define getters and setters for the attributes to define and control which attributes the user of the class has read and write access to, respectively. Getters and setters generally follow the form of having the first word be `get` or `set` followed by the name of the attribute it is intended to read from or write to. For instance, if we have an string attribute `name` we would define the getter to be `getName` and the setter to be `setName`:\n",
    "\n",
    "```java\n",
    "public String getName(){\n",
    "    return name;\n",
    "}\n",
    "\n",
    "public void setName(String name){\n",
    "    this.name = name;\n",
    "}\n",
    "```\n",
    "As stated, this is to control access to private attributes so, if we wanted the user of the class to read the name but not change the name of an instance of a class we would provide a getter method but not a setter method. If the private attribute was only used in the class and is not intended to be used by the user in any way we would provide neither a setter or getter method for that attribute thus making it invisible to the user. "
   ]
  },
  {
   "cell_type": "markdown",
   "metadata": {},
   "source": [
    "### Creating a Class\n",
    "\n",
    "<img alt=\"Activity - In-Class\" src=\"https://img.shields.io/badge/Activity-In--Class-E84A27\" align=\"left\" style=\"margin-right: 5px\"/> Create a `Dog` class which has the following attributes:\n",
    "* name\n",
    "* breed\n",
    "* age\n",
    "* weight\n",
    "* height\n",
    "\n",
    "Each of these attributes should be private and have getter methods. Additionally, since `age`, `weight`, and `height` can change, create setter methods for each of them respecively. \n",
    "\n",
    "Additionally, create an override for the toString method such that, when an instance of the class is converted to a string or printed it displays the following:\n",
    "\n",
    "```bash\n",
    "<name>:\n",
    "    - breed: <breed>\n",
    "    - age: <age>\n",
    "    - weight: <weight>\n",
    "    - height: <height>\n",
    "```"
   ]
  },
  {
   "cell_type": "code",
   "execution_count": null,
   "metadata": {},
   "outputs": [],
   "source": [
    "public class Dog{\n",
    "    \n",
    "    private String name;    \n",
    "    private String breed;\n",
    "    private int age;\n",
    "    private int height;\n",
    "    private int weight;\n",
    "    \n",
    "    \n",
    "    /* Finish the following constructor*/\n",
    "    Dog(String name, /* Fill in the rest of the parameters for the constructor */){\n",
    "        \n",
    "        this.name = name;\n",
    "        /*Finish setting the attributes*/\n",
    "        \n",
    "    }\n",
    "    \n",
    "    /*\n",
    "    Define your getters below\n",
    "    */\n",
    "\n",
    "    \n",
    "    /*\n",
    "    Define your setters below\n",
    "    */\n",
    "\n",
    "    \n",
    "    /*\n",
    "    Override toString()\n",
    "    */\n",
    "    \n",
    "    \n",
    "}"
   ]
  },
  {
   "cell_type": "markdown",
   "metadata": {},
   "source": [
    "### Instantiating Classes and Printing Their Contents\n",
    "\n",
    "<img alt=\"Activity - In-Class\" src=\"https://img.shields.io/badge/Activity-In--Class-E84A27\" align=\"left\" style=\"margin-right: 5px\"/> Now that we've defined our `Dog` class lets instantiate a dog class, convert it to a string, and then print it. The following is an example of these set of operations you can use as a template:\n",
    "```java\n",
    "Dog doge1 = new Dog(\"Jack\", \"Bernese Mountain Dog\", 10, 30, 125);\n",
    "String dogeOneStr = doge1.toString();\n",
    "System.out.println(dogeOneStr)\n",
    "```"
   ]
  },
  {
   "cell_type": "code",
   "execution_count": null,
   "metadata": {},
   "outputs": [],
   "source": [
    "/* Your Solution Here */\n"
   ]
  },
  {
   "cell_type": "markdown",
   "metadata": {},
   "source": [
    "<img alt=\"Activity - In-Class\" src=\"https://img.shields.io/badge/Activity-In--Class-E84A27\" align=\"left\" style=\"margin-right: 5px\"/> Now that you've instantiated your `Dog` perform the following operations using the getter and setters you've defined in order to perform the following operations:\n",
    "1. Change the dogs weight and height\n",
    "2. Print the dog's new information\n",
    "3. Change the dog's age\n",
    "4. Print the new information\n",
    "\n",
    "*Hint: Use the getters and setters you've already defined*"
   ]
  },
  {
   "cell_type": "code",
   "execution_count": null,
   "metadata": {},
   "outputs": [],
   "source": [
    "/* Your Solution Here */\n"
   ]
  },
  {
   "cell_type": "markdown",
   "metadata": {},
   "source": [
    "<h2 style=\"text-align: center;\">List ADT</h2>"
   ]
  },
  {
   "cell_type": "markdown",
   "metadata": {},
   "source": [
    "### Interfaces\n",
    "\n",
    "We will cover interfaces and how to implement them in a later assignment however, for the purposes of interacting with the `List` interface it is useful to have at least a cursory understanding of what an interface is going foward.\n",
    "\n",
    "An interface is a special type of class in java which contains **only the prototypes of methods**. As such, it is defining the structure without providing implementation of that structure. This interface specifies that any class that implements list **must** have 25  methods which are specified by that interface. Commonly used ones include,\n",
    "* `add(Object o)`: Adds an object of the type the `List` is intended to contain to the list.\n",
    "* `get(int index)`: Gets an object at a specified index.\n",
    "* `remove(int i)`: Removes an object at a specified index.\n",
    "\n",
    "Thus, the structure of the list interface would look something like this\n",
    "\n",
    "```java\n",
    "interface List{\n",
    "    public void add(Object o);\n",
    "    public void remove(int index);\n",
    "    public void get(int index);\n",
    "    //...\n",
    "}\n",
    "```\n",
    "\n",
    "Examples of classes that implement the `List` interface include:\n",
    "* `ArrayList`\n",
    "* `LinkedList`\n",
    "\n",
    "To implement the `List` interface we use the `implements` key word and provide implementation for each of the interfaces methods:\n",
    "```java\n",
    "class ArrayList implements List{\n",
    "    public void add(Object o){\n",
    "        //implementation here\n",
    "    }\n",
    "    //...\n",
    "}\n",
    "```\n",
    "**Key Takeaway:** Interfaces allow us to ensure that any class that implements them must have implementation for the methods in the interface."
   ]
  },
  {
   "cell_type": "markdown",
   "metadata": {},
   "source": [
    "### Abstract Data Types\n",
    "\n",
    "The person responsible for the creation of Abstract Data Types (Barbara Listov) stated, in what would come to be known as the Listov Substitution Principle, that: \n",
    "\n",
    "> *\"Any subclass object should be substitutable for the superclass object from which it is derived.\"*\n",
    "\n",
    "Though this quote may take a few reads before it makes sense so lets  consider a concrete example to help expidite things. Let's think back to the `List` inteface. Though each implementation of the `List` interface has their own methods which are unique to them, they have **all** of the methods which are specified by the `List` interface and these have **identical** behaviour. This is important since we might defined a method which takes a list:"
   ]
  },
  {
   "cell_type": "code",
   "execution_count": null,
   "metadata": {},
   "outputs": [],
   "source": [
    "public float sumList(List<Integer> lst){\n",
    "    int total = 0;\n",
    "    for(int i = 0; i < lst.size(); i++){\n",
    "        total += lst.get(i);\n",
    "    }\n",
    "    return total;\n",
    "}"
   ]
  },
  {
   "cell_type": "markdown",
   "metadata": {},
   "source": [
    "Since this method takes a `List` the method that calls `sumList` could pass it either an `ArrayList` or a `LinkedList`. This method could use any of the methods specified by the `List` interface and the method would have  identical behaviour. As such, any subclass oject of `List` can be subsituted any other subclass that is derived from `List` without impacting the behaviour. This is why we commonly program to interfaces rather than their implementations; it makes our code less dependent on implementations (e.g., `ArrayList`) and thus more versitile."
   ]
  },
  {
   "cell_type": "code",
   "execution_count": null,
   "metadata": {},
   "outputs": [],
   "source": [
    "// Define some lists\n",
    "List<Integer> lst1 = new ArrayList<>();\n",
    "List<Integer> lst2 = new LinkedList<>();\n",
    "\n",
    "// Add 10 integers to each of the lists\n",
    "for(int i = 0; i < 10; i++){\n",
    "    lst1.add(i);\n",
    "    lst2.add(i);\n",
    "}\n",
    "\n",
    "System.out.printf(\"Summing ArrayList: %s\\n\",  sumList(lst1));\n",
    "System.out.printf(\"Summing LinkedList: %s\\n\", sumList(lst2));"
   ]
  },
  {
   "cell_type": "markdown",
   "metadata": {},
   "source": [
    "### Programming to Interfaces"
   ]
  },
  {
   "cell_type": "markdown",
   "metadata": {},
   "source": [
    "As you can see, the method worked for each of these examples. However, do note that the way in which we declared our lists is **very** important. We used:\n",
    "```java\n",
    "List<Integer> lst2 = new LinkedList<>();\n",
    "```\n",
    "rather than\n",
    "```java\n",
    "LinkedList<Integer> lst2 = new LinkedList<>();\n",
    "```\n",
    "By defining the list using the former rather than the latter, this limits the operations we are allowed to do on `lst2` to **only those that are included in the `List` interface**. LinkedLists have a number of methods that are specific to that class and are not shared by all classes that implement the `List` interface. For instance the `push` method adds an element to the end of a `LinkedList`. Run the two following cells to observe the different behaviour changing the way in which we define our list produces:"
   ]
  },
  {
   "cell_type": "code",
   "execution_count": null,
   "metadata": {},
   "outputs": [],
   "source": [
    "LinkedList<Integer> ll = new LinkedList<>(); // Delcared as LinkedList\n",
    "\n",
    "// Add 10 integers to each of the lists\n",
    "for(int i = 0; i < 10; i++){\n",
    "    ll.push(i);\n",
    "}\n",
    "\n",
    "System.out.printf(\"Summing LinkedList: %s\\n\", sumList(ll));"
   ]
  },
  {
   "cell_type": "code",
   "execution_count": null,
   "metadata": {},
   "outputs": [],
   "source": [
    "List<Integer> l = new LinkedList<>(); // Declared as List\n",
    "\n",
    "// Add 10 integers to each of the lists\n",
    "for(int i = 0; i < 10; i++){\n",
    "    l.push(i);\n",
    "}\n",
    "\n",
    "System.out.printf(\"Summing LinkedList: %s\\n\", sumList(l));"
   ]
  },
  {
   "cell_type": "markdown",
   "metadata": {},
   "source": [
    "As you can see the first one works and the second one produces an attribute error. This is because, though it is a `LinkedList` the second cell it is declared as a `List`. Here is a translation of how the two lines work in practice:\n",
    "1. `List<Integer> x = new LinkedList<>();`: I want only the functionality that is specified by the `List` interface and I want the `LinkedList` implementation of those methods.\n",
    "2. `LinkedList<Integer> l = new LinkedList<>();`: I want functionlity that is specific to the `LinkedList` implementation of the `List` interface.\n",
    "\n",
    "`List<>` is almost always prefered for delaring lists or passing them to methods (e.g., `sumList`) since we can swap the implementation of `List` without impacting the behaviour of the code. The second should only be used if you require functionality that is specific to the `LinkedList` class. In the next exercise you will be creating a method that takes `List<Integer>` and passing it both an `ArrayList` and a `LinkedList` to see some of this versitility in action."
   ]
  },
  {
   "cell_type": "markdown",
   "metadata": {},
   "source": [
    "### Creating a Method that uses a List \n",
    "\n",
    "<img alt=\"Activity - In-Class\" src=\"https://img.shields.io/badge/Activity-In--Class-E84A27\" align=\"left\" style=\"margin-right: 5px\"/>Create a method similar to `sumList` that takes a `List<Integer>` and computes the average of all the elements in the list. We will use this method with both `ArrayList<Integer>` and `LinkedList<Integer>` in order to demonstrate that this method can use any subclass of the `List` interface."
   ]
  },
  {
   "cell_type": "code",
   "execution_count": null,
   "metadata": {},
   "outputs": [],
   "source": [
    "public float listAvg(List<Integer> lst){\n",
    "    // fill in the body of the function\n",
    "}"
   ]
  },
  {
   "cell_type": "markdown",
   "metadata": {},
   "source": [
    "### ArrayList\n",
    "\n",
    "Now let's go over the `ArrayList` implementation of `List`. As stated before, there are two ways of declaring an `ArrayList`. For the following example, we will declare some lists of integers:\n",
    "* `ArrayList<Integer> numList = new ArrayList<>();`\n",
    "* `List<Integer> numList = new ArrayList<>();`\n",
    "\n",
    "The first declares an `ArrayList` which gives you access to implementations all of the methods in the `List` interface along with some additional methods that are specific to `ArrayList`. However, these methods are beyond the scope of what you will be using in this course and are not needed at the moment. The second limits you to only those method within the `List` interface. \n",
    "\n",
    "**Key Takeaway:** The second declaration is prefered unless you are in need of functionality that is specific to `ArrayList` which, as previously stated, you will not."
   ]
  },
  {
   "cell_type": "markdown",
   "metadata": {},
   "source": [
    "<img alt=\"Activity - In-Class\" src=\"https://img.shields.io/badge/Activity-In--Class-E84A27\" align=\"left\" style=\"margin-right: 5px\"/> Define an `ArrayList` of integers, add several integers to the list, then use the `listAvg` method to compute the average of the list you created and display it."
   ]
  },
  {
   "cell_type": "code",
   "execution_count": null,
   "metadata": {},
   "outputs": [],
   "source": [
    "/* Your solution here */"
   ]
  },
  {
   "cell_type": "markdown",
   "metadata": {},
   "source": [
    "### LinkedList\n",
    "\n",
    "Now let's go over a sibling of `ArrayList`, the `LinkedList`. As was the case with `ArrayList` there are two ways of delcaring a `LinkedList`.\n",
    "* `LinkedList<Integer> numList = new LinkedList<>();`\n",
    "* `List<Integer> numList = new LinkedList<>();`\n",
    "\n",
    "The former will allow you to access methods that are specific to `LinkedList` such as:\n",
    "* `pop()` - Removes an element from the top of the list.\n",
    "* `push(Object o)` - Adds an element to the top of the list.\n",
    "* `getFirst()` - Returns the first element in the list.\n",
    "* `getLast()` - Returns the last element in the list.\n",
    "* `removeFirst()`- Removes *and returns* the first element in the list.\n",
    "* `removeLast()` - Removes *and returns* the last element in the list.\n",
    "\n",
    "Amoung others. When declaring a `LinkedList` in the first way, you have access to all of these methods that are specific to the `LinkedList` implementation of `List`. However, if to opt for the former declaration type, you are limited to the methods specified by the `List` interface."
   ]
  },
  {
   "cell_type": "markdown",
   "metadata": {},
   "source": [
    "<img alt=\"Activity - In-Class\" src=\"https://img.shields.io/badge/Activity-In--Class-E84A27\" align=\"left\" style=\"margin-right: 5px\"/> Fix the following code cell such that the linked list operations work correctly."
   ]
  },
  {
   "cell_type": "code",
   "execution_count": null,
   "metadata": {},
   "outputs": [],
   "source": [
    "//Define our linked list\n",
    "List<Integer> lst = new LinkedList<>();\n",
    "\n",
    "//Fill it with some integers\n",
    "for(int i = 0; i < 10; i++){\n",
    "    lst.push(i);\n",
    "}\n",
    "\n",
    "//Perform some linked list operations\n",
    "System.out.println(lst);\n",
    "System.out.println(lst.getFirst());\n",
    "System.out.println(lst.getLast());\n",
    "lst.removeFirst();\n",
    "lst.removeLast();\n",
    "System.out.println(lst);"
   ]
  },
  {
   "cell_type": "markdown",
   "metadata": {},
   "source": [
    "<img alt=\"Activity - In-Class\" src=\"https://img.shields.io/badge/Activity-In--Class-E84A27\" align=\"left\" style=\"margin-right: 5px\"/> Define an `LinkedList` of integers, add several integers to the list, then use the `listAvg` method to compute the average of the list you created and display it."
   ]
  },
  {
   "cell_type": "code",
   "execution_count": null,
   "metadata": {},
   "outputs": [],
   "source": [
    "/* Your solution here */"
   ]
  },
  {
   "cell_type": "markdown",
   "metadata": {},
   "source": [
    "### ArrayList vs LinkedList"
   ]
  },
  {
   "cell_type": "markdown",
   "metadata": {},
   "source": [
    "At this point you might be wondering \"why do we have these two different implementations of list???\". And the answer is there are some significant differences between the implementations of the two classes beyond the unique methods each provides. A few of the key differences are:\n",
    "1. An `ArrayList` dynamically grows by first checking if it has room for a new element and, if it doesnt, growing by a set amount. Thus, it only needs to allocate new memory when it has run out of room. A `LinkedList` adds each new element in a new \"chunk\" everytime a new element is added and therefore it must perform memory allocation every time  you wish to add data to it.\n",
    "2. Removing elements from an `ArrayList` is slower since the entire array must be adjusted if an element is moved in the middle. Since each element in a `LinkedList` is in it's own \"chunk\" removing an element doesn't effect any of the other elements.\n",
    "\n",
    "As such, `ArrayList` is generally better for storing and reading data and `LinkedList` is better for data you intend to manipulate a lot. Later on in the course we will have you implement your own linked list at which point you will gain a better understanding of how a LinkedList methods and how it differs from a dynamic array."
   ]
  },
  {
   "cell_type": "markdown",
   "metadata": {},
   "source": [
    "<h2 style=\"text-align: center;\"> Filtering Lists</h2>"
   ]
  },
  {
   "cell_type": "markdown",
   "metadata": {},
   "source": [
    "For the following problem set we will be extending the concept of a method taking a `List` and, as a result, being able to operate on any subclass of the `List` to a slightly more useful, and real world task. A common operation in data retrieval is taking a large collection of data and collecting a subset of that data based on some attribute.  "
   ]
  },
  {
   "cell_type": "code",
   "execution_count": 5,
   "metadata": {},
   "outputs": [
    {
     "name": "stdout",
     "output_type": "stream",
     "text": [
      "[44, 33, 12, 89]\n"
     ]
    }
   ],
   "source": [
    "public static List<Integer> filterOnThresh(List<Integer> nums, int threshold){\n",
    "    List<Integer> validNums = new ArrayList<>();\n",
    "    for(int i = 0; i < nums.size(); i++){\n",
    "        int num = nums.get(i);\n",
    "        if(num >= threshold){\n",
    "            validNums.add(num);\n",
    "        }\n",
    "    }\n",
    "    return validNums;\n",
    "}\n",
    "\n",
    "List<Integer> nums = new ArrayList<>();\n",
    "nums.add(44);\n",
    "nums.add(33);\n",
    "nums.add(12);\n",
    "nums.add(89);\n",
    "nums.add(3);\n",
    "nums.add(4);\n",
    "\n",
    "// Modify the threshold to see how this impacts the behaviour\n",
    "List<Integer> filteredNums = filterOnThresh(nums, 10);\n",
    "System.out.println(filteredNums);"
   ]
  },
  {
   "cell_type": "markdown",
   "metadata": {},
   "source": [
    "For the following methods you will be asked to define methods that take `List<Dog>` as a parameter and returns `List<Dog>`. In the cell below there is a list of dogs that has been defined, `dogLst`. Use `dogLst` when completing problems 1 and 2."
   ]
  },
  {
   "cell_type": "code",
   "execution_count": null,
   "metadata": {},
   "outputs": [],
   "source": [
    "List<Dog> dogLst = new ArrayList<>();\n",
    "dogLst.add(new Dog(\"Jack\", \"Bernese Mountain Dog\", 10, 30, 125));\n",
    "dogLst.add(new Dog(\"Maggie\", \"English Shepard\", 12, 20, 49));\n",
    "dogLst.add(new Dog(\"Buddy\", \"German Shepard\", 3, 26, 70));\n",
    "dogLst.add(new Dog(\"Rocky\", \"Pomeranian\", 10, 8, 3));\n",
    "dogLst.add(new Dog(\"Dolly\", \"Alaskan Malamute\", 5, 25, 85));\n",
    "dogLst.add(new Dog(\"Max\", \"Labrador\", 11, 23, 70));\n",
    "dogLst.add(new Dog(\"Zeus\", \"Bulldog\", 1, 10, 47));\n",
    "dogLst.add(new Dog(\"Baxter\", \"Dachshund\", 7, 5, 20));\n",
    "dogLst.add(new Dog(\"Luna\", \"Golden Retriever\", 4, 24, 67));\n",
    "dogLst.add(new Dog(\"Nala\", \"Shiba Inu\", 6, 15, 20));"
   ]
  },
  {
   "cell_type": "markdown",
   "metadata": {},
   "source": [
    "<img alt=\"Activity - In-Class\" src=\"https://img.shields.io/badge/Activity-In--Class-E84A27\" align=\"left\" style=\"margin-right: 5px\"/> Create a method that takes a list of instances of the `Dog` class and returns those at or over the age of 10. Run the second cell to test this method and view the output."
   ]
  },
  {
   "cell_type": "code",
   "execution_count": null,
   "metadata": {},
   "outputs": [],
   "source": [
    "/* Define your method here */\n",
    "public static List<Dog> filterAge(List<Dog> dogs){\n",
    "\n",
    "}"
   ]
  },
  {
   "cell_type": "code",
   "execution_count": null,
   "metadata": {},
   "outputs": [],
   "source": [
    "/* Test your method here */\n",
    "List<Dog> oldDogs = filterAge(dogLst);\n",
    "for(int i = 0; i < oldDogs.size(); i++){\n",
    "    System.out.println(oldDogs.get(i));\n",
    "}"
   ]
  },
  {
   "cell_type": "markdown",
   "metadata": {},
   "source": [
    "<img alt=\"Activity - In-Class\" src=\"https://img.shields.io/badge/Activity-In--Class-E84A27\" align=\"left\" style=\"margin-right: 5px\"/> Create a method `filterHeight` that takes a list of instances of the `Dog` class and returns those at or over the height of 25. Test the method and print out the results. Use the previous problem as an example of how to accomplish the creation and testing of the function."
   ]
  },
  {
   "cell_type": "code",
   "execution_count": null,
   "metadata": {},
   "outputs": [],
   "source": [
    "/* Define your method here */\n"
   ]
  },
  {
   "cell_type": "code",
   "execution_count": null,
   "metadata": {},
   "outputs": [],
   "source": [
    "/* Test your method here */\n"
   ]
  },
  {
   "cell_type": "markdown",
   "metadata": {},
   "source": [
    "<h2 style=\"text-align: center;\">Integers</h2>\n"
   ]
  },
  {
   "cell_type": "markdown",
   "metadata": {},
   "source": [
    "### Integer Conversions\n",
    "\n",
    "The integer class class includes many methods however the one that you will use the most in this course is the `Integer.parseInt()` function. This method takes a string and attempts to parse an integer from it consider the following example where we convert a string representation of a number to an integer on which we can then perform math operations."
   ]
  },
  {
   "cell_type": "code",
   "execution_count": null,
   "metadata": {},
   "outputs": [],
   "source": [
    "String str = \"123\";\n",
    "Integer strInt = Integer.parseInt(str);\n",
    "Integer nextInt = strInt + 1;\n",
    "System.out.println(nextInt);"
   ]
  },
  {
   "cell_type": "markdown",
   "metadata": {},
   "source": [
    "However, since strings can contain characters other than those representing numbers there can be **exceptions** caused by attempting this operation. Try the following code cell to see what happens when we try to convert a string that has other characters to an integer."
   ]
  },
  {
   "cell_type": "code",
   "execution_count": null,
   "metadata": {},
   "outputs": [],
   "source": [
    "String str = \"123asdf\";\n",
    "Integer strInt = Integer.parseInt(str);\n",
    "Integer nextInt = strInt + 1;\n",
    "System.out.println(nextInt);"
   ]
  },
  {
   "cell_type": "markdown",
   "metadata": {},
   "source": [
    "As we can see, this code caused a `NumberFormatException`. We can use a [try-catch](https://www.w3schools.com/java/java_try_catch.asp) to avoid this ugly error message by using a try catch to \"try\" the block of code that is attempting to convert the string and do math on the result and \"catch\" the `NumberFormatException` should it occur. In the event that the exception does occur and is caught, any of the code in the catch block will be run and we can provide the user with a more friendly, interpretable error message. Condier the following example and tuck it away for later. We'll be using it in the last section which reviews getting user input."
   ]
  },
  {
   "cell_type": "code",
   "execution_count": null,
   "metadata": {},
   "outputs": [],
   "source": [
    "String str = \"123asdf\";\n",
    "try{\n",
    "    Integer strInt = Integer.parseInt(str);\n",
    "    Integer nextInt = strInt + 1;\n",
    "    System.out.println(nextInt);\n",
    "} catch(NumberFormatException e){\n",
    "    System.out.printf(\"%s cannot be converted to an Integer\", str);\n",
    "}\n"
   ]
  },
  {
   "cell_type": "markdown",
   "metadata": {},
   "source": [
    "If the exception is unrecoverable (i.e., we can't continue to run the program) we can use the `System.exit(int x)` command to terminate the program after printing our error message. In the below example I am providing it a -1 as the parameter as it is common to use negative number to indicate the occurence of errors.\n",
    "\n",
    "```java\n",
    "String str = \"123asdf\";\n",
    "try{\n",
    "    Integer strInt = Integer.parseInt(str);\n",
    "    Integer nextInt = strInt + 1;\n",
    "    System.out.println(nextInt);\n",
    "} catch(NumberFormatException e){\n",
    "    System.out.printf(\"%s cannot be converted to an Integer\", str);\n",
    "    System.exit(-1);\n",
    "}\n",
    "```\n",
    "\n",
    "*Note: Please do not attempt to run this code in the notebook as it will cause the kernel (the thing that runs your code) to terminate.*"
   ]
  }
 ],
 "metadata": {
  "kernelspec": {
   "display_name": "Java",
   "language": "java",
   "name": "java"
  },
  "language_info": {
   "codemirror_mode": "java",
   "file_extension": ".jshell",
   "mimetype": "text/x-java-source",
   "name": "Java",
   "pygments_lexer": "java",
   "version": "11.0.3+7"
  }
 },
 "nbformat": 4,
 "nbformat_minor": 2
}
