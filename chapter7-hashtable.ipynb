{
 "cells": [
  {
   "cell_type": "markdown",
   "metadata": {},
   "source": [
    "## Loading Libraries\n",
    "\n",
    "Let's import all the necessary packages first. You can safely ignore this section."
   ]
  },
  {
   "cell_type": "code",
   "execution_count": 1,
   "metadata": {},
   "outputs": [],
   "source": [
    "import java.util.Random;\n",
    "import java.lang.*;"
   ]
  },
  {
   "cell_type": "code",
   "execution_count": 2,
   "metadata": {},
   "outputs": [],
   "source": [
    "%maven org.knowm.xchart:xchart:3.5.2\n",
    "import org.knowm.xchart.*;"
   ]
  },
  {
   "cell_type": "markdown",
   "metadata": {},
   "source": [
    "## Helper Methods\n",
    "\n",
    "Let's code three helper methods:\n",
    "\n",
    "* random array generator\n",
    "* array printer\n",
    "* copyArray\n",
    "\n",
    "It is assumed that you are fully capable of coding two similar methods by yourself. If you are new to Java (but have some experience with a different language), playing with these methods will help you get familiar with Java faster."
   ]
  },
  {
   "cell_type": "code",
   "execution_count": 3,
   "metadata": {},
   "outputs": [],
   "source": [
    "// random array generator\n",
    "public int[] randomArr(int size) {\n",
    "    Random r = new Random();\n",
    "    int[] arr = new int[size];\n",
    "    \n",
    "    for (int i = 0; i < size; i++) {\n",
    "        arr[i] = r.nextInt(1000) + 1;\n",
    "    }\n",
    "    \n",
    "    return arr;\n",
    "}\n",
    "\n",
    "// array printer\n",
    "public void printArr(int[] arr) {\n",
    "    for (int num : arr) {\n",
    "        System.out.print(num + \" \");\n",
    "    }\n",
    "    System.out.println();\n",
    "}\n",
    "\n",
    "// array deep copy\n",
    "public void copyArray(int[] from, int[] to) {\n",
    "    if (from.length != to.length) {\n",
    "        System.exit(0);\n",
    "    }\n",
    "    \n",
    "    for (int i = 0; i < from.length; i++) {\n",
    "        to[i] = from[i];\n",
    "    }\n",
    "}"
   ]
  },
  {
   "cell_type": "markdown",
   "metadata": {},
   "source": [
    "## Hashtable"
   ]
  },
  {
   "cell_type": "markdown",
   "metadata": {},
   "source": [
    "A hash function serves as a map between element values and their index in our data storage. Let's prepare a very simple hash function:\n",
    "\n",
    "```\n",
    "index = value % size of storage\n",
    "```\n",
    "Let's put this to pratice and examine what it does."
   ]
  },
  {
   "cell_type": "code",
   "execution_count": 4,
   "metadata": {},
   "outputs": [
    {
     "name": "stdout",
     "output_type": "stream",
     "text": [
      "Our storage has the size of 11\n",
      "Our array is 394 581 100 184 79 904 \n",
      "Their indexes are 9 9 1 8 2 2 \n"
     ]
    }
   ],
   "source": [
    "// implementation\n",
    "public int hashFunctionReminder(int num, int size) {\n",
    "    return num % size;\n",
    "}\n",
    "\n",
    "// sanity check\n",
    "int size = 11;\n",
    "System.out.println(\"Our storage has the size of \" + size);\n",
    "int[] arr = randomArr(6);\n",
    "System.out.print(\"Our array is \");\n",
    "printArr(arr);\n",
    "int[] indexes = new int[arr.length];\n",
    "for (int i = 0; i < arr.length; i++) {\n",
    "    indexes[i] = hashFunctionReminder(arr[i], size);\n",
    "}\n",
    "System.out.print(\"Their indexes are \");\n",
    "printArr(indexes);"
   ]
  },
  {
   "cell_type": "markdown",
   "metadata": {},
   "source": [
    "Depending on the output, you may notice that the indexes have same numbers. We call this collision. Maybe we can avoid collision by using a more complex hash function:\n",
    "\n",
    "```\n",
    "index = (sum of digit*i) % size of storage, where i stands for ith digit\n",
    "```\n",
    "Let's put this to pratice and examine if there are improvments."
   ]
  },
  {
   "cell_type": "code",
   "execution_count": 5,
   "metadata": {},
   "outputs": [
    {
     "name": "stdout",
     "output_type": "stream",
     "text": [
      "Our storage has the size of 11\n",
      "Our array is 436 225 89 798 421 341 \n",
      "Their indexes are 7 5 1 6 3 0 \n"
     ]
    }
   ],
   "source": [
    "// implementation\n",
    "public int hashFunctionComplex(int num, int size) {\n",
    "    int sum = 0, digit = 0;\n",
    "    int i = 1;\n",
    "    while (num > 0) {\n",
    "        digit = num % 10;\n",
    "        num = num / 10;\n",
    "        sum += digit * i;\n",
    "        i = i * 10;\n",
    "    }\n",
    "    return sum / size;\n",
    "}\n",
    "\n",
    "// sanity check\n",
    "int size = 11;\n",
    "System.out.println(\"Our storage has the size of \" + size);\n",
    "int[] arr = randomArr(6);\n",
    "System.out.print(\"Our array is \");\n",
    "printArr(arr);\n",
    "int[] indexes = new int[arr.length];\n",
    "for (int i = 0; i < arr.length; i++) {\n",
    "    indexes[i] = hashFunctionReminder(arr[i], size);\n",
    "}\n",
    "System.out.print(\"Their indexes are \");\n",
    "printArr(indexes);"
   ]
  },
  {
   "cell_type": "markdown",
   "metadata": {},
   "source": [
    "You may notice that collisions still happen if you run the above cell for a few more times. This tells us that we will need better solutions to deal with collision:\n",
    "\n",
    "* Probing: Look for the next empty slot.\n",
    "    - There are different ways of conducting probing, such as linear probing and quadratic probing.\n",
    "    - The process of looking for the next slot after collision is generally known as rehashing.\n",
    "* Chaining: Allow many items to exist at the same location in the hash table\n",
    "    - Items in the same location need to be connected. You can think using arrays or linked lists to achieve this goal.\n",
    "    \n",
    "It is comparatively easier to implement chaining in Java than probing. Given that your lab assignment is on this, its implementation will be omitted here."
   ]
  },
  {
   "cell_type": "markdown",
   "metadata": {},
   "source": [
    "You may have heard that HashTable in Java comes with different names, such as **HashTable** and **HashMap**. In Java, **HashTable** is typically considered legacy class and less optimized. Therefore, you should stick to **HashMap** for now. The usage of HashMap is very straightforward.\n",
    "\n",
    "Here is a demonstration:"
   ]
  },
  {
   "cell_type": "code",
   "execution_count": 6,
   "metadata": {},
   "outputs": [
    {
     "name": "stdout",
     "output_type": "stream",
     "text": [
      "Size of map is 3\n",
      "{banana=20, apple=10, pear=30}\n",
      "value for key \"apple\" is 10\n"
     ]
    }
   ],
   "source": [
    "HashMap<String, Integer> map = new HashMap<>(); \n",
    "map.put(\"apple\", 10); \n",
    "map.put(\"pear\", 30); \n",
    "map.put(\"banana\", 20); \n",
    "          \n",
    "System.out.println(\"Size of map is \" + map.size()); \n",
    "System.out.println(map); \n",
    "\n",
    "if (map.containsKey(\"apple\")) { \n",
    "    int num = map.get(\"apple\"); \n",
    "    System.out.println(\"value for key \\\"apple\\\" is \" + num); \n",
    "} \n",
    "\n",
    "map.clear(); "
   ]
  },
  {
   "cell_type": "markdown",
   "metadata": {},
   "source": [
    "## Do It Yourself"
   ]
  },
  {
   "cell_type": "markdown",
   "metadata": {},
   "source": [
    "#### Practice - find the single element\n",
    "\n",
    "Given an array of integers, every element appears twice except for one. Find that single one.\n",
    "\n",
    "For example, given {1,1,2,9,9,4,4}, the element appearing for once is 2, and 2 shall be returned."
   ]
  },
  {
   "cell_type": "code",
   "execution_count": 7,
   "metadata": {},
   "outputs": [],
   "source": [
    "// you have to use the provided method name and parameters\n",
    "public int check(int[] nums) {\n",
    "    // remove this line\n",
    "    return 0;\n",
    "}"
   ]
  },
  {
   "cell_type": "markdown",
   "metadata": {},
   "source": [
    "**<span style=\"color:red\">Can you also test your solution?</span>**"
   ]
  },
  {
   "cell_type": "markdown",
   "metadata": {},
   "source": [
    "#### Practice - find the two keys\n",
    "\n",
    "Given an array of integers, return indices of the two Keys such that they add up to a specific target.\n",
    "\n",
    "You may assume that each input would have exactly one solution, and you may not use the same element twice.\n",
    "\n",
    "Example:\n",
    "\n",
    "```\n",
    "Given nums = {2, 7, 11, 15}, target = 9,\n",
    "Because nums[0] + nums[1] = 2 + 7 = 9,\n",
    "return {0, 1}.\n",
    "```\n",
    "\n",
    "Note: {0, 1} and {1, 0} are equivalent, and you only need to return one of them."
   ]
  },
  {
   "cell_type": "code",
   "execution_count": 8,
   "metadata": {},
   "outputs": [],
   "source": [
    "// you have to use the provided method name and parameters\n",
    "public int[] twoSum(int[] nums, int target) {\n",
    "    // your code goes here\n",
    "    // remove these two lines\n",
    "    int[] arr = {0};\n",
    "    return arr;\n",
    "}"
   ]
  },
  {
   "cell_type": "markdown",
   "metadata": {},
   "source": [
    "**<span style=\"color:red\">Can you also test your solution?</span>**"
   ]
  },
  {
   "cell_type": "markdown",
   "metadata": {},
   "source": [
    "#### Practice - sort characters by frequency\n",
    "\n",
    "Given a string, sort it in decreasing order based on the frequency of characters.​\n",
    "\n",
    "Example 1:\n",
    "```\n",
    "Input: \"tree\"\n",
    "Output: \"eert\"\n",
    "Explanation: 'e' appears twice while 'r' and 't' both appear once. So 'e' must appear before both 'r' and 't'. Therefore \"eetr\" is also a valid answer.\n",
    "```\n",
    "\n",
    "Example 2:\n",
    "```\n",
    "Input: \"cccaaa\"\n",
    "Output: \"cccaaa\"\n",
    "Explanation: Both 'c' and 'a' appear three times, so \"aaaccc\" is also a valid answer. Note that \"cacaca\" is incorrect, as the same characters must be together.\n",
    "```"
   ]
  },
  {
   "cell_type": "code",
   "execution_count": 9,
   "metadata": {},
   "outputs": [],
   "source": [
    "// you have to use the provided method name and parameters\n",
    "public String frequencySort(String s) {\n",
    "    // your code goes here\n",
    "    // remove this line\n",
    "    return \"\";\n",
    "}"
   ]
  },
  {
   "cell_type": "markdown",
   "metadata": {},
   "source": [
    "**<span style=\"color:red\">Can you also test your solution?</span>**"
   ]
  },
  {
   "cell_type": "markdown",
   "metadata": {},
   "source": [
    "**When you finish (or not) playing your exploration of the whole interactive notebook and DIY assignment, you should download a html file and upload it to the assignment box on Canvas:**\n",
    "\n",
    "* File --> Download as --> HTML (.html)\n",
    "\n",
    "![download](images/html.png)"
   ]
  }
 ],
 "metadata": {
  "kernelspec": {
   "display_name": "Java",
   "language": "java",
   "name": "java"
  },
  "language_info": {
   "codemirror_mode": "java",
   "file_extension": ".jshell",
   "mimetype": "text/x-java-source",
   "name": "Java",
   "pygments_lexer": "java",
   "version": "11.0.3+7-Ubuntu-1ubuntu218.04.1"
  }
 },
 "nbformat": 4,
 "nbformat_minor": 2
}
