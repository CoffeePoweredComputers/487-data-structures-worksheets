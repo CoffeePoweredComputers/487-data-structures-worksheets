{
 "cells": [
  {
   "cell_type": "markdown",
   "metadata": {},
   "source": [
    "<h1 style=\"text-align: center; font-size: 40px\">Graph Representations</h1>"
   ]
  },
  {
   "cell_type": "markdown",
   "metadata": {},
   "source": [
    "### Loading Libraries\n",
    "\n",
    "Let's import all the necessary packages first. You can safely ignore this section."
   ]
  },
  {
   "cell_type": "code",
   "execution_count": null,
   "metadata": {},
   "outputs": [],
   "source": [
    "import java.util.Random;\n",
    "import java.lang.*;"
   ]
  },
  {
   "cell_type": "markdown",
   "metadata": {},
   "source": [
    "## Objectives\n",
    "\n",
    "The objectives of this worksheet are as follows:\n",
    "\n",
    "\n",
    "*Note:* The graphs can be created with the following tools:\n",
    "\n",
    "* [csacademy](https://csacademy.com/app/graph_editor/)\n",
    "* [visalgo](https://visualgo.net/en/graphds)\n",
    "\n",
    "It is **highly** suggested to play around with this tool in order to get a visual sense of how graphs are constructed.\n",
    "\n",
    "#### Using Jupyter\n",
    "A few things to remind you with regard to using this Jupyter environment:\n",
    "1. If the platform crashes don't worry. All of this is in the browser so just refresh and all of your changes up to your last save should still be there. For this reason we encourage you to **save often**.\n",
    "2. Be sure to run cells from top to bottom.\n",
    "3. If you're getting weird errors to go: Kernel->Restart & Clear Output. From there, run cells from top to bottom."
   ]
  },
  {
   "cell_type": "markdown",
   "metadata": {},
   "source": [
    "<h2 style=\"text-align: center;\">Graphs in General</h2>\n"
   ]
  },
  {
   "cell_type": "markdown",
   "metadata": {},
   "source": [
    "### Review of  General Terms\n",
    "\n",
    "When talking about graphs there are the following terms you will need to be familiar with:\n",
    "* *Vertex* --> This is an individual point on a graph. In previous worksheets relating to linked lists and trees you will have heard these refered to as nodes.\n",
    "* *Edge* --> This a connection between two nodes. In linked lists and trees these edges were represented using references to other nodes (e.g., `next`, `left`, `right`). However, as we will see today, there are many other ways of representing edges.\n",
    "    * *Weight* --> Edges can have weight associated with them.  For example, if we are building a map of campus we could reprsent the distance between buildings through edge weight.\n",
    "    * *Direction* --> Graphs can have edges that only allow for traversal to another node in a single direction (directed) or in both directions (undirected).\n",
    "    \n",
    "The image above shows the various combinations of directed and undirected graphs. "
   ]
  },
  {
   "cell_type": "markdown",
   "metadata": {},
   "source": [
    "<h2 style=\"text-align: center;\">Adjacency List</h2>"
   ]
  },
  {
   "cell_type": "markdown",
   "metadata": {},
   "source": [
    "<br>\n",
    "<center>\n",
    "    Fig. 1: A simple directed, unweighted graph\n",
    "</center>\n",
    "<br>\n",
    "\n",
    "Let's refer back to figure 1 and compare the adjacency matrix it produced to it's adjacency list representation:\n",
    "\n",
    "\n",
    "| - | a | b | c | d |\n",
    "|:---:|:---:|:---:|:---:|:---:|\n",
    "| a | - | 1 | 1 | - |\n",
    "| b | - | - | 1 | - |\n",
    "| c | - | - | - | 1 |\n",
    "| d | - | 1 | - | - |\n",
    "\n",
    "\n",
    "The way to read the adjacency list is to find the starting vertex in the left column. The list of vertecies that are reachable from that vertex is then given by the list that is associated with it.\n",
    "\n",
    "\n",
    "\n",
    "Adjacency lists are a bit more versitile than adjacency matrixcies for the following reasons:\n",
    "* If you want to add a new vertex to an adjacency matrix you must resize the matrix which is an expensive and annoying thing to do. With a adjacency list all you need to do is add a new node.\n",
    "* For adjacency matricies we store information on every potential edge rather than just on those that exist which leads to a O(V^2) space complexity where V is the number of vertecies. With adjacency matricies we only need to store information on edges that exist in the graph so our space complexity is O(E) where E is the number of edges in the graph.\n",
    "\n",
    "It does have the one small disadvantage that we cannot directly check or access and edge in O(1) time. Instead we must locate the entry associated with a starting node and then search along the list containing the other vertecies which it shares an edge with.\n",
    "\n",
    "For this example, let's create a directed, weighted graph using an adjacency list!"
   ]
  },
  {
   "cell_type": "markdown",
   "metadata": {},
   "source": [
    "## Weighted Edge Class\n",
    "<img alt=\"Activity - In-Class\" src=\"https://img.shields.io/badge/Activity-In--Class-E84A27\" align=\"left\" style=\"margin-right: 5px\"/>\n",
    "<br>\n",
    "<br>\n",
    "As was the case with `ListNode` and `TreeNode` for linked lists and trees, respectively, we need a basic unit in which to hold our data. We will be constructing and using an `Edge` class to store the following two attributes:\n",
    "\n",
    "1. The destination vertex\n",
    "2. The weight of the edge\n",
    "\n",
    "Complete the class so that these two attributes are present as `private final` attributes. Additionally, add a constructor in addition to getters and setters for each of the attributes so we can access the attributes later.\n",
    "\n"
   ]
  },
  {
   "cell_type": "code",
   "execution_count": 9,
   "metadata": {},
   "outputs": [],
   "source": [
    "class Edge{\n",
    "    \n",
    "    private final String dest;\n",
    "    private final Integer weight;\n",
    "    \n",
    "    Edge(String dest, Integer weight){\n",
    "        this.dest = dest;\n",
    "        this.weight = weight;\n",
    "    }\n",
    "    \n",
    "    Edge(String dest){\n",
    "        this.dest = dest;\n",
    "        weight = 0;\n",
    "    }\n",
    "    \n",
    "    public String getDest(){\n",
    "        return dest;\n",
    "    }\n",
    "    \n",
    "    public Integer getWeight(){\n",
    "        return weight;\n",
    "    }\n",
    "}"
   ]
  },
  {
   "cell_type": "code",
   "execution_count": 5,
   "metadata": {},
   "outputs": [
    {
     "name": "stdout",
     "output_type": "stream",
     "text": [
      "Dest: a\n",
      "Weight: 10\n"
     ]
    }
   ],
   "source": [
    "/* Test our edge */\n",
    "Edge e1 = new Edge(\"a\", 10);\n",
    "System.out.println(\"Dest: \" + e1.getDest());\n",
    "System.out.println(\"Weight: \" + e1.getWeight());"
   ]
  },
  {
   "cell_type": "code",
   "execution_count": 10,
   "metadata": {},
   "outputs": [
    {
     "name": "stdout",
     "output_type": "stream",
     "text": [
      "Dest: a\n",
      "Weight: 0\n"
     ]
    }
   ],
   "source": [
    "/* Test our edge */\n",
    "Edge e2 = new Edge(\"a\");\n",
    "System.out.println(\"Dest: \" + e2.getDest());\n",
    "System.out.println(\"Weight: \" + e2.getWeight());"
   ]
  },
  {
   "cell_type": "markdown",
   "metadata": {},
   "source": [
    "## DiGraph\n",
    "<img alt=\"Activity - In-Class\" src=\"https://img.shields.io/badge/Activity-In--Class-E84A27\" align=\"left\" style=\"margin-right: 5px\"/>\n",
    "<br>\n",
    "<br>\n",
    "\n",
    "The Java docs for `HashMap` can be found at the following link:\n",
    "* [HashMap](https://docs.oracle.com/javase/8/docs/api/java/util/HashMap.html).\n",
    "\n",
    "This structure will be esential for completing the following exercise. Take some time to read through it and review the various methods that are avaliable. Additionally, the previous worksheet on the `Map` interface will also be useful.\n",
    "\n",
    "#### -- Adding a Vertex --\n",
    "\n",
    "Adding a vertex will be the simplest of the methods we will cover. You will:\n",
    "1. Check if the vertex is already a key in the Map\n",
    "2. If it is not, you will add it as the key and a new, empty list as it's value. \n",
    "\n",
    "#### -- Adding an Edge --\n",
    "\n",
    "Adding an edge involves a similar process to adding a vertex:\n",
    "1. Get the list associated with the source.\n",
    "2. Check if the destination is already there.\n",
    "    * *Hint:* This will involve iterating over the list of edge, checking if any of the destinations are equal to the destination we want to add, and returning early if that is ever the case.\n",
    "3. If the destination is not already present create an instance of the edge class and add it to that list.\n",
    "\n",
    "If you run into trouble with step 2, you can move onto step three and then come back to it. \n",
    "\n",
    "#### -- Removing an Edge --\n",
    "\n",
    "Removing and edge is the most complex of the tasks you will be performing. It will involve the following steps:\n",
    "1. Get the list associated with the source vertex.\n",
    "2. Iterate over the list and find the index of the edge with the destination we are looking for in order to get it's index \n",
    "    * This can be done by making a function that finds and returns the index or setting a variable and breaking out of the for loop\n",
    "3. Remove the item at that index"
   ]
  },
  {
   "cell_type": "code",
   "execution_count": null,
   "metadata": {},
   "outputs": [],
   "source": [
    "class Digraph{\n",
    "    \n",
    "    private Map<String, List<Edge>> map;\n",
    "    \n",
    "    Digraph(){\n",
    "        map = new HashMap<>();\n",
    "    }\n",
    "    \n",
    "    public void addVertex(String v){\n",
    "        map.putIfAbsent(v, new LinkedList<>());\n",
    "    }\n",
    "    \n",
    "    public void addEdge(String source, String dest, int weight){\n",
    "\n",
    "        int i = 0;\n",
    "        List<Edge> edges = map.get(source);\n",
    "        for(; i < edges.size(); i++){\n",
    "            Edge e = edges.get(i);\n",
    "            if(e.getDest().equals(dest)){\n",
    "                return\n",
    "            }\n",
    "        }\n",
    "        \n",
    "        edges.add(new Edge(source, dest));\n",
    "        \n",
    "    }\n",
    "    \n",
    "    public void removeEdge(String source, String dest){\n",
    "        /* Step 1) Find the location of the edge with dest in source's list */\n",
    "        int i = 0;\n",
    "        List<Edge> edges = map.get(source);\n",
    "        for(; i < edges.size(); i++){\n",
    "            Edge e = edges.get(i);\n",
    "            if(e.getDest().equals(dest)){\n",
    "                break;\n",
    "            }\n",
    "        }\n",
    "        \n",
    "        /* Step 2) Remove the item at the location */\n",
    "        edges.remove(i);\n",
    "    }\n",
    "    \n",
    "    /* Provided Methods */\n",
    "    public void printEdgeList(){\n",
    "        \n",
    "        for(String src: map.keySet()){\n",
    "            for(Edge destEdge: map.get(src)){\n",
    "                System.out.printf(\" %s -> %s\\n\", src, destEdge.getDest());\n",
    "            }\n",
    "        }\n",
    "    }\n",
    "    \n",
    "    public Map<String, List<Edge>> getMap(){\n",
    "        return map;\n",
    "    }\n",
    "}"
   ]
  },
  {
   "cell_type": "code",
   "execution_count": null,
   "metadata": {},
   "outputs": [],
   "source": [
    "Digraph digraph = new Digraph();\n",
    "digraph.addVertex(\"a\");\n",
    "digraph.addVertex(\"b\");\n",
    "digraph.addVertex(\"c\");\n",
    "digraph.addVertex(\"d\");\n",
    "digraph.addEdge(\"a\", \"b\", 1);\n",
    "digraph.addEdge(\"a\", \"c\", 1);\n",
    "digraph.addEdge(\"a\", \"d\", 1);\n",
    "digraph.printEdgeList();\n",
    "System.out.println();\n",
    "digraph.removeEdge(\"a\", \"c\");\n",
    "digraph.printEdgeList();"
   ]
  },
  {
   "cell_type": "markdown",
   "metadata": {},
   "source": [
    "If implemented correctly, your output should be:\n",
    "```\n",
    "a -> b \n",
    "a -> c \n",
    "a -> d\n",
    "\n",
    "a -> b\n",
    "a -> d\n",
    "```"
   ]
  },
  {
   "cell_type": "markdown",
   "metadata": {},
   "source": [
    "### Outdegree and Indegree (optional)\n",
    "\n",
    "Similar to our exercise with adjacency matricies you will be tasked with calculating the in and out degree of vertecies from an adjacency matrix. Here are the definitions of in and out degree with respect to adjacency lists:\n",
    "* __Indegree__: This should be the number of times a vertex appears in an other vertecies associated adjacency list.\n",
    "* __Outdegree__: This is the number of vertecies that appear in a given vertex's adjacency list.\n",
    "\n",
    "<img alt=\"Activity - In-Class\" src=\"https://img.shields.io/badge/Activity-In--Class-E84A27\" align=\"left\" style=\"margin-right: 5px\"/>\n",
    "<br>\n",
    "<br>\n",
    "\n",
    "\n",
    "For the following directed graph's adjacency matrix create two functions, one that calculates and outputs the indegree of each vertex and one that does the same for outdegree. \n",
    " "
   ]
  },
  {
   "cell_type": "code",
   "execution_count": null,
   "metadata": {},
   "outputs": [],
   "source": [
    "public Map<String, Integer> computeOutDegree(Digraph graph){\n",
    "    /* Your code here */\n",
    "}"
   ]
  },
  {
   "cell_type": "code",
   "execution_count": null,
   "metadata": {},
   "outputs": [],
   "source": [
    "public Map<String, Integer> computeInDegree(Digraph graph){\n",
    "\n",
    "    /* Your code here*/\n",
    "}"
   ]
  },
  {
   "cell_type": "code",
   "execution_count": null,
   "metadata": {},
   "outputs": [],
   "source": [
    "/* Testing */\n",
    "\n",
    "Digraph digraph = new Digraph();\n",
    "digraph.addVertex(\"a\");\n",
    "digraph.addVertex(\"b\");\n",
    "digraph.addVertex(\"c\");\n",
    "digraph.addVertex(\"d\");\n",
    "digraph.addEdge(\"a\", \"b\", 1);\n",
    "digraph.addEdge(\"a\", \"c\", 1);\n",
    "digraph.addEdge(\"c\", \"a\", 1);\n",
    "digraph.addEdge(\"c\", \"a\", 1);\n",
    "digraph.addEdge(\"c\", \"a\", 1);\n",
    "digraph.addEdge(\"a\", \"d\", 1);\n",
    "\n",
    "Map<String, Integer> indegrees = computeInDegree(digraph);\n",
    "Map<String, Integer> outdegrees = computeOutDegree(digraph);\n",
    "\n",
    "System.out.printf(\"Indegree: %s\\n\", indegrees);\n",
    "System.out.printf(\"Outdegree: %s\\n\", outdegrees);\n",
    ";"
   ]
  },
  {
   "cell_type": "markdown",
   "metadata": {},
   "source": [
    "If your functions are implemented correctly you should have recieved the following output:\n",
    "```\n",
    "Indegree: {a=0, b=1, c=1, d=1}\n",
    "Outdegree: {a=3, b=0, c=0, d=0}\n",
    "\n",
    "```"
   ]
  }
 ],
 "metadata": {
  "kernelspec": {
   "display_name": "Java",
   "language": "java",
   "name": "java"
  },
  "language_info": {
   "codemirror_mode": "java",
   "file_extension": ".jshell",
   "mimetype": "text/x-java-source",
   "name": "Java",
   "pygments_lexer": "java",
   "version": "11.0.16+8-post-Ubuntu-0ubuntu120.04"
  }
 },
 "nbformat": 4,
 "nbformat_minor": 4
}
