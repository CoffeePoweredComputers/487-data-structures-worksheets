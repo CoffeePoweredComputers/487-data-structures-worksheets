{
 "cells": [
  {
   "cell_type": "markdown",
   "metadata": {},
   "source": [
    "<h1 style=\"text-align: center; font-size: 40px\">Graph Algorithms (Part 2) - Shortest Path, Prim's and Dijkstras</h1>"
   ]
  },
  {
   "cell_type": "markdown",
   "metadata": {},
   "source": [
    "### Loading Libraries\n",
    "\n",
    "Let's import all the necessary packages first. You can safely ignore this section."
   ]
  },
  {
   "cell_type": "code",
   "execution_count": 2,
   "metadata": {},
   "outputs": [],
   "source": [
    "import java.lang.*;\n",
    "import java.util.*;"
   ]
  },
  {
   "cell_type": "markdown",
   "metadata": {},
   "source": [
    "## Objectives\n",
    "\n",
    "The objectives of this worksheet are as follows:\n",
    "\n",
    "#### Using Jupyter\n",
    "A few things to remind you with regard to using this Jupyter environment:\n",
    "1. If the platform crashes don't worry. All of this is in the browser so just refresh and all of your changes up to your last save should still be there. For this reason we encourage you to **save often**.\n",
    "2. Be sure to run cells from top to bottom.\n",
    "3. If you're getting weird errors to go: Kernel->Restart & Clear Output. From there, run cells from top to bottom."
   ]
  },
  {
   "cell_type": "code",
   "execution_count": 3,
   "metadata": {},
   "outputs": [],
   "source": [
    "public class Edge{\n",
    "    \n",
    "    public final String dest;\n",
    "    public final Integer weight;\n",
    "    \n",
    "    public Edge(String dest, Integer weight){\n",
    "        this.dest = dest;\n",
    "        this.weight = weight;\n",
    "    }\n",
    "    \n",
    "    @Override\n",
    "    public boolean equals(Object o){\n",
    "        if(o instanceof Edge){\n",
    "            Edge e = (Edge) o;\n",
    "            return this.dest.equals(e.dest) && this.weight.equals(e.weight);\n",
    "        } else{\n",
    "            return false;\n",
    "        }\n",
    "    }\n",
    "}"
   ]
  },
  {
   "cell_type": "code",
   "execution_count": 4,
   "metadata": {},
   "outputs": [],
   "source": [
    "public class Undigraph{\n",
    "    \n",
    "    private Map<String, List<Edge>> map;\n",
    "    \n",
    "    public Undigraph(){\n",
    "        map = new HashMap<>();\n",
    "    }\n",
    "    \n",
    "    public void addVertex(String v){\n",
    "        map.putIfAbsent(v, new LinkedList<>());\n",
    "    }\n",
    "    \n",
    "    public void addEdge(String v1, String v2, Integer weight){\n",
    "        \n",
    "        Edge newEdge1 = new Edge(v2, weight);\n",
    "        Edge newEdge2 = new Edge(v1, weight);\n",
    "\n",
    "        if(!map.get(v1).contains(newEdge1) && !map.get(v2).contains(newEdge2)){\n",
    "            map.get(v1).add(newEdge1);\n",
    "            map.get(v2).add(newEdge2);\n",
    "        }\n",
    "        \n",
    "    }\n",
    "\n",
    "    public Map<String, List<Edge>> getMap(){\n",
    "        return map;\n",
    "    }\n",
    "    \n",
    "}"
   ]
  },
  {
   "cell_type": "markdown",
   "metadata": {},
   "source": [
    "![starting.png](images/prim-dijkstra-starting-graph.png)\n",
    "\n",
    "Above is the graph you will be operating on for the duration of the assignment. The cell above it is it's implmentation and the methods you have access to. FOr the sake of simplicy all edge attributes have been made private so you can avoid using getters to retrieve them. Additionally, the adjacency list in the `Undigraph` class is also public for the same reasons. Run the cell below to construct the graph."
   ]
  },
  {
   "cell_type": "code",
   "execution_count": 5,
   "metadata": {},
   "outputs": [],
   "source": [
    "Undigraph g = new Undigraph();\n",
    "\n",
    "String[] vertecies = {\"a\", \"b\", \"c\", \"d\", \"e\", \"f\", \"g\"};\n",
    "for(String vertex: vertecies){\n",
    "    g.addVertex(vertex);\n",
    "}\n",
    "\n",
    "g.addEdge(\"a\", \"b\", 7);\n",
    "g.addEdge(\"a\", \"d\", 5);\n",
    "g.addEdge(\"b\", \"d\", 9);\n",
    "g.addEdge(\"b\", \"e\", 7);\n",
    "g.addEdge(\"b\", \"c\", 8);\n",
    "g.addEdge(\"e\", \"g\", 9);\n",
    "g.addEdge(\"e\", \"f\", 8);\n",
    "g.addEdge(\"e\", \"d\", 15);\n",
    "g.addEdge(\"f\", \"d\", 6);\n",
    "g.addEdge(\"f\", \"g\", 11);\n",
    ";"
   ]
  },
  {
   "cell_type": "markdown",
   "metadata": {},
   "source": [
    "# Greedy Algorithms\n",
    "\n"
   ]
  },
  {
   "cell_type": "markdown",
   "metadata": {},
   "source": [
    "In algorithms, there are a variety of categorizations that describe how the algorithms that fall under a given category behave. One that we will be covering today is the \"greedy algorithm\". As it's nameskae suggests it performs it's operations based by taking the most optimal step at each stage rather than considering all possible paths. In certain cases, performing operations on this way guarantees that an optimal solution will be produced on any input. "
   ]
  },
  {
   "cell_type": "markdown",
   "metadata": {},
   "source": [
    "# Priority Queues\n",
    "\n",
    "Priority queues are a special implementation of the `Queue` interface that allow for items to be automatically ordered. For integers this is numerical ordering and for strings it is lexographical. Run the following cell to see that regardless of the order the strings are added to the queue in they are automatically sorted."
   ]
  },
  {
   "cell_type": "code",
   "execution_count": 6,
   "metadata": {},
   "outputs": [
    {
     "name": "stdout",
     "output_type": "stream",
     "text": [
      "[C]\n",
      "[A, C]\n",
      "[A, C, D]\n",
      "[A, B, D, C]\n"
     ]
    }
   ],
   "source": [
    "Queue<String> pq = new PriorityQueue<String>();\n",
    "pq.add(\"C\");\n",
    "System.out.println(pq);\n",
    "pq.add(\"A\");\n",
    "System.out.println(pq);\n",
    "pq.add(\"D\");\n",
    "System.out.println(pq);\n",
    "pq.add(\"B\");\n",
    "System.out.println(pq);"
   ]
  },
  {
   "cell_type": "markdown",
   "metadata": {},
   "source": [
    "However, we can provide the priority queue another comparator function that uses another function in order to determine the  the items in the queue. For example, say we wanted to associated a number with each of the items in the priority queue. We could do this via a hashmap and specify that the priority queue should get the value associated with that key and use that value to determine the order. How is is accomplished is displayed in the following cell."
   ]
  },
  {
   "cell_type": "code",
   "execution_count": 8,
   "metadata": {},
   "outputs": [
    {
     "name": "stdout",
     "output_type": "stream",
     "text": [
      "[B]\n",
      "[B, A]\n",
      "[D, A, B]\n",
      "[D, C, B, A]\n"
     ]
    }
   ],
   "source": [
    "Map<String, Integer> keys = new HashMap<>();\n",
    "\n",
    "Queue<String> pq = new PriorityQueue<String>(\n",
    "    Comparator.comparing(keys::get)\n",
    ");\n",
    "\n",
    "/* Populate Map */\n",
    "keys.put(\"A\", 4);\n",
    "keys.put(\"B\", 3);\n",
    "keys.put(\"C\", 2);\n",
    "keys.put(\"D\", 1);\n",
    "\n",
    "/* Add the items to the queue */\n",
    "pq.add(\"B\");\n",
    "System.out.println(pq);\n",
    "pq.add(\"A\");\n",
    "System.out.println(pq);\n",
    "pq.add(\"D\");\n",
    "System.out.println(pq);\n",
    "pq.add(\"C\");\n",
    "System.out.println(pq);"
   ]
  },
  {
   "cell_type": "markdown",
   "metadata": {},
   "source": [
    "Given the priority queue is central to both of the data structures we will be covering today and both require that vertecies be ordered based on the weight of the edge that connect to it you may find this method useful. However, there are alternatives you ware welcome to use as well should you find something else more intuitive."
   ]
  },
  {
   "cell_type": "markdown",
   "metadata": {},
   "source": [
    "# Prim's Minimum Spanning Tree\n",
    "\n",
    "![mintree.png](images/prims-mintree.png)"
   ]
  },
  {
   "cell_type": "markdown",
   "metadata": {},
   "source": [
    "Lets break this apart, the first for loop initializes all keys to infinity"
   ]
  },
  {
   "cell_type": "code",
   "execution_count": 8,
   "metadata": {},
   "outputs": [],
   "source": [
    "public void primsMST(Undigraph udg, String source){\n",
    "    \n",
    "    /* Initial structures used by Prim's */\n",
    "    Map<String, List<Edge>> map = udg.getMap();\n",
    "    Map<String, String> parents = new HashMap<>();\n",
    "    Map<String, Integer> keys = new HashMap<>();\n",
    "    \n",
    "    Queue<String> pq = new PriorityQueue<String>(\n",
    "        Comparator.comparing(keys::get)\n",
    "    );\n",
    "    \n",
    "    /* Fill in Prim's here */\n",
    "\n",
    "   \n",
    "    /* Printing the edges of the MST */\n",
    "    for(Map.Entry<String, String> entry: parents.entrySet()){\n",
    "        System.out.printf(\"%s, %s\\n\", entry.getKey(), entry.getValue());\n",
    "    }\n",
    "}"
   ]
  },
  {
   "cell_type": "markdown",
   "metadata": {},
   "source": [
    "#### Testing - Prims\n",
    "\n",
    "Run the following cell and it should produce and edge list the mirrors the blue edges in the graph presented in the first cell. If this is the case you have successfully implemented Prim's Minimum Spanning Tree."
   ]
  },
  {
   "cell_type": "code",
   "execution_count": 9,
   "metadata": {},
   "outputs": [
    {
     "name": "stdout",
     "output_type": "stream",
     "text": [
      "a, null\n",
      "b, a\n",
      "c, b\n",
      "d, a\n",
      "e, b\n",
      "f, d\n",
      "g, e\n"
     ]
    }
   ],
   "source": [
    "primsMST(g, \"a\");"
   ]
  },
  {
   "cell_type": "markdown",
   "metadata": {},
   "source": [
    "# Dijkstra's Shortest Path Algorithm\n",
    "\n",
    "![mintree.png](images/dijkstra-sp-graph.png)\n",
    "\n",
    "<img src=\"images/dijkstra-backtrace.png\" alt=\"\" style=\"width:50%\"> "
   ]
  },
  {
   "cell_type": "code",
   "execution_count": 41,
   "metadata": {},
   "outputs": [],
   "source": [
    "public void dijkstraShortestPath(Undigraph udg, String source, String dest){\n",
    "    \n",
    "    /* Initial structures used by Prim's */\n",
    "    Map<String, List<Edge>> map = udg.getMap();\n",
    "    Map<String, String> parents = new HashMap<>();\n",
    "    Map<String, Integer> dist = new HashMap<>();\n",
    "    \n",
    "    Queue<String> pq = new PriorityQueue<>(\n",
    "        Comparator.comparing(dist::get)\n",
    "    );\n",
    "    \n",
    "    /* Fill in Dijkstra's here */\n",
    "\n",
    "    \n",
    "    /* Print out all the edges of the shortest path graph */\n",
    "    for(Map.Entry<String, String> entry: parents.entrySet()){\n",
    "        System.out.printf(\"%s->%s\\n\", entry.getKey(), entry.getValue());\n",
    "    }\n",
    "\n",
    "    printSP(source, dest, parents, dist);\n",
    "\n",
    "}\n",
    "\n",
    "private void printSP(String s, String d, Map<String, String> parents, Map<String, Integer> keys) {\n",
    "\n",
    "    List<String> path = new ArrayList<>();\n",
    "\n",
    "    /* Backtrace the edges that make up the shortest path */\n",
    "    \n",
    "    System.out.printf(\"%s: %d\\n\", path, keys.get(d));\n",
    "    \n",
    "}"
   ]
  },
  {
   "cell_type": "markdown",
   "metadata": {},
   "source": [
    "##### Testing Dijkstra"
   ]
  },
  {
   "cell_type": "code",
   "execution_count": 26,
   "metadata": {},
   "outputs": [
    {
     "name": "stdout",
     "output_type": "stream",
     "text": [
      "a->null\n",
      "b->a\n",
      "c->b\n",
      "d->a\n",
      "e->b\n",
      "f->d\n",
      "g->f\n",
      "[a, d, f, g]: 22\n"
     ]
    }
   ],
   "source": [
    "dijkstraShortestPath(g, \"a\", \"g\");"
   ]
  }
 ],
 "metadata": {
  "kernelspec": {
   "display_name": "Java",
   "language": "java",
   "name": "java"
  },
  "language_info": {
   "codemirror_mode": "java",
   "file_extension": ".jshell",
   "mimetype": "text/x-java-source",
   "name": "Java",
   "pygments_lexer": "java",
   "version": "11.0.17+8-post-Ubuntu-1ubuntu220.04"
  }
 },
 "nbformat": 4,
 "nbformat_minor": 4
}
