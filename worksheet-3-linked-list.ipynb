{
 "cells": [
  {
   "cell_type": "markdown",
   "metadata": {},
   "source": [
    "<h1 style=\"text-align: center; font-size: 40px\">Linked Lists</h1>"
   ]
  },
  {
   "cell_type": "code",
   "execution_count": null,
   "metadata": {},
   "outputs": [],
   "source": [
    "import java.util.Random;\n",
    "import java.lang.*;"
   ]
  },
  {
   "cell_type": "markdown",
   "metadata": {},
   "source": [
    "## Objectives\n",
    "\n",
    "The objectives of this worksheet are as follows:\n",
    "* Construction of the ListNode class with primative integer as data.\n",
    "* Construct a list by manually setting references\n",
    "* Construct a list by iteratively progressing a reference\n",
    "* Print the contents of a linked list\n",
    "* Understand the general layout of the generic class you will be implementing for lab\n",
    "\n",
    "\n",
    "\n",
    "\n",
    "#### Using Jupyter\n",
    "A few things to remind you with regard to using this Jupyter environment:\n",
    "1. If the platform crashes don't worry. All of this is in the browser so just refresh and all of your changes up to your last save should still be there. For this reason we encourage you to **save often**.\n",
    "2. Be sure to run cells from top to bottom.\n",
    "3. If you're getting weird errors to go: Kernel->Restart & Clear Output. From there, run cells from top to bottom. "
   ]
  },
  {
   "cell_type": "markdown",
   "metadata": {},
   "source": [
    "## ListNode"
   ]
  },
  {
   "cell_type": "markdown",
   "metadata": {},
   "source": [
    "For singly linked lists, each node will contain two items:\n",
    "1. Data associated with a node\n",
    "2. A `next` reference to it's neighbor node\n",
    "With respect to the second category, for a binary tree we will have two references: right and left.\n",
    "\n",
    "**Your Task:** Complete the `ListNode` class such that it has the following two attributes:\n",
    "* a primative integer containing some data\n",
    "* a `next` pointer\n",
    "\n",
    "Additionally, create a constructor that:\n",
    "\n",
    "* takes a single `int` parameter containing the data for the node we are constructing\n",
    "* sets that data to our data attribute\n",
    "* initializes the `next` references to `null`.\n",
    "\n",
    "For simplicity's sake, keep all attributes at the `public` level of access."
   ]
  },
  {
   "cell_type": "code",
   "execution_count": null,
   "metadata": {},
   "outputs": [],
   "source": [
    "public class ListNode{\n",
    "        \n",
    "    public ListNode(int data){\n",
    "\n",
    "    }\n",
    "    \n",
    "}"
   ]
  },
  {
   "cell_type": "code",
   "execution_count": null,
   "metadata": {},
   "outputs": [],
   "source": [
    "// Run this cell to test and see if the \n",
    "// TreeNode was sucessfully constructed\n",
    "ListNode v1 = new ListNode(4);\n",
    "System.out.printf(\"Created a ListNode with value: %d\\n\", v1.data);"
   ]
  },
  {
   "attachments": {
    "image.png": {
     "image/png": "[encoded data removed]"
    }
   },
   "cell_type": "markdown",
   "metadata": {},
   "source": [
    "## Constructing a List\n",
    "\n",
    "![image.png](attachment:image.png)"
   ]
  },
  {
   "cell_type": "markdown",
   "metadata": {},
   "source": [
    "Now that we have a `ListNode` class, lets use these nodes to create a new `List` class. We will cover later how to create general `List` classees that allow you to dynamically add and remove nodes. For now, this `List` class will construct only a single tree by manually setting the left and right references of nodes.\n",
    "\n",
    "**Your Task**:\n",
    "Our class will only need one attribute, the head of the `List`. \n",
    "To do this follow these steps:\n",
    "1. Set the root equal to a new instance of `ListNode` with the given data.\n",
    "2. Set the root node's next pointer (e.g., `root.next`) to a new instance of `ListNode` with the given data.\n",
    "3. Set the root node's neighbors neighbor (e.g., `root.next.next`) to a new instance of `ListNode` with the given data\n",
    "4. Continue this process for a few steps in order to construct part of the above list.\n",
    "\n",
    "Follow the above pattern to build out the tree in the image."
   ]
  },
  {
   "cell_type": "code",
   "execution_count": null,
   "metadata": {},
   "outputs": [],
   "source": [
    "public class List{\n",
    "    \n",
    "    public ListNode head;\n",
    "    \n",
    "    public List(){\n",
    "        head = new ListNode(12);\n",
    "        head.next = ??\n",
    "    }\n",
    "}"
   ]
  },
  {
   "cell_type": "code",
   "execution_count": null,
   "metadata": {},
   "outputs": [],
   "source": [
    "// Run this to test the instantiation of your tree\n",
    "List myList = new List();"
   ]
  },
  {
   "cell_type": "markdown",
   "metadata": {},
   "source": [
    "## Displaying a List"
   ]
  },
  {
   "cell_type": "markdown",
   "metadata": {},
   "source": [
    "As our first practice in traversing a list we will print the values of all of the nodes in order. The algorithm, in this case, is as follows:\n",
    "1. Create a reference to the head of the `myList`. This is already taken care of for you.\n",
    "2. While that reference isn't null:\n",
    "    1. print the value of the node at that reference\n",
    "    2. move to the next node by setting the reference to the node refered to by `next`\n",
    "\n",
    "This traversal process will be used again when adding and removing nodes iteratively so keep it in mind. "
   ]
  },
  {
   "cell_type": "code",
   "execution_count": null,
   "metadata": {},
   "outputs": [],
   "source": [
    "public void displayList(){\n",
    "    \n",
    "    ListNode tmp = myList.head;\n",
    "    \n",
    "    while(??){\n",
    "        \n",
    "    }\n",
    "}"
   ]
  },
  {
   "cell_type": "markdown",
   "metadata": {},
   "source": [
    "Now, run the function and see what happens."
   ]
  },
  {
   "cell_type": "code",
   "execution_count": null,
   "metadata": {},
   "outputs": [],
   "source": [
    "displayList();"
   ]
  },
  {
   "cell_type": "markdown",
   "metadata": {},
   "source": [
    "## Iteratively Adding a Node"
   ]
  },
  {
   "cell_type": "markdown",
   "metadata": {},
   "source": [
    "As you might have gotten the sense of earlier, manually adding nodes is very tedious and not very functional given we have to manually keep track of how many `.next`s get us to the end of the list. Here we will borrow the traversal process we used when displaying the list to iterate through the list with a few small modifications:\n",
    "1. If the `head` is null then simply set the `head` equal to a new node and return\n",
    "2. Else:\n",
    "    1. Create a new reference to the `head`\n",
    "    2. Iterate until the **reference's next** pointer is null.\n",
    "    3. Set the reference's next pointer equal to a new instance of `ListNode` with the passed in data.\n",
    "    \n",
    "For this worksheet we will only be focusing on the process of adding a node. THe removal process is covered in extensive detail in the mini-assignment's description."
   ]
  },
  {
   "cell_type": "code",
   "execution_count": null,
   "metadata": {},
   "outputs": [],
   "source": [
    "public class List{\n",
    "    \n",
    "    public ListNode head;\n",
    "    \n",
    "    public List(){\n",
    "        head = null;\n",
    "    }\n",
    "    \n",
    "    //Fill in this function\n",
    "    public void addNode(int data){\n",
    "\n",
    "    }\n",
    "    \n",
    "    public void displayList(){\n",
    "    \n",
    "        ListNode tmp = head;\n",
    "\n",
    "        while(tmp != null){\n",
    "\n",
    "            System.out.println(tmp.data);\n",
    "            tmp = tmp.next;\n",
    "\n",
    "        }\n",
    "    }\n",
    "}"
   ]
  },
  {
   "cell_type": "markdown",
   "metadata": {},
   "source": [
    "Run the following cell to create a new list and display it's contents."
   ]
  },
  {
   "cell_type": "code",
   "execution_count": null,
   "metadata": {},
   "outputs": [],
   "source": [
    "List l = new List();\n",
    "l.addNode(1);\n",
    "l.addNode(2);\n",
    "l.addNode(3);\n",
    "l.displayList();"
   ]
  },
  {
   "cell_type": "markdown",
   "metadata": {},
   "source": [
    "## Generic List "
   ]
  },
  {
   "cell_type": "markdown",
   "metadata": {},
   "source": [
    "For the miniassignment you will be implementing a generic, singly linked list. Practice how this class is setup by refactoring your original class to be the new, generic list classes `GList` and `GListNode`. A basic structure for you to fill in is presented below:"
   ]
  },
  {
   "cell_type": "code",
   "execution_count": null,
   "metadata": {},
   "outputs": [],
   "source": [
    "public class GList<E>{\n",
    "\n",
    "    public class GListNode<E>{\n",
    "        /* Attributes */\n",
    "        \n",
    "    }\n",
    "    \n",
    "    public GList(){\n",
    "    \n",
    "    }\n",
    "    \n",
    "    \n",
    "    public void addNode(T data){\n",
    "\n",
    "    }\n",
    "    \n",
    "    public void displayList(){\n",
    "    \n",
    "\n",
    "    }\n",
    "}"
   ]
  },
  {
   "cell_type": "markdown",
   "metadata": {},
   "source": [
    "Run the following code to ensure you have refactored your original code correctly."
   ]
  },
  {
   "cell_type": "code",
   "execution_count": null,
   "metadata": {},
   "outputs": [],
   "source": [
    "GList<Integer> l = new GList<>();\n",
    "l.addNode(1);\n",
    "l.addNode(2);\n",
    "l.addNode(3);\n",
    "l.displayList();"
   ]
  }
 ],
 "metadata": {
  "kernelspec": {
   "display_name": "Java",
   "language": "java",
   "name": "java"
  },
  "language_info": {
   "codemirror_mode": "java",
   "file_extension": ".jshell",
   "mimetype": "text/x-java-source",
   "name": "Java",
   "pygments_lexer": "java",
   "version": "11.0.3+7"
  }
 },
 "nbformat": 4,
 "nbformat_minor": 2
}
