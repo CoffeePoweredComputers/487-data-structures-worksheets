{
 "cells": [
  {
   "cell_type": "markdown",
   "metadata": {},
   "source": [
    "## Loading Libraries\n",
    "\n",
    "Let's import all the necessary packages first. You can safely ignore this section."
   ]
  },
  {
   "cell_type": "code",
   "execution_count": null,
   "metadata": {},
   "outputs": [],
   "source": [
    "import java.util.Random;\n",
    "import java.lang.*;"
   ]
  },
  {
   "cell_type": "markdown",
   "metadata": {},
   "source": [
    "## Objectives\n",
    "\n",
    "The objectives of this worksheet are as follows:\n",
    "\n",
    "\n",
    "\n",
    "#### Using Jupyter\n",
    "A few things to remind you with regard to using this Jupyter environment:\n",
    "1. If the platform crashes don't worry. All of this is in the browser so just refresh and all of your changes up to your last save should still be there. For this reason we encourage you to **save often**.\n",
    "2. Be sure to run cells from top to bottom.\n",
    "3. If you're getting weird errors to go: Kernel->Restart & Clear Output. From there, run cells from top to bottom."
   ]
  },
  {
   "cell_type": "markdown",
   "metadata": {},
   "source": [
    "<h2 style=\"text-align: center;\">Map Interface</h2>"
   ]
  },
  {
   "cell_type": "markdown",
   "metadata": {},
   "source": [
    "\n",
    "\n",
    "As usual, the Java doc for this interface can be found [here](https://docs.oracle.com/javase/8/docs/api/java/util/Map.html)."
   ]
  },
  {
   "cell_type": "markdown",
   "metadata": {},
   "source": [
    "### Creating a Map\n",
    "\n",
    "In the past you have become very familiar with the `List` interface and the concept of generics. As such when I have the following code:\n",
    "```java\n",
    "List<String> lst = //...\n",
    "```\n",
    "You know that I am creating a list that is going to contain strings. This pattern holds for the map interface, however, no we have to concern ourselves with two values. The key and the value. This is still relatively straight foward as we can just use the following template:\n",
    "```java\n",
    "Map<K, V> map = //...\n",
    "```\n",
    "where `K` and `V` will be replaced by the data type you want the key and value to be respectively. For instance, if we want to create a map where they keys are string and the values are integers we would do the following:\n",
    "\n",
    "```java\n",
    "Map<String, Integer> newMap = //...\n",
    "```\n",
    "\n",
    "Though we can only have single values (e.g., string, integer) as the keys for dicionaries we can have any object we want ast the values. For instance, if we wanted to make a map where the keys are integers and the values are a list of string we could do the following:\n",
    "\n",
    "```java\n",
    "Map<Integer, List<String>> newMap = //...\n",
    "```\n",
    "\n",
    "We will be going over both the `HashMap` implementation and the `Hashtable` implementation of this interface in greater detail later. Just for being able to show off some of the `Map` interface's methods we will be using the `HashMap` implementation in the following examples. \n",
    "\n",
    "<img alt=\"Activity - In-Class\" src=\"https://img.shields.io/badge/Activity-In--Class-E84A27\" align=\"left\" style=\"margin-right: 5px\"/>\n",
    "<br>\n",
    "<br>\n",
    "\n",
    "Create two hashmaps:\n",
    "1. Containing with strings for keys and integers for values.\n",
    "2. Containing strings for keys and a List of strings for values.\n",
    "\n",
    "We will be using these in future examples."
   ]
  },
  {
   "cell_type": "code",
   "execution_count": 1,
   "metadata": {},
   "outputs": [],
   "source": [
    "/* Your solution here */"
   ]
  },
  {
   "cell_type": "markdown",
   "metadata": {},
   "source": [
    "## Putting things in a Map\n",
    "\n",
    "There are three commonly used methods for adding things to a map:\n",
    "* `put(K key, V value)` which allows us to add a new key-value pair to the map. If the key already exists then it raises an exception. \n",
    "* `putAll(Map< K, V> map)` which adds each key-value pair from an existing map to our map.\n",
    "* `putIfAbsent(K key, V value)` which adds a key value pair to a dictionary *only* if the key is not already in the map. You will explore how to use each of these in the following exercises."
   ]
  },
  {
   "cell_type": "markdown",
   "metadata": {},
   "source": [
    "<img alt=\"Activity - In-Class\" src=\"https://img.shields.io/badge/Activity-In--Class-E84A27\" align=\"left\" style=\"margin-right: 5px\"/>\n",
    "<br>\n",
    "<br>\n",
    "\n"
   ]
  },
  {
   "cell_type": "code",
   "execution_count": null,
   "metadata": {},
   "outputs": [],
   "source": []
  },
  {
   "cell_type": "markdown",
   "metadata": {},
   "source": [
    "<img alt=\"Activity - In-Class\" src=\"https://img.shields.io/badge/Activity-In--Class-E84A27\" align=\"left\" style=\"margin-right: 5px\"/>\n",
    "<br>\n",
    "<br>"
   ]
  },
  {
   "cell_type": "code",
   "execution_count": null,
   "metadata": {},
   "outputs": [],
   "source": [
    "/* The existing map */"
   ]
  },
  {
   "cell_type": "markdown",
   "metadata": {},
   "source": [
    "\n",
    "\n",
    "<img alt=\"Activity - In-Class\" src=\"https://img.shields.io/badge/Activity-In--Class-E84A27\" align=\"left\" style=\"margin-right: 5px\"/>\n",
    "<br>\n",
    "<br>"
   ]
  },
  {
   "cell_type": "code",
   "execution_count": null,
   "metadata": {},
   "outputs": [],
   "source": []
  },
  {
   "cell_type": "markdown",
   "metadata": {},
   "source": [
    "## Getting things from a Map\n",
    "\n",
    "Now that we have put some stuff in each of our maps, lets try getting some stuff. There are two commonly used methods for this:\n",
    "* `get(Object key)` which gets the value associated with a key. If the key you provide is not in the map then it will return `null`.\n",
    "* `getOrDefault(Object key, V defaultValue)` which also gets the value associated with a key **but**, if the key is not found it will return the provided default value.\n",
    "\n",
    "The first one is by far the one you will use the most in this class and it will be particularly useful for the second list since we can get the list associated with a key and then add something to that list. The second is less used so we will simply be providing an example for you to run so you can understand it's utility even if you don't use it all that often yourself."
   ]
  },
  {
   "cell_type": "markdown",
   "metadata": {},
   "source": [
    "<img alt=\"Activity - In-Class\" src=\"https://img.shields.io/badge/Activity-In--Class-E84A27\" align=\"left\" style=\"margin-right: 5px\"/>\n",
    "<br>\n",
    "<br>\n",
    "\n",
    "In the following exercise you are given a list of integers and a map. "
   ]
  },
  {
   "cell_type": "code",
   "execution_count": null,
   "metadata": {},
   "outputs": [],
   "source": []
  },
  {
   "cell_type": "markdown",
   "metadata": {},
   "source": [
    "<img alt=\"Activity - In-Class\" src=\"https://img.shields.io/badge/Activity-In--Class-E84A27\" align=\"left\" style=\"margin-right: 5px\"/>\n",
    "<br>\n",
    "<br>"
   ]
  },
  {
   "cell_type": "code",
   "execution_count": null,
   "metadata": {},
   "outputs": [],
   "source": []
  },
  {
   "cell_type": "code",
   "execution_count": null,
   "metadata": {},
   "outputs": [],
   "source": []
  },
  {
   "cell_type": "markdown",
   "metadata": {},
   "source": [
    "## Removing things from a Map\n",
    "\n",
    "Now for the last set of relevant operations, we will be removing things from our map:\n",
    "* `remove(Object key)` which, given a key, removes the associated key-value pair and returns the value. If no such key exists in the list then `null` is returned.\n",
    " "
   ]
  },
  {
   "cell_type": "code",
   "execution_count": null,
   "metadata": {},
   "outputs": [],
   "source": []
  },
  {
   "cell_type": "code",
   "execution_count": null,
   "metadata": {},
   "outputs": [],
   "source": []
  },
  {
   "cell_type": "code",
   "execution_count": null,
   "metadata": {},
   "outputs": [],
   "source": []
  },
  {
   "cell_type": "code",
   "execution_count": null,
   "metadata": {},
   "outputs": [],
   "source": []
  },
  {
   "cell_type": "code",
   "execution_count": null,
   "metadata": {},
   "outputs": [],
   "source": []
  },
  {
   "cell_type": "markdown",
   "metadata": {},
   "source": [
    "## Iterating through Maps\n",
    "\n",
    "With the `List<E>` interface, iteration is relatively straight forward and we could use either of the following methods for iterating over the elements in the list:\n",
    "```java\n",
    "```\n",
    "\n",
    "or \n",
    "\n",
    "```java\n",
    "```\n",
    "\n",
    "However, maps are a little bit different since we are now dealing with pairs of elements rather than isolated ones. "
   ]
  },
  {
   "cell_type": "code",
   "execution_count": null,
   "metadata": {},
   "outputs": [],
   "source": [
    "Map<"
   ]
  },
  {
   "cell_type": "markdown",
   "metadata": {},
   "source": [
    "#### Iterating through keys\n",
    "\n",
    "We will begin with getting the set of keys in a map and iterating through those. For this task we can use the `keySet()` function which returns the set of keys\n",
    "\n",
    "```java\n",
    "for(K key: map.keySet()){\n",
    "    System.out.println(key);\n",
    "}\n",
    "```"
   ]
  },
  {
   "cell_type": "code",
   "execution_count": null,
   "metadata": {},
   "outputs": [],
   "source": []
  },
  {
   "cell_type": "markdown",
   "metadata": {},
   "source": [
    "#### Iterating through values\n",
    "\n",
    "```java\n",
    "for(V value: map.values()){\n",
    "    System.out.println(value);\n",
    "}\n",
    "```\n",
    "Where `V` is replaced with the type of the values you are iterating over in your map. "
   ]
  },
  {
   "cell_type": "code",
   "execution_count": null,
   "metadata": {},
   "outputs": [],
   "source": []
  },
  {
   "cell_type": "markdown",
   "metadata": {},
   "source": [
    "#### Iterating through pairs\n",
    "\n",
    "In many cases we may want to itarate over both the elements. For this we will use the `entrySet()` function which returns a `Set<Map.Entry<K, V>>`. We can then iterate over this set and get each instance of `Map.Entry<K, V>` it contains. `Map.Entry<K, V>` is an inner interface from `Map` (i.e., a static interface that is nested in `Map`). It has the following methods that we will use:\n",
    "* `getKey()`\n",
    "* `getValue()`\n",
    "\n",
    "The following example is of iterating through a map and prints the keys and values from each entry in the entry set.\n",
    "\n",
    "```java\n",
    "for(Map.Entry<K, V> entry: map.entrySet()){\n",
    "    System.out.println(entry.getKey());    //Gets the value from the entry\n",
    "    System.out.println(entry.getValue());  //Gets the key from the entry.\n",
    "}\n",
    "```\n",
    "Where `K` and `V` are replaced with the types of the keys and values present in your map."
   ]
  },
  {
   "cell_type": "code",
   "execution_count": null,
   "metadata": {},
   "outputs": [],
   "source": []
  },
  {
   "cell_type": "markdown",
   "metadata": {},
   "source": [
    "### HashMap vs Hashtable\n",
    "\n",
    "The Java docs for each implementation can be found at the following links:\n",
    "* [HashMap](https://docs.oracle.com/javase/8/docs/api/java/util/HashMap.html).\n",
    "* [Hashtable](https://docs.oracle.com/javase/8/docs/api/java/util/Hashtable.html)."
   ]
  },
  {
   "cell_type": "code",
   "execution_count": null,
   "metadata": {},
   "outputs": [],
   "source": []
  },
  {
   "cell_type": "code",
   "execution_count": null,
   "metadata": {},
   "outputs": [],
   "source": []
  },
  {
   "cell_type": "markdown",
   "metadata": {},
   "source": [
    "<h2 style=\"text-align: center;\">Set</h2>"
   ]
  },
  {
   "cell_type": "markdown",
   "metadata": {},
   "source": [
    "\n",
    "\n",
    "As usual, the Java doc for this interface can be found [here](https://docs.oracle.com/javase/7/docs/api/java/util/Set.html)."
   ]
  },
  {
   "cell_type": "markdown",
   "metadata": {},
   "source": [
    "### HashSet\n",
    "\n",
    "As usual, the Java doc for this interface can be found [here](https://docs.oracle.com/javase/7/docs/api/java/util/HashSet.html)."
   ]
  },
  {
   "cell_type": "code",
   "execution_count": null,
   "metadata": {},
   "outputs": [],
   "source": []
  },
  {
   "cell_type": "code",
   "execution_count": null,
   "metadata": {},
   "outputs": [],
   "source": []
  },
  {
   "cell_type": "code",
   "execution_count": null,
   "metadata": {},
   "outputs": [],
   "source": []
  }
 ],
 "metadata": {
  "kernelspec": {
   "display_name": "Java",
   "language": "java",
   "name": "java"
  },
  "language_info": {
   "codemirror_mode": "java",
   "file_extension": ".jshell",
   "mimetype": "text/x-java-source",
   "name": "Java",
   "pygments_lexer": "java",
   "version": "11.0.3+7"
  }
 },
 "nbformat": 4,
 "nbformat_minor": 2
}
