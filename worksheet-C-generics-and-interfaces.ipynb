{
 "cells": [
  {
   "cell_type": "markdown",
   "metadata": {},
   "source": [
    "<h1 style=\"text-align: center; font-size: 40px\">Generics and Interfaces</h1>"
   ]
  },
  {
   "cell_type": "markdown",
   "metadata": {},
   "source": [
    "## Loading Libraries\n",
    "\n",
    "Let's import all the necessary packages first!"
   ]
  },
  {
   "cell_type": "code",
   "execution_count": 1,
   "metadata": {},
   "outputs": [],
   "source": [
    "import java.util.*;\n",
    "import java.lang.*;"
   ]
  },
  {
   "cell_type": "markdown",
   "metadata": {},
   "source": [
    "## Objectives\n",
    "\n",
    "The objectives of this worksheet are as follows:\n",
    "* Introduce the basics of interfaces and how they're utilized\n",
    "* Show the basics of creating an implementing interfaces\n",
    "* Show the basics of making generic classes and generic interfaces in Java\n",
    "\n",
    "#### Using Jupyter\n",
    "A few things to remind you with regard to using this Jupyter environment:\n",
    "1. If the platform crashes don't worry. All of this is in the browser so just refresh and all of your changes up to your last save should still be there. For this reason we encourage you to **save often**.\n",
    "2. Be sure to run cells from top to bottom.\n",
    "3. If you're getting strange errors to go: Kernel->Restart & Clear Output. From there, run cells from top to bottom. \n",
    "\n",
    "Additionally keep an eye out for the badges in each section they give an indication for which sections are inclass activities ."
   ]
  },
  {
   "cell_type": "markdown",
   "metadata": {},
   "source": [
    "## Interfaces"
   ]
  },
  {
   "cell_type": "markdown",
   "metadata": {},
   "source": [
    "Before we dive in it is worth understanding the core objective of interfaces. Recall several worksheets ago when I stated the difference between:\n",
    "\n",
    "* `List<E> lst = new ArrayList<>();`\n",
    "* `ArrayList<E> lst = new ArrayList<>();`\n",
    "\n",
    "Recall that we prefer the former unless we specifically require some functionality or implementation details of `ArrayList`. This is because the `List` interface guarantees that all implementations of `List` have some core set of methods implemented. We will be covering in this section why that is, how interfaces are created, how classes implement them, and how this impacts the code we write. We will be doing this with the intention of providing a deeper understanding of how ADTs are implemented in Java along with a deeper understanding of why we program to interfaces rather than implementations."
   ]
  },
  {
   "cell_type": "markdown",
   "metadata": {
    "tags": []
   },
   "source": [
    "### Defining an Interface\n",
    "\n",
    "Defining an interface is syntactically very similiar to defining a class. However, there are three key differences:\n",
    "1. We use the `interface` keyword rather than the `class` keyword.\n",
    "2. There are not attributes\n",
    "3. We provide method headers but **not the implementation of the method**.\n",
    "\n",
    "For example, the `List` interfaces we've been using in previous classes might look something like this:\n",
    "```java\n",
    "interface List{\n",
    "    public boolean add(Object value);\n",
    "    public Object get(int index);\n",
    "    public void remove(int index);\n",
    "}\n",
    "```\n",
    "<img alt=\"Activity - In-Class\" src=\"https://img.shields.io/badge/Activity-In--Class-E84A27\" align=\"left\" style=\"margin-right: 5px\"/>\n",
    "<br>\n",
    "<br>\n",
    "\n",
    "Your task is to create an interface for a `Shape`. This interface should have the following `public` methods:\n",
    "\n",
    "* getArea() which returns an double\n",
    "* getPerimeter() which also returns a double"
   ]
  },
  {
   "cell_type": "code",
   "execution_count": 2,
   "metadata": {},
   "outputs": [],
   "source": [
    "interface Shape{\n",
    "    public double getArea();\n",
    "    public double getPerimeter();\n",
    "}"
   ]
  },
  {
   "cell_type": "markdown",
   "metadata": {},
   "source": [
    "### Implementing Interfaces\n",
    "\n",
    "Now that our `Shape` interface has been defined lets create two classes that implement it. Here, we define a class and then use the `implements` keyword followed the interface we want to implement. For the `ArrayList` impelmentation of the `List` interface this process might look something like this:\n",
    "\n",
    "```java\n",
    "class ArrayList implements List{\n",
    "    public int add(Object value){\n",
    "        /* rest of definition here */\n",
    "    }\n",
    "    \n",
    "    public Object get(int index){\n",
    "        /* rest of definition here */\n",
    "    }\n",
    "    \n",
    "    public void remove(int index){\n",
    "        /* rest of definition here */\n",
    "    }\n",
    "    \n",
    "}\n",
    "```\n",
    "\n",
    "Your task will be to create two implementations of the `Shape` interface you created above."
   ]
  },
  {
   "cell_type": "markdown",
   "metadata": {},
   "source": [
    "##### The Hexagon Class\n",
    "<img alt=\"Activity - In-Class\" src=\"https://img.shields.io/badge/Activity-In--Class-E84A27\" align=\"left\" style=\"margin-right: 5px\"/>\n",
    "<br>\n",
    "<br>\n",
    "\n",
    "The `Hexagon` class should be implemented to have:\n",
    "* Attributes:\n",
    "    * sideLength (double)\n",
    "* Implementations for the following methods from the `Shape` interface:\n",
    "    * getArea() where the area of a hexagon is defined by (3*sqrt(3))/2 * (sideLength^2)\n",
    "    * getPerimeter()"
   ]
  },
  {
   "cell_type": "code",
   "execution_count": 22,
   "metadata": {},
   "outputs": [],
   "source": [
    "class Hexagon implements Shape{\n",
    "    \n",
    "    public double sideLength;\n",
    "    \n",
    "    Hexagon(double sideLength){\n",
    "        this.sideLength = sideLength;\n",
    "    }\n",
    "    \n",
    "    public double getArea(){\n",
    "        return (3 * Math.sqrt(3)) / (2 * Math.pow(2, sideLength));\n",
    "    }\n",
    "    \n",
    "    public double getPerimeter(){\n",
    "        return 6 * sideLength;\n",
    "    }\n",
    "\n",
    "}"
   ]
  },
  {
   "cell_type": "code",
   "execution_count": 9,
   "metadata": {},
   "outputs": [
    {
     "name": "stdout",
     "output_type": "stream",
     "text": [
      "0.24105658587778853\n",
      "20.580000000000002\n"
     ]
    }
   ],
   "source": [
    "/* Test your code here */\n",
    "Shape hex1 = new Hexagon(3.43);\n",
    "System.out.println(hex1.getArea());\n",
    "System.out.println(hex1.getPerimeter());"
   ]
  },
  {
   "cell_type": "markdown",
   "metadata": {},
   "source": [
    "###### The Equilateral Triangle Class\n",
    "<img alt=\"Activity - In-Class\" src=\"https://img.shields.io/badge/Activity-In--Class-E84A27\" align=\"left\" style=\"margin-right: 5px\"/>\n",
    "<br>\n",
    "<br>\n",
    "\n",
    "The `EquilateralTriangle` class should be implemented to have:\n",
    "\n",
    "* Attributes:\n",
    "    * sideLength (double)\n",
    "* Implementations for the following methods from the `Shape` interface:\n",
    "    * getArea() where the area of an equilateral triangle is defined by sqrt(3)/4 * (sideLength^2)\n",
    "    * getPerimeter()"
   ]
  },
  {
   "cell_type": "code",
   "execution_count": 15,
   "metadata": {},
   "outputs": [],
   "source": [
    "class EquilateralTriangle implements Shape{\n",
    "    \n",
    "    public double sideLength;\n",
    "    \n",
    "    EquilateralTriangle(double sideLength){\n",
    "        this.sideLength = sideLength;\n",
    "    }\n",
    "    \n",
    "    public double getArea(){\n",
    "        return (Math.sqrt(3)/4) * Math.pow(2, sideLength);\n",
    "    }\n",
    "    \n",
    "    public double getPerimeter(){\n",
    "        return 3 * sideLength;\n",
    "    }\n",
    "}"
   ]
  },
  {
   "cell_type": "code",
   "execution_count": 16,
   "metadata": {},
   "outputs": [
    {
     "name": "stdout",
     "output_type": "stream",
     "text": [
      "4.6669540095882525\n",
      "10.290000000000001\n"
     ]
    }
   ],
   "source": [
    "/* Test your code here */\n",
    "Shape hex1 = new EquilateralTriangle(3.43);\n",
    "System.out.println(hex1.getArea());\n",
    "System.out.println(hex1.getPerimeter());"
   ]
  },
  {
   "cell_type": "markdown",
   "metadata": {},
   "source": [
    "###### List of Shapes"
   ]
  },
  {
   "cell_type": "code",
   "execution_count": 17,
   "metadata": {},
   "outputs": [],
   "source": [
    "List<Shape> shapeList = new ArrayList<>();\n",
    "\n",
    "shapeList.add(new EquilateralTriangle(1.4));\n",
    "shapeList.add(new Hexagon(0.25));\n",
    "shapeList.add(new Hexagon(7.0));\n",
    "shapeList.add(new EquilateralTriangle(7.25));\n",
    "shapeList.add(new Hexagon(100.5));\n",
    "shapeList.add(new EquilateralTriangle(75.456));\n",
    ";"
   ]
  },
  {
   "cell_type": "markdown",
   "metadata": {},
   "source": [
    "<img alt=\"Activity - In-Class\" src=\"https://img.shields.io/badge/Activity-In--Class-E84A27\" align=\"left\" style=\"margin-right: 5px\"/>\n",
    "<br>\n",
    "<br>\n",
    "Now, use the list of shapes we made to compute the total area of all the shapes in the list. "
   ]
  },
  {
   "cell_type": "code",
   "execution_count": 18,
   "metadata": {},
   "outputs": [],
   "source": [
    "public double sumAllShapeAreas(List<Shape> shapes){\n",
    "    double total = 0;\n",
    "    for(int i = 0; i < shapes.size(); i++){\n",
    "        Shape shape = shapes.get(i);\n",
    "        total += shape.getArea();\n",
    "    }\n",
    "    return total;\n",
    "}"
   ]
  },
  {
   "cell_type": "code",
   "execution_count": 19,
   "metadata": {},
   "outputs": [
    {
     "name": "stdout",
     "output_type": "stream",
     "text": [
      "2.243985203148565E22\n"
     ]
    }
   ],
   "source": [
    "/* Tests here */\n",
    "double totalArea = sumAllShapeAreas(shapeList);\n",
    "System.out.println(totalArea);"
   ]
  },
  {
   "cell_type": "markdown",
   "metadata": {},
   "source": [
    "<img alt=\"Activity - In-Class\" src=\"https://img.shields.io/badge/Activity-In--Class-E84A27\" align=\"left\" style=\"margin-right: 5px\"/>\n",
    "<br>\n",
    "<br>\n",
    "Next, compute the total perimeter of all shapes in the list."
   ]
  },
  {
   "cell_type": "code",
   "execution_count": 24,
   "metadata": {},
   "outputs": [],
   "source": [
    "public double sumAllShapePerims(List<Shape> shapes){\n",
    "    double total = 0;\n",
    "    for(int i = 0; i < shapes.size(); i++){\n",
    "        Shape shape = shapes.get(i);\n",
    "        total += shape.getPerimeter();\n",
    "    }\n",
    "    return total;\n",
    "}"
   ]
  },
  {
   "cell_type": "code",
   "execution_count": 25,
   "metadata": {},
   "outputs": [
    {
     "name": "stdout",
     "output_type": "stream",
     "text": [
      "898.818\n"
     ]
    }
   ],
   "source": [
    "/* Tests here */\n",
    "double totalPerim = sumAllShapePerims(shapeList);\n",
    "System.out.println(totalPerim);"
   ]
  },
  {
   "cell_type": "markdown",
   "metadata": {},
   "source": [
    "## Generics\n",
    "\n"
   ]
  },
  {
   "cell_type": "markdown",
   "metadata": {},
   "source": [
    "### Generic Interfaces\n",
    "\n",
    "Now, you might recall that the actual syntax for declaring an instance of some implementation of the `List` interface has `<>` in it. In between these chatacters we put the object type we want this list to contain. For instance, if we wanted a list of integers we would declare it as `List<Integer> intList = ...` or if we wanted a list of string we would use `List<String> strList = ...`. This allowence of a collection of arbitrary objects is powered by the usage of generic data types. So, in reality, the Java list interface looks more like this. \n",
    "\n",
    "```java\n",
    "interface List<E>{\n",
    "    public boolean add(E e);\n",
    "    public E get(int index);\n",
    "    public void remove(int index);\n",
    "}\n",
    "```\n",
    "The `E` is what is known as a generic type. Since the thing we are getting from the list or adding to the list is an element we use the character `E` to stand for \"element\". The following are the generic type conventions for the character used to represent the generic type being used:\n",
    "* T - Type\n",
    "* E - Element\n",
    "* K - Key\n",
    "* V - Value\n",
    "* N - Number\n",
    "\n",
    "The `E` is just a placeholder that allows us to declare the list with any kind of element. This allows us to have collections of elements without having to create a separate `List` or `add` method for each kind of data we want in our collections.\n",
    "\n",
    "Another example of this that you used in a prior assignment and will use again in future ones is the `Comparable` interface:\n",
    "```java\n",
    "public interface Comparable<T>{\n",
    "    public int compareTo(T o);\n",
    "}\n",
    "```\n",
    "In this interface we use the `T` since we use `compareTo` to compare types.\n",
    "\n",
    "*Note:* I've simplified quite a bit just to illustrate the core concepts; however, if you're interest the full source code for the actual List interface can be found [here](http://hg.openjdk.java.net/jdk8/jdk8/jdk/file/tip/src/share/classes/java/util/List.java);\n"
   ]
  },
  {
   "cell_type": "markdown",
   "metadata": {},
   "source": [
    "### Generic Classes\n",
    "\n",
    "For this class it is good to be aware of how generic interfaces work however, outside of the second mini-assignment we will be primarily focusing on generic classes for the remainder of the semester. These generic classes will allow us to make data structures that can be used to store collections of arbitrary types. The basic template for creating a generic class is as follows:\n",
    "```java\n",
    "class ClassName<T>{\n",
    "    //...\n",
    "}\n",
    "```\n",
    "Below is a very simple implementation of a generic class that holds some data and initializes that data via it's constructor. This might seem a bit silly but we'll be using variants of this class quite frequently later on in the course to store data in our data structures. You're encouraged to play around with this class and printing the attributes of each instance after initializing it."
   ]
  },
  {
   "cell_type": "code",
   "execution_count": 10,
   "metadata": {},
   "outputs": [
    {
     "name": "stdout",
     "output_type": "stream",
     "text": [
      "3\n"
     ]
    }
   ],
   "source": [
    "class GC<E>{\n",
    "    E data;\n",
    "    GC(E data){\n",
    "        this.data = data;\n",
    "    }\n",
    "}\n",
    "\n",
    "GC<String> str = new GC<>(\"hello\");\n",
    "GC<Integer> integer = new GC<>(3);\n",
    "GC<Double> doub = new GC<>(3.14);\n",
    "\n",
    "//Print the various attributes here\n",
    "System.out.println(integer.data);"
   ]
  },
  {
   "cell_type": "markdown",
   "metadata": {},
   "source": [
    "You can also create your own classes and use those as the type our generic class operates on. Below we create a class animal, override it's `toString` method, instantiate a new GC with that instance of `Animal` as it's data, and print the classes data."
   ]
  },
  {
   "cell_type": "code",
   "execution_count": 11,
   "metadata": {},
   "outputs": [
    {
     "name": "stdout",
     "output_type": "stream",
     "text": [
      "The Dog named Doge makes the arf sound\n"
     ]
    }
   ],
   "source": [
    "class Animal{\n",
    "    String type;\n",
    "    String name;\n",
    "    String sound;\n",
    "    \n",
    "    Animal(String type, String name, String sound){\n",
    "        this.type = type;\n",
    "        this.name = name;\n",
    "        this.sound = sound;\n",
    "    }\n",
    "    \n",
    "    @Override \n",
    "    public String toString(){\n",
    "        return String.format(\"The %s named %s makes the %s sound\",type, name, sound);\n",
    "    }\n",
    "}\n",
    "\n",
    "Animal doge = new Animal(\"Dog\", \"Doge\", \"arf\");\n",
    "\n",
    "GC<Animal> dogeInABox = new GC<>(doge);\n",
    "\n",
    "System.out.println(dogeInABox.data);"
   ]
  },
  {
   "cell_type": "markdown",
   "metadata": {},
   "source": [
    "We can also create generic classes that are implementations of generic interfaces. Once upon relying on lists in Java, the `ArrayList<E>` class is a generic class that implements the generic interface `List<E>`. \n",
    "```java\n",
    "class ArrayList<E> implements List<E>{\n",
    "    public boolean add(E e){\n",
    "        /* Code here */\n",
    "    }\n",
    "    public E get(int index){\n",
    "        /* Code here */\n",
    "    }\n",
    "    public void remove(int index){\n",
    "        /* Code here */\n",
    "    }\n",
    "}\n",
    "```\n",
    "\n",
    "<img alt=\"Activity - In-Class\" src=\"https://img.shields.io/badge/Activity-In--Class-E84A27\" align=\"left\" style=\"margin-right: 5px\"/>\n",
    "<br>\n",
    "<br>\n",
    "For this actvity implement the interface you created and test it by creating an instance and using some of the functions you defined."
   ]
  },
  {
   "cell_type": "code",
   "execution_count": null,
   "metadata": {},
   "outputs": [],
   "source": [
    "class GC<E>{\n",
    "    E data;\n",
    "    GC(E data){\n",
    "        this.data = data;\n",
    "    }\n",
    "    \n",
    "    /* Add get/set methods below. Look to the ArrayList for a similar (though not identical) example. */\n",
    "    public E get(){\n",
    "        return data;\n",
    "    }\n",
    "    \n",
    "    public void set(E data){\n",
    "        this.data = data;\n",
    "    }\n",
    "}"
   ]
  },
  {
   "cell_type": "code",
   "execution_count": null,
   "metadata": {},
   "outputs": [],
   "source": [
    "GC<String> str = new GC<>(\"hello\");\n",
    "System.out.println(\"The value is: \" + str.get());\n",
    "str.set(\"hi\");\n",
    "System.out.println(\"But we changed it to: \" + str.get());"
   ]
  },
  {
   "cell_type": "markdown",
   "metadata": {},
   "source": [
    "### String Builder\n",
    "\n",
    "In previous worksheets we have had classes with a set number of attributes and thus have been constructing `toString()` methods that expect a set number of attributes. However, if we have an attribute that can contain a variable number of elements and we want to convert those contents into a string. For this task we will use a `StringBuilder` which allows us to append multiple strings together and, once we are done, convert the final `StringBuilder` object to a single string. An example of converting an array of numbers to a string where each element is separated by a `->` character is shown below."
   ]
  },
  {
   "cell_type": "code",
   "execution_count": 70,
   "metadata": {},
   "outputs": [
    {
     "name": "stdout",
     "output_type": "stream",
     "text": [
      "1 -> 2 -> 3 -> 4 -> 5 -> 6 -> END\n"
     ]
    }
   ],
   "source": [
    "Integer[] ints = {1, 2, 3, 4};\n",
    "\n",
    "ints = Arrays.copyOf(ints, ints.length + 5);\n",
    "ints[4] = 5;\n",
    "ints[5] = 6;\n",
    "ints[6] = 7;\n",
    "ints[7] = 8;\n",
    "\n",
    "String numsString = String.format(\"%d -> %d -> %d -> %d -> %d -> %d -> END\", ints[0], ints[1], ints[2], ints[3], ints[4], ints[5]);\n",
    "System.out.println(numsString);"
   ]
  },
  {
   "cell_type": "code",
   "execution_count": 71,
   "metadata": {},
   "outputs": [
    {
     "name": "stdout",
     "output_type": "stream",
     "text": [
      "1 -> 2 -> 3 -> 4 -> 5 -> 6 -> 7 -> 8 ->  END \n"
     ]
    }
   ],
   "source": [
    "StringBuilder sb = new StringBuilder();\n",
    "for(int i = 0; i < 8; i++){\n",
    "    String intString = ints[i].toString();\n",
    "    sb.append(intString);\n",
    "    sb.append(\" -> \");\n",
    "}\n",
    "sb.append(\" END \");\n",
    "System.out.println(sb.toString());"
   ]
  },
  {
   "cell_type": "markdown",
   "metadata": {},
   "source": [
    "The purpose of converting the element to a string prior to appending it to the string builder is the string builder requires that we append strings to it. The example below shows and example of creating an array of an object we define and creating a string representation of all the elements in that array by using both a `StringBuilder` and that class's `toString()` methods."
   ]
  },
  {
   "cell_type": "code",
   "execution_count": 69,
   "metadata": {},
   "outputs": [
    {
     "name": "stdout",
     "output_type": "stream",
     "text": [
      "The dog, Jack, is 10 years old -> The dog, Jill, is 5 years old -> The dog, Spot, is 2 years old ->  END \n"
     ]
    }
   ],
   "source": [
    "class Dog{\n",
    "    \n",
    "    public String name;\n",
    "    public Integer age;\n",
    "    \n",
    "    Dog(String name, Integer age){\n",
    "        this.name = name;\n",
    "        this.age = age;\n",
    "    }\n",
    "    \n",
    "    @Override \n",
    "    public String toString(){\n",
    "        return String.format(\"The dog, %s, is %d years old\", name, age);\n",
    "    }\n",
    "    \n",
    "}\n",
    "\n",
    "//Creating the array of dogs and building a string representation of that array\n",
    "Dog[] dogs = {new Dog(\"Jack\", 10), new Dog(\"Jill\", 5), new Dog(\"Spot\", 2)};\n",
    "\n",
    "StringBuilder sb = new StringBuilder();\n",
    "for(int i = 0; i < dogs.length; i++){\n",
    "    String dogsString = dogs[i].toString(); // <-- THIS LINE\n",
    "    sb.append(dogsString);\n",
    "    sb.append(\" -> \");\n",
    "}\n",
    "sb.append(\" END \");\n",
    "System.out.println(sb.toString());"
   ]
  },
  {
   "cell_type": "markdown",
   "metadata": {
    "tags": []
   },
   "source": [
    "### Object vs E\n",
    "\n",
    "In Java we are allowed to have individual class attributes that are of type `E`. However, for reasons related to memory safety, we cannot have arrays of type `E`. Run the cell below and observe that attempting to do so produces an error."
   ]
  },
  {
   "cell_type": "code",
   "execution_count": 29,
   "metadata": {},
   "outputs": [
    {
     "ename": "CompilationException",
     "evalue": "",
     "output_type": "error",
     "traceback": [
      "\u001b[1m\u001b[30m|   \u001b[1m\u001b[30m    public E[] genericElements = \u001b[0m\u001b[1m\u001b[30m\u001b[41mnew E[5]\u001b[0m\u001b[1m\u001b[30m;\u001b[0m",
      "\u001b[1m\u001b[31mgeneric array creation\u001b[0m",
      ""
     ]
    }
   ],
   "source": [
    "// This class produces an error\n",
    "class Test1<E>{\n",
    "    public E[] genericElements = new E[5];\n",
    "}\n",
    "\n",
    "//Test1<String> newTest1 = new newTest1();"
   ]
  },
  {
   "cell_type": "markdown",
   "metadata": {},
   "source": [
    "To allow for arrays of arbitrary objects we instead use the type `Object` which is permitted by Java, as shown below."
   ]
  },
  {
   "cell_type": "code",
   "execution_count": 46,
   "metadata": {},
   "outputs": [],
   "source": [
    "// This class does not\n",
    "class Test2<E>{\n",
    "    public Object[] genericElements = new Object[5];\n",
    "}"
   ]
  },
  {
   "cell_type": "markdown",
   "metadata": {},
   "source": [
    "By declaring an array of arbitrary objects we can store different type of data in the same list. For instance, below we have an array containing an int, a float, and a string."
   ]
  },
  {
   "cell_type": "code",
   "execution_count": 1,
   "metadata": {},
   "outputs": [
    {
     "name": "stdout",
     "output_type": "stream",
     "text": [
      "[1, 1.29, hello]\n"
     ]
    }
   ],
   "source": [
    "Object[] stuff = {1, 1.29, \"hello\"};\n",
    "System.out.println(Arrays.toString(stuff));"
   ]
  },
  {
   "cell_type": "markdown",
   "metadata": {},
   "source": [
    "By combining `Object` and generics, we can construct classes that contain arrays of arbitrary objects. However, in many cases we want the methods that interact with the array and return items from it to have the return type parameterized by `E`. However, our array is of type `Object` so, if we return an `Object` when Java is expecting `E` we will run into an error. Look below at the `.get(i)` method for an example."
   ]
  },
  {
   "cell_type": "code",
   "execution_count": 31,
   "metadata": {},
   "outputs": [
    {
     "ename": "CompilationException",
     "evalue": "",
     "output_type": "error",
     "traceback": [
      "\u001b[1m\u001b[30m|   \u001b[1m\u001b[30mString a = \u001b[0m\u001b[1m\u001b[30m\u001b[41moa.get(0)\u001b[0m\u001b[1m\u001b[30m;\u001b[0m",
      "\u001b[1m\u001b[31mincompatible types: java.lang.Integer cannot be converted to java.lang.String\u001b[0m",
      ""
     ]
    }
   ],
   "source": [
    "class ObjectArray<E>{\n",
    "    \n",
    "    public Object[] objects = new Object[50];\n",
    "    public int size = 0;\n",
    "    \n",
    "    public boolean add(E newElement){\n",
    "        if(size < objects.length){\n",
    "            objects[size] = newElement;\n",
    "            size++;\n",
    "            return true;\n",
    "        }\n",
    "        return false;\n",
    "    }\n",
    "    \n",
    "    public E get(int i){\n",
    "        return (E) objects[i]; //RETURN TYPE IS OBJECT, JAVA EXPECTED E\n",
    "    }\n",
    "    \n",
    "}\n",
    "\n",
    "\n",
    "ObjectArray<Integer> oa = new ObjectArray();\n",
    "oa.add(5);\n",
    "oa.add(4);\n",
    "oa.add(3);\n",
    "oa.add(2);\n",
    "//oa.add(\"hello\");\n",
    "\n",
    "Integer a = oa.get(0);\n",
    "\n",
    "Integer num = oa.get(1);"
   ]
  },
  {
   "cell_type": "markdown",
   "metadata": {},
   "source": [
    "To remedy this we must cast the object to be of type `E`, as shown below."
   ]
  },
  {
   "cell_type": "code",
   "execution_count": 56,
   "metadata": {},
   "outputs": [
    {
     "name": "stdout",
     "output_type": "stream",
     "text": [
      "4\n"
     ]
    }
   ],
   "source": [
    "class ObjectArray<E>{\n",
    "    \n",
    "    public Object[] objects = new Object[5];\n",
    "    public int currIndex = 0;\n",
    "    \n",
    "    public boolean add(E e){\n",
    "        if(currIndex < objects.length){\n",
    "            objects[currIndex] = e;\n",
    "            currIndex++;\n",
    "            return true;\n",
    "        }\n",
    "        return false;\n",
    "    }\n",
    "    \n",
    "    public E get(int i){\n",
    "        return (E) objects[i]; //CAST TO E\n",
    "    }\n",
    "    \n",
    "}\n",
    "\n",
    "\n",
    "ObjectArray<Integer> oa = new ObjectArray();\n",
    "oa.add(5);\n",
    "oa.add(4);\n",
    "oa.add(3);\n",
    "oa.add(2);\n",
    "\n",
    "Integer num = oa.get(1);\n",
    "System.out.println(num);"
   ]
  },
  {
   "cell_type": "markdown",
   "metadata": {},
   "source": [
    "Further details on this, and other restrictions Java places on the usage of generics can be found in [this](https://docs.oracle.com/javase/tutorial/java/generics/restrictions.html) Java doc."
   ]
  }
 ],
 "metadata": {
  "kernelspec": {
   "display_name": "Java",
   "language": "java",
   "name": "java"
  },
  "language_info": {
   "codemirror_mode": "java",
   "file_extension": ".jshell",
   "mimetype": "text/x-java-source",
   "name": "Java",
   "pygments_lexer": "java",
   "version": "11.0.16+8-post-Ubuntu-0ubuntu120.04"
  }
 },
 "nbformat": 4,
 "nbformat_minor": 4
}
