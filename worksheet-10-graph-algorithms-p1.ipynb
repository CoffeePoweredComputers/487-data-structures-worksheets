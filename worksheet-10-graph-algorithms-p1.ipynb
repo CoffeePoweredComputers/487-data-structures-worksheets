{
 "cells": [
  {
   "cell_type": "markdown",
   "metadata": {},
   "source": [
    "<h1 style=\"text-align: center; font-size: 40px\">Graph Algorithms (Part 1) - BFS, DFS, and Shortest Path</h1>"
   ]
  },
  {
   "cell_type": "code",
   "execution_count": null,
   "metadata": {},
   "outputs": [],
   "source": []
  },
  {
   "cell_type": "code",
   "execution_count": null,
   "metadata": {},
   "outputs": [],
   "source": []
  },
  {
   "cell_type": "code",
   "execution_count": null,
   "metadata": {},
   "outputs": [],
   "source": []
  },
  {
   "cell_type": "code",
   "execution_count": null,
   "metadata": {},
   "outputs": [],
   "source": []
  },
  {
   "cell_type": "code",
   "execution_count": null,
   "metadata": {},
   "outputs": [],
   "source": []
  },
  {
   "cell_type": "markdown",
   "metadata": {},
   "source": [
    "For the rest of this class we will be using an implementation of the graph we made last class. Please take a moment to review the code and the comments to get a sense of the data structure you will be manipulating."
   ]
  },
  {
   "cell_type": "code",
   "execution_count": null,
   "metadata": {},
   "outputs": [],
   "source": [
    "class Edge{\n",
    "    \n",
    "    private final String dest;\n",
    "    private final int weight;\n",
    "    \n",
    "    Edge(String dest, int weight){\n",
    "        this.dest = dest;\n",
    "        this.weight = weight;\n",
    "    }\n",
    "    \n",
    "    public String getDest(){\n",
    "        return dest;\n",
    "    }\n",
    "    \n",
    "    public int getWeight(){\n",
    "        return weight;\n",
    "    }\n",
    "}\n",
    "\n",
    "class Digraph{\n",
    "    \n",
    "    private Map<String, List<Edge>> map;\n",
    "    \n",
    "    Digraph(){\n",
    "        map = new HashMap<>();\n",
    "    }\n",
    "    \n",
    "    //Digraph(List<String> vertexList, List<Edges[]> edgeList){\n",
    "    //    map = new HashMap<>();\n",
    "        \n",
    "        /* Initialize keys */\n",
    "        \n",
    "        /* Initialize edges */\n",
    "    //}\n",
    "    \n",
    "    public void addVertex(String v){\n",
    "        \n",
    "        map.putIfAbsent(v, new LinkedList<>());\n",
    "        \n",
    "    }\n",
    "    \n",
    "    public void addEdge(String source, String dest, int weight){\n",
    "        \n",
    "        map.get(source).add(new Edge(dest, weight));\n",
    "    }\n",
    "    \n",
    "    public void removeEdge(String source, String dest){\n",
    "    \n",
    "        /* Step 1) Find the location of the edge with dest in source's list */\n",
    "        int i = 0;\n",
    "        List<Edge> edges = map.get(source);\n",
    "        for(; i < edges.size(); i++){\n",
    "            Edge e = edges.get(i);\n",
    "            if(e.getDest().equals(dest)){\n",
    "                break;\n",
    "            }\n",
    "        }\n",
    "        \n",
    "        /* Step 2) Remove the item at the location */\n",
    "        map.remove(i);\n",
    "    }\n",
    "    \n",
    "    public void printGraph(){\n",
    "        \n",
    "    }\n",
    "}"
   ]
  },
  {
   "cell_type": "markdown",
   "metadata": {},
   "source": [
    "## Breadth First Search/Traversal of a Graph"
   ]
  },
  {
   "cell_type": "code",
   "execution_count": null,
   "metadata": {},
   "outputs": [],
   "source": []
  },
  {
   "cell_type": "code",
   "execution_count": null,
   "metadata": {},
   "outputs": [],
   "source": []
  },
  {
   "cell_type": "code",
   "execution_count": null,
   "metadata": {},
   "outputs": [],
   "source": []
  },
  {
   "cell_type": "code",
   "execution_count": null,
   "metadata": {},
   "outputs": [],
   "source": []
  },
  {
   "cell_type": "code",
   "execution_count": null,
   "metadata": {},
   "outputs": [],
   "source": []
  },
  {
   "cell_type": "markdown",
   "metadata": {},
   "source": [
    "## Depth First Search/Traversal of a Graph"
   ]
  },
  {
   "cell_type": "code",
   "execution_count": null,
   "metadata": {},
   "outputs": [],
   "source": []
  },
  {
   "cell_type": "code",
   "execution_count": null,
   "metadata": {},
   "outputs": [],
   "source": []
  },
  {
   "cell_type": "code",
   "execution_count": null,
   "metadata": {},
   "outputs": [],
   "source": []
  },
  {
   "cell_type": "code",
   "execution_count": null,
   "metadata": {},
   "outputs": [],
   "source": []
  },
  {
   "cell_type": "code",
   "execution_count": null,
   "metadata": {},
   "outputs": [],
   "source": []
  },
  {
   "cell_type": "markdown",
   "metadata": {},
   "source": [
    "## Intro to Dijkstras Shortest Path"
   ]
  },
  {
   "cell_type": "code",
   "execution_count": null,
   "metadata": {},
   "outputs": [],
   "source": []
  },
  {
   "cell_type": "code",
   "execution_count": null,
   "metadata": {},
   "outputs": [],
   "source": []
  },
  {
   "cell_type": "code",
   "execution_count": null,
   "metadata": {},
   "outputs": [],
   "source": []
  },
  {
   "cell_type": "code",
   "execution_count": null,
   "metadata": {},
   "outputs": [],
   "source": []
  }
 ],
 "metadata": {
  "kernelspec": {
   "display_name": "Java",
   "language": "java",
   "name": "java"
  },
  "language_info": {
   "codemirror_mode": "java",
   "file_extension": ".jshell",
   "mimetype": "text/x-java-source",
   "name": "Java",
   "pygments_lexer": "java",
   "version": "11.0.3+7"
  }
 },
 "nbformat": 4,
 "nbformat_minor": 2
}
